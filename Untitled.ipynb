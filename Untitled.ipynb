{
 "cells": [
  {
   "cell_type": "code",
   "execution_count": 22,
   "id": "a73b8bbf-061b-4d65-9a87-4dc71765eba4",
   "metadata": {},
   "outputs": [],
   "source": [
    "import pandas as pd\n",
    "import numpy as np"
   ]
  },
  {
   "cell_type": "code",
   "execution_count": 4,
   "id": "eeef2d01-0aff-4fd0-83f7-f2996fc96399",
   "metadata": {},
   "outputs": [
    {
     "data": {
      "text/html": [
       "<div>\n",
       "<style scoped>\n",
       "    .dataframe tbody tr th:only-of-type {\n",
       "        vertical-align: middle;\n",
       "    }\n",
       "\n",
       "    .dataframe tbody tr th {\n",
       "        vertical-align: top;\n",
       "    }\n",
       "\n",
       "    .dataframe thead th {\n",
       "        text-align: right;\n",
       "    }\n",
       "</style>\n",
       "<table border=\"1\" class=\"dataframe\">\n",
       "  <thead>\n",
       "    <tr style=\"text-align: right;\">\n",
       "      <th></th>\n",
       "      <th>user_id</th>\n",
       "      <th>country</th>\n",
       "      <th>age</th>\n",
       "      <th>gender</th>\n",
       "      <th>creation_time</th>\n",
       "    </tr>\n",
       "  </thead>\n",
       "  <tbody>\n",
       "    <tr>\n",
       "      <th>0</th>\n",
       "      <td>2</td>\n",
       "      <td>UK</td>\n",
       "      <td>35</td>\n",
       "      <td>m</td>\n",
       "      <td>2002-10-29 01:00:00</td>\n",
       "    </tr>\n",
       "    <tr>\n",
       "      <th>1</th>\n",
       "      <td>14</td>\n",
       "      <td>UK</td>\n",
       "      <td>48</td>\n",
       "      <td>m</td>\n",
       "      <td>2003-02-18 21:44:13</td>\n",
       "    </tr>\n",
       "    <tr>\n",
       "      <th>2</th>\n",
       "      <td>15</td>\n",
       "      <td>US</td>\n",
       "      <td>28</td>\n",
       "      <td>m</td>\n",
       "      <td>2003-02-24 03:30:33</td>\n",
       "    </tr>\n",
       "    <tr>\n",
       "      <th>3</th>\n",
       "      <td>36</td>\n",
       "      <td>UK</td>\n",
       "      <td>29</td>\n",
       "      <td>m</td>\n",
       "      <td>2003-03-27 12:17:12</td>\n",
       "    </tr>\n",
       "    <tr>\n",
       "      <th>4</th>\n",
       "      <td>42</td>\n",
       "      <td>RU</td>\n",
       "      <td>30</td>\n",
       "      <td>m</td>\n",
       "      <td>2003-04-10 01:07:48</td>\n",
       "    </tr>\n",
       "  </tbody>\n",
       "</table>\n",
       "</div>"
      ],
      "text/plain": [
       "   user_id country  age gender        creation_time\n",
       "0        2      UK   35      m  2002-10-29 01:00:00\n",
       "1       14      UK   48      m  2003-02-18 21:44:13\n",
       "2       15      US   28      m  2003-02-24 03:30:33\n",
       "3       36      UK   29      m  2003-03-27 12:17:12\n",
       "4       42      RU   30      m  2003-04-10 01:07:48"
      ]
     },
     "execution_count": 4,
     "metadata": {},
     "output_type": "execute_result"
    }
   ],
   "source": [
    "users = pd.read_csv('data/lfm/75percent_subset_users.tsv', sep='\\t')\n",
    "users.head()"
   ]
  },
  {
   "cell_type": "code",
   "execution_count": 5,
   "id": "0d70a8d8-f712-4e41-8a7d-5be18b54d87e",
   "metadata": {},
   "outputs": [
    {
     "data": {
      "text/html": [
       "<div>\n",
       "<style scoped>\n",
       "    .dataframe tbody tr th:only-of-type {\n",
       "        vertical-align: middle;\n",
       "    }\n",
       "\n",
       "    .dataframe tbody tr th {\n",
       "        vertical-align: top;\n",
       "    }\n",
       "\n",
       "    .dataframe thead th {\n",
       "        text-align: right;\n",
       "    }\n",
       "</style>\n",
       "<table border=\"1\" class=\"dataframe\">\n",
       "  <thead>\n",
       "    <tr style=\"text-align: right;\">\n",
       "      <th></th>\n",
       "      <th>user_id</th>\n",
       "      <th>track_id</th>\n",
       "      <th>album_id</th>\n",
       "      <th>timestamp</th>\n",
       "    </tr>\n",
       "  </thead>\n",
       "  <tbody>\n",
       "    <tr>\n",
       "      <th>0</th>\n",
       "      <td>16026</td>\n",
       "      <td>40012596</td>\n",
       "      <td>18558010</td>\n",
       "      <td>2020-01-01 00:00:01</td>\n",
       "    </tr>\n",
       "    <tr>\n",
       "      <th>1</th>\n",
       "      <td>14807</td>\n",
       "      <td>21889387</td>\n",
       "      <td>16391976</td>\n",
       "      <td>2020-01-01 00:00:03</td>\n",
       "    </tr>\n",
       "    <tr>\n",
       "      <th>2</th>\n",
       "      <td>23625</td>\n",
       "      <td>16551011</td>\n",
       "      <td>9087976</td>\n",
       "      <td>2020-01-01 00:00:03</td>\n",
       "    </tr>\n",
       "    <tr>\n",
       "      <th>3</th>\n",
       "      <td>24008</td>\n",
       "      <td>39377924</td>\n",
       "      <td>19382688</td>\n",
       "      <td>2020-01-01 00:00:03</td>\n",
       "    </tr>\n",
       "    <tr>\n",
       "      <th>4</th>\n",
       "      <td>53114</td>\n",
       "      <td>17002235</td>\n",
       "      <td>19089164</td>\n",
       "      <td>2020-01-01 00:00:04</td>\n",
       "    </tr>\n",
       "  </tbody>\n",
       "</table>\n",
       "</div>"
      ],
      "text/plain": [
       "   user_id  track_id  album_id            timestamp\n",
       "0    16026  40012596  18558010  2020-01-01 00:00:01\n",
       "1    14807  21889387  16391976  2020-01-01 00:00:03\n",
       "2    23625  16551011   9087976  2020-01-01 00:00:03\n",
       "3    24008  39377924  19382688  2020-01-01 00:00:03\n",
       "4    53114  17002235  19089164  2020-01-01 00:00:04"
      ]
     },
     "execution_count": 5,
     "metadata": {},
     "output_type": "execute_result"
    }
   ],
   "source": [
    "le = pd.read_csv('data/lfm/75percent_subset_listening_events.tsv', sep='\\t')\n",
    "le.head()"
   ]
  },
  {
   "cell_type": "code",
   "execution_count": 12,
   "id": "30185ffc-a938-43a8-b474-e621ee4f42f9",
   "metadata": {},
   "outputs": [
    {
     "data": {
      "text/plain": [
       "9724"
      ]
     },
     "execution_count": 12,
     "metadata": {},
     "output_type": "execute_result"
    }
   ],
   "source": [
    "len(users)"
   ]
  },
  {
   "cell_type": "code",
   "execution_count": 21,
   "id": "122c715f-7f49-498c-800c-789ed4a221cb",
   "metadata": {},
   "outputs": [],
   "source": [
    "core_sm = 0\n",
    "male_event_counts = []\n",
    "female_event_counts = []\n",
    "for user_id in users.user_id:\n",
    "    events = le[le.user_id == user_id]\n",
    "    gender = users[users.user_id == user_id].gender.item()\n",
    "    if gender == 'm':\n",
    "        male_event_counts.append(len(events))\n",
    "    else:\n",
    "        female_event_counts.append(len(events))\n"
   ]
  },
  {
   "cell_type": "code",
   "execution_count": 23,
   "id": "93e3d35f-d15e-428d-9d15-a1684923cb14",
   "metadata": {},
   "outputs": [
    {
     "data": {
      "text/plain": [
       "495.2683143219265"
      ]
     },
     "execution_count": 23,
     "metadata": {},
     "output_type": "execute_result"
    }
   ],
   "source": [
    "np.mean(male_event_counts)"
   ]
  },
  {
   "cell_type": "code",
   "execution_count": 24,
   "id": "a8cc1ddf-73ef-429e-b5d8-db1c4b56b179",
   "metadata": {},
   "outputs": [
    {
     "data": {
      "text/plain": [
       "397.54689203925847"
      ]
     },
     "execution_count": 24,
     "metadata": {},
     "output_type": "execute_result"
    }
   ],
   "source": [
    "np.mean(female_event_counts)"
   ]
  }
 ],
 "metadata": {
  "kernelspec": {
   "display_name": "Python 3 (ipykernel)",
   "language": "python",
   "name": "python3"
  },
  "language_info": {
   "codemirror_mode": {
    "name": "ipython",
    "version": 3
   },
   "file_extension": ".py",
   "mimetype": "text/x-python",
   "name": "python",
   "nbconvert_exporter": "python",
   "pygments_lexer": "ipython3",
   "version": "3.9.15"
  }
 },
 "nbformat": 4,
 "nbformat_minor": 5
}
