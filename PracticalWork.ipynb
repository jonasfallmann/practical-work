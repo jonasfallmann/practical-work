{
 "cells": [
  {
   "cell_type": "markdown",
   "id": "a2ed31f1-0e50-4f8a-86b0-e983172410e9",
   "metadata": {},
   "source": [
    "# Practical Work"
   ]
  },
  {
   "cell_type": "markdown",
   "id": "02cda9a7-79e5-45ee-9f02-459bd85fad9d",
   "metadata": {},
   "source": [
    "<b> Student: </b> Jonas Fallmann <br>\n",
    "<b> Matrikulation number </b> 12018700 <br>\n",
    "<b> Topic:</b> Evaulating gender bias of explained recommender systems<br>\n",
    "<b> Institute: </b> Institute of Computational Perception, Johannes Kepler University Linz"
   ]
  },
  {
   "cell_type": "markdown",
   "id": "33d49e4f-69e2-421e-99e5-cd16c30ee9bd",
   "metadata": {},
   "source": [
    "## Outline\n",
    "Recent advances in the field of recommender systems focus in a big part on explanations of recommended Items. Explainability has been shown to aid user trust and results in higher conversion rates in the online shopping domain. As an example, explanations in the music domain could be of the following form:\n",
    "\n",
    "<b>Recommended Item:</b> Clocks and Whoopty by Pintel Ragetti<br>\n",
    "<b> Explanation: </b>  \n",
    "\n"
   ]
  },
  {
   "cell_type": "markdown",
   "id": "ecf941a2-6c8c-43f3-99b7-4acc31f33838",
   "metadata": {},
   "source": [
    "# Train Model"
   ]
  },
  {
   "cell_type": "markdown",
   "id": "c246efaa-f8c1-42b2-9993-6513d8e4c141",
   "metadata": {
    "tags": []
   },
   "source": [
    "### Load config and create Dataset"
   ]
  },
  {
   "cell_type": "code",
   "execution_count": 267,
   "id": "76e405f0-0b6a-4ce8-834a-856f132eced1",
   "metadata": {},
   "outputs": [],
   "source": [
    "from logging import getLogger\n",
    "from recbole.config import Config\n",
    "from recbole.data import create_dataset, data_preparation\n",
    "from recbole.model.knowledge_aware_recommender import KGAT\n",
    "from recbole.trainer import KGATTrainer\n",
    "from recbole.utils import init_seed, init_logger\n",
    "\n",
    "train_model = True\n",
    "create_paths = True"
   ]
  },
  {
   "cell_type": "code",
   "execution_count": 2,
   "id": "3e05ff00-3d37-406e-8e66-eab5e3ce034e",
   "metadata": {
    "collapsed": true,
    "jupyter": {
     "outputs_hidden": true
    },
    "tags": []
   },
   "outputs": [
    {
     "name": "stderr",
     "output_type": "stream",
     "text": [
      "06 Mar 08:02    INFO  \n",
      "General Hyper Parameters:\n",
      "gpu_id = 0\n",
      "use_gpu = True\n",
      "seed = 2020\n",
      "state = INFO\n",
      "reproducibility = True\n",
      "data_path = ./data/rb_lfm\n",
      "checkpoint_dir = saved\n",
      "show_progress = True\n",
      "save_dataset = False\n",
      "dataset_save_path = None\n",
      "save_dataloaders = False\n",
      "dataloaders_save_path = None\n",
      "log_wandb = False\n",
      "\n",
      "Training Hyper Parameters:\n",
      "epochs = 35\n",
      "train_batch_size = 1024\n",
      "learner = adam\n",
      "learning_rate = 0.001\n",
      "train_neg_sample_args = {'distribution': 'uniform', 'sample_num': 1, 'alpha': 1.0, 'dynamic': False, 'candidate_num': 0}\n",
      "eval_step = 1\n",
      "stopping_step = 10\n",
      "clip_grad_norm = None\n",
      "weight_decay = 0.0\n",
      "loss_decimal_place = 4\n",
      "\n",
      "Evaluation Hyper Parameters:\n",
      "eval_args = {'split': {'RS': [8, 1, 1]}, 'group_by': 'user', 'order': 'RO', 'mode': 'full'}\n",
      "repeatable = False\n",
      "metrics = ['NDCG', 'Hit', 'Precision']\n",
      "topk = [10]\n",
      "valid_metric = NDCG@10\n",
      "valid_metric_bigger = True\n",
      "eval_batch_size = 1024\n",
      "metric_decimal_place = 4\n",
      "\n",
      "Dataset Hyper Parameters:\n",
      "field_separator = \t\n",
      "seq_separator =  \n",
      "USER_ID_FIELD = user_id\n",
      "ITEM_ID_FIELD = item_id\n",
      "RATING_FIELD = rating\n",
      "TIME_FIELD = timestamp\n",
      "seq_len = None\n",
      "LABEL_FIELD = label\n",
      "threshold = None\n",
      "NEG_PREFIX = neg_\n",
      "load_col = {'inter': ['user_id', 'item_id', 'album', 'timestamp'], 'kg': ['head_id', 'relation_id', 'tail_id'], 'link': ['item_id', 'entity_id']}\n",
      "unload_col = None\n",
      "unused_col = None\n",
      "additional_feat_suffix = None\n",
      "rm_dup_inter = None\n",
      "val_interval = None\n",
      "filter_inter_by_user_or_item = True\n",
      "user_inter_num_interval = [0,inf)\n",
      "item_inter_num_interval = [0,inf)\n",
      "alias_of_user_id = None\n",
      "alias_of_item_id = None\n",
      "alias_of_entity_id = None\n",
      "alias_of_relation_id = None\n",
      "preload_weight = None\n",
      "normalize_field = None\n",
      "normalize_all = None\n",
      "ITEM_LIST_LENGTH_FIELD = item_length\n",
      "LIST_SUFFIX = _list\n",
      "MAX_ITEM_LIST_LENGTH = 50\n",
      "POSITION_FIELD = position_id\n",
      "HEAD_ENTITY_ID_FIELD = head_id\n",
      "TAIL_ENTITY_ID_FIELD = tail_id\n",
      "RELATION_ID_FIELD = relation_id\n",
      "ENTITY_ID_FIELD = entity_id\n",
      "benchmark_filename = None\n",
      "\n",
      "Other Hyper Parameters: \n",
      "worker = 8\n",
      "wandb_project = recbole\n",
      "shuffle = True\n",
      "require_pow = False\n",
      "enable_amp = False\n",
      "enable_scaler = False\n",
      "transform = None\n",
      "embedding_size = 32\n",
      "kg_embedding_size = 32\n",
      "layers = [32, 16, 8]\n",
      "mess_dropout = 0.1\n",
      "reg_weight = 1e-05\n",
      "aggregator_type = bi\n",
      "numerical_features = []\n",
      "discretization = None\n",
      "kg_reverse_r = True\n",
      "entity_kg_num_interval = [0,inf)\n",
      "relation_kg_num_interval = [0,inf)\n",
      "MODEL_TYPE = ModelType.KNOWLEDGE\n",
      "device = cuda\n",
      "MODEL_INPUT_TYPE = InputType.PAIRWISE\n",
      "eval_type = EvaluatorType.RANKING\n",
      "single_spec = True\n",
      "local_rank = 0\n",
      "eval_neg_sample_args = {'distribution': 'uniform', 'sample_num': 'none'}\n",
      "\n",
      "\n",
      "06 Mar 08:02    INFO  rb_lfm\n",
      "The number of users: 9754\n",
      "Average actions of users: 512.100276837896\n",
      "The number of items: 156836\n",
      "Average actions of items: 31.845659451015397\n",
      "The number of inters: 4994514\n",
      "The sparsity of the dataset: 99.67351387738039%\n",
      "Remain Fields: ['entity_id', 'user_id', 'item_id', 'timestamp', 'head_id', 'relation_id', 'tail_id']\n",
      "The number of entities: 275538\n",
      "The number of relations: 14\n",
      "The number of triples: 2261308\n",
      "The number of items that have been linked to KG: 156835\n",
      "06 Mar 08:03    INFO  [Training]: train_batch_size = [1024] train_neg_sample_args: [{'distribution': 'uniform', 'sample_num': 1, 'alpha': 1.0, 'dynamic': False, 'candidate_num': 0}]\n",
      "06 Mar 08:03    INFO  [Evaluation]: eval_batch_size = [1024] eval_args: [{'split': {'RS': [8, 1, 1]}, 'group_by': 'user', 'order': 'RO', 'mode': 'full'}]\n"
     ]
    }
   ],
   "source": [
    "\n",
    "# configurations initialization\n",
    "config = Config(model='KGAT', dataset='rb_lfm', config_file_list=['lfm.yaml'])\n",
    "\n",
    "# init random seed\n",
    "init_seed(config['seed'], config['reproducibility'])\n",
    "\n",
    "# logger initialization\n",
    "init_logger(config)\n",
    "logger = getLogger()\n",
    "\n",
    "# write config info into log\n",
    "logger.info(config)\n",
    "\n",
    "# dataset creating and filtering\n",
    "dataset = create_dataset(config)\n",
    "logger.info(dataset)\n",
    "\n",
    "# dataset splitting\n",
    "train_data, valid_data, test_data = data_preparation(config, dataset)\n"
   ]
  },
  {
   "cell_type": "markdown",
   "id": "0dd4fa2f-7b05-479b-a673-1bdc419848fe",
   "metadata": {
    "tags": []
   },
   "source": [
    "### Train model and evaluate"
   ]
  },
  {
   "cell_type": "code",
   "execution_count": 3,
   "id": "f8535eaf-7ad9-4ad4-bd6d-ef8b609aa585",
   "metadata": {
    "scrolled": true,
    "tags": []
   },
   "outputs": [
    {
     "name": "stderr",
     "output_type": "stream",
     "text": [
      "/home/jfallmann/miniconda3/envs/pr/lib/python3.9/site-packages/dgl/subgraph.py:288: DGLWarning: Key word argument preserve_nodes is deprecated. Use relabel_nodes instead.\n",
      "  dgl_warning(\n",
      "/home/jfallmann/miniconda3/envs/pr/lib/python3.9/site-packages/recbole/model/knowledge_aware_recommender/kgat.py:159: RuntimeWarning: divide by zero encountered in power\n",
      "  d_inv = np.power(rowsum, -1).flatten()\n",
      "/home/jfallmann/miniconda3/envs/pr/lib/python3.9/site-packages/recbole/model/knowledge_aware_recommender/kgat.py:166: UserWarning: Creating a tensor from a list of numpy.ndarrays is extremely slow. Please consider converting the list to a single numpy.ndarray with numpy.array() before converting to a tensor. (Triggered internally at /opt/conda/conda-bld/pytorch_1670525551200/work/torch/csrc/utils/tensor_new.cpp:230.)\n",
      "  indices = torch.LongTensor([final_adj_matrix.row, final_adj_matrix.col])\n",
      "06 Mar 08:03    INFO  KGAT(\n",
      "  (user_embedding): Embedding(9754, 32)\n",
      "  (entity_embedding): Embedding(275538, 32)\n",
      "  (relation_embedding): Embedding(14, 32)\n",
      "  (trans_w): Embedding(14, 1024)\n",
      "  (aggregator_layers): ModuleList(\n",
      "    (0): Aggregator(\n",
      "      (message_dropout): Dropout(p=0.1, inplace=False)\n",
      "      (W1): Linear(in_features=32, out_features=32, bias=True)\n",
      "      (W2): Linear(in_features=32, out_features=32, bias=True)\n",
      "      (activation): LeakyReLU(negative_slope=0.01)\n",
      "    )\n",
      "    (1): Aggregator(\n",
      "      (message_dropout): Dropout(p=0.1, inplace=False)\n",
      "      (W1): Linear(in_features=32, out_features=16, bias=True)\n",
      "      (W2): Linear(in_features=32, out_features=16, bias=True)\n",
      "      (activation): LeakyReLU(negative_slope=0.01)\n",
      "    )\n",
      "    (2): Aggregator(\n",
      "      (message_dropout): Dropout(p=0.1, inplace=False)\n",
      "      (W1): Linear(in_features=16, out_features=8, bias=True)\n",
      "      (W2): Linear(in_features=16, out_features=8, bias=True)\n",
      "      (activation): LeakyReLU(negative_slope=0.01)\n",
      "    )\n",
      "  )\n",
      "  (tanh): Tanh()\n",
      "  (mf_loss): BPRLoss()\n",
      "  (reg_loss): EmbLoss()\n",
      ")\n",
      "Trainable parameters: 9147568\n"
     ]
    },
    {
     "name": "stdout",
     "output_type": "stream",
     "text": [
      "Starting to fit model\n"
     ]
    },
    {
     "data": {
      "application/vnd.jupyter.widget-view+json": {
       "model_id": "dc3c4f2485184b64b851dc08813761f7",
       "version_major": 2,
       "version_minor": 0
      },
      "text/plain": [
       "\u001b[1;35mTrain     0\u001b[0m:   0%|          | 0/3910 [00:00<?, ?it/s]"
      ]
     },
     "metadata": {},
     "output_type": "display_data"
    },
    {
     "data": {
      "application/vnd.jupyter.widget-view+json": {
       "model_id": "91e33722c35d417c8ab6945b75fc99e4",
       "version_major": 2,
       "version_minor": 0
      },
      "text/plain": [
       "\u001b[1;35mTrain     0\u001b[0m:   0%|          | 0/2209 [00:00<?, ?it/s]"
      ]
     },
     "metadata": {},
     "output_type": "display_data"
    },
    {
     "name": "stderr",
     "output_type": "stream",
     "text": [
      "06 Mar 08:15    INFO  epoch 0 training [time: 764.92s, train_loss1: 1158.8688, train_loss2: 162.1740]\n"
     ]
    },
    {
     "data": {
      "application/vnd.jupyter.widget-view+json": {
       "model_id": "58fbbe69502846ecb712e0b2a3e019ab",
       "version_major": 2,
       "version_minor": 0
      },
      "text/plain": [
       "\u001b[1;35mEvaluate   \u001b[0m:   0%|                                                         | 0/9649 [00:00<?, ?it/s…"
      ]
     },
     "metadata": {},
     "output_type": "display_data"
    },
    {
     "name": "stderr",
     "output_type": "stream",
     "text": [
      "06 Mar 08:16    INFO  epoch 0 evaluating [time: 18.00s, valid_score: 0.026100]\n",
      "06 Mar 08:16    INFO  valid result: \n",
      "ndcg@10 : 0.0261    hit@10 : 0.1678    precision@10 : 0.0241\n",
      "06 Mar 08:16    INFO  Saving current: saved/KGAT-Mar-06-2023_08-03-10.pth\n"
     ]
    },
    {
     "data": {
      "application/vnd.jupyter.widget-view+json": {
       "model_id": "63870dceb4f249a8bb7c6e59f6434346",
       "version_major": 2,
       "version_minor": 0
      },
      "text/plain": [
       "\u001b[1;35mTrain     1\u001b[0m:   0%|          | 0/3910 [00:00<?, ?it/s]"
      ]
     },
     "metadata": {},
     "output_type": "display_data"
    },
    {
     "data": {
      "application/vnd.jupyter.widget-view+json": {
       "model_id": "aae4bce9d77241a39d149b56de099010",
       "version_major": 2,
       "version_minor": 0
      },
      "text/plain": [
       "\u001b[1;35mTrain     1\u001b[0m:   0%|          | 0/2209 [00:00<?, ?it/s]"
      ]
     },
     "metadata": {},
     "output_type": "display_data"
    },
    {
     "name": "stderr",
     "output_type": "stream",
     "text": [
      "06 Mar 08:25    INFO  epoch 1 training [time: 573.38s, train_loss1: 1143.4470, train_loss2: 44.0776]\n"
     ]
    },
    {
     "data": {
      "application/vnd.jupyter.widget-view+json": {
       "model_id": "b0edd01d8b4e44099b87a71fba482998",
       "version_major": 2,
       "version_minor": 0
      },
      "text/plain": [
       "\u001b[1;35mEvaluate   \u001b[0m:   0%|                                                         | 0/9649 [00:00<?, ?it/s…"
      ]
     },
     "metadata": {},
     "output_type": "display_data"
    },
    {
     "name": "stderr",
     "output_type": "stream",
     "text": [
      "06 Mar 08:26    INFO  epoch 1 evaluating [time: 18.70s, valid_score: 0.067900]\n",
      "06 Mar 08:26    INFO  valid result: \n",
      "ndcg@10 : 0.0679    hit@10 : 0.2998    precision@10 : 0.0586\n",
      "06 Mar 08:26    INFO  Saving current: saved/KGAT-Mar-06-2023_08-03-10.pth\n"
     ]
    },
    {
     "data": {
      "application/vnd.jupyter.widget-view+json": {
       "model_id": "1d669cea208745c694c114f2be1f074a",
       "version_major": 2,
       "version_minor": 0
      },
      "text/plain": [
       "\u001b[1;35mTrain     2\u001b[0m:   0%|          | 0/3910 [00:00<?, ?it/s]"
      ]
     },
     "metadata": {},
     "output_type": "display_data"
    },
    {
     "data": {
      "application/vnd.jupyter.widget-view+json": {
       "model_id": "93d9419170104433a91f583b8d95edb2",
       "version_major": 2,
       "version_minor": 0
      },
      "text/plain": [
       "\u001b[1;35mTrain     2\u001b[0m:   0%|          | 0/2209 [00:00<?, ?it/s]"
      ]
     },
     "metadata": {},
     "output_type": "display_data"
    },
    {
     "name": "stderr",
     "output_type": "stream",
     "text": [
      "06 Mar 08:36    INFO  epoch 2 training [time: 605.72s, train_loss1: 844.3818, train_loss2: 23.9444]\n"
     ]
    },
    {
     "data": {
      "application/vnd.jupyter.widget-view+json": {
       "model_id": "daa3bea5db3b4ad7bba6228b4280c0ef",
       "version_major": 2,
       "version_minor": 0
      },
      "text/plain": [
       "\u001b[1;35mEvaluate   \u001b[0m:   0%|                                                         | 0/9649 [00:00<?, ?it/s…"
      ]
     },
     "metadata": {},
     "output_type": "display_data"
    },
    {
     "name": "stderr",
     "output_type": "stream",
     "text": [
      "06 Mar 08:36    INFO  epoch 2 evaluating [time: 18.71s, valid_score: 0.078400]\n",
      "06 Mar 08:36    INFO  valid result: \n",
      "ndcg@10 : 0.0784    hit@10 : 0.3421    precision@10 : 0.0694\n",
      "06 Mar 08:36    INFO  Saving current: saved/KGAT-Mar-06-2023_08-03-10.pth\n"
     ]
    },
    {
     "data": {
      "application/vnd.jupyter.widget-view+json": {
       "model_id": "4d071d2e9013486bbd2fca215574a6b0",
       "version_major": 2,
       "version_minor": 0
      },
      "text/plain": [
       "\u001b[1;35mTrain     3\u001b[0m:   0%|          | 0/3910 [00:00<?, ?it/s]"
      ]
     },
     "metadata": {},
     "output_type": "display_data"
    },
    {
     "data": {
      "application/vnd.jupyter.widget-view+json": {
       "model_id": "477494e559434b51af077b538f527076",
       "version_major": 2,
       "version_minor": 0
      },
      "text/plain": [
       "\u001b[1;35mTrain     3\u001b[0m:   0%|          | 0/2209 [00:00<?, ?it/s]"
      ]
     },
     "metadata": {},
     "output_type": "display_data"
    },
    {
     "name": "stderr",
     "output_type": "stream",
     "text": [
      "06 Mar 08:46    INFO  epoch 3 training [time: 575.28s, train_loss1: 661.2235, train_loss2: 16.1140]\n"
     ]
    },
    {
     "data": {
      "application/vnd.jupyter.widget-view+json": {
       "model_id": "06e84519547340209005d7101c7c6768",
       "version_major": 2,
       "version_minor": 0
      },
      "text/plain": [
       "\u001b[1;35mEvaluate   \u001b[0m:   0%|                                                         | 0/9649 [00:00<?, ?it/s…"
      ]
     },
     "metadata": {},
     "output_type": "display_data"
    },
    {
     "name": "stderr",
     "output_type": "stream",
     "text": [
      "06 Mar 08:46    INFO  epoch 3 evaluating [time: 18.34s, valid_score: 0.080500]\n",
      "06 Mar 08:46    INFO  valid result: \n",
      "ndcg@10 : 0.0805    hit@10 : 0.3492    precision@10 : 0.0719\n",
      "06 Mar 08:46    INFO  Saving current: saved/KGAT-Mar-06-2023_08-03-10.pth\n"
     ]
    },
    {
     "data": {
      "application/vnd.jupyter.widget-view+json": {
       "model_id": "73728ef1e2194758b3eb1ef01036f08e",
       "version_major": 2,
       "version_minor": 0
      },
      "text/plain": [
       "\u001b[1;35mTrain     4\u001b[0m:   0%|          | 0/3910 [00:00<?, ?it/s]"
      ]
     },
     "metadata": {},
     "output_type": "display_data"
    },
    {
     "data": {
      "application/vnd.jupyter.widget-view+json": {
       "model_id": "5b5f815827e84267a757bdacd05bcc70",
       "version_major": 2,
       "version_minor": 0
      },
      "text/plain": [
       "\u001b[1;35mTrain     4\u001b[0m:   0%|          | 0/2209 [00:00<?, ?it/s]"
      ]
     },
     "metadata": {},
     "output_type": "display_data"
    },
    {
     "name": "stderr",
     "output_type": "stream",
     "text": [
      "06 Mar 08:56    INFO  epoch 4 training [time: 578.49s, train_loss1: 542.5858, train_loss2: 11.8195]\n"
     ]
    },
    {
     "data": {
      "application/vnd.jupyter.widget-view+json": {
       "model_id": "e1bea06817ee42d49f45e26519f9c484",
       "version_major": 2,
       "version_minor": 0
      },
      "text/plain": [
       "\u001b[1;35mEvaluate   \u001b[0m:   0%|                                                         | 0/9649 [00:00<?, ?it/s…"
      ]
     },
     "metadata": {},
     "output_type": "display_data"
    },
    {
     "name": "stderr",
     "output_type": "stream",
     "text": [
      "06 Mar 08:56    INFO  epoch 4 evaluating [time: 18.68s, valid_score: 0.084600]\n",
      "06 Mar 08:56    INFO  valid result: \n",
      "ndcg@10 : 0.0846    hit@10 : 0.3618    precision@10 : 0.0754\n",
      "06 Mar 08:56    INFO  Saving current: saved/KGAT-Mar-06-2023_08-03-10.pth\n"
     ]
    },
    {
     "data": {
      "application/vnd.jupyter.widget-view+json": {
       "model_id": "b4738601a5e3479c949a6d1dc4a18e64",
       "version_major": 2,
       "version_minor": 0
      },
      "text/plain": [
       "\u001b[1;35mTrain     5\u001b[0m:   0%|          | 0/3910 [00:00<?, ?it/s]"
      ]
     },
     "metadata": {},
     "output_type": "display_data"
    },
    {
     "data": {
      "application/vnd.jupyter.widget-view+json": {
       "model_id": "ef8873d16e8047859fa83e1177a9b548",
       "version_major": 2,
       "version_minor": 0
      },
      "text/plain": [
       "\u001b[1;35mTrain     5\u001b[0m:   0%|          | 0/2209 [00:00<?, ?it/s]"
      ]
     },
     "metadata": {},
     "output_type": "display_data"
    },
    {
     "name": "stderr",
     "output_type": "stream",
     "text": [
      "06 Mar 09:06    INFO  epoch 5 training [time: 585.50s, train_loss1: 461.5204, train_loss2: 9.0052]\n"
     ]
    },
    {
     "data": {
      "application/vnd.jupyter.widget-view+json": {
       "model_id": "cf9ffb3b22eb4f61a55dfdaf148b48c2",
       "version_major": 2,
       "version_minor": 0
      },
      "text/plain": [
       "\u001b[1;35mEvaluate   \u001b[0m:   0%|                                                         | 0/9649 [00:00<?, ?it/s…"
      ]
     },
     "metadata": {},
     "output_type": "display_data"
    },
    {
     "name": "stderr",
     "output_type": "stream",
     "text": [
      "06 Mar 09:06    INFO  epoch 5 evaluating [time: 18.73s, valid_score: 0.087600]\n",
      "06 Mar 09:06    INFO  valid result: \n",
      "ndcg@10 : 0.0876    hit@10 : 0.3686    precision@10 : 0.0765\n",
      "06 Mar 09:06    INFO  Saving current: saved/KGAT-Mar-06-2023_08-03-10.pth\n"
     ]
    },
    {
     "data": {
      "application/vnd.jupyter.widget-view+json": {
       "model_id": "f21f639c3a4544e3833489148348eb89",
       "version_major": 2,
       "version_minor": 0
      },
      "text/plain": [
       "\u001b[1;35mTrain     6\u001b[0m:   0%|          | 0/3910 [00:00<?, ?it/s]"
      ]
     },
     "metadata": {},
     "output_type": "display_data"
    },
    {
     "data": {
      "application/vnd.jupyter.widget-view+json": {
       "model_id": "92ff4f7223c44de2be9fd0a9d232cc05",
       "version_major": 2,
       "version_minor": 0
      },
      "text/plain": [
       "\u001b[1;35mTrain     6\u001b[0m:   0%|          | 0/2209 [00:00<?, ?it/s]"
      ]
     },
     "metadata": {},
     "output_type": "display_data"
    },
    {
     "name": "stderr",
     "output_type": "stream",
     "text": [
      "06 Mar 09:16    INFO  epoch 6 training [time: 586.75s, train_loss1: 404.4069, train_loss2: 7.2515]\n"
     ]
    },
    {
     "data": {
      "application/vnd.jupyter.widget-view+json": {
       "model_id": "20b2a3ce528545d489e1162d9ae8fd01",
       "version_major": 2,
       "version_minor": 0
      },
      "text/plain": [
       "\u001b[1;35mEvaluate   \u001b[0m:   0%|                                                         | 0/9649 [00:00<?, ?it/s…"
      ]
     },
     "metadata": {},
     "output_type": "display_data"
    },
    {
     "name": "stderr",
     "output_type": "stream",
     "text": [
      "06 Mar 09:16    INFO  epoch 6 evaluating [time: 18.50s, valid_score: 0.091900]\n",
      "06 Mar 09:16    INFO  valid result: \n",
      "ndcg@10 : 0.0919    hit@10 : 0.3824    precision@10 : 0.0802\n",
      "06 Mar 09:16    INFO  Saving current: saved/KGAT-Mar-06-2023_08-03-10.pth\n"
     ]
    },
    {
     "data": {
      "application/vnd.jupyter.widget-view+json": {
       "model_id": "f4cc2d529cb447c28e0c5152ccc9f1c4",
       "version_major": 2,
       "version_minor": 0
      },
      "text/plain": [
       "\u001b[1;35mTrain     7\u001b[0m:   0%|          | 0/3910 [00:00<?, ?it/s]"
      ]
     },
     "metadata": {},
     "output_type": "display_data"
    },
    {
     "data": {
      "application/vnd.jupyter.widget-view+json": {
       "model_id": "8622a01a0ca543fe96c24e55525b1d02",
       "version_major": 2,
       "version_minor": 0
      },
      "text/plain": [
       "\u001b[1;35mTrain     7\u001b[0m:   0%|          | 0/2209 [00:00<?, ?it/s]"
      ]
     },
     "metadata": {},
     "output_type": "display_data"
    },
    {
     "name": "stderr",
     "output_type": "stream",
     "text": [
      "06 Mar 09:26    INFO  epoch 7 training [time: 584.95s, train_loss1: 359.2383, train_loss2: 5.9908]\n"
     ]
    },
    {
     "data": {
      "application/vnd.jupyter.widget-view+json": {
       "model_id": "104ff43bc4f2496abda32975541204d4",
       "version_major": 2,
       "version_minor": 0
      },
      "text/plain": [
       "\u001b[1;35mEvaluate   \u001b[0m:   0%|                                                         | 0/9649 [00:00<?, ?it/s…"
      ]
     },
     "metadata": {},
     "output_type": "display_data"
    },
    {
     "name": "stderr",
     "output_type": "stream",
     "text": [
      "06 Mar 09:26    INFO  epoch 7 evaluating [time: 18.66s, valid_score: 0.095400]\n",
      "06 Mar 09:26    INFO  valid result: \n",
      "ndcg@10 : 0.0954    hit@10 : 0.388    precision@10 : 0.0836\n",
      "06 Mar 09:26    INFO  Saving current: saved/KGAT-Mar-06-2023_08-03-10.pth\n"
     ]
    },
    {
     "data": {
      "application/vnd.jupyter.widget-view+json": {
       "model_id": "f3ca32ceb0774407ba318656bf0a2763",
       "version_major": 2,
       "version_minor": 0
      },
      "text/plain": [
       "\u001b[1;35mTrain     8\u001b[0m:   0%|          | 0/3910 [00:00<?, ?it/s]"
      ]
     },
     "metadata": {},
     "output_type": "display_data"
    },
    {
     "data": {
      "application/vnd.jupyter.widget-view+json": {
       "model_id": "da1ceea931ee4fee8d7aed20ea18f418",
       "version_major": 2,
       "version_minor": 0
      },
      "text/plain": [
       "\u001b[1;35mTrain     8\u001b[0m:   0%|          | 0/2209 [00:00<?, ?it/s]"
      ]
     },
     "metadata": {},
     "output_type": "display_data"
    },
    {
     "name": "stderr",
     "output_type": "stream",
     "text": [
      "06 Mar 09:36    INFO  epoch 8 training [time: 574.88s, train_loss1: 321.2929, train_loss2: 5.0347]\n"
     ]
    },
    {
     "data": {
      "application/vnd.jupyter.widget-view+json": {
       "model_id": "1c080a4e98e149a68f1bf965b319ff4e",
       "version_major": 2,
       "version_minor": 0
      },
      "text/plain": [
       "\u001b[1;35mEvaluate   \u001b[0m:   0%|                                                         | 0/9649 [00:00<?, ?it/s…"
      ]
     },
     "metadata": {},
     "output_type": "display_data"
    },
    {
     "name": "stderr",
     "output_type": "stream",
     "text": [
      "06 Mar 09:36    INFO  epoch 8 evaluating [time: 18.30s, valid_score: 0.099000]\n",
      "06 Mar 09:36    INFO  valid result: \n",
      "ndcg@10 : 0.099    hit@10 : 0.3992    precision@10 : 0.0865\n",
      "06 Mar 09:36    INFO  Saving current: saved/KGAT-Mar-06-2023_08-03-10.pth\n"
     ]
    },
    {
     "data": {
      "application/vnd.jupyter.widget-view+json": {
       "model_id": "5baa2535bf974011afbec201b745c734",
       "version_major": 2,
       "version_minor": 0
      },
      "text/plain": [
       "\u001b[1;35mTrain     9\u001b[0m:   0%|          | 0/3910 [00:00<?, ?it/s]"
      ]
     },
     "metadata": {},
     "output_type": "display_data"
    },
    {
     "data": {
      "application/vnd.jupyter.widget-view+json": {
       "model_id": "4d1d00fac0864fee8adba624ee8a1cae",
       "version_major": 2,
       "version_minor": 0
      },
      "text/plain": [
       "\u001b[1;35mTrain     9\u001b[0m:   0%|          | 0/2209 [00:00<?, ?it/s]"
      ]
     },
     "metadata": {},
     "output_type": "display_data"
    },
    {
     "name": "stderr",
     "output_type": "stream",
     "text": [
      "06 Mar 09:46    INFO  epoch 9 training [time: 574.82s, train_loss1: 291.7895, train_loss2: 4.3138]\n"
     ]
    },
    {
     "data": {
      "application/vnd.jupyter.widget-view+json": {
       "model_id": "e1fe7baf5cdd4805a43085303391064a",
       "version_major": 2,
       "version_minor": 0
      },
      "text/plain": [
       "\u001b[1;35mEvaluate   \u001b[0m:   0%|                                                         | 0/9649 [00:00<?, ?it/s…"
      ]
     },
     "metadata": {},
     "output_type": "display_data"
    },
    {
     "name": "stderr",
     "output_type": "stream",
     "text": [
      "06 Mar 09:46    INFO  epoch 9 evaluating [time: 17.87s, valid_score: 0.103200]\n",
      "06 Mar 09:46    INFO  valid result: \n",
      "ndcg@10 : 0.1032    hit@10 : 0.4103    precision@10 : 0.0896\n",
      "06 Mar 09:46    INFO  Saving current: saved/KGAT-Mar-06-2023_08-03-10.pth\n"
     ]
    },
    {
     "data": {
      "application/vnd.jupyter.widget-view+json": {
       "model_id": "5ea2eae0d4814aa5a6b2a313f5525805",
       "version_major": 2,
       "version_minor": 0
      },
      "text/plain": [
       "\u001b[1;35mTrain    10\u001b[0m:   0%|          | 0/3910 [00:00<?, ?it/s]"
      ]
     },
     "metadata": {},
     "output_type": "display_data"
    },
    {
     "data": {
      "application/vnd.jupyter.widget-view+json": {
       "model_id": "ff95f8a8f0374b50ad6703bb7c69619d",
       "version_major": 2,
       "version_minor": 0
      },
      "text/plain": [
       "\u001b[1;35mTrain    10\u001b[0m:   0%|          | 0/2209 [00:00<?, ?it/s]"
      ]
     },
     "metadata": {},
     "output_type": "display_data"
    },
    {
     "name": "stderr",
     "output_type": "stream",
     "text": [
      "06 Mar 09:55    INFO  epoch 10 training [time: 569.95s, train_loss1: 265.4353, train_loss2: 3.8568]\n"
     ]
    },
    {
     "data": {
      "application/vnd.jupyter.widget-view+json": {
       "model_id": "2325037f02654b208bde7f030f6f6a85",
       "version_major": 2,
       "version_minor": 0
      },
      "text/plain": [
       "\u001b[1;35mEvaluate   \u001b[0m:   0%|                                                         | 0/9649 [00:00<?, ?it/s…"
      ]
     },
     "metadata": {},
     "output_type": "display_data"
    },
    {
     "name": "stderr",
     "output_type": "stream",
     "text": [
      "06 Mar 09:56    INFO  epoch 10 evaluating [time: 18.08s, valid_score: 0.105000]\n",
      "06 Mar 09:56    INFO  valid result: \n",
      "ndcg@10 : 0.105    hit@10 : 0.4172    precision@10 : 0.0908\n",
      "06 Mar 09:56    INFO  Saving current: saved/KGAT-Mar-06-2023_08-03-10.pth\n"
     ]
    },
    {
     "data": {
      "application/vnd.jupyter.widget-view+json": {
       "model_id": "403ef069226c4c04be53f614368f9e25",
       "version_major": 2,
       "version_minor": 0
      },
      "text/plain": [
       "\u001b[1;35mTrain    11\u001b[0m:   0%|          | 0/3910 [00:00<?, ?it/s]"
      ]
     },
     "metadata": {},
     "output_type": "display_data"
    },
    {
     "data": {
      "application/vnd.jupyter.widget-view+json": {
       "model_id": "c4cf7b4b016848d6b14b4a761dfdcd07",
       "version_major": 2,
       "version_minor": 0
      },
      "text/plain": [
       "\u001b[1;35mTrain    11\u001b[0m:   0%|          | 0/2209 [00:00<?, ?it/s]"
      ]
     },
     "metadata": {},
     "output_type": "display_data"
    },
    {
     "name": "stderr",
     "output_type": "stream",
     "text": [
      "06 Mar 10:05    INFO  epoch 11 training [time: 569.86s, train_loss1: 243.5940, train_loss2: 3.5873]\n"
     ]
    },
    {
     "data": {
      "application/vnd.jupyter.widget-view+json": {
       "model_id": "a4a96bc9acd64456b417cbcafebf770e",
       "version_major": 2,
       "version_minor": 0
      },
      "text/plain": [
       "\u001b[1;35mEvaluate   \u001b[0m:   0%|                                                         | 0/9649 [00:00<?, ?it/s…"
      ]
     },
     "metadata": {},
     "output_type": "display_data"
    },
    {
     "name": "stderr",
     "output_type": "stream",
     "text": [
      "06 Mar 10:05    INFO  epoch 11 evaluating [time: 17.78s, valid_score: 0.108200]\n",
      "06 Mar 10:05    INFO  valid result: \n",
      "ndcg@10 : 0.1082    hit@10 : 0.4226    precision@10 : 0.094\n",
      "06 Mar 10:05    INFO  Saving current: saved/KGAT-Mar-06-2023_08-03-10.pth\n"
     ]
    },
    {
     "data": {
      "application/vnd.jupyter.widget-view+json": {
       "model_id": "164b8e99dd8643f599564ea265412c53",
       "version_major": 2,
       "version_minor": 0
      },
      "text/plain": [
       "\u001b[1;35mTrain    12\u001b[0m:   0%|          | 0/3910 [00:00<?, ?it/s]"
      ]
     },
     "metadata": {},
     "output_type": "display_data"
    },
    {
     "data": {
      "application/vnd.jupyter.widget-view+json": {
       "model_id": "14b31c9cade7448c9f01fb57a362c84b",
       "version_major": 2,
       "version_minor": 0
      },
      "text/plain": [
       "\u001b[1;35mTrain    12\u001b[0m:   0%|          | 0/2209 [00:00<?, ?it/s]"
      ]
     },
     "metadata": {},
     "output_type": "display_data"
    },
    {
     "name": "stderr",
     "output_type": "stream",
     "text": [
      "06 Mar 10:15    INFO  epoch 12 training [time: 569.70s, train_loss1: 224.3124, train_loss2: 3.3727]\n"
     ]
    },
    {
     "data": {
      "application/vnd.jupyter.widget-view+json": {
       "model_id": "759707f0bdd54508904d2c67de96e365",
       "version_major": 2,
       "version_minor": 0
      },
      "text/plain": [
       "\u001b[1;35mEvaluate   \u001b[0m:   0%|                                                         | 0/9649 [00:00<?, ?it/s…"
      ]
     },
     "metadata": {},
     "output_type": "display_data"
    },
    {
     "name": "stderr",
     "output_type": "stream",
     "text": [
      "06 Mar 10:15    INFO  epoch 12 evaluating [time: 17.79s, valid_score: 0.110400]\n",
      "06 Mar 10:15    INFO  valid result: \n",
      "ndcg@10 : 0.1104    hit@10 : 0.4264    precision@10 : 0.0964\n",
      "06 Mar 10:15    INFO  Saving current: saved/KGAT-Mar-06-2023_08-03-10.pth\n"
     ]
    },
    {
     "data": {
      "application/vnd.jupyter.widget-view+json": {
       "model_id": "f43dac25e444464a90bbcf0a1610e9a9",
       "version_major": 2,
       "version_minor": 0
      },
      "text/plain": [
       "\u001b[1;35mTrain    13\u001b[0m:   0%|          | 0/3910 [00:00<?, ?it/s]"
      ]
     },
     "metadata": {},
     "output_type": "display_data"
    },
    {
     "data": {
      "application/vnd.jupyter.widget-view+json": {
       "model_id": "563c308bc025490ba3ec4468826b24d2",
       "version_major": 2,
       "version_minor": 0
      },
      "text/plain": [
       "\u001b[1;35mTrain    13\u001b[0m:   0%|          | 0/2209 [00:00<?, ?it/s]"
      ]
     },
     "metadata": {},
     "output_type": "display_data"
    },
    {
     "name": "stderr",
     "output_type": "stream",
     "text": [
      "06 Mar 10:25    INFO  epoch 13 training [time: 569.62s, train_loss1: 209.3825, train_loss2: 2.9096]\n"
     ]
    },
    {
     "data": {
      "application/vnd.jupyter.widget-view+json": {
       "model_id": "39e6e753fc274c139298f51211e05841",
       "version_major": 2,
       "version_minor": 0
      },
      "text/plain": [
       "\u001b[1;35mEvaluate   \u001b[0m:   0%|                                                         | 0/9649 [00:00<?, ?it/s…"
      ]
     },
     "metadata": {},
     "output_type": "display_data"
    },
    {
     "name": "stderr",
     "output_type": "stream",
     "text": [
      "06 Mar 10:25    INFO  epoch 13 evaluating [time: 17.82s, valid_score: 0.113100]\n",
      "06 Mar 10:25    INFO  valid result: \n",
      "ndcg@10 : 0.1131    hit@10 : 0.4353    precision@10 : 0.0983\n",
      "06 Mar 10:25    INFO  Saving current: saved/KGAT-Mar-06-2023_08-03-10.pth\n"
     ]
    },
    {
     "data": {
      "application/vnd.jupyter.widget-view+json": {
       "model_id": "ff77b76e127248deaa484f4efacd5bd8",
       "version_major": 2,
       "version_minor": 0
      },
      "text/plain": [
       "\u001b[1;35mTrain    14\u001b[0m:   0%|          | 0/3910 [00:00<?, ?it/s]"
      ]
     },
     "metadata": {},
     "output_type": "display_data"
    },
    {
     "data": {
      "application/vnd.jupyter.widget-view+json": {
       "model_id": "08a543eb0e5749a3bdafe1c3c31663c0",
       "version_major": 2,
       "version_minor": 0
      },
      "text/plain": [
       "\u001b[1;35mTrain    14\u001b[0m:   0%|          | 0/2209 [00:00<?, ?it/s]"
      ]
     },
     "metadata": {},
     "output_type": "display_data"
    },
    {
     "name": "stderr",
     "output_type": "stream",
     "text": [
      "06 Mar 10:35    INFO  epoch 14 training [time: 570.10s, train_loss1: 196.8488, train_loss2: 2.9732]\n"
     ]
    },
    {
     "data": {
      "application/vnd.jupyter.widget-view+json": {
       "model_id": "72857e65906d48769c4d6c1238466e74",
       "version_major": 2,
       "version_minor": 0
      },
      "text/plain": [
       "\u001b[1;35mEvaluate   \u001b[0m:   0%|                                                         | 0/9649 [00:00<?, ?it/s…"
      ]
     },
     "metadata": {},
     "output_type": "display_data"
    },
    {
     "name": "stderr",
     "output_type": "stream",
     "text": [
      "06 Mar 10:35    INFO  epoch 14 evaluating [time: 17.78s, valid_score: 0.114200]\n",
      "06 Mar 10:35    INFO  valid result: \n",
      "ndcg@10 : 0.1142    hit@10 : 0.4363    precision@10 : 0.099\n",
      "06 Mar 10:35    INFO  Saving current: saved/KGAT-Mar-06-2023_08-03-10.pth\n"
     ]
    },
    {
     "data": {
      "application/vnd.jupyter.widget-view+json": {
       "model_id": "ba75ec2873e84092a06e6ad0e927bce8",
       "version_major": 2,
       "version_minor": 0
      },
      "text/plain": [
       "\u001b[1;35mTrain    15\u001b[0m:   0%|          | 0/3910 [00:00<?, ?it/s]"
      ]
     },
     "metadata": {},
     "output_type": "display_data"
    },
    {
     "data": {
      "application/vnd.jupyter.widget-view+json": {
       "model_id": "15ad004f61da4b78a856287424679e1f",
       "version_major": 2,
       "version_minor": 0
      },
      "text/plain": [
       "\u001b[1;35mTrain    15\u001b[0m:   0%|          | 0/2209 [00:00<?, ?it/s]"
      ]
     },
     "metadata": {},
     "output_type": "display_data"
    },
    {
     "name": "stderr",
     "output_type": "stream",
     "text": [
      "06 Mar 10:44    INFO  epoch 15 training [time: 569.85s, train_loss1: 184.1405, train_loss2: 2.6248]\n"
     ]
    },
    {
     "data": {
      "application/vnd.jupyter.widget-view+json": {
       "model_id": "8798715281ee473eaaa18b6d066903e7",
       "version_major": 2,
       "version_minor": 0
      },
      "text/plain": [
       "\u001b[1;35mEvaluate   \u001b[0m:   0%|                                                         | 0/9649 [00:00<?, ?it/s…"
      ]
     },
     "metadata": {},
     "output_type": "display_data"
    },
    {
     "name": "stderr",
     "output_type": "stream",
     "text": [
      "06 Mar 10:45    INFO  epoch 15 evaluating [time: 17.76s, valid_score: 0.118000]\n",
      "06 Mar 10:45    INFO  valid result: \n",
      "ndcg@10 : 0.118    hit@10 : 0.4502    precision@10 : 0.1029\n",
      "06 Mar 10:45    INFO  Saving current: saved/KGAT-Mar-06-2023_08-03-10.pth\n"
     ]
    },
    {
     "data": {
      "application/vnd.jupyter.widget-view+json": {
       "model_id": "ad9ade8b1dd349a9ab7226e374ddb564",
       "version_major": 2,
       "version_minor": 0
      },
      "text/plain": [
       "\u001b[1;35mTrain    16\u001b[0m:   0%|          | 0/3910 [00:00<?, ?it/s]"
      ]
     },
     "metadata": {},
     "output_type": "display_data"
    },
    {
     "data": {
      "application/vnd.jupyter.widget-view+json": {
       "model_id": "709b2afab1b34022ab896dd224f13a11",
       "version_major": 2,
       "version_minor": 0
      },
      "text/plain": [
       "\u001b[1;35mTrain    16\u001b[0m:   0%|          | 0/2209 [00:00<?, ?it/s]"
      ]
     },
     "metadata": {},
     "output_type": "display_data"
    },
    {
     "name": "stderr",
     "output_type": "stream",
     "text": [
      "06 Mar 10:54    INFO  epoch 16 training [time: 569.28s, train_loss1: 174.1299, train_loss2: 2.4690]\n"
     ]
    },
    {
     "data": {
      "application/vnd.jupyter.widget-view+json": {
       "model_id": "48137acb115940de8b865e2241870280",
       "version_major": 2,
       "version_minor": 0
      },
      "text/plain": [
       "\u001b[1;35mEvaluate   \u001b[0m:   0%|                                                         | 0/9649 [00:00<?, ?it/s…"
      ]
     },
     "metadata": {},
     "output_type": "display_data"
    },
    {
     "name": "stderr",
     "output_type": "stream",
     "text": [
      "06 Mar 10:54    INFO  epoch 16 evaluating [time: 18.06s, valid_score: 0.120100]\n",
      "06 Mar 10:54    INFO  valid result: \n",
      "ndcg@10 : 0.1201    hit@10 : 0.4513    precision@10 : 0.1052\n",
      "06 Mar 10:54    INFO  Saving current: saved/KGAT-Mar-06-2023_08-03-10.pth\n"
     ]
    },
    {
     "data": {
      "application/vnd.jupyter.widget-view+json": {
       "model_id": "49c14b9b430f4eaa95afebe61265bd20",
       "version_major": 2,
       "version_minor": 0
      },
      "text/plain": [
       "\u001b[1;35mTrain    17\u001b[0m:   0%|          | 0/3910 [00:00<?, ?it/s]"
      ]
     },
     "metadata": {},
     "output_type": "display_data"
    },
    {
     "data": {
      "application/vnd.jupyter.widget-view+json": {
       "model_id": "d1823d913e994dbaa1f7b83a11cd5cc6",
       "version_major": 2,
       "version_minor": 0
      },
      "text/plain": [
       "\u001b[1;35mTrain    17\u001b[0m:   0%|          | 0/2209 [00:00<?, ?it/s]"
      ]
     },
     "metadata": {},
     "output_type": "display_data"
    },
    {
     "name": "stderr",
     "output_type": "stream",
     "text": [
      "06 Mar 11:04    INFO  epoch 17 training [time: 569.52s, train_loss1: 165.7358, train_loss2: 2.3417]\n"
     ]
    },
    {
     "data": {
      "application/vnd.jupyter.widget-view+json": {
       "model_id": "b17b55ec48c44edfbc5941e37d5998bf",
       "version_major": 2,
       "version_minor": 0
      },
      "text/plain": [
       "\u001b[1;35mEvaluate   \u001b[0m:   0%|                                                         | 0/9649 [00:00<?, ?it/s…"
      ]
     },
     "metadata": {},
     "output_type": "display_data"
    },
    {
     "name": "stderr",
     "output_type": "stream",
     "text": [
      "06 Mar 11:04    INFO  epoch 17 evaluating [time: 18.10s, valid_score: 0.122300]\n",
      "06 Mar 11:04    INFO  valid result: \n",
      "ndcg@10 : 0.1223    hit@10 : 0.4515    precision@10 : 0.1068\n",
      "06 Mar 11:04    INFO  Saving current: saved/KGAT-Mar-06-2023_08-03-10.pth\n"
     ]
    },
    {
     "data": {
      "application/vnd.jupyter.widget-view+json": {
       "model_id": "3580cedad09b4ef787db957f2ffdc172",
       "version_major": 2,
       "version_minor": 0
      },
      "text/plain": [
       "\u001b[1;35mTrain    18\u001b[0m:   0%|          | 0/3910 [00:00<?, ?it/s]"
      ]
     },
     "metadata": {},
     "output_type": "display_data"
    },
    {
     "data": {
      "application/vnd.jupyter.widget-view+json": {
       "model_id": "3ce6fe1eabce4199973eb8db2d3bec04",
       "version_major": 2,
       "version_minor": 0
      },
      "text/plain": [
       "\u001b[1;35mTrain    18\u001b[0m:   0%|          | 0/2209 [00:00<?, ?it/s]"
      ]
     },
     "metadata": {},
     "output_type": "display_data"
    },
    {
     "name": "stderr",
     "output_type": "stream",
     "text": [
      "06 Mar 11:14    INFO  epoch 18 training [time: 568.79s, train_loss1: 157.7768, train_loss2: 2.4619]\n"
     ]
    },
    {
     "data": {
      "application/vnd.jupyter.widget-view+json": {
       "model_id": "4654da32c018450aa2f83094c4e7a7ef",
       "version_major": 2,
       "version_minor": 0
      },
      "text/plain": [
       "\u001b[1;35mEvaluate   \u001b[0m:   0%|                                                         | 0/9649 [00:00<?, ?it/s…"
      ]
     },
     "metadata": {},
     "output_type": "display_data"
    },
    {
     "name": "stderr",
     "output_type": "stream",
     "text": [
      "06 Mar 11:14    INFO  epoch 18 evaluating [time: 18.10s, valid_score: 0.123400]\n",
      "06 Mar 11:14    INFO  valid result: \n",
      "ndcg@10 : 0.1234    hit@10 : 0.4616    precision@10 : 0.108\n",
      "06 Mar 11:14    INFO  Saving current: saved/KGAT-Mar-06-2023_08-03-10.pth\n"
     ]
    },
    {
     "data": {
      "application/vnd.jupyter.widget-view+json": {
       "model_id": "d98faa61ca2b40acac62561b4b590372",
       "version_major": 2,
       "version_minor": 0
      },
      "text/plain": [
       "\u001b[1;35mTrain    19\u001b[0m:   0%|          | 0/3910 [00:00<?, ?it/s]"
      ]
     },
     "metadata": {},
     "output_type": "display_data"
    },
    {
     "data": {
      "application/vnd.jupyter.widget-view+json": {
       "model_id": "a5b26ddd53d04c88b056138d1ea8fe71",
       "version_major": 2,
       "version_minor": 0
      },
      "text/plain": [
       "\u001b[1;35mTrain    19\u001b[0m:   0%|          | 0/2209 [00:00<?, ?it/s]"
      ]
     },
     "metadata": {},
     "output_type": "display_data"
    },
    {
     "name": "stderr",
     "output_type": "stream",
     "text": [
      "06 Mar 11:24    INFO  epoch 19 training [time: 569.30s, train_loss1: 150.4654, train_loss2: 2.1743]\n"
     ]
    },
    {
     "data": {
      "application/vnd.jupyter.widget-view+json": {
       "model_id": "e79a72f20a0d4ea3aaf3a435a45d8f07",
       "version_major": 2,
       "version_minor": 0
      },
      "text/plain": [
       "\u001b[1;35mEvaluate   \u001b[0m:   0%|                                                         | 0/9649 [00:00<?, ?it/s…"
      ]
     },
     "metadata": {},
     "output_type": "display_data"
    },
    {
     "name": "stderr",
     "output_type": "stream",
     "text": [
      "06 Mar 11:24    INFO  epoch 19 evaluating [time: 18.07s, valid_score: 0.126400]\n",
      "06 Mar 11:24    INFO  valid result: \n",
      "ndcg@10 : 0.1264    hit@10 : 0.4679    precision@10 : 0.1104\n",
      "06 Mar 11:24    INFO  Saving current: saved/KGAT-Mar-06-2023_08-03-10.pth\n"
     ]
    },
    {
     "data": {
      "application/vnd.jupyter.widget-view+json": {
       "model_id": "651a5807b7d54381b5d51db73c422c01",
       "version_major": 2,
       "version_minor": 0
      },
      "text/plain": [
       "\u001b[1;35mTrain    20\u001b[0m:   0%|          | 0/3910 [00:00<?, ?it/s]"
      ]
     },
     "metadata": {},
     "output_type": "display_data"
    },
    {
     "data": {
      "application/vnd.jupyter.widget-view+json": {
       "model_id": "54fdb1a91d304bbc8c6fb7ef4d36cdf1",
       "version_major": 2,
       "version_minor": 0
      },
      "text/plain": [
       "\u001b[1;35mTrain    20\u001b[0m:   0%|          | 0/2209 [00:00<?, ?it/s]"
      ]
     },
     "metadata": {},
     "output_type": "display_data"
    },
    {
     "name": "stderr",
     "output_type": "stream",
     "text": [
      "06 Mar 11:33    INFO  epoch 20 training [time: 569.22s, train_loss1: 144.8079, train_loss2: 2.0752]\n"
     ]
    },
    {
     "data": {
      "application/vnd.jupyter.widget-view+json": {
       "model_id": "16619d2d43f445b5b5a8858b0b7b299b",
       "version_major": 2,
       "version_minor": 0
      },
      "text/plain": [
       "\u001b[1;35mEvaluate   \u001b[0m:   0%|                                                         | 0/9649 [00:00<?, ?it/s…"
      ]
     },
     "metadata": {},
     "output_type": "display_data"
    },
    {
     "name": "stderr",
     "output_type": "stream",
     "text": [
      "06 Mar 11:34    INFO  epoch 20 evaluating [time: 17.73s, valid_score: 0.126400]\n",
      "06 Mar 11:34    INFO  valid result: \n",
      "ndcg@10 : 0.1264    hit@10 : 0.4643    precision@10 : 0.1102\n",
      "06 Mar 11:34    INFO  Saving current: saved/KGAT-Mar-06-2023_08-03-10.pth\n"
     ]
    },
    {
     "data": {
      "application/vnd.jupyter.widget-view+json": {
       "model_id": "e6d9fc4542874463b96892f0f846158e",
       "version_major": 2,
       "version_minor": 0
      },
      "text/plain": [
       "\u001b[1;35mTrain    21\u001b[0m:   0%|          | 0/3910 [00:00<?, ?it/s]"
      ]
     },
     "metadata": {},
     "output_type": "display_data"
    },
    {
     "data": {
      "application/vnd.jupyter.widget-view+json": {
       "model_id": "247d09da95604491945e97b6f61f32fd",
       "version_major": 2,
       "version_minor": 0
      },
      "text/plain": [
       "\u001b[1;35mTrain    21\u001b[0m:   0%|          | 0/2209 [00:00<?, ?it/s]"
      ]
     },
     "metadata": {},
     "output_type": "display_data"
    },
    {
     "name": "stderr",
     "output_type": "stream",
     "text": [
      "06 Mar 11:43    INFO  epoch 21 training [time: 569.46s, train_loss1: 139.2720, train_loss2: 2.0005]\n"
     ]
    },
    {
     "data": {
      "application/vnd.jupyter.widget-view+json": {
       "model_id": "58194d45efab41648d6141a52773728c",
       "version_major": 2,
       "version_minor": 0
      },
      "text/plain": [
       "\u001b[1;35mEvaluate   \u001b[0m:   0%|                                                         | 0/9649 [00:00<?, ?it/s…"
      ]
     },
     "metadata": {},
     "output_type": "display_data"
    },
    {
     "name": "stderr",
     "output_type": "stream",
     "text": [
      "06 Mar 11:43    INFO  epoch 21 evaluating [time: 18.00s, valid_score: 0.129400]\n",
      "06 Mar 11:43    INFO  valid result: \n",
      "ndcg@10 : 0.1294    hit@10 : 0.4716    precision@10 : 0.113\n",
      "06 Mar 11:43    INFO  Saving current: saved/KGAT-Mar-06-2023_08-03-10.pth\n"
     ]
    },
    {
     "data": {
      "application/vnd.jupyter.widget-view+json": {
       "model_id": "00447490466a41d99fd01a762d2fa837",
       "version_major": 2,
       "version_minor": 0
      },
      "text/plain": [
       "\u001b[1;35mTrain    22\u001b[0m:   0%|          | 0/3910 [00:00<?, ?it/s]"
      ]
     },
     "metadata": {},
     "output_type": "display_data"
    },
    {
     "data": {
      "application/vnd.jupyter.widget-view+json": {
       "model_id": "11b75ff0b89847749e92b978901eaa67",
       "version_major": 2,
       "version_minor": 0
      },
      "text/plain": [
       "\u001b[1;35mTrain    22\u001b[0m:   0%|          | 0/2209 [00:00<?, ?it/s]"
      ]
     },
     "metadata": {},
     "output_type": "display_data"
    },
    {
     "name": "stderr",
     "output_type": "stream",
     "text": [
      "06 Mar 11:53    INFO  epoch 22 training [time: 569.98s, train_loss1: 134.3671, train_loss2: 1.9783]\n"
     ]
    },
    {
     "data": {
      "application/vnd.jupyter.widget-view+json": {
       "model_id": "a8bb3606d9f94a08ad7dd440ac225b42",
       "version_major": 2,
       "version_minor": 0
      },
      "text/plain": [
       "\u001b[1;35mEvaluate   \u001b[0m:   0%|                                                         | 0/9649 [00:00<?, ?it/s…"
      ]
     },
     "metadata": {},
     "output_type": "display_data"
    },
    {
     "name": "stderr",
     "output_type": "stream",
     "text": [
      "06 Mar 11:53    INFO  epoch 22 evaluating [time: 17.91s, valid_score: 0.128400]\n",
      "06 Mar 11:53    INFO  valid result: \n",
      "ndcg@10 : 0.1284    hit@10 : 0.4676    precision@10 : 0.1122\n"
     ]
    },
    {
     "data": {
      "application/vnd.jupyter.widget-view+json": {
       "model_id": "8ef52bbfa73a4e6595e12a2a6a2e7dd7",
       "version_major": 2,
       "version_minor": 0
      },
      "text/plain": [
       "\u001b[1;35mTrain    23\u001b[0m:   0%|          | 0/3910 [00:00<?, ?it/s]"
      ]
     },
     "metadata": {},
     "output_type": "display_data"
    },
    {
     "data": {
      "application/vnd.jupyter.widget-view+json": {
       "model_id": "404b54209ab14799b858b3dd90e2499c",
       "version_major": 2,
       "version_minor": 0
      },
      "text/plain": [
       "\u001b[1;35mTrain    23\u001b[0m:   0%|          | 0/2209 [00:00<?, ?it/s]"
      ]
     },
     "metadata": {},
     "output_type": "display_data"
    },
    {
     "name": "stderr",
     "output_type": "stream",
     "text": [
      "06 Mar 12:03    INFO  epoch 23 training [time: 569.45s, train_loss1: 130.2840, train_loss2: 1.9071]\n"
     ]
    },
    {
     "data": {
      "application/vnd.jupyter.widget-view+json": {
       "model_id": "0156d1ed583146e49958969c29d03083",
       "version_major": 2,
       "version_minor": 0
      },
      "text/plain": [
       "\u001b[1;35mEvaluate   \u001b[0m:   0%|                                                         | 0/9649 [00:00<?, ?it/s…"
      ]
     },
     "metadata": {},
     "output_type": "display_data"
    },
    {
     "name": "stderr",
     "output_type": "stream",
     "text": [
      "06 Mar 12:03    INFO  epoch 23 evaluating [time: 17.91s, valid_score: 0.130300]\n",
      "06 Mar 12:03    INFO  valid result: \n",
      "ndcg@10 : 0.1303    hit@10 : 0.4736    precision@10 : 0.1138\n",
      "06 Mar 12:03    INFO  Saving current: saved/KGAT-Mar-06-2023_08-03-10.pth\n"
     ]
    },
    {
     "data": {
      "application/vnd.jupyter.widget-view+json": {
       "model_id": "97ad44b8767a4712858eba93be5c97ac",
       "version_major": 2,
       "version_minor": 0
      },
      "text/plain": [
       "\u001b[1;35mTrain    24\u001b[0m:   0%|          | 0/3910 [00:00<?, ?it/s]"
      ]
     },
     "metadata": {},
     "output_type": "display_data"
    },
    {
     "data": {
      "application/vnd.jupyter.widget-view+json": {
       "model_id": "bc8c08554d6246b7ad2d9ed67b76ae4c",
       "version_major": 2,
       "version_minor": 0
      },
      "text/plain": [
       "\u001b[1;35mTrain    24\u001b[0m:   0%|          | 0/2209 [00:00<?, ?it/s]"
      ]
     },
     "metadata": {},
     "output_type": "display_data"
    },
    {
     "name": "stderr",
     "output_type": "stream",
     "text": [
      "06 Mar 12:13    INFO  epoch 24 training [time: 569.88s, train_loss1: 126.3279, train_loss2: 1.9113]\n"
     ]
    },
    {
     "data": {
      "application/vnd.jupyter.widget-view+json": {
       "model_id": "6ab4c279edbd437dbd2bd7939a36b9f8",
       "version_major": 2,
       "version_minor": 0
      },
      "text/plain": [
       "\u001b[1;35mEvaluate   \u001b[0m:   0%|                                                         | 0/9649 [00:00<?, ?it/s…"
      ]
     },
     "metadata": {},
     "output_type": "display_data"
    },
    {
     "name": "stderr",
     "output_type": "stream",
     "text": [
      "06 Mar 12:13    INFO  epoch 24 evaluating [time: 17.74s, valid_score: 0.131100]\n",
      "06 Mar 12:13    INFO  valid result: \n",
      "ndcg@10 : 0.1311    hit@10 : 0.472    precision@10 : 0.1147\n",
      "06 Mar 12:13    INFO  Saving current: saved/KGAT-Mar-06-2023_08-03-10.pth\n"
     ]
    },
    {
     "data": {
      "application/vnd.jupyter.widget-view+json": {
       "model_id": "db06ef68193d4fc699449cc006feb840",
       "version_major": 2,
       "version_minor": 0
      },
      "text/plain": [
       "\u001b[1;35mTrain    25\u001b[0m:   0%|          | 0/3910 [00:00<?, ?it/s]"
      ]
     },
     "metadata": {},
     "output_type": "display_data"
    },
    {
     "data": {
      "application/vnd.jupyter.widget-view+json": {
       "model_id": "35323d2f0bc4461bbbdc8b5d1f151686",
       "version_major": 2,
       "version_minor": 0
      },
      "text/plain": [
       "\u001b[1;35mTrain    25\u001b[0m:   0%|          | 0/2209 [00:00<?, ?it/s]"
      ]
     },
     "metadata": {},
     "output_type": "display_data"
    },
    {
     "name": "stderr",
     "output_type": "stream",
     "text": [
      "06 Mar 12:22    INFO  epoch 25 training [time: 569.83s, train_loss1: 122.5930, train_loss2: 1.7518]\n"
     ]
    },
    {
     "data": {
      "application/vnd.jupyter.widget-view+json": {
       "model_id": "910edb67438c49e680482925b42d2997",
       "version_major": 2,
       "version_minor": 0
      },
      "text/plain": [
       "\u001b[1;35mEvaluate   \u001b[0m:   0%|                                                         | 0/9649 [00:00<?, ?it/s…"
      ]
     },
     "metadata": {},
     "output_type": "display_data"
    },
    {
     "name": "stderr",
     "output_type": "stream",
     "text": [
      "06 Mar 12:23    INFO  epoch 25 evaluating [time: 18.09s, valid_score: 0.131400]\n",
      "06 Mar 12:23    INFO  valid result: \n",
      "ndcg@10 : 0.1314    hit@10 : 0.4742    precision@10 : 0.1144\n",
      "06 Mar 12:23    INFO  Saving current: saved/KGAT-Mar-06-2023_08-03-10.pth\n"
     ]
    },
    {
     "data": {
      "application/vnd.jupyter.widget-view+json": {
       "model_id": "f2318049937547b3beeed2845256412c",
       "version_major": 2,
       "version_minor": 0
      },
      "text/plain": [
       "\u001b[1;35mTrain    26\u001b[0m:   0%|          | 0/3910 [00:00<?, ?it/s]"
      ]
     },
     "metadata": {},
     "output_type": "display_data"
    },
    {
     "data": {
      "application/vnd.jupyter.widget-view+json": {
       "model_id": "45e3e08da6164d4cb88e234b21998130",
       "version_major": 2,
       "version_minor": 0
      },
      "text/plain": [
       "\u001b[1;35mTrain    26\u001b[0m:   0%|          | 0/2209 [00:00<?, ?it/s]"
      ]
     },
     "metadata": {},
     "output_type": "display_data"
    },
    {
     "name": "stderr",
     "output_type": "stream",
     "text": [
      "06 Mar 12:32    INFO  epoch 26 training [time: 569.73s, train_loss1: 119.8459, train_loss2: 1.7180]\n"
     ]
    },
    {
     "data": {
      "application/vnd.jupyter.widget-view+json": {
       "model_id": "3a392f3afb9b4769858fa12ba684d6b0",
       "version_major": 2,
       "version_minor": 0
      },
      "text/plain": [
       "\u001b[1;35mEvaluate   \u001b[0m:   0%|                                                         | 0/9649 [00:00<?, ?it/s…"
      ]
     },
     "metadata": {},
     "output_type": "display_data"
    },
    {
     "name": "stderr",
     "output_type": "stream",
     "text": [
      "06 Mar 12:32    INFO  epoch 26 evaluating [time: 17.84s, valid_score: 0.133800]\n",
      "06 Mar 12:32    INFO  valid result: \n",
      "ndcg@10 : 0.1338    hit@10 : 0.4809    precision@10 : 0.1168\n",
      "06 Mar 12:32    INFO  Saving current: saved/KGAT-Mar-06-2023_08-03-10.pth\n"
     ]
    },
    {
     "data": {
      "application/vnd.jupyter.widget-view+json": {
       "model_id": "683038c3105a496a8db8aa702303e52f",
       "version_major": 2,
       "version_minor": 0
      },
      "text/plain": [
       "\u001b[1;35mTrain    27\u001b[0m:   0%|          | 0/3910 [00:00<?, ?it/s]"
      ]
     },
     "metadata": {},
     "output_type": "display_data"
    },
    {
     "data": {
      "application/vnd.jupyter.widget-view+json": {
       "model_id": "0f70df98cecc490abce1450e581345ed",
       "version_major": 2,
       "version_minor": 0
      },
      "text/plain": [
       "\u001b[1;35mTrain    27\u001b[0m:   0%|          | 0/2209 [00:00<?, ?it/s]"
      ]
     },
     "metadata": {},
     "output_type": "display_data"
    },
    {
     "name": "stderr",
     "output_type": "stream",
     "text": [
      "06 Mar 12:42    INFO  epoch 27 training [time: 569.24s, train_loss1: 116.6689, train_loss2: 1.6002]\n"
     ]
    },
    {
     "data": {
      "application/vnd.jupyter.widget-view+json": {
       "model_id": "32c056a13181425f8930942dcfaa5adf",
       "version_major": 2,
       "version_minor": 0
      },
      "text/plain": [
       "\u001b[1;35mEvaluate   \u001b[0m:   0%|                                                         | 0/9649 [00:00<?, ?it/s…"
      ]
     },
     "metadata": {},
     "output_type": "display_data"
    },
    {
     "name": "stderr",
     "output_type": "stream",
     "text": [
      "06 Mar 12:42    INFO  epoch 27 evaluating [time: 18.00s, valid_score: 0.132100]\n",
      "06 Mar 12:42    INFO  valid result: \n",
      "ndcg@10 : 0.1321    hit@10 : 0.4781    precision@10 : 0.1158\n"
     ]
    },
    {
     "data": {
      "application/vnd.jupyter.widget-view+json": {
       "model_id": "50e985f2492441a6b587d7c92e2887ce",
       "version_major": 2,
       "version_minor": 0
      },
      "text/plain": [
       "\u001b[1;35mTrain    28\u001b[0m:   0%|          | 0/3910 [00:00<?, ?it/s]"
      ]
     },
     "metadata": {},
     "output_type": "display_data"
    },
    {
     "data": {
      "application/vnd.jupyter.widget-view+json": {
       "model_id": "6523e4fb50974e6699a405992becdaba",
       "version_major": 2,
       "version_minor": 0
      },
      "text/plain": [
       "\u001b[1;35mTrain    28\u001b[0m:   0%|          | 0/2209 [00:00<?, ?it/s]"
      ]
     },
     "metadata": {},
     "output_type": "display_data"
    },
    {
     "name": "stderr",
     "output_type": "stream",
     "text": [
      "06 Mar 12:52    INFO  epoch 28 training [time: 578.35s, train_loss1: 113.6649, train_loss2: 1.6523]\n"
     ]
    },
    {
     "data": {
      "application/vnd.jupyter.widget-view+json": {
       "model_id": "dc2a31a0b2de479e91106b6b79ee7816",
       "version_major": 2,
       "version_minor": 0
      },
      "text/plain": [
       "\u001b[1;35mEvaluate   \u001b[0m:   0%|                                                         | 0/9649 [00:00<?, ?it/s…"
      ]
     },
     "metadata": {},
     "output_type": "display_data"
    },
    {
     "name": "stderr",
     "output_type": "stream",
     "text": [
      "06 Mar 12:52    INFO  epoch 28 evaluating [time: 19.11s, valid_score: 0.134800]\n",
      "06 Mar 12:52    INFO  valid result: \n",
      "ndcg@10 : 0.1348    hit@10 : 0.4837    precision@10 : 0.1182\n",
      "06 Mar 12:52    INFO  Saving current: saved/KGAT-Mar-06-2023_08-03-10.pth\n"
     ]
    },
    {
     "data": {
      "application/vnd.jupyter.widget-view+json": {
       "model_id": "86a994cfc17d42b78ce2bec90bb7c390",
       "version_major": 2,
       "version_minor": 0
      },
      "text/plain": [
       "\u001b[1;35mTrain    29\u001b[0m:   0%|          | 0/3910 [00:00<?, ?it/s]"
      ]
     },
     "metadata": {},
     "output_type": "display_data"
    },
    {
     "data": {
      "application/vnd.jupyter.widget-view+json": {
       "model_id": "5bd7d5be9d984ceda9537e721e730f9e",
       "version_major": 2,
       "version_minor": 0
      },
      "text/plain": [
       "\u001b[1;35mTrain    29\u001b[0m:   0%|          | 0/2209 [00:00<?, ?it/s]"
      ]
     },
     "metadata": {},
     "output_type": "display_data"
    },
    {
     "name": "stderr",
     "output_type": "stream",
     "text": [
      "06 Mar 13:02    INFO  epoch 29 training [time: 585.70s, train_loss1: 111.8744, train_loss2: 1.5645]\n"
     ]
    },
    {
     "data": {
      "application/vnd.jupyter.widget-view+json": {
       "model_id": "963cdf686f98421fb218c8eabdb58f21",
       "version_major": 2,
       "version_minor": 0
      },
      "text/plain": [
       "\u001b[1;35mEvaluate   \u001b[0m:   0%|                                                         | 0/9649 [00:00<?, ?it/s…"
      ]
     },
     "metadata": {},
     "output_type": "display_data"
    },
    {
     "name": "stderr",
     "output_type": "stream",
     "text": [
      "06 Mar 13:02    INFO  epoch 29 evaluating [time: 18.69s, valid_score: 0.133800]\n",
      "06 Mar 13:02    INFO  valid result: \n",
      "ndcg@10 : 0.1338    hit@10 : 0.4837    precision@10 : 0.1184\n"
     ]
    },
    {
     "data": {
      "application/vnd.jupyter.widget-view+json": {
       "model_id": "a2709de3369847b0a3dd26650c1e71fc",
       "version_major": 2,
       "version_minor": 0
      },
      "text/plain": [
       "\u001b[1;35mTrain    30\u001b[0m:   0%|          | 0/3910 [00:00<?, ?it/s]"
      ]
     },
     "metadata": {},
     "output_type": "display_data"
    },
    {
     "data": {
      "application/vnd.jupyter.widget-view+json": {
       "model_id": "39feb8571dc642c4ae04c8d50118bbdc",
       "version_major": 2,
       "version_minor": 0
      },
      "text/plain": [
       "\u001b[1;35mTrain    30\u001b[0m:   0%|          | 0/2209 [00:00<?, ?it/s]"
      ]
     },
     "metadata": {},
     "output_type": "display_data"
    },
    {
     "name": "stderr",
     "output_type": "stream",
     "text": [
      "06 Mar 13:12    INFO  epoch 30 training [time: 586.38s, train_loss1: 109.9921, train_loss2: 1.6845]\n"
     ]
    },
    {
     "data": {
      "application/vnd.jupyter.widget-view+json": {
       "model_id": "58730581826f45ab91790796ca8d2e64",
       "version_major": 2,
       "version_minor": 0
      },
      "text/plain": [
       "\u001b[1;35mEvaluate   \u001b[0m:   0%|                                                         | 0/9649 [00:00<?, ?it/s…"
      ]
     },
     "metadata": {},
     "output_type": "display_data"
    },
    {
     "name": "stderr",
     "output_type": "stream",
     "text": [
      "06 Mar 13:12    INFO  epoch 30 evaluating [time: 18.16s, valid_score: 0.136700]\n",
      "06 Mar 13:12    INFO  valid result: \n",
      "ndcg@10 : 0.1367    hit@10 : 0.4895    precision@10 : 0.1203\n",
      "06 Mar 13:12    INFO  Saving current: saved/KGAT-Mar-06-2023_08-03-10.pth\n"
     ]
    },
    {
     "data": {
      "application/vnd.jupyter.widget-view+json": {
       "model_id": "231ca16deb9142318e1fc1330c1a990f",
       "version_major": 2,
       "version_minor": 0
      },
      "text/plain": [
       "\u001b[1;35mTrain    31\u001b[0m:   0%|          | 0/3910 [00:00<?, ?it/s]"
      ]
     },
     "metadata": {},
     "output_type": "display_data"
    },
    {
     "data": {
      "application/vnd.jupyter.widget-view+json": {
       "model_id": "e54a8949feb9470b81b7417f1422e7ba",
       "version_major": 2,
       "version_minor": 0
      },
      "text/plain": [
       "\u001b[1;35mTrain    31\u001b[0m:   0%|          | 0/2209 [00:00<?, ?it/s]"
      ]
     },
     "metadata": {},
     "output_type": "display_data"
    },
    {
     "name": "stderr",
     "output_type": "stream",
     "text": [
      "06 Mar 13:22    INFO  epoch 31 training [time: 586.33s, train_loss1: 106.9101, train_loss2: 1.5103]\n"
     ]
    },
    {
     "data": {
      "application/vnd.jupyter.widget-view+json": {
       "model_id": "11ea4b78932d431eab7e2dc408694799",
       "version_major": 2,
       "version_minor": 0
      },
      "text/plain": [
       "\u001b[1;35mEvaluate   \u001b[0m:   0%|                                                         | 0/9649 [00:00<?, ?it/s…"
      ]
     },
     "metadata": {},
     "output_type": "display_data"
    },
    {
     "name": "stderr",
     "output_type": "stream",
     "text": [
      "06 Mar 13:22    INFO  epoch 31 evaluating [time: 18.99s, valid_score: 0.136500]\n",
      "06 Mar 13:22    INFO  valid result: \n",
      "ndcg@10 : 0.1365    hit@10 : 0.4843    precision@10 : 0.1196\n"
     ]
    },
    {
     "data": {
      "application/vnd.jupyter.widget-view+json": {
       "model_id": "4d29a773a1d4439c8d505fa9c977486a",
       "version_major": 2,
       "version_minor": 0
      },
      "text/plain": [
       "\u001b[1;35mTrain    32\u001b[0m:   0%|          | 0/3910 [00:00<?, ?it/s]"
      ]
     },
     "metadata": {},
     "output_type": "display_data"
    },
    {
     "data": {
      "application/vnd.jupyter.widget-view+json": {
       "model_id": "6d3e2084cbb549ec9610f10c0c750bb1",
       "version_major": 2,
       "version_minor": 0
      },
      "text/plain": [
       "\u001b[1;35mTrain    32\u001b[0m:   0%|          | 0/2209 [00:00<?, ?it/s]"
      ]
     },
     "metadata": {},
     "output_type": "display_data"
    },
    {
     "name": "stderr",
     "output_type": "stream",
     "text": [
      "06 Mar 13:32    INFO  epoch 32 training [time: 586.31s, train_loss1: 106.0666, train_loss2: 1.5277]\n"
     ]
    },
    {
     "data": {
      "application/vnd.jupyter.widget-view+json": {
       "model_id": "aac4bbd03b474ec297f73d9300021d23",
       "version_major": 2,
       "version_minor": 0
      },
      "text/plain": [
       "\u001b[1;35mEvaluate   \u001b[0m:   0%|                                                         | 0/9649 [00:00<?, ?it/s…"
      ]
     },
     "metadata": {},
     "output_type": "display_data"
    },
    {
     "name": "stderr",
     "output_type": "stream",
     "text": [
      "06 Mar 13:33    INFO  epoch 32 evaluating [time: 18.87s, valid_score: 0.135800]\n",
      "06 Mar 13:33    INFO  valid result: \n",
      "ndcg@10 : 0.1358    hit@10 : 0.4883    precision@10 : 0.1197\n"
     ]
    },
    {
     "data": {
      "application/vnd.jupyter.widget-view+json": {
       "model_id": "f5a8635713b14389a27dfad07bb6a95f",
       "version_major": 2,
       "version_minor": 0
      },
      "text/plain": [
       "\u001b[1;35mTrain    33\u001b[0m:   0%|          | 0/3910 [00:00<?, ?it/s]"
      ]
     },
     "metadata": {},
     "output_type": "display_data"
    },
    {
     "data": {
      "application/vnd.jupyter.widget-view+json": {
       "model_id": "121f58ad24264ee49ec6f4a1776060fd",
       "version_major": 2,
       "version_minor": 0
      },
      "text/plain": [
       "\u001b[1;35mTrain    33\u001b[0m:   0%|          | 0/2209 [00:00<?, ?it/s]"
      ]
     },
     "metadata": {},
     "output_type": "display_data"
    },
    {
     "name": "stderr",
     "output_type": "stream",
     "text": [
      "06 Mar 13:42    INFO  epoch 33 training [time: 585.67s, train_loss1: 104.1166, train_loss2: 1.4843]\n"
     ]
    },
    {
     "data": {
      "application/vnd.jupyter.widget-view+json": {
       "model_id": "fc1506c10b1c4857b617ab79fbcb24a4",
       "version_major": 2,
       "version_minor": 0
      },
      "text/plain": [
       "\u001b[1;35mEvaluate   \u001b[0m:   0%|                                                         | 0/9649 [00:00<?, ?it/s…"
      ]
     },
     "metadata": {},
     "output_type": "display_data"
    },
    {
     "name": "stderr",
     "output_type": "stream",
     "text": [
      "06 Mar 13:43    INFO  epoch 33 evaluating [time: 18.38s, valid_score: 0.137300]\n",
      "06 Mar 13:43    INFO  valid result: \n",
      "ndcg@10 : 0.1373    hit@10 : 0.491    precision@10 : 0.1206\n",
      "06 Mar 13:43    INFO  Saving current: saved/KGAT-Mar-06-2023_08-03-10.pth\n"
     ]
    },
    {
     "data": {
      "application/vnd.jupyter.widget-view+json": {
       "model_id": "c9839c41550941b08870aeb0d1a51112",
       "version_major": 2,
       "version_minor": 0
      },
      "text/plain": [
       "\u001b[1;35mTrain    34\u001b[0m:   0%|          | 0/3910 [00:00<?, ?it/s]"
      ]
     },
     "metadata": {},
     "output_type": "display_data"
    },
    {
     "data": {
      "application/vnd.jupyter.widget-view+json": {
       "model_id": "1041a64683c141d18cf1c56a036baee7",
       "version_major": 2,
       "version_minor": 0
      },
      "text/plain": [
       "\u001b[1;35mTrain    34\u001b[0m:   0%|          | 0/2209 [00:00<?, ?it/s]"
      ]
     },
     "metadata": {},
     "output_type": "display_data"
    },
    {
     "name": "stderr",
     "output_type": "stream",
     "text": [
      "06 Mar 13:52    INFO  epoch 34 training [time: 584.70s, train_loss1: 103.1530, train_loss2: 1.3987]\n"
     ]
    },
    {
     "data": {
      "application/vnd.jupyter.widget-view+json": {
       "model_id": "848de78d277f49e89ecc77344b3f51a2",
       "version_major": 2,
       "version_minor": 0
      },
      "text/plain": [
       "\u001b[1;35mEvaluate   \u001b[0m:   0%|                                                         | 0/9649 [00:00<?, ?it/s…"
      ]
     },
     "metadata": {},
     "output_type": "display_data"
    },
    {
     "name": "stderr",
     "output_type": "stream",
     "text": [
      "06 Mar 13:53    INFO  epoch 34 evaluating [time: 18.44s, valid_score: 0.135600]\n",
      "06 Mar 13:53    INFO  valid result: \n",
      "ndcg@10 : 0.1356    hit@10 : 0.4934    precision@10 : 0.1194\n"
     ]
    },
    {
     "name": "stdout",
     "output_type": "stream",
     "text": [
      "Evaluating model\n"
     ]
    },
    {
     "name": "stderr",
     "output_type": "stream",
     "text": [
      "06 Mar 13:53    INFO  Loading model structure and parameters from saved/KGAT-Mar-06-2023_08-03-10.pth\n"
     ]
    },
    {
     "name": "stdout",
     "output_type": "stream",
     "text": [
      "OrderedDict([('ndcg@10', 0.138), ('hit@10', 0.4873), ('precision@10', 0.1211)])\n"
     ]
    }
   ],
   "source": [
    "if train_model:\n",
    "    # model loading and initialization\n",
    "    model = KGAT(config, train_data._dataset).to(config['device'])\n",
    "    logger.info(model)\n",
    "\n",
    "    # trainer loading and initialization\n",
    "    trainer = KGATTrainer(config, model)\n",
    "\n",
    "    print('Starting to fit model')\n",
    "    # model training\n",
    "    best_valid_score, best_valid_result = trainer.fit(train_data, valid_data, saved=True, show_progress=True)\n",
    "\n",
    "    print('Evaluating model')\n",
    "    # model evaluation\n",
    "    test_result = trainer.evaluate(test_data, load_best_model=True)\n",
    "    print(test_result)"
   ]
  },
  {
   "cell_type": "markdown",
   "id": "8f8b3c10-b124-47fb-b3b6-ae902bcf0383",
   "metadata": {},
   "source": [
    "# Load best model"
   ]
  },
  {
   "cell_type": "code",
   "execution_count": 4,
   "id": "0869e8b4-0502-4e8e-a1e8-526c022c1154",
   "metadata": {},
   "outputs": [],
   "source": [
    "import os\n",
    "import torch"
   ]
  },
  {
   "cell_type": "code",
   "execution_count": 6,
   "id": "61d23514-39b2-47a4-9e2a-2dc6c212feb9",
   "metadata": {},
   "outputs": [],
   "source": [
    "latest_model = 'saved/%s' % os.listdir('saved')[-1]"
   ]
  },
  {
   "cell_type": "code",
   "execution_count": 7,
   "id": "93c1e1ef-9159-417c-84b2-c145555a99f5",
   "metadata": {},
   "outputs": [
    {
     "data": {
      "text/plain": [
       "'saved/KGAT-Mar-06-2023_08-03-10.pth'"
      ]
     },
     "execution_count": 7,
     "metadata": {},
     "output_type": "execute_result"
    }
   ],
   "source": [
    "latest_model"
   ]
  },
  {
   "cell_type": "code",
   "execution_count": 8,
   "id": "bc1e8555-aad8-4b36-9ea0-ad2d399cfe80",
   "metadata": {},
   "outputs": [
    {
     "data": {
      "text/plain": [
       "<All keys matched successfully>"
      ]
     },
     "execution_count": 8,
     "metadata": {},
     "output_type": "execute_result"
    }
   ],
   "source": [
    "state_dict = torch.load(latest_model, map_location='cuda')\n",
    "model = KGAT(config, train_data._dataset).to(config['device'])\n",
    "\n",
    "model.load_state_dict(state_dict['state_dict'])"
   ]
  },
  {
   "cell_type": "code",
   "execution_count": 9,
   "id": "aa4f71cf-edb8-496c-b783-3d2eb4a0494a",
   "metadata": {},
   "outputs": [
    {
     "name": "stdout",
     "output_type": "stream",
     "text": [
      "OrderedDict([('ndcg@10', 0.1227), ('hit@10', 0.4544), ('precision@10', 0.1081)])\n"
     ]
    }
   ],
   "source": [
    "trainer = KGATTrainer(config, model)\n",
    "test_result = trainer.evaluate(test_data, load_best_model=False)\n",
    "print(test_result)"
   ]
  },
  {
   "cell_type": "markdown",
   "id": "8d53e096-c694-4305-9f54-7c317f4a6afa",
   "metadata": {},
   "source": [
    "# Prepare for model evaluation"
   ]
  },
  {
   "cell_type": "markdown",
   "id": "31eeb586-68ba-41f5-9ed0-74029e8c92ff",
   "metadata": {},
   "source": [
    "## Create graph from attention matrix"
   ]
  },
  {
   "cell_type": "code",
   "execution_count": 10,
   "id": "f6c5498c-4bff-42d2-8caf-5113456bdadc",
   "metadata": {},
   "outputs": [],
   "source": [
    "import os\n",
    "import torch\n",
    "from scipy.sparse import coo_matrix\n",
    "from scipy.sparse.csgraph import shortest_path\n",
    "import numpy as np\n",
    "from tqdm.notebook import tqdm\n",
    "import matplotlib.pyplot as plt\n",
    "from recbole.data.interaction import Interaction\n"
   ]
  },
  {
   "cell_type": "code",
   "execution_count": 11,
   "id": "bee384cf-e538-4774-88ca-b5727b2d4c07",
   "metadata": {},
   "outputs": [],
   "source": [
    "def get_path(Pr, j):\n",
    "    path = [j]\n",
    "    k = j\n",
    "    while Pr[k] != -9999:\n",
    "        path.append(Pr[k])\n",
    "        k = Pr[k]\n",
    "    return path[::-1]"
   ]
  },
  {
   "cell_type": "code",
   "execution_count": 12,
   "id": "cad73d03-0be7-4690-ba67-b76922b5b570",
   "metadata": {},
   "outputs": [],
   "source": [
    "from enum import Enum\n",
    "class DistanceMode(Enum):\n",
    "    Inverse=1\n",
    "    RBF=2\n",
    "    Linear=3"
   ]
  },
  {
   "cell_type": "code",
   "execution_count": 13,
   "id": "64f1746c-03e1-494c-937c-9f7b2b07ea6d",
   "metadata": {},
   "outputs": [],
   "source": [
    "attention_matrix = model.A_in.cpu().coalesce()\n",
    "attention_matrix_size = attention_matrix.size()[0] # since it is square"
   ]
  },
  {
   "cell_type": "code",
   "execution_count": 14,
   "id": "e0022277-6c6f-4ebc-9db9-9058b6e6dafa",
   "metadata": {},
   "outputs": [],
   "source": [
    "def create_scipy_matrix(distance_mode: str, size: int):\n",
    "    attention_values = attention_matrix.values().numpy()\n",
    "    if distance_mode == DistanceMode.Inverse:\n",
    "        attention_values = 1/attention_values\n",
    "    if distance_mode == DistanceMode.RBF:\n",
    "        attention_values = np.exp(-attention_values**2)\n",
    "    if distance_mode == DistanceMode.Linear:\n",
    "        attention_values = 1-attention_values\n",
    "    return coo_matrix((attention_values, (attention_matrix.indices()[0].numpy(), attention_matrix.indices()[1].numpy())), shape=(size,size))"
   ]
  },
  {
   "cell_type": "code",
   "execution_count": 15,
   "id": "d1c381e6-84ce-48ad-8b78-6b5903df04a9",
   "metadata": {},
   "outputs": [],
   "source": [
    "graph_matrix = create_scipy_matrix(DistanceMode.RBF, attention_matrix_size)"
   ]
  },
  {
   "cell_type": "markdown",
   "id": "feb7404e-690b-472e-915a-4cba5dd4c0a9",
   "metadata": {},
   "source": [
    "## Create shortest path for k top predictions"
   ]
  },
  {
   "cell_type": "markdown",
   "id": "95c84779-624a-4633-9c97-a817a68feba5",
   "metadata": {},
   "source": [
    "<b> Important note:</b> Id's in the attention matrix are shiftet by the number of users `dataset.user_num`. So fetching an id using the token i.e. token2id results in an id not yet shifted. So to get the corresponding attention-matrix-id we need to shift items and entities!"
   ]
  },
  {
   "cell_type": "code",
   "execution_count": 268,
   "id": "201ef164-6b3f-4fb2-b342-3ec5109eb2d3",
   "metadata": {},
   "outputs": [
    {
     "data": {
      "application/vnd.jupyter.widget-view+json": {
       "model_id": "0bf4fd08cd7a40528c7b6f4e8a791e71",
       "version_major": 2,
       "version_minor": 0
      },
      "text/plain": [
       "  0%|          | 0/9703 [00:00<?, ?it/s]"
      ]
     },
     "metadata": {},
     "output_type": "display_data"
    }
   ],
   "source": [
    "user_paths = {}\n",
    "\n",
    "for batch_idx, batched_data in enumerate(tqdm(test_data)):\n",
    "    interaction, history_index, positive_u, positive_i = batched_data\n",
    "    user_id = interaction['user_id'].cpu().numpy().item()\n",
    "    \n",
    "    predictions = model.full_sort_predict(interaction).detach().cpu().numpy()\n",
    "    recommended_items = np.argsort(predictions)\n",
    "    recommended_items = recommended_items[np.isin(recommended_items, positive_i + dataset.user_num)]\n",
    "    \n",
    "    # now calculate shortest distances for current user\n",
    "    shortest_distances, predecessors = shortest_path(graph_matrix, directed=True,  return_predecessors = True, indices=[user_id])\n",
    "    \n",
    "    # calculate the paths for the top k recommended items\n",
    "    paths = []\n",
    "    for item_idx in recommended_items:\n",
    "        path = get_path(predecessors[0], item_idx)\n",
    "        paths.append(np.asarray(path, dtype=int))\n",
    "    user_paths[user_id] = paths"
   ]
  },
  {
   "cell_type": "code",
   "execution_count": 269,
   "id": "16d48888-0f38-44b6-ae68-7c96f3c3a3f4",
   "metadata": {},
   "outputs": [
    {
     "name": "stdout",
     "output_type": "stream",
     "text": [
      "Object successfully saved to \"paths.pkl\"\n"
     ]
    }
   ],
   "source": [
    "import pickle\n",
    "file_name = 'paths.pkl'\n",
    "if create_paths:\n",
    "    with open(file_name, 'wb') as file:\n",
    "        pickle.dump(user_paths, file)\n",
    "        print(f'Object successfully saved to \"{file_name}\"')\n",
    "else:\n",
    "    with open(file_name, 'rb') as file:\n",
    "        user_paths = pickle.load(file)\n",
    "        print(f'Object successfully loaded from \"{file_name}\"')"
   ]
  },
  {
   "cell_type": "code",
   "execution_count": 270,
   "id": "0e06f54b-5e9a-4590-9866-ba996dd98b96",
   "metadata": {},
   "outputs": [],
   "source": [
    "gender_ids = dataset.token2id('entity_id', ['m', 'f'])"
   ]
  },
  {
   "cell_type": "code",
   "execution_count": 271,
   "id": "5ac27e92-1090-40f5-bcbb-54d95c4b2b46",
   "metadata": {},
   "outputs": [
    {
     "data": {
      "text/plain": [
       "array([[0., 0., 0., ..., 0., 0., 0.]], dtype=float32)"
      ]
     },
     "execution_count": 271,
     "metadata": {},
     "output_type": "execute_result"
    }
   ],
   "source": [
    "male_attention_row = np.asarray(graph_matrix.getrow(dataset.user_num + gender_ids[0]).todense())\n",
    "male_attention_row"
   ]
  },
  {
   "cell_type": "code",
   "execution_count": 272,
   "id": "e2bb2e58-5aae-4b66-9524-7d6914ba5cdb",
   "metadata": {},
   "outputs": [
    {
     "data": {
      "text/plain": [
       "(array([], dtype=int64), array([], dtype=int64))"
      ]
     },
     "execution_count": 272,
     "metadata": {},
     "output_type": "execute_result"
    }
   ],
   "source": [
    "np.nonzero(male_attention_row)"
   ]
  },
  {
   "cell_type": "code",
   "execution_count": 273,
   "id": "a6a10df7-5882-48e3-8eeb-0ddd33a918b3",
   "metadata": {},
   "outputs": [
    {
     "data": {
      "text/plain": [
       "array([[0.],\n",
       "       [0.],\n",
       "       [0.],\n",
       "       ...,\n",
       "       [0.],\n",
       "       [0.],\n",
       "       [0.]], dtype=float32)"
      ]
     },
     "execution_count": 273,
     "metadata": {},
     "output_type": "execute_result"
    }
   ],
   "source": [
    "male_attention_col = np.asarray(graph_matrix.getcol(dataset.user_num + gender_ids[0]).todense())\n",
    "male_attention_col"
   ]
  },
  {
   "cell_type": "code",
   "execution_count": 274,
   "id": "5b3d5c55-b62f-49f1-93f3-62969bdae476",
   "metadata": {},
   "outputs": [
    {
     "data": {
      "text/plain": [
       "(array([166590, 166591, 166592, ..., 176383, 176385, 176386]),\n",
       " array([0, 0, 0, ..., 0, 0, 0]))"
      ]
     },
     "execution_count": 274,
     "metadata": {},
     "output_type": "execute_result"
    }
   ],
   "source": [
    "np.nonzero(male_attention_col)"
   ]
  },
  {
   "cell_type": "markdown",
   "id": "3eceb3a6-f695-440f-b14b-7be4a08cf3ed",
   "metadata": {},
   "source": [
    "# Evaluation"
   ]
  },
  {
   "cell_type": "code",
   "execution_count": 275,
   "id": "92f5945f-525e-452d-b3cc-be68d7c805dd",
   "metadata": {},
   "outputs": [],
   "source": [
    "import seaborn as sns"
   ]
  },
  {
   "cell_type": "markdown",
   "id": "af0da57b-5e81-47ee-aacf-6af12afb7a76",
   "metadata": {
    "tags": []
   },
   "source": [
    "## Load all users and divide into male and female"
   ]
  },
  {
   "cell_type": "code",
   "execution_count": 276,
   "id": "145855bf-4e9f-461b-a338-e285baeaab22",
   "metadata": {},
   "outputs": [],
   "source": [
    "import pandas as pd\n",
    "user_df = pd.read_csv('data/lfm/50percent_subset_users.tsv', sep='\\t')"
   ]
  },
  {
   "cell_type": "code",
   "execution_count": 277,
   "id": "c5a9ad35-7dce-481c-aa96-3c35a2d33d10",
   "metadata": {},
   "outputs": [],
   "source": [
    "user_ids = list(user_paths.keys())"
   ]
  },
  {
   "cell_type": "code",
   "execution_count": 278,
   "id": "8c1c6b2a-f388-408c-81f9-1060b77a7bf6",
   "metadata": {},
   "outputs": [],
   "source": [
    "external_user_ids = [int(item) for item in dataset.id2token(dataset.uid_field, user_ids)]"
   ]
  },
  {
   "cell_type": "code",
   "execution_count": 279,
   "id": "e55aab81-8fc5-4639-8b3c-39fa16f14e9d",
   "metadata": {},
   "outputs": [],
   "source": [
    "# remove users that recbole removed in the dataset creation process\n",
    "user_df = user_df[user_df.user_id.isin(external_user_ids)]"
   ]
  },
  {
   "cell_type": "code",
   "execution_count": 280,
   "id": "729082cd-d6e3-49f6-b75e-c57d38166b97",
   "metadata": {},
   "outputs": [],
   "source": [
    "male_users = user_df[user_df.gender == 'm']\n",
    "female_users = user_df[user_df.gender =='f']"
   ]
  },
  {
   "cell_type": "code",
   "execution_count": 281,
   "id": "c3ab8249-9e39-4bdc-8362-3749355602af",
   "metadata": {},
   "outputs": [
    {
     "data": {
      "text/plain": [
       "<BarContainer object of 2 artists>"
      ]
     },
     "execution_count": 281,
     "metadata": {},
     "output_type": "execute_result"
    },
    {
     "data": {
      "image/png": "[encoded data removed]",
      "text/plain": [
       "<Figure size 640x480 with 1 Axes>"
      ]
     },
     "metadata": {},
     "output_type": "display_data"
    }
   ],
   "source": [
    "plt.bar(['male user count', 'female user count'], [len(male_users), len(female_users)])"
   ]
  },
  {
   "cell_type": "code",
   "execution_count": 282,
   "id": "a15d640f-db10-46b0-9ba3-3f015e8f080b",
   "metadata": {},
   "outputs": [],
   "source": [
    "male_internal_user_ids = dataset.token2id(dataset.uid_field, [str(item) for item in male_users.user_id.to_numpy()])\n",
    "female_internal_user_ids = dataset.token2id(dataset.uid_field, [str(item) for item in female_users.user_id.to_numpy()])"
   ]
  },
  {
   "cell_type": "code",
   "execution_count": 283,
   "id": "a1df0364-a0ae-4f79-bec8-379f91b32e58",
   "metadata": {},
   "outputs": [],
   "source": [
    "def internal_id_to_gender(idx: int):\n",
    "    return 'm' if idx in male_internal_user_ids else 'f'"
   ]
  },
  {
   "cell_type": "code",
   "execution_count": 284,
   "id": "06571427-b5c9-4787-8db9-23ccb338f5bc",
   "metadata": {},
   "outputs": [],
   "source": [
    "def is_male(idx:int):\n",
    "    return idx in male_internal_user_ids"
   ]
  },
  {
   "cell_type": "markdown",
   "id": "a9dfa3f8-8f3d-4300-a904-d7e22f7f0f2e",
   "metadata": {},
   "source": [
    "### Calculate average path length on per user basis"
   ]
  },
  {
   "cell_type": "code",
   "execution_count": 285,
   "id": "843aecb0-e572-437a-93b9-a1fb0edbe4a4",
   "metadata": {},
   "outputs": [
    {
     "name": "stderr",
     "output_type": "stream",
     "text": [
      "/home/jfallmann/miniconda3/envs/pr/lib/python3.9/site-packages/numpy/core/fromnumeric.py:3432: RuntimeWarning: Mean of empty slice.\n",
      "  return _methods._mean(a, axis=axis, dtype=dtype,\n",
      "/home/jfallmann/miniconda3/envs/pr/lib/python3.9/site-packages/numpy/core/_methods.py:190: RuntimeWarning: invalid value encountered in double_scalars\n",
      "  ret = ret.dtype.type(ret / rcount)\n"
     ]
    }
   ],
   "source": [
    "user_average_path_lengths = {}\n",
    "for key in user_paths.keys():\n",
    "    paths_for_user = user_paths[key]\n",
    "    average_path_length = np.mean([len(path) for path in paths_for_user])\n",
    "    user_average_path_lengths[key] = average_path_length"
   ]
  },
  {
   "cell_type": "code",
   "execution_count": 286,
   "id": "6a03a623-536e-421b-a1e8-0fc63f23116a",
   "metadata": {},
   "outputs": [
    {
     "data": {
      "text/html": [
       "<div>\n",
       "<style scoped>\n",
       "    .dataframe tbody tr th:only-of-type {\n",
       "        vertical-align: middle;\n",
       "    }\n",
       "\n",
       "    .dataframe tbody tr th {\n",
       "        vertical-align: top;\n",
       "    }\n",
       "\n",
       "    .dataframe thead th {\n",
       "        text-align: right;\n",
       "    }\n",
       "</style>\n",
       "<table border=\"1\" class=\"dataframe\">\n",
       "  <thead>\n",
       "    <tr style=\"text-align: right;\">\n",
       "      <th></th>\n",
       "      <th>gender</th>\n",
       "      <th>average path length</th>\n",
       "      <th>male/female</th>\n",
       "    </tr>\n",
       "  </thead>\n",
       "  <tbody>\n",
       "    <tr>\n",
       "      <th>0</th>\n",
       "      <td>m</td>\n",
       "      <td>2.717949</td>\n",
       "      <td>_</td>\n",
       "    </tr>\n",
       "    <tr>\n",
       "      <th>1</th>\n",
       "      <td>m</td>\n",
       "      <td>3.301370</td>\n",
       "      <td>_</td>\n",
       "    </tr>\n",
       "    <tr>\n",
       "      <th>2</th>\n",
       "      <td>f</td>\n",
       "      <td>3.363636</td>\n",
       "      <td>_</td>\n",
       "    </tr>\n",
       "    <tr>\n",
       "      <th>3</th>\n",
       "      <td>m</td>\n",
       "      <td>2.787037</td>\n",
       "      <td>_</td>\n",
       "    </tr>\n",
       "    <tr>\n",
       "      <th>4</th>\n",
       "      <td>f</td>\n",
       "      <td>2.923077</td>\n",
       "      <td>_</td>\n",
       "    </tr>\n",
       "    <tr>\n",
       "      <th>...</th>\n",
       "      <td>...</td>\n",
       "      <td>...</td>\n",
       "      <td>...</td>\n",
       "    </tr>\n",
       "    <tr>\n",
       "      <th>9698</th>\n",
       "      <td>m</td>\n",
       "      <td>2.000000</td>\n",
       "      <td>_</td>\n",
       "    </tr>\n",
       "    <tr>\n",
       "      <th>9699</th>\n",
       "      <td>f</td>\n",
       "      <td>4.000000</td>\n",
       "      <td>_</td>\n",
       "    </tr>\n",
       "    <tr>\n",
       "      <th>9700</th>\n",
       "      <td>m</td>\n",
       "      <td>6.000000</td>\n",
       "      <td>_</td>\n",
       "    </tr>\n",
       "    <tr>\n",
       "      <th>9701</th>\n",
       "      <td>m</td>\n",
       "      <td>4.000000</td>\n",
       "      <td>_</td>\n",
       "    </tr>\n",
       "    <tr>\n",
       "      <th>9702</th>\n",
       "      <td>f</td>\n",
       "      <td>NaN</td>\n",
       "      <td>_</td>\n",
       "    </tr>\n",
       "  </tbody>\n",
       "</table>\n",
       "<p>9703 rows × 3 columns</p>\n",
       "</div>"
      ],
      "text/plain": [
       "     gender  average path length male/female\n",
       "0         m             2.717949           _\n",
       "1         m             3.301370           _\n",
       "2         f             3.363636           _\n",
       "3         m             2.787037           _\n",
       "4         f             2.923077           _\n",
       "...     ...                  ...         ...\n",
       "9698      m             2.000000           _\n",
       "9699      f             4.000000           _\n",
       "9700      m             6.000000           _\n",
       "9701      m             4.000000           _\n",
       "9702      f                  NaN           _\n",
       "\n",
       "[9703 rows x 3 columns]"
      ]
     },
     "execution_count": 286,
     "metadata": {},
     "output_type": "execute_result"
    }
   ],
   "source": [
    "length_distribution_dataframe = pd.DataFrame({'gender': [internal_id_to_gender(idx) for idx in user_paths.keys()], 'average path length': list(user_average_path_lengths.values()), 'male/female': ['_' for _ in user_paths.keys()]})\n",
    "length_distribution_dataframe"
   ]
  },
  {
   "cell_type": "code",
   "execution_count": 287,
   "id": "ecbba77f-3420-4465-abea-d0d6b3071c4a",
   "metadata": {},
   "outputs": [
    {
     "data": {
      "text/plain": [
       "Text(0, 0.5, 'Occurence in %')"
      ]
     },
     "execution_count": 287,
     "metadata": {},
     "output_type": "execute_result"
    },
    {
     "data": {
      "image/png": "[encoded data removed]",
      "text/plain": [
       "<Figure size 1500x700 with 1 Axes>"
      ]
     },
     "metadata": {},
     "output_type": "display_data"
    }
   ],
   "source": [
    "import matplotlib.pyplot as plt\n",
    "f = plt.figure(figsize=(15,7))\n",
    "ax = f.add_subplot(1,1,1)\n",
    "\n",
    "sns.histplot(data=length_distribution_dataframe, ax=ax, stat=\"proportion\", multiple=\"stack\",\n",
    "             x=\"average path length\", kde=False,\n",
    "             palette=\"pastel\", hue=\"gender\",\n",
    "             element=\"bars\", legend=True)\n",
    "ax.set_title(\"Explanation path length distribution\")\n",
    "ax.set_xlabel(\"Path length\")\n",
    "ax.set_ylabel(\"Occurence in %\")"
   ]
  },
  {
   "cell_type": "code",
   "execution_count": 288,
   "id": "1aca59ab-d4f0-4d15-aca1-b1350d8cce51",
   "metadata": {},
   "outputs": [
    {
     "data": {
      "text/plain": [
       "<AxesSubplot: xlabel='male/female', ylabel='average path length'>"
      ]
     },
     "execution_count": 288,
     "metadata": {},
     "output_type": "execute_result"
    },
    {
     "data": {
      "image/png": "[encoded data removed]",
      "text/plain": [
       "<Figure size 1500x700 with 1 Axes>"
      ]
     },
     "metadata": {},
     "output_type": "display_data"
    }
   ],
   "source": [
    "import matplotlib.pyplot as plt\n",
    "f = plt.figure(figsize=(15,7))\n",
    "sns.violinplot(data=length_distribution_dataframe, y='average path length', x='male/female', hue='gender', split=True, palette=\"pastel\", stat='proportion', legend=True)"
   ]
  },
  {
   "cell_type": "code",
   "execution_count": 289,
   "id": "177d720c-390f-4994-97f2-52fc05d326ee",
   "metadata": {},
   "outputs": [
    {
     "data": {
      "text/plain": [
       "<AxesSubplot: xlabel='male/female', ylabel='average path length'>"
      ]
     },
     "execution_count": 289,
     "metadata": {},
     "output_type": "execute_result"
    },
    {
     "data": {
      "image/png": "[encoded data removed]",
      "text/plain": [
       "<Figure size 1000x1000 with 1 Axes>"
      ]
     },
     "metadata": {},
     "output_type": "display_data"
    }
   ],
   "source": [
    "import matplotlib.pyplot as plt\n",
    "f = plt.figure(figsize=(10,10))\n",
    "sns.boxplot(y=\"average path length\", x=\"male/female\",\n",
    "            hue=\"gender\", palette=\"pastel\",\n",
    "            data=length_distribution_dataframe)"
   ]
  },
  {
   "cell_type": "markdown",
   "id": "c93ac038-3a14-415b-97f6-e090888208b3",
   "metadata": {},
   "source": [
    "## Evaluate path length per gender per user"
   ]
  },
  {
   "cell_type": "code",
   "execution_count": 310,
   "id": "67bbe996-6cd7-4c62-809d-d50c6acd74e3",
   "metadata": {},
   "outputs": [],
   "source": [
    "import math"
   ]
  },
  {
   "cell_type": "code",
   "execution_count": 312,
   "id": "d24ce4aa-23e9-4af8-8e5d-a2c55cdef690",
   "metadata": {},
   "outputs": [],
   "source": [
    "male_path_lengths = {}\n",
    "for key in user_paths.keys():\n",
    "    if key in male_internal_user_ids:\n",
    "        if not math.isnan(user_average_path_lengths[key]):\n",
    "            male_path_lengths[key] = user_average_path_lengths[key]\n",
    "\n",
    "female_path_lengths = {}\n",
    "for key in user_paths.keys():\n",
    "    if key in female_internal_user_ids:\n",
    "        if not math.isnan(user_average_path_lengths[key]):\n",
    "            female_path_lengths[key] = user_average_path_lengths[key]"
   ]
  },
  {
   "cell_type": "code",
   "execution_count": 313,
   "id": "5f0806a4-ebab-470e-803b-062dbfe1cbed",
   "metadata": {},
   "outputs": [
    {
     "data": {
      "text/plain": [
       "3.0445637134338686"
      ]
     },
     "execution_count": 313,
     "metadata": {},
     "output_type": "execute_result"
    }
   ],
   "source": [
    "np.mean(list(male_path_lengths.values()))"
   ]
  },
  {
   "cell_type": "code",
   "execution_count": 314,
   "id": "387ff0d5-651e-4ddc-b93c-ed2274920697",
   "metadata": {},
   "outputs": [
    {
     "data": {
      "text/plain": [
       "3.0"
      ]
     },
     "execution_count": 314,
     "metadata": {},
     "output_type": "execute_result"
    }
   ],
   "source": [
    "np.median(list(male_path_lengths.values()))"
   ]
  },
  {
   "cell_type": "code",
   "execution_count": 315,
   "id": "d9bbbbaf-d2dd-47a7-b439-fb2020c496ae",
   "metadata": {},
   "outputs": [
    {
     "data": {
      "text/plain": [
       "2.954057256948879"
      ]
     },
     "execution_count": 315,
     "metadata": {},
     "output_type": "execute_result"
    }
   ],
   "source": [
    "np.mean(list(female_path_lengths.values()))"
   ]
  },
  {
   "cell_type": "code",
   "execution_count": 316,
   "id": "79914702-58c5-4092-947e-6f34fbb94af7",
   "metadata": {},
   "outputs": [
    {
     "data": {
      "text/plain": [
       "2.857142857142857"
      ]
     },
     "execution_count": 316,
     "metadata": {},
     "output_type": "execute_result"
    }
   ],
   "source": [
    "np.median(list(female_path_lengths.values()))"
   ]
  },
  {
   "cell_type": "markdown",
   "id": "19126254-33b9-429b-bf2e-0a689b2660cb",
   "metadata": {},
   "source": [
    "## Evaluate path length per gender"
   ]
  },
  {
   "cell_type": "code",
   "execution_count": 317,
   "id": "833098fa-bfb6-418b-9e78-a29512df7fb4",
   "metadata": {},
   "outputs": [],
   "source": [
    "male_paths = {}\n",
    "for key in user_paths.keys():\n",
    "    if key in male_internal_user_ids:\n",
    "        male_paths[key] = user_paths[key]\n",
    "\n",
    "female_paths = {}\n",
    "for key in user_paths.keys():\n",
    "    if key in female_internal_user_ids:\n",
    "        female_paths[key] = user_paths[key]"
   ]
  },
  {
   "cell_type": "code",
   "execution_count": 318,
   "id": "fd3118a4-5f08-45eb-8661-02cffb69e596",
   "metadata": {},
   "outputs": [],
   "source": [
    "def average_path_length(paths: dict):\n",
    "    flat_list = [item for sublist in list(paths.values()) for item in sublist]\n",
    "    lengths = [len(item) for item in flat_list]\n",
    "    return np.mean(lengths), lengths"
   ]
  },
  {
   "cell_type": "code",
   "execution_count": 319,
   "id": "ad08c7f9-bd16-42ae-9b10-7e587685cd93",
   "metadata": {},
   "outputs": [],
   "source": [
    "male_average, male_lengths = average_path_length(male_paths)"
   ]
  },
  {
   "cell_type": "code",
   "execution_count": 320,
   "id": "15a9975d-34bc-4132-b712-2690f752fef7",
   "metadata": {},
   "outputs": [],
   "source": [
    "female_average, female_lengths = average_path_length(female_paths)"
   ]
  },
  {
   "cell_type": "code",
   "execution_count": 321,
   "id": "4edbaf15-defa-4bbc-8227-02ecad248eb8",
   "metadata": {},
   "outputs": [
    {
     "data": {
      "text/plain": [
       "(2.761774665859604, 2.8135451087973067)"
      ]
     },
     "execution_count": 321,
     "metadata": {},
     "output_type": "execute_result"
    }
   ],
   "source": [
    "female_average, male_average"
   ]
  },
  {
   "cell_type": "markdown",
   "id": "d21e7ddc-7a6e-43e1-a385-1b96e261d460",
   "metadata": {},
   "source": [
    "## Evaluate shared entities"
   ]
  },
  {
   "cell_type": "code",
   "execution_count": 343,
   "id": "78f73962-c326-4abf-9a25-ac4d668c903d",
   "metadata": {},
   "outputs": [],
   "source": [
    "male_shared_entities = []\n",
    "female_shared_entities = []\n",
    "for user_id in user_paths.keys():\n",
    "    paths_for_user = user_paths[user_id]\n",
    "    paths_without_start_and_end = [path[1:] for path in paths_for_user]\n",
    "    paths_without_start_and_end = list(filter(lambda x: len(x) > 0, paths_without_start_and_end))\n",
    "\n",
    "    try:\n",
    "        concatenated_paths = np.concatenate(paths_without_start_and_end)\n",
    "    except:\n",
    "        pass\n",
    "    \n",
    "    if is_male(user_id):\n",
    "        male_shared_entities.append(concatenated_paths)\n",
    "    else:\n",
    "        female_shared_entities.append(concatenated_paths)\n",
    "    \n",
    "male_shared_entities = np.concatenate(male_shared_entities)\n",
    "female_shared_entities = np.concatenate(female_shared_entities)"
   ]
  },
  {
   "cell_type": "code",
   "execution_count": 344,
   "id": "e9927ef9-a65e-4771-ae04-bf9dd7c65d5a",
   "metadata": {},
   "outputs": [],
   "source": [
    "male_shared_item_ids, male_shared_item_counts = np.unique(male_shared_entities, return_counts=True)\n",
    "female_shared_item_ids, female_shared_item_counts = np.unique(female_shared_entities, return_counts=True)"
   ]
  },
  {
   "cell_type": "code",
   "execution_count": 345,
   "id": "e523defc-2a05-4c1c-a4cc-d8b929e8872d",
   "metadata": {},
   "outputs": [],
   "source": [
    "male_shared_item_ids = np.flip(male_shared_item_ids[np.argsort(male_shared_item_counts)])\n",
    "male_shared_item_counts = np.flip(male_shared_item_counts[np.argsort(male_shared_item_counts)])\n",
    "female_shared_item_ids = np.flip(female_shared_item_ids[np.argsort(female_shared_item_counts)])\n",
    "female_shared_item_counts = np.flip(female_shared_item_counts[np.argsort(female_shared_item_counts)])\n"
   ]
  },
  {
   "cell_type": "code",
   "execution_count": 346,
   "id": "c9bf0590-e170-4d0d-b2ba-e6e064967c46",
   "metadata": {},
   "outputs": [
    {
     "data": {
      "text/plain": [
       "array([  6687,    519,   1171, ...,  69874, 124890,  43533])"
      ]
     },
     "execution_count": 346,
     "metadata": {},
     "output_type": "execute_result"
    }
   ],
   "source": [
    "male_shared_item_ids"
   ]
  },
  {
   "cell_type": "code",
   "execution_count": 347,
   "id": "6d7a7e84-c33c-4ac8-a099-91d213c9c1ae",
   "metadata": {},
   "outputs": [
    {
     "data": {
      "text/plain": [
       "array([901, 832, 819, ...,   1,   1,   1])"
      ]
     },
     "execution_count": 347,
     "metadata": {},
     "output_type": "execute_result"
    }
   ],
   "source": [
    "male_shared_item_counts"
   ]
  },
  {
   "cell_type": "code",
   "execution_count": 348,
   "id": "a0fcd650-bbba-45cf-af60-f96ee5bd0ca8",
   "metadata": {},
   "outputs": [],
   "source": [
    "male_shared_entity_count = np.sum(male_shared_item_counts)"
   ]
  },
  {
   "cell_type": "code",
   "execution_count": 349,
   "id": "2370ffe9-3cf9-45fb-8800-7d5f53403084",
   "metadata": {},
   "outputs": [
    {
     "name": "stdout",
     "output_type": "stream",
     "text": [
      "Entity 6687. \t 901 \t 0.1546574020989464%\n",
      "Entity 519. \t 832 \t 0.14281349450202377%\n",
      "Entity 1171. \t 819 \t 0.14058203365042965%\n",
      "Entity 4190. \t 719 \t 0.12341695017662871%\n",
      "Entity 5700. \t 691 \t 0.11861072680396445%\n",
      "Entity 119. \t 663 \t 0.11380450343130019%\n",
      "Entity 3236. \t 627 \t 0.10762507338073185%\n",
      "Entity 206. \t 618 \t 0.10608021586808977%\n",
      "Entity 715. \t 494 \t 0.08479551236057661%\n",
      "Entity 3316. \t 476 \t 0.08170579733529244%\n",
      "Entity 215. \t 439 \t 0.07535471644998609%\n",
      "Entity 2191. \t 435 \t 0.07466811311103407%\n",
      "Entity 382. \t 430 \t 0.07380985893734401%\n",
      "Entity 66. \t 403 \t 0.06917528639941777%\n",
      "Entity 64. \t 397 \t 0.0681453813909897%\n",
      "Entity 868. \t 393 \t 0.06745877805203766%\n",
      "Entity 371. \t 371 \t 0.06368245968780147%\n",
      "Entity 143. \t 366 \t 0.06282420551411141%\n",
      "Entity 1252. \t 366 \t 0.06282420551411141%\n",
      "Entity 626. \t 363 \t 0.06230925300989739%\n",
      "Entity 204. \t 358 \t 0.06145099883620734%\n",
      "Entity 5886. \t 346 \t 0.05939118881935123%\n",
      "Entity 2421. \t 341 \t 0.05853293464566118%\n",
      "Entity 10086. \t 334 \t 0.057331378802495114%\n",
      "Entity 3099. \t 333 \t 0.057159727967757104%\n",
      "Entity 2562. \t 333 \t 0.057159727967757104%\n",
      "Entity 704. \t 333 \t 0.057159727967757104%\n",
      "Entity 358. \t 330 \t 0.05664477546354308%\n",
      "Entity 1333. \t 321 \t 0.055099917950900995%\n",
      "Entity 2788. \t 306 \t 0.052525155429830855%\n",
      "Entity 1778. \t 298 \t 0.05115194875192678%\n",
      "Entity 549. \t 284 \t 0.04874883706559465%\n",
      "Entity 949. \t 267 \t 0.04583077287504849%\n",
      "Entity 1419. \t 248 \t 0.04256940701502632%\n",
      "Entity 3627. \t 246 \t 0.0422261053455503%\n",
      "Entity 1692. \t 242 \t 0.041539502006598256%\n",
      "Entity 1470. \t 234 \t 0.04016629532869418%\n",
      "Entity 3245. \t 231 \t 0.03965134282448016%\n",
      "Entity 222. \t 228 \t 0.039136390320266126%\n",
      "Entity 2245. \t 225 \t 0.0386214378160521%\n",
      "Entity 430. \t 225 \t 0.0386214378160521%\n",
      "Entity 605. \t 219 \t 0.03759153280762404%\n",
      "Entity 4013. \t 218 \t 0.03741988197288603%\n",
      "Entity 2435. \t 216 \t 0.03707658030341002%\n",
      "Entity 2332. \t 214 \t 0.036733278633934%\n",
      "Entity 1672. \t 213 \t 0.036561627799195986%\n",
      "Entity 1638. \t 212 \t 0.036389976964457976%\n",
      "Entity 2722. \t 207 \t 0.03553172279076793%\n",
      "Entity 401. \t 204 \t 0.0350167702865539%\n",
      "Entity 152. \t 204 \t 0.0350167702865539%\n",
      "Entity 674. \t 204 \t 0.0350167702865539%\n",
      "Entity 2936. \t 202 \t 0.03467346861707789%\n",
      "Entity 2681. \t 202 \t 0.03467346861707789%\n",
      "Entity 4534. \t 200 \t 0.03433016694760187%\n",
      "Entity 1010. \t 198 \t 0.03398686527812585%\n",
      "Entity 46. \t 197 \t 0.03381521444338784%\n",
      "Entity 2873. \t 197 \t 0.03381521444338784%\n",
      "Entity 1641. \t 196 \t 0.033643563608649826%\n",
      "Entity 489. \t 195 \t 0.033471912773911816%\n",
      "Entity 21472. \t 195 \t 0.033471912773911816%\n",
      "Entity 1421. \t 192 \t 0.03295696026969779%\n",
      "Entity 440. \t 191 \t 0.03278530943495978%\n",
      "Entity 62. \t 189 \t 0.03244200776548376%\n",
      "Entity 2573. \t 186 \t 0.03192705526126974%\n",
      "Entity 638. \t 186 \t 0.03192705526126974%\n",
      "Entity 3042. \t 186 \t 0.03192705526126974%\n",
      "Entity 407. \t 186 \t 0.03192705526126974%\n",
      "Entity 146899. \t 185 \t 0.03175540442653173%\n",
      "Entity 8556. \t 183 \t 0.03141210275705571%\n",
      "Entity 710. \t 182 \t 0.031240451922317697%\n",
      "Entity 2503. \t 182 \t 0.031240451922317697%\n",
      "Entity 3127. \t 181 \t 0.03106880108757969%\n",
      "Entity 1434. \t 180 \t 0.03089715025284168%\n",
      "Entity 2732. \t 177 \t 0.030382197748627653%\n",
      "Entity 3802. \t 176 \t 0.030210546913889642%\n",
      "Entity 170. \t 175 \t 0.030038896079151632%\n",
      "Entity 467. \t 174 \t 0.029867245244413622%\n",
      "Entity 778. \t 173 \t 0.029695594409675615%\n",
      "Entity 194. \t 173 \t 0.029695594409675615%\n",
      "Entity 2013. \t 173 \t 0.029695594409675615%\n",
      "Entity 292. \t 166 \t 0.02849403856650955%\n",
      "Entity 207. \t 165 \t 0.02832238773177154%\n",
      "Entity 1233. \t 164 \t 0.02815073689703353%\n",
      "Entity 2604. \t 164 \t 0.02815073689703353%\n",
      "Entity 1502. \t 164 \t 0.02815073689703353%\n",
      "Entity 8082. \t 163 \t 0.02797908606229552%\n",
      "Entity 4953. \t 163 \t 0.02797908606229552%\n",
      "Entity 4761. \t 163 \t 0.02797908606229552%\n",
      "Entity 939. \t 163 \t 0.02797908606229552%\n",
      "Entity 770. \t 162 \t 0.027807435227557513%\n",
      "Entity 439. \t 162 \t 0.027807435227557513%\n",
      "Entity 1882. \t 162 \t 0.027807435227557513%\n",
      "Entity 1028. \t 162 \t 0.027807435227557513%\n",
      "Entity 1374. \t 161 \t 0.027635784392819503%\n",
      "Entity 3109. \t 161 \t 0.027635784392819503%\n",
      "Entity 325. \t 160 \t 0.027464133558081492%\n",
      "Entity 22170. \t 159 \t 0.027292482723343482%\n",
      "Entity 2784. \t 158 \t 0.027120831888605475%\n",
      "Entity 12138. \t 158 \t 0.027120831888605475%\n",
      "Entity 1281. \t 158 \t 0.027120831888605475%\n"
     ]
    }
   ],
   "source": [
    "for entity_idx, shared_entity in enumerate(male_shared_item_ids[:100]):\n",
    "    print('Entity %s. \\t %s \\t %s%%' % (shared_entity, male_shared_item_counts[entity_idx], male_shared_item_counts[entity_idx]*100/male_shared_entity_count))"
   ]
  },
  {
   "cell_type": "code",
   "execution_count": 350,
   "id": "b063670c-d117-41b8-886a-a28ef23fb57f",
   "metadata": {},
   "outputs": [],
   "source": [
    "for entity in male_shared_item_ids:\n",
    "    if entity > (dataset.user_num+dataset.item_num):\n",
    "        print('WTF')"
   ]
  }
 ],
 "metadata": {
  "kernelspec": {
   "display_name": "Python 3 (ipykernel)",
   "language": "python",
   "name": "python3"
  },
  "language_info": {
   "codemirror_mode": {
    "name": "ipython",
    "version": 3
   },
   "file_extension": ".py",
   "mimetype": "text/x-python",
   "name": "python",
   "nbconvert_exporter": "python",
   "pygments_lexer": "ipython3",
   "version": "3.9.15"
  }
 },
 "nbformat": 4,
 "nbformat_minor": 5
}
