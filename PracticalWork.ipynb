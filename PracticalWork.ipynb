{
 "cells": [
  {
   "cell_type": "markdown",
   "id": "a2ed31f1-0e50-4f8a-86b0-e983172410e9",
   "metadata": {},
   "source": [
    "# Practical Work"
   ]
  },
  {
   "cell_type": "markdown",
   "id": "02cda9a7-79e5-45ee-9f02-459bd85fad9d",
   "metadata": {},
   "source": [
    "<b> Student: </b> Jonas Fallmann <br>\n",
    "<b> Matrikulation number </b> 12018700 <br>\n",
    "<b> Topic:</b> Evaulating gender bias of explained recommender systems<br>\n",
    "<b> Institute: </b> Institute of Computational Perception, Johannes Kepler University Linz"
   ]
  },
  {
   "cell_type": "markdown",
   "id": "33d49e4f-69e2-421e-99e5-cd16c30ee9bd",
   "metadata": {},
   "source": [
    "## Outline\n",
    "Recent advances in the field of recommender systems focus in a big part on explanations of recommended Items. Explainability has been shown to aid user trust and results in higher conversion rates in the online shopping domain. As an example, explanations in the music domain could be of the following form:\n",
    "\n",
    "<b>Recommended Item:</b> Clocks and Whoopty by Pintel Ragetti<br>\n",
    "<b> Explanation: </b>  \n",
    "\n"
   ]
  },
  {
   "cell_type": "markdown",
   "id": "ecf941a2-6c8c-43f3-99b7-4acc31f33838",
   "metadata": {},
   "source": [
    "# Train Model"
   ]
  },
  {
   "cell_type": "markdown",
   "id": "c246efaa-f8c1-42b2-9993-6513d8e4c141",
   "metadata": {
    "tags": []
   },
   "source": [
    "### Load config and create Dataset"
   ]
  },
  {
   "cell_type": "code",
   "execution_count": 1,
   "id": "76e405f0-0b6a-4ce8-834a-856f132eced1",
   "metadata": {},
   "outputs": [],
   "source": [
    "from logging import getLogger\n",
    "from recbole.config import Config\n",
    "from recbole.data import create_dataset, data_preparation\n",
    "from recbole.model.knowledge_aware_recommender import KGAT\n",
    "from recbole.trainer import KGATTrainer\n",
    "from recbole.utils import init_seed, init_logger\n",
    "\n",
    "train_model = False\n",
    "create_paths = False"
   ]
  },
  {
   "cell_type": "code",
   "execution_count": 2,
   "id": "3e05ff00-3d37-406e-8e66-eab5e3ce034e",
   "metadata": {
    "tags": []
   },
   "outputs": [
    {
     "name": "stderr",
     "output_type": "stream",
     "text": [
      "20 Mar 10:17    INFO  \n",
      "General Hyper Parameters:\n",
      "gpu_id = 0\n",
      "use_gpu = True\n",
      "seed = 2020\n",
      "state = INFO\n",
      "reproducibility = True\n",
      "data_path = ./data/rb_lfm\n",
      "checkpoint_dir = saved\n",
      "show_progress = True\n",
      "save_dataset = False\n",
      "dataset_save_path = None\n",
      "save_dataloaders = False\n",
      "dataloaders_save_path = None\n",
      "log_wandb = False\n",
      "\n",
      "Training Hyper Parameters:\n",
      "epochs = 40\n",
      "train_batch_size = 1024\n",
      "learner = adam\n",
      "learning_rate = 0.001\n",
      "train_neg_sample_args = {'distribution': 'uniform', 'sample_num': 1, 'alpha': 1.0, 'dynamic': False, 'candidate_num': 0}\n",
      "eval_step = 1\n",
      "stopping_step = 10\n",
      "clip_grad_norm = None\n",
      "weight_decay = 0.0\n",
      "loss_decimal_place = 4\n",
      "\n",
      "Evaluation Hyper Parameters:\n",
      "eval_args = {'split': {'RS': [8, 1, 1]}, 'group_by': 'user', 'order': 'TO', 'mode': 'full'}\n",
      "repeatable = False\n",
      "metrics = ['NDCG', 'Hit', 'Precision']\n",
      "topk = [10]\n",
      "valid_metric = NDCG@10\n",
      "valid_metric_bigger = True\n",
      "eval_batch_size = 1024\n",
      "metric_decimal_place = 4\n",
      "\n",
      "Dataset Hyper Parameters:\n",
      "field_separator = \t\n",
      "seq_separator =  \n",
      "USER_ID_FIELD = user_id\n",
      "ITEM_ID_FIELD = item_id\n",
      "RATING_FIELD = rating\n",
      "TIME_FIELD = timestamp\n",
      "seq_len = None\n",
      "LABEL_FIELD = label\n",
      "threshold = None\n",
      "NEG_PREFIX = neg_\n",
      "load_col = {'inter': ['user_id', 'item_id', 'album', 'timestamp'], 'kg': ['head_id', 'relation_id', 'tail_id'], 'link': ['item_id', 'entity_id']}\n",
      "unload_col = None\n",
      "unused_col = None\n",
      "additional_feat_suffix = None\n",
      "rm_dup_inter = None\n",
      "val_interval = None\n",
      "filter_inter_by_user_or_item = True\n",
      "user_inter_num_interval = [0,inf)\n",
      "item_inter_num_interval = [0,inf)\n",
      "alias_of_user_id = None\n",
      "alias_of_item_id = None\n",
      "alias_of_entity_id = None\n",
      "alias_of_relation_id = None\n",
      "preload_weight = None\n",
      "normalize_field = None\n",
      "normalize_all = None\n",
      "ITEM_LIST_LENGTH_FIELD = item_length\n",
      "LIST_SUFFIX = _list\n",
      "MAX_ITEM_LIST_LENGTH = 50\n",
      "POSITION_FIELD = position_id\n",
      "HEAD_ENTITY_ID_FIELD = head_id\n",
      "TAIL_ENTITY_ID_FIELD = tail_id\n",
      "RELATION_ID_FIELD = relation_id\n",
      "ENTITY_ID_FIELD = entity_id\n",
      "benchmark_filename = None\n",
      "\n",
      "Other Hyper Parameters: \n",
      "worker = 8\n",
      "wandb_project = recbole\n",
      "shuffle = True\n",
      "require_pow = False\n",
      "enable_amp = False\n",
      "enable_scaler = False\n",
      "transform = None\n",
      "embedding_size = 32\n",
      "kg_embedding_size = 32\n",
      "layers = [64, 32, 16]\n",
      "mess_dropout = 0.1\n",
      "reg_weight = 1e-05\n",
      "aggregator_type = bi\n",
      "numerical_features = []\n",
      "discretization = None\n",
      "kg_reverse_r = True\n",
      "entity_kg_num_interval = [0,inf)\n",
      "relation_kg_num_interval = [0,inf)\n",
      "MODEL_TYPE = ModelType.KNOWLEDGE\n",
      "device = cuda\n",
      "MODEL_INPUT_TYPE = InputType.PAIRWISE\n",
      "eval_type = EvaluatorType.RANKING\n",
      "single_spec = True\n",
      "local_rank = 0\n",
      "eval_neg_sample_args = {'distribution': 'uniform', 'sample_num': 'none'}\n",
      "\n",
      "\n",
      "20 Mar 10:18    INFO  rb_lfm\n",
      "The number of users: 9708\n",
      "Average actions of users: 326.13433604615227\n",
      "The number of items: 158641\n",
      "Average actions of items: 19.955786686838124\n",
      "The number of inters: 3165786\n",
      "The sparsity of the dataset: 99.79444107030568%\n",
      "Remain Fields: ['entity_id', 'user_id', 'item_id', 'timestamp', 'head_id', 'relation_id', 'tail_id']\n",
      "The number of entities: 260190\n",
      "The number of relations: 14\n",
      "The number of triples: 2536062\n",
      "The number of items that have been linked to KG: 158640\n",
      "20 Mar 10:18    INFO  [Training]: train_batch_size = [1024] train_neg_sample_args: [{'distribution': 'uniform', 'sample_num': 1, 'alpha': 1.0, 'dynamic': False, 'candidate_num': 0}]\n",
      "20 Mar 10:18    INFO  [Evaluation]: eval_batch_size = [1024] eval_args: [{'split': {'RS': [8, 1, 1]}, 'group_by': 'user', 'order': 'TO', 'mode': 'full'}]\n"
     ]
    }
   ],
   "source": [
    "\n",
    "# configurations initialization\n",
    "config = Config(model='KGAT', dataset='rb_lfm', config_file_list=['lfm.yaml'])\n",
    "\n",
    "# init random seed\n",
    "init_seed(config['seed'], config['reproducibility'])\n",
    "\n",
    "# logger initialization\n",
    "init_logger(config)\n",
    "logger = getLogger()\n",
    "\n",
    "# write config info into log\n",
    "logger.info(config)\n",
    "\n",
    "# dataset creating and filtering\n",
    "dataset = create_dataset(config)\n",
    "logger.info(dataset)\n",
    "\n",
    "# dataset splitting\n",
    "train_data, valid_data, test_data = data_preparation(config, dataset)\n"
   ]
  },
  {
   "cell_type": "markdown",
   "id": "0dd4fa2f-7b05-479b-a673-1bdc419848fe",
   "metadata": {
    "tags": []
   },
   "source": [
    "### Train model and evaluate"
   ]
  },
  {
   "cell_type": "code",
   "execution_count": 3,
   "id": "f8535eaf-7ad9-4ad4-bd6d-ef8b609aa585",
   "metadata": {
    "scrolled": true,
    "tags": []
   },
   "outputs": [],
   "source": [
    "if train_model:\n",
    "    # model loading and initialization\n",
    "    model = KGAT(config, train_data._dataset).to(config['device'])\n",
    "    logger.info(model)\n",
    "\n",
    "    # trainer loading and initialization\n",
    "    trainer = KGATTrainer(config, model)\n",
    "\n",
    "    print('Starting to fit model')\n",
    "    # model training\n",
    "    best_valid_score, best_valid_result = trainer.fit(train_data, valid_data, saved=True, show_progress=True)\n",
    "\n",
    "    print('Evaluating model')\n",
    "    # model evaluation\n",
    "    test_result = trainer.evaluate(test_data, load_best_model=True)\n",
    "    print(test_result)"
   ]
  },
  {
   "cell_type": "markdown",
   "id": "8f8b3c10-b124-47fb-b3b6-ae902bcf0383",
   "metadata": {},
   "source": [
    "# Load best model"
   ]
  },
  {
   "cell_type": "code",
   "execution_count": 4,
   "id": "0869e8b4-0502-4e8e-a1e8-526c022c1154",
   "metadata": {},
   "outputs": [],
   "source": [
    "import os\n",
    "import torch"
   ]
  },
  {
   "cell_type": "code",
   "execution_count": 5,
   "id": "61d23514-39b2-47a4-9e2a-2dc6c212feb9",
   "metadata": {},
   "outputs": [],
   "source": [
    "latest_model = 'saved/%s' % os.listdir('saved')[-2]"
   ]
  },
  {
   "cell_type": "code",
   "execution_count": 6,
   "id": "93c1e1ef-9159-417c-84b2-c145555a99f5",
   "metadata": {},
   "outputs": [
    {
     "data": {
      "text/plain": [
       "'saved/model_TO.pth'"
      ]
     },
     "execution_count": 6,
     "metadata": {},
     "output_type": "execute_result"
    }
   ],
   "source": [
    "latest_model"
   ]
  },
  {
   "cell_type": "code",
   "execution_count": 7,
   "id": "bc1e8555-aad8-4b36-9ea0-ad2d399cfe80",
   "metadata": {},
   "outputs": [
    {
     "name": "stderr",
     "output_type": "stream",
     "text": [
      "/home/jfallmann/miniconda3/envs/pr/lib/python3.9/site-packages/dgl/subgraph.py:288: DGLWarning: Key word argument preserve_nodes is deprecated. Use relabel_nodes instead.\n",
      "  dgl_warning(\n",
      "/home/jfallmann/miniconda3/envs/pr/lib/python3.9/site-packages/recbole/model/knowledge_aware_recommender/kgat.py:159: RuntimeWarning: divide by zero encountered in power\n",
      "  d_inv = np.power(rowsum, -1).flatten()\n",
      "/home/jfallmann/miniconda3/envs/pr/lib/python3.9/site-packages/recbole/model/knowledge_aware_recommender/kgat.py:166: UserWarning: Creating a tensor from a list of numpy.ndarrays is extremely slow. Please consider converting the list to a single numpy.ndarray with numpy.array() before converting to a tensor. (Triggered internally at /opt/conda/conda-bld/pytorch_1670525551200/work/torch/csrc/utils/tensor_new.cpp:230.)\n",
      "  indices = torch.LongTensor([final_adj_matrix.row, final_adj_matrix.col])\n"
     ]
    },
    {
     "data": {
      "text/plain": [
       "<All keys matched successfully>"
      ]
     },
     "execution_count": 7,
     "metadata": {},
     "output_type": "execute_result"
    }
   ],
   "source": [
    "state_dict = torch.load(latest_model, map_location='cuda')\n",
    "model = KGAT(config, train_data._dataset).to(config['device'])\n",
    "\n",
    "model.load_state_dict(state_dict['state_dict'])"
   ]
  },
  {
   "cell_type": "code",
   "execution_count": 8,
   "id": "aa4f71cf-edb8-496c-b783-3d2eb4a0494a",
   "metadata": {},
   "outputs": [
    {
     "name": "stdout",
     "output_type": "stream",
     "text": [
      "OrderedDict([('ndcg@10', 0.0221), ('hit@10', 0.1449), ('precision@10', 0.0198)])\n"
     ]
    }
   ],
   "source": [
    "trainer = KGATTrainer(config, model)\n",
    "test_result = trainer.evaluate(test_data, load_best_model=False)\n",
    "print(test_result)"
   ]
  },
  {
   "cell_type": "code",
   "execution_count": 142,
   "id": "d7eea31d-e9e5-4633-bd9e-31e9a5b22bdd",
   "metadata": {},
   "outputs": [],
   "source": [
    "from recbole.utils import (\n",
    "    ensure_dir,\n",
    "    get_local_time,\n",
    "    early_stopping,\n",
    "    calculate_valid_score,\n",
    "    dict2str,\n",
    "    EvaluatorType,\n",
    "    KGDataLoaderState,\n",
    "    get_tensorboard,\n",
    "    set_color,\n",
    "    get_gpu_usage,\n",
    "    WandbLogger,\n",
    ")\n",
    "from recbole.evaluator import Evaluator, Collector\n",
    "from recbole.data.dataloader import FullSortEvalDataLoader\n",
    "\n",
    "eval_collector = Collector(config)\n",
    "evaluator = Evaluator(config)\n",
    "wandblogger = WandbLogger(config)\n",
    "\n",
    "def _map_reduce(result, num_sample):\n",
    "        gather_result = {}\n",
    "        total_sample = [\n",
    "            torch.zeros(1).to(config['device']) for _ in range(config[\"world_size\"])\n",
    "        ]\n",
    "        torch.distributed.all_gather(\n",
    "            total_sample, torch.Tensor([num_sample]).to(config['device'])\n",
    "        )\n",
    "        total_sample = torch.cat(total_sample, 0)\n",
    "        total_sample = torch.sum(total_sample).item()\n",
    "        for key, value in result.items():\n",
    "            result[key] = torch.Tensor([value * num_sample]).to(config['device'])\n",
    "            gather_result[key] = [\n",
    "                torch.zeros_like(result[key]).to(config['device'])\n",
    "                for _ in range(config[\"world_size\"])\n",
    "            ]\n",
    "            torch.distributed.all_gather(gather_result[key], result[key])\n",
    "            gather_result[key] = torch.cat(gather_result[key], dim=0)\n",
    "            gather_result[key] = round(\n",
    "                torch.sum(gather_result[key]).item() / total_sample,\n",
    "                config[\"metric_decimal_place\"],\n",
    "            )\n",
    "        return gather_result\n",
    "\n",
    "def _full_sort_batch_eval(batched_data, item_num):\n",
    "    interaction, history_index, positive_u, positive_i = batched_data\n",
    "    scores = model.full_sort_predict(interaction.to(config['device']))\n",
    "    scores = scores.view(-1, item_num)\n",
    "    scores[:, 0] = -np.inf\n",
    "    if history_index is not None:\n",
    "        scores[history_index] = -np.inf\n",
    "    return interaction, scores, positive_u, positive_i\n",
    "    \n",
    "@torch.no_grad()\n",
    "def evaluate(eval_data, filterList, show_progress=False):\n",
    "    if not eval_data:\n",
    "        return\n",
    "    model.eval()\n",
    "    item_tensor = None\n",
    "    if isinstance(eval_data, FullSortEvalDataLoader):\n",
    "        eval_func = _full_sort_batch_eval\n",
    "        if item_tensor is None:\n",
    "            item_tensor = eval_data._dataset.get_item_feature().to(config['device'])\n",
    "    if config[\"eval_type\"] == EvaluatorType.RANKING:\n",
    "        tot_item_num = eval_data._dataset.item_num\n",
    "\n",
    "    iter_data = (\n",
    "        tqdm(\n",
    "            eval_data,\n",
    "            total=len(eval_data),\n",
    "            ncols=100,\n",
    "            desc=set_color(f\"Evaluate   \", \"pink\"),\n",
    "        )\n",
    "        if show_progress\n",
    "        else eval_data\n",
    "    )\n",
    "\n",
    "    num_sample = 0\n",
    "    gpu_available = torch.cuda.is_available() and config[\"use_gpu\"]\n",
    "    for batch_idx, batched_data in enumerate(iter_data):\n",
    "        interaction, scores, positive_u, positive_i = eval_func(batched_data, eval_data._dataset.item_num)\n",
    "        user_id = interaction['user_id'].cpu().numpy().item()\n",
    "        if user_id not in filterList:\n",
    "            continue\n",
    "        num_sample += len(batched_data)\n",
    "                                     \n",
    "        if gpu_available and show_progress:\n",
    "            iter_data.set_postfix_str(\n",
    "                set_color(\"GPU RAM: \" + get_gpu_usage(config['device']), \"yellow\")\n",
    "            )\n",
    "        eval_collector.eval_batch_collect(\n",
    "            scores, interaction, positive_u, positive_i\n",
    "        )\n",
    "    eval_collector.model_collect(model)\n",
    "    struct = eval_collector.get_data_struct()\n",
    "    result = evaluator.evaluate(struct)\n",
    "    if not config[\"single_spec\"]:\n",
    "        result = _map_reduce(result, num_sample)\n",
    "    wandblogger.log_eval_metrics(result, head=\"eval\")\n",
    "    return result"
   ]
  },
  {
   "cell_type": "code",
   "execution_count": 143,
   "id": "0b2776dc-cab7-43f3-b54a-2f1526822b09",
   "metadata": {},
   "outputs": [
    {
     "data": {
      "text/plain": [
       "OrderedDict([('ndcg@10', 0.0219), ('hit@10', 0.1453), ('precision@10', 0.02)])"
      ]
     },
     "execution_count": 143,
     "metadata": {},
     "output_type": "execute_result"
    }
   ],
   "source": [
    "evaluate(test_data, male_internal_user_ids)"
   ]
  },
  {
   "cell_type": "code",
   "execution_count": 144,
   "id": "4f196c93-ccc0-4f8e-bfec-d682627d996b",
   "metadata": {},
   "outputs": [
    {
     "data": {
      "text/plain": [
       "OrderedDict([('ndcg@10', 0.0228), ('hit@10', 0.1431), ('precision@10', 0.019)])"
      ]
     },
     "execution_count": 144,
     "metadata": {},
     "output_type": "execute_result"
    }
   ],
   "source": [
    "evaluate(test_data, female_internal_user_ids)"
   ]
  },
  {
   "cell_type": "markdown",
   "id": "8d53e096-c694-4305-9f54-7c317f4a6afa",
   "metadata": {},
   "source": [
    "# Prepare for model evaluation"
   ]
  },
  {
   "cell_type": "markdown",
   "id": "31eeb586-68ba-41f5-9ed0-74029e8c92ff",
   "metadata": {},
   "source": [
    "## Create graph from attention matrix"
   ]
  },
  {
   "cell_type": "code",
   "execution_count": 9,
   "id": "f6c5498c-4bff-42d2-8caf-5113456bdadc",
   "metadata": {},
   "outputs": [],
   "source": [
    "import os\n",
    "import torch\n",
    "from scipy.sparse import coo_matrix\n",
    "from scipy.sparse.csgraph import shortest_path\n",
    "import numpy as np\n",
    "from tqdm.notebook import tqdm\n",
    "import matplotlib.pyplot as plt\n",
    "from recbole.data.interaction import Interaction\n"
   ]
  },
  {
   "cell_type": "code",
   "execution_count": 10,
   "id": "bee384cf-e538-4774-88ca-b5727b2d4c07",
   "metadata": {},
   "outputs": [],
   "source": [
    "def get_path(Pr, j):\n",
    "    path = [j]\n",
    "    k = j\n",
    "    while Pr[k] != -9999:\n",
    "        path.append(Pr[k])\n",
    "        k = Pr[k]\n",
    "    return path[::-1]"
   ]
  },
  {
   "cell_type": "code",
   "execution_count": 11,
   "id": "cad73d03-0be7-4690-ba67-b76922b5b570",
   "metadata": {},
   "outputs": [],
   "source": [
    "from enum import Enum\n",
    "class DistanceMode(Enum):\n",
    "    Inverse=1\n",
    "    RBF=2\n",
    "    Linear=3"
   ]
  },
  {
   "cell_type": "code",
   "execution_count": 12,
   "id": "64f1746c-03e1-494c-937c-9f7b2b07ea6d",
   "metadata": {},
   "outputs": [],
   "source": [
    "attention_matrix = model.A_in.cpu().coalesce()\n",
    "attention_matrix_size = attention_matrix.size()[0] # since it is square"
   ]
  },
  {
   "cell_type": "code",
   "execution_count": 13,
   "id": "e0022277-6c6f-4ebc-9db9-9058b6e6dafa",
   "metadata": {},
   "outputs": [],
   "source": [
    "def create_scipy_matrix(distance_mode: str, size: int):\n",
    "    attention_values = attention_matrix.values().numpy()\n",
    "    if distance_mode == DistanceMode.Inverse:\n",
    "        attention_values = 1/attention_values\n",
    "    if distance_mode == DistanceMode.RBF:\n",
    "        attention_values = np.exp(-attention_values**2)\n",
    "    if distance_mode == DistanceMode.Linear:\n",
    "        attention_values = 1-attention_values\n",
    "    return coo_matrix((attention_values, (attention_matrix.indices()[0].numpy(), attention_matrix.indices()[1].numpy())), shape=(size,size))"
   ]
  },
  {
   "cell_type": "code",
   "execution_count": 14,
   "id": "d1c381e6-84ce-48ad-8b78-6b5903df04a9",
   "metadata": {},
   "outputs": [],
   "source": [
    "graph_matrix = create_scipy_matrix(DistanceMode.RBF, attention_matrix_size)"
   ]
  },
  {
   "cell_type": "markdown",
   "id": "feb7404e-690b-472e-915a-4cba5dd4c0a9",
   "metadata": {},
   "source": [
    "## Create shortest path for k top predictions"
   ]
  },
  {
   "cell_type": "markdown",
   "id": "95c84779-624a-4633-9c97-a817a68feba5",
   "metadata": {},
   "source": [
    "<b> Important note:</b> Id's in the attention matrix are shiftet by the number of users `dataset.user_num`. So fetching an id using the token i.e. token2id results in an id not yet shifted. So to get the corresponding attention-matrix-id we need to shift items and entities!"
   ]
  },
  {
   "cell_type": "code",
   "execution_count": 15,
   "id": "201ef164-6b3f-4fb2-b342-3ec5109eb2d3",
   "metadata": {},
   "outputs": [],
   "source": [
    "user_paths = {}\n",
    "if create_paths:\n",
    "    for batch_idx, batched_data in enumerate(tqdm(test_data)):\n",
    "        interaction, history_index, positive_u, positive_i = batched_data\n",
    "        user_id = interaction['user_id'].cpu().numpy().item()\n",
    "\n",
    "        predictions = model.full_sort_predict(interaction).detach().cpu().numpy()\n",
    "        recommended_items = np.argsort(predictions)\n",
    "        recommended_items = recommended_items[np.isin(recommended_items, positive_i + dataset.user_num)]\n",
    "\n",
    "        # now calculate shortest distances for current user\n",
    "        shortest_distances, predecessors = shortest_path(graph_matrix, directed=True,  return_predecessors = True, indices=[user_id])\n",
    "\n",
    "        # calculate the paths for the top k recommended items\n",
    "        paths = []\n",
    "        for item_idx in recommended_items:\n",
    "            path = get_path(predecessors[0], item_idx)\n",
    "            paths.append(np.asarray(path, dtype=int))\n",
    "        user_paths[user_id] = paths"
   ]
  },
  {
   "cell_type": "code",
   "execution_count": 16,
   "id": "16d48888-0f38-44b6-ae68-7c96f3c3a3f4",
   "metadata": {},
   "outputs": [
    {
     "name": "stdout",
     "output_type": "stream",
     "text": [
      "Object successfully loaded from \"paths.pkl\"\n"
     ]
    }
   ],
   "source": [
    "import pickle\n",
    "file_name = 'paths.pkl'\n",
    "if create_paths:\n",
    "    with open(file_name, 'wb') as file:\n",
    "        pickle.dump(user_paths, file)\n",
    "        print(f'Object successfully saved to \"{file_name}\"')\n",
    "else:\n",
    "    with open(file_name, 'rb') as file:\n",
    "        user_paths = pickle.load(file)\n",
    "        print(f'Object successfully loaded from \"{file_name}\"')"
   ]
  },
  {
   "cell_type": "code",
   "execution_count": 17,
   "id": "0e06f54b-5e9a-4590-9866-ba996dd98b96",
   "metadata": {},
   "outputs": [],
   "source": [
    "gender_ids = dataset.token2id('entity_id', ['m', 'f'])"
   ]
  },
  {
   "cell_type": "code",
   "execution_count": 18,
   "id": "5ac27e92-1090-40f5-bcbb-54d95c4b2b46",
   "metadata": {},
   "outputs": [
    {
     "data": {
      "text/plain": [
       "array([[0., 0., 0., ..., 0., 0., 0.]], dtype=float32)"
      ]
     },
     "execution_count": 18,
     "metadata": {},
     "output_type": "execute_result"
    }
   ],
   "source": [
    "male_attention_row = np.asarray(graph_matrix.getrow(dataset.user_num + gender_ids[0]).todense())\n",
    "male_attention_row"
   ]
  },
  {
   "cell_type": "code",
   "execution_count": 19,
   "id": "e2bb2e58-5aae-4b66-9524-7d6914ba5cdb",
   "metadata": {},
   "outputs": [
    {
     "data": {
      "text/plain": [
       "(array([], dtype=int64), array([], dtype=int64))"
      ]
     },
     "execution_count": 19,
     "metadata": {},
     "output_type": "execute_result"
    }
   ],
   "source": [
    "np.nonzero(male_attention_row)"
   ]
  },
  {
   "cell_type": "code",
   "execution_count": 20,
   "id": "a6a10df7-5882-48e3-8eeb-0ddd33a918b3",
   "metadata": {},
   "outputs": [
    {
     "data": {
      "text/plain": [
       "array([[0.],\n",
       "       [0.],\n",
       "       [0.],\n",
       "       ...,\n",
       "       [0.],\n",
       "       [0.],\n",
       "       [0.]], dtype=float32)"
      ]
     },
     "execution_count": 20,
     "metadata": {},
     "output_type": "execute_result"
    }
   ],
   "source": [
    "male_attention_col = np.asarray(graph_matrix.getcol(dataset.user_num + gender_ids[0]).todense())\n",
    "male_attention_col"
   ]
  },
  {
   "cell_type": "code",
   "execution_count": 21,
   "id": "5b3d5c55-b62f-49f1-93f3-62969bdae476",
   "metadata": {},
   "outputs": [
    {
     "data": {
      "text/plain": [
       "(array([168349, 168350, 168351, ..., 178066, 178068, 178069]),\n",
       " array([0, 0, 0, ..., 0, 0, 0]))"
      ]
     },
     "execution_count": 21,
     "metadata": {},
     "output_type": "execute_result"
    }
   ],
   "source": [
    "np.nonzero(male_attention_col)"
   ]
  },
  {
   "cell_type": "code",
   "execution_count": 22,
   "id": "6271824b",
   "metadata": {},
   "outputs": [
    {
     "data": {
      "text/plain": [
       "(array([2.00000e+00, 0.00000e+00, 0.00000e+00, 0.00000e+00, 0.00000e+00,\n",
       "        0.00000e+00, 2.92367e+05, 0.00000e+00, 0.00000e+00, 6.71000e+02]),\n",
       " array([1. , 1.5, 2. , 2.5, 3. , 3.5, 4. , 4.5, 5. , 5.5, 6. ]),\n",
       " <BarContainer object of 10 artists>)"
      ]
     },
     "execution_count": 22,
     "metadata": {},
     "output_type": "execute_result"
    },
    {
     "data": {
      "image/png": "[encoded data removed]",
      "text/plain": [
       "<Figure size 640x480 with 1 Axes>"
      ]
     },
     "metadata": {},
     "output_type": "display_data"
    }
   ],
   "source": [
    "flat_list = [item for sublist in list(user_paths.values()) for item in sublist]\n",
    "flat_lengths = [len(item) for item in flat_list]\n",
    "plt.hist(flat_lengths)"
   ]
  },
  {
   "cell_type": "markdown",
   "id": "3eceb3a6-f695-440f-b14b-7be4a08cf3ed",
   "metadata": {},
   "source": [
    "# Evaluation"
   ]
  },
  {
   "cell_type": "code",
   "execution_count": 70,
   "id": "92f5945f-525e-452d-b3cc-be68d7c805dd",
   "metadata": {},
   "outputs": [],
   "source": [
    "import seaborn as sns\n",
    "import pandas as pd\n",
    "import matplotlib.pyplot as plt\n",
    "\n",
    "sns.set_style('darkgrid') # darkgrid, white grid, dark, white and ticksplt.rc('axes', titlesize=18)     # fontsize of the axes title\n",
    "plt.rc('axes', labelsize=14)    # fontsize of the x and y labels\n",
    "plt.rc('xtick', labelsize=13)    # fontsize of the tick labels\n",
    "plt.rc('ytick', labelsize=13)    # fontsize of the tick labels\n",
    "plt.rc('legend', fontsize=13)    # legend fontsize\n",
    "plt.rc('font', size=13)          # controls default text sizes"
   ]
  },
  {
   "cell_type": "markdown",
   "id": "af0da57b-5e81-47ee-aacf-6af12afb7a76",
   "metadata": {
    "tags": []
   },
   "source": [
    "## Load all users and divide into male and female"
   ]
  },
  {
   "cell_type": "code",
   "execution_count": 71,
   "id": "145855bf-4e9f-461b-a338-e285baeaab22",
   "metadata": {},
   "outputs": [],
   "source": [
    "user_df = pd.read_csv('data/lfm/75percent_subset_users.tsv', sep='\\t')"
   ]
  },
  {
   "cell_type": "code",
   "execution_count": 72,
   "id": "c5a9ad35-7dce-481c-aa96-3c35a2d33d10",
   "metadata": {},
   "outputs": [],
   "source": [
    "user_ids = list(user_paths.keys())"
   ]
  },
  {
   "cell_type": "code",
   "execution_count": 73,
   "id": "8c1c6b2a-f388-408c-81f9-1060b77a7bf6",
   "metadata": {},
   "outputs": [],
   "source": [
    "external_user_ids = [int(item) for item in dataset.id2token(dataset.uid_field, user_ids)]"
   ]
  },
  {
   "cell_type": "code",
   "execution_count": 74,
   "id": "e55aab81-8fc5-4639-8b3c-39fa16f14e9d",
   "metadata": {},
   "outputs": [],
   "source": [
    "# remove users that recbole removed in the dataset creation process\n",
    "user_df = user_df[user_df.user_id.isin(external_user_ids)]"
   ]
  },
  {
   "cell_type": "code",
   "execution_count": 75,
   "id": "729082cd-d6e3-49f6-b75e-c57d38166b97",
   "metadata": {},
   "outputs": [],
   "source": [
    "male_users = user_df[user_df.gender == 'm']\n",
    "female_users = user_df[user_df.gender =='f']"
   ]
  },
  {
   "cell_type": "code",
   "execution_count": 76,
   "id": "38c1c1d8-c7dd-4b21-b182-9327bb17bfbd",
   "metadata": {},
   "outputs": [
    {
     "name": "stdout",
     "output_type": "stream",
     "text": [
      "Male users: 7857, 0.8115897118066315(%)\n",
      "Male users: 1824, 0.18841028819336844(%)\n"
     ]
    }
   ],
   "source": [
    "print('Male users: %s, %s(%%)' % (len(male_users), len(male_users)/(len(male_users)+len(female_users))))\n",
    "print('Male users: %s, %s(%%)' % (len(female_users), len(female_users)/(len(male_users)+len(female_users))))"
   ]
  },
  {
   "cell_type": "code",
   "execution_count": 127,
   "id": "c3ab8249-9e39-4bdc-8362-3749355602af",
   "metadata": {},
   "outputs": [
    {
     "data": {
      "text/plain": [
       "<AxesSubplot: >"
      ]
     },
     "execution_count": 127,
     "metadata": {},
     "output_type": "execute_result"
    },
    {
     "data": {
      "image/png": "[encoded data removed]",
      "text/plain": [
       "<Figure size 640x480 with 1 Axes>"
      ]
     },
     "metadata": {},
     "output_type": "display_data"
    }
   ],
   "source": [
    "colors =['#3899C7', '#C76638']# Set your custom color palette\n",
    "customPalette = sns.set_palette(sns.color_palette(colors))\n",
    "sns.barplot(x=['male user count', 'female user count'], y=[len(male_users), len(female_users)], palette=customPalette)"
   ]
  },
  {
   "cell_type": "code",
   "execution_count": 78,
   "id": "a15d640f-db10-46b0-9ba3-3f015e8f080b",
   "metadata": {},
   "outputs": [],
   "source": [
    "male_internal_user_ids = dataset.token2id(dataset.uid_field, [str(item) for item in male_users.user_id.to_numpy()])\n",
    "female_internal_user_ids = dataset.token2id(dataset.uid_field, [str(item) for item in female_users.user_id.to_numpy()])"
   ]
  },
  {
   "cell_type": "code",
   "execution_count": 79,
   "id": "a1df0364-a0ae-4f79-bec8-379f91b32e58",
   "metadata": {},
   "outputs": [],
   "source": [
    "def internal_id_to_gender(idx: int):\n",
    "    return 'm' if idx in male_internal_user_ids else 'f'"
   ]
  },
  {
   "cell_type": "code",
   "execution_count": 80,
   "id": "06571427-b5c9-4787-8db9-23ccb338f5bc",
   "metadata": {},
   "outputs": [],
   "source": [
    "def is_male(idx:int):\n",
    "    return idx in male_internal_user_ids"
   ]
  },
  {
   "cell_type": "markdown",
   "id": "a9dfa3f8-8f3d-4300-a904-d7e22f7f0f2e",
   "metadata": {},
   "source": [
    "### Calculate average path length on per user basis"
   ]
  },
  {
   "cell_type": "code",
   "execution_count": 81,
   "id": "843aecb0-e572-437a-93b9-a1fb0edbe4a4",
   "metadata": {},
   "outputs": [
    {
     "name": "stderr",
     "output_type": "stream",
     "text": [
      "/home/jfallmann/miniconda3/envs/pr/lib/python3.9/site-packages/numpy/core/fromnumeric.py:3432: RuntimeWarning: Mean of empty slice.\n",
      "  return _methods._mean(a, axis=axis, dtype=dtype,\n",
      "/home/jfallmann/miniconda3/envs/pr/lib/python3.9/site-packages/numpy/core/_methods.py:190: RuntimeWarning: invalid value encountered in double_scalars\n",
      "  ret = ret.dtype.type(ret / rcount)\n"
     ]
    }
   ],
   "source": [
    "user_average_path_lengths = {}\n",
    "for key in user_paths.keys():\n",
    "    paths_for_user = user_paths[key]\n",
    "    average_path_length = np.mean([len(path) for path in paths_for_user])\n",
    "    user_average_path_lengths[key] = average_path_length"
   ]
  },
  {
   "cell_type": "code",
   "execution_count": 82,
   "id": "6a03a623-536e-421b-a1e8-0fc63f23116a",
   "metadata": {},
   "outputs": [
    {
     "data": {
      "text/html": [
       "<div>\n",
       "<style scoped>\n",
       "    .dataframe tbody tr th:only-of-type {\n",
       "        vertical-align: middle;\n",
       "    }\n",
       "\n",
       "    .dataframe tbody tr th {\n",
       "        vertical-align: top;\n",
       "    }\n",
       "\n",
       "    .dataframe thead th {\n",
       "        text-align: right;\n",
       "    }\n",
       "</style>\n",
       "<table border=\"1\" class=\"dataframe\">\n",
       "  <thead>\n",
       "    <tr style=\"text-align: right;\">\n",
       "      <th></th>\n",
       "      <th>gender</th>\n",
       "      <th>average path length</th>\n",
       "      <th>male/female</th>\n",
       "    </tr>\n",
       "  </thead>\n",
       "  <tbody>\n",
       "    <tr>\n",
       "      <th>0</th>\n",
       "      <td>m</td>\n",
       "      <td>4.0</td>\n",
       "      <td>_</td>\n",
       "    </tr>\n",
       "    <tr>\n",
       "      <th>1</th>\n",
       "      <td>f</td>\n",
       "      <td>4.0</td>\n",
       "      <td>_</td>\n",
       "    </tr>\n",
       "    <tr>\n",
       "      <th>2</th>\n",
       "      <td>m</td>\n",
       "      <td>4.0</td>\n",
       "      <td>_</td>\n",
       "    </tr>\n",
       "    <tr>\n",
       "      <th>3</th>\n",
       "      <td>m</td>\n",
       "      <td>4.0</td>\n",
       "      <td>_</td>\n",
       "    </tr>\n",
       "    <tr>\n",
       "      <th>4</th>\n",
       "      <td>m</td>\n",
       "      <td>4.0</td>\n",
       "      <td>_</td>\n",
       "    </tr>\n",
       "    <tr>\n",
       "      <th>...</th>\n",
       "      <td>...</td>\n",
       "      <td>...</td>\n",
       "      <td>...</td>\n",
       "    </tr>\n",
       "    <tr>\n",
       "      <th>9676</th>\n",
       "      <td>f</td>\n",
       "      <td>6.0</td>\n",
       "      <td>_</td>\n",
       "    </tr>\n",
       "    <tr>\n",
       "      <th>9677</th>\n",
       "      <td>f</td>\n",
       "      <td>4.0</td>\n",
       "      <td>_</td>\n",
       "    </tr>\n",
       "    <tr>\n",
       "      <th>9678</th>\n",
       "      <td>m</td>\n",
       "      <td>4.0</td>\n",
       "      <td>_</td>\n",
       "    </tr>\n",
       "    <tr>\n",
       "      <th>9679</th>\n",
       "      <td>m</td>\n",
       "      <td>4.0</td>\n",
       "      <td>_</td>\n",
       "    </tr>\n",
       "    <tr>\n",
       "      <th>9680</th>\n",
       "      <td>m</td>\n",
       "      <td>4.0</td>\n",
       "      <td>_</td>\n",
       "    </tr>\n",
       "  </tbody>\n",
       "</table>\n",
       "<p>9681 rows × 3 columns</p>\n",
       "</div>"
      ],
      "text/plain": [
       "     gender  average path length male/female\n",
       "0         m                  4.0           _\n",
       "1         f                  4.0           _\n",
       "2         m                  4.0           _\n",
       "3         m                  4.0           _\n",
       "4         m                  4.0           _\n",
       "...     ...                  ...         ...\n",
       "9676      f                  6.0           _\n",
       "9677      f                  4.0           _\n",
       "9678      m                  4.0           _\n",
       "9679      m                  4.0           _\n",
       "9680      m                  4.0           _\n",
       "\n",
       "[9681 rows x 3 columns]"
      ]
     },
     "execution_count": 82,
     "metadata": {},
     "output_type": "execute_result"
    }
   ],
   "source": [
    "length_distribution_dataframe = pd.DataFrame({'gender': [internal_id_to_gender(idx) for idx in user_paths.keys()], 'average path length': list(user_average_path_lengths.values()), 'male/female': ['_' for _ in user_paths.keys()]})\n",
    "length_distribution_dataframe"
   ]
  },
  {
   "cell_type": "code",
   "execution_count": 128,
   "id": "ecbba77f-3420-4465-abea-d0d6b3071c4a",
   "metadata": {},
   "outputs": [
    {
     "data": {
      "text/plain": [
       "Text(0.5, 0, 'Path length')"
      ]
     },
     "execution_count": 128,
     "metadata": {},
     "output_type": "execute_result"
    },
    {
     "data": {
      "image/png": "[encoded data removed]",
      "text/plain": [
       "<Figure size 1500x700 with 2 Axes>"
      ]
     },
     "metadata": {},
     "output_type": "display_data"
    }
   ],
   "source": [
    "f, (ax1, ax2) = plt.subplots(1,2, figsize=(15,7))\n",
    "\n",
    "sns.histplot(data=length_distribution_dataframe[length_distribution_dataframe.gender == 'm'], ax=ax1, stat=\"proportion\",\n",
    "             x=\"average path length\", kde=False,\n",
    "             color=\"#3899C7\",\n",
    "             element=\"bars\", legend=True, binwidth=.2)\n",
    "ax1.set_title(\"Explanation path length distribution for males\")\n",
    "ax1.set_xlabel(\"Path length\")\n",
    "\n",
    "sns.histplot(data=length_distribution_dataframe[length_distribution_dataframe.gender == 'f'], ax=ax2, stat=\"proportion\",\n",
    "             x=\"average path length\", kde=False,\n",
    "             color='#C76638',\n",
    "             element=\"bars\", legend=True, binwidth=.2)\n",
    "ax2.set_title(\"Explanation path length distribution for females\")\n",
    "ax2.set_xlabel(\"Path length\")"
   ]
  },
  {
   "cell_type": "code",
   "execution_count": 84,
   "id": "1aca59ab-d4f0-4d15-aca1-b1350d8cce51",
   "metadata": {},
   "outputs": [
    {
     "data": {
      "text/plain": [
       "<AxesSubplot: xlabel='male/female', ylabel='average path length'>"
      ]
     },
     "execution_count": 84,
     "metadata": {},
     "output_type": "execute_result"
    },
    {
     "data": {
      "image/png": "[encoded data removed]",
      "text/plain": [
       "<Figure size 1500x700 with 1 Axes>"
      ]
     },
     "metadata": {},
     "output_type": "display_data"
    }
   ],
   "source": [
    "f = plt.figure(figsize=(15,7))\n",
    "sns.violinplot(data=length_distribution_dataframe, y='average path length', x='male/female', hue='gender', split=True, palette=\"pastel\", stat='proportion', legend=True)"
   ]
  },
  {
   "cell_type": "code",
   "execution_count": 85,
   "id": "177d720c-390f-4994-97f2-52fc05d326ee",
   "metadata": {},
   "outputs": [
    {
     "data": {
      "text/plain": [
       "<AxesSubplot: xlabel='male/female', ylabel='average path length'>"
      ]
     },
     "execution_count": 85,
     "metadata": {},
     "output_type": "execute_result"
    },
    {
     "data": {
      "image/png": "[encoded data removed]",
      "text/plain": [
       "<Figure size 1000x1000 with 1 Axes>"
      ]
     },
     "metadata": {},
     "output_type": "display_data"
    }
   ],
   "source": [
    "f = plt.figure(figsize=(10,10))\n",
    "sns.boxplot(y=\"average path length\", x=\"male/female\",\n",
    "            hue=\"gender\", palette=\"pastel\",\n",
    "            data=length_distribution_dataframe)"
   ]
  },
  {
   "cell_type": "markdown",
   "id": "c93ac038-3a14-415b-97f6-e090888208b3",
   "metadata": {},
   "source": [
    "## Evaluate path length per gender per user"
   ]
  },
  {
   "cell_type": "code",
   "execution_count": 86,
   "id": "67bbe996-6cd7-4c62-809d-d50c6acd74e3",
   "metadata": {},
   "outputs": [],
   "source": [
    "import math"
   ]
  },
  {
   "cell_type": "code",
   "execution_count": 87,
   "id": "d24ce4aa-23e9-4af8-8e5d-a2c55cdef690",
   "metadata": {},
   "outputs": [],
   "source": [
    "male_path_lengths = {}\n",
    "for key in user_paths.keys():\n",
    "    if key in male_internal_user_ids:\n",
    "        if not math.isnan(user_average_path_lengths[key]):\n",
    "            male_path_lengths[key] = user_average_path_lengths[key]\n",
    "\n",
    "female_path_lengths = {}\n",
    "for key in user_paths.keys():\n",
    "    if key in female_internal_user_ids:\n",
    "        if not math.isnan(user_average_path_lengths[key]):\n",
    "            female_path_lengths[key] = user_average_path_lengths[key]"
   ]
  },
  {
   "cell_type": "code",
   "execution_count": 88,
   "id": "5f0806a4-ebab-470e-803b-062dbfe1cbed",
   "metadata": {},
   "outputs": [
    {
     "data": {
      "text/plain": [
       "4.039829725580958"
      ]
     },
     "execution_count": 88,
     "metadata": {},
     "output_type": "execute_result"
    }
   ],
   "source": [
    "np.mean(list(male_path_lengths.values()))"
   ]
  },
  {
   "cell_type": "code",
   "execution_count": 89,
   "id": "387ff0d5-651e-4ddc-b93c-ed2274920697",
   "metadata": {},
   "outputs": [
    {
     "data": {
      "text/plain": [
       "4.0"
      ]
     },
     "execution_count": 89,
     "metadata": {},
     "output_type": "execute_result"
    }
   ],
   "source": [
    "np.median(list(male_path_lengths.values()))"
   ]
  },
  {
   "cell_type": "code",
   "execution_count": 90,
   "id": "d9bbbbaf-d2dd-47a7-b439-fb2020c496ae",
   "metadata": {},
   "outputs": [
    {
     "data": {
      "text/plain": [
       "4.038229364326773"
      ]
     },
     "execution_count": 90,
     "metadata": {},
     "output_type": "execute_result"
    }
   ],
   "source": [
    "np.mean(list(female_path_lengths.values()))"
   ]
  },
  {
   "cell_type": "code",
   "execution_count": 91,
   "id": "79914702-58c5-4092-947e-6f34fbb94af7",
   "metadata": {},
   "outputs": [
    {
     "data": {
      "text/plain": [
       "4.0"
      ]
     },
     "execution_count": 91,
     "metadata": {},
     "output_type": "execute_result"
    }
   ],
   "source": [
    "np.median(list(female_path_lengths.values()))"
   ]
  },
  {
   "cell_type": "markdown",
   "id": "19126254-33b9-429b-bf2e-0a689b2660cb",
   "metadata": {},
   "source": [
    "## Evaluate path length per gender"
   ]
  },
  {
   "cell_type": "code",
   "execution_count": 92,
   "id": "833098fa-bfb6-418b-9e78-a29512df7fb4",
   "metadata": {},
   "outputs": [],
   "source": [
    "male_paths = {}\n",
    "for key in user_paths.keys():\n",
    "    if key in male_internal_user_ids:\n",
    "        male_paths[key] = user_paths[key]\n",
    "\n",
    "female_paths = {}\n",
    "for key in user_paths.keys():\n",
    "    if key in female_internal_user_ids:\n",
    "        female_paths[key] = user_paths[key]"
   ]
  },
  {
   "cell_type": "code",
   "execution_count": 93,
   "id": "fd3118a4-5f08-45eb-8661-02cffb69e596",
   "metadata": {},
   "outputs": [],
   "source": [
    "def average_path_length(paths: dict):\n",
    "    flat_list = [item for sublist in list(paths.values()) for item in sublist]\n",
    "    lengths = [len(item) for item in flat_list]\n",
    "    return np.mean(lengths), lengths"
   ]
  },
  {
   "cell_type": "code",
   "execution_count": 94,
   "id": "ad08c7f9-bd16-42ae-9b10-7e587685cd93",
   "metadata": {},
   "outputs": [],
   "source": [
    "male_average, male_lengths = average_path_length(male_paths)"
   ]
  },
  {
   "cell_type": "code",
   "execution_count": 95,
   "id": "15a9975d-34bc-4132-b712-2690f752fef7",
   "metadata": {},
   "outputs": [],
   "source": [
    "female_average, female_lengths = average_path_length(female_paths)"
   ]
  },
  {
   "cell_type": "code",
   "execution_count": 96,
   "id": "4edbaf15-defa-4bbc-8227-02ecad248eb8",
   "metadata": {},
   "outputs": [
    {
     "data": {
      "text/plain": [
       "(4.003492458472486, 4.00475676200415)"
      ]
     },
     "execution_count": 96,
     "metadata": {},
     "output_type": "execute_result"
    }
   ],
   "source": [
    "female_average, male_average"
   ]
  },
  {
   "cell_type": "markdown",
   "id": "d21e7ddc-7a6e-43e1-a385-1b96e261d460",
   "metadata": {},
   "source": [
    "## Evaluate shared entities"
   ]
  },
  {
   "cell_type": "code",
   "execution_count": 97,
   "id": "78f73962-c326-4abf-9a25-ac4d668c903d",
   "metadata": {},
   "outputs": [],
   "source": [
    "male_shared_entities = []\n",
    "female_shared_entities = []\n",
    "for user_id in user_paths.keys():\n",
    "    paths_for_user = user_paths[user_id]\n",
    "    paths_without_start_and_end = [path[1:] for path in paths_for_user]\n",
    "    paths_without_start_and_end = list(filter(lambda x: len(x) > 0, paths_without_start_and_end))\n",
    "\n",
    "    try:\n",
    "        concatenated_paths = np.concatenate(paths_without_start_and_end)\n",
    "    except:\n",
    "        pass\n",
    "    \n",
    "    if is_male(user_id):\n",
    "        male_shared_entities.append(concatenated_paths)\n",
    "    else:\n",
    "        female_shared_entities.append(concatenated_paths)\n",
    "    \n",
    "male_shared_entities_concatenated = np.concatenate(male_shared_entities)\n",
    "female_shared_entities_concatenated = np.concatenate(female_shared_entities)"
   ]
  },
  {
   "cell_type": "code",
   "execution_count": 98,
   "id": "bc8e2585",
   "metadata": {},
   "outputs": [],
   "source": [
    "def evaluate_gender_of_shared_entities(data):\n",
    "    gender_token, counts = np.unique(data, return_counts=True)\n",
    "    distribution = {gender_token[0]: counts[0]/np.sum(counts)}\n",
    "    if len(gender_token) == 2:\n",
    "        distribution[gender_token[1]] = counts[1]/np.sum(counts)\n",
    "    return (distribution, len(data))"
   ]
  },
  {
   "cell_type": "markdown",
   "id": "01269232-16da-42b9-b604-51af4cd4747b",
   "metadata": {},
   "source": [
    "### Evaluate grouped by user by gender"
   ]
  },
  {
   "cell_type": "code",
   "execution_count": 99,
   "id": "b69197d7-56ce-4220-8218-088e0597fc1e",
   "metadata": {},
   "outputs": [],
   "source": [
    "male_shared_gender_statistics = []\n",
    "for shared_entities in male_shared_entities:\n",
    "    shared_users = shared_entities[shared_entities < dataset.user_num]\n",
    "    shared_gender_tokens = [internal_id_to_gender(idx) for idx in shared_users]\n",
    "    male_shared_gender_statistics.append(evaluate_gender_of_shared_entities(shared_gender_tokens))\n",
    "    \n",
    "female_shared_gender_statistics = []\n",
    "for shared_entities in female_shared_entities:\n",
    "    shared_users = shared_entities[shared_entities < dataset.user_num]\n",
    "    shared_gender_tokens = [internal_id_to_gender(idx) for idx in shared_users]\n",
    "    female_shared_gender_statistics.append(evaluate_gender_of_shared_entities(shared_gender_tokens))"
   ]
  },
  {
   "cell_type": "code",
   "execution_count": 100,
   "id": "f725bf4f-027b-44fe-9b1f-a33dc2f29ca5",
   "metadata": {},
   "outputs": [],
   "source": [
    "male_shared_gender_df = pd.DataFrame({'gender': ['m' for _ in male_shared_gender_statistics], 'male_proportion': [float(item['m']) if 'm' in item else 0 for item, _ in male_shared_gender_statistics],'female_proportion': [float(item['f']) if 'f' in item else 0 for item,_ in male_shared_gender_statistics], 'male - female': ['_' for item in male_shared_gender_statistics] })\n",
    "female_shared_gender_df = pd.DataFrame({'gender': ['f' for _ in female_shared_gender_statistics], 'male_proportion': [float(item['m']) if 'm' in item else 0 for item, _ in female_shared_gender_statistics],'female_proportion': [float(item['f']) if 'f' in item else 0 for item,_ in female_shared_gender_statistics], 'male - female': ['_' for item in female_shared_gender_statistics] })"
   ]
  },
  {
   "cell_type": "code",
   "execution_count": 101,
   "id": "5bf39768-194c-4973-8a0d-fbae01847c79",
   "metadata": {},
   "outputs": [
    {
     "name": "stderr",
     "output_type": "stream",
     "text": [
      "/tmp/ipykernel_24008/325008653.py:1: FutureWarning: The default value of numeric_only in DataFrame.mean is deprecated. In a future version, it will default to False. In addition, specifying 'numeric_only=None' is deprecated. Select only valid columns or specify the value of numeric_only to silence this warning.\n",
      "  male_shared_gender_df.mean()\n"
     ]
    },
    {
     "data": {
      "text/plain": [
       "male_proportion      0.866127\n",
       "female_proportion    0.133873\n",
       "dtype: float64"
      ]
     },
     "execution_count": 101,
     "metadata": {},
     "output_type": "execute_result"
    }
   ],
   "source": [
    "male_shared_gender_df.mean()"
   ]
  },
  {
   "cell_type": "code",
   "execution_count": 102,
   "id": "ca663a52-456f-4d3b-ac4b-168f2c514106",
   "metadata": {},
   "outputs": [
    {
     "name": "stderr",
     "output_type": "stream",
     "text": [
      "/tmp/ipykernel_24008/384587550.py:1: FutureWarning: The default value of numeric_only in DataFrame.mean is deprecated. In a future version, it will default to False. In addition, specifying 'numeric_only=None' is deprecated. Select only valid columns or specify the value of numeric_only to silence this warning.\n",
      "  female_shared_gender_df.mean()\n"
     ]
    },
    {
     "data": {
      "text/plain": [
       "male_proportion      0.780622\n",
       "female_proportion    0.219378\n",
       "dtype: float64"
      ]
     },
     "execution_count": 102,
     "metadata": {},
     "output_type": "execute_result"
    }
   ],
   "source": [
    "female_shared_gender_df.mean()"
   ]
  },
  {
   "cell_type": "code",
   "execution_count": 185,
   "id": "5f997278-d280-41e0-a3ce-2ea980afbf4e",
   "metadata": {},
   "outputs": [
    {
     "data": {
      "text/plain": [
       "(0.0, 0.3)"
      ]
     },
     "execution_count": 185,
     "metadata": {},
     "output_type": "execute_result"
    },
    {
     "data": {
      "image/png": "[encoded data removed]",
      "text/plain": [
       "<Figure size 1500x700 with 2 Axes>"
      ]
     },
     "metadata": {},
     "output_type": "display_data"
    }
   ],
   "source": [
    "f, (ax1, ax2) = plt.subplots(1,2, figsize=(15,7))\n",
    "\n",
    "sns.histplot(data=male_shared_gender_df, ax=ax1, stat=\"proportion\",\n",
    "             x=\"male_proportion\", kde=True,\n",
    "             color=\"#3899C7\",\n",
    "             element=\"bars\", legend=True, binwidth=.02)\n",
    "ax1.set_title(\"Recommending for males\")\n",
    "ax1.set_xlabel(\"Proportion of shared entites being males\")\n",
    "ax1.set_ylim(0,0.30)\n",
    "\n",
    "sns.histplot(data=female_shared_gender_df, ax=ax2, stat=\"proportion\", multiple=\"stack\",\n",
    "             x=\"male_proportion\", kde=True,\n",
    "             color='#C76638',\n",
    "             element=\"bars\", legend=True, binwidth=.02)\n",
    "ax2.set_title(\"Recommending for females\")\n",
    "ax2.set_xlabel(\"Proportion of shared entites being males\")\n",
    "ax2.set_ylim(0,0.30)\n"
   ]
  },
  {
   "cell_type": "code",
   "execution_count": 104,
   "id": "9364b817-58c3-4f0f-9fc3-750e1996ade5",
   "metadata": {},
   "outputs": [
    {
     "data": {
      "text/plain": [
       "(0.0, 0.3)"
      ]
     },
     "execution_count": 104,
     "metadata": {},
     "output_type": "execute_result"
    },
    {
     "data": {
      "image/png": "[encoded data removed]",
      "text/plain": [
       "<Figure size 1500x700 with 2 Axes>"
      ]
     },
     "metadata": {},
     "output_type": "display_data"
    }
   ],
   "source": [
    "f, (ax1, ax2) = plt.subplots(1,2, figsize=(15,7))\n",
    "\n",
    "sns.histplot(data=male_shared_gender_df, ax=ax1, stat=\"proportion\",\n",
    "             x=\"female_proportion\", kde=True,\n",
    "             color=\"#3899C7\",\n",
    "             element=\"bars\", legend=True, binwidth=.02)\n",
    "ax1.set_title(\"Explanation paths for males\")\n",
    "ax1.set_xlabel(\"Proportion of shared entites being females\")\n",
    "ax1.set_ylim(0,0.30)\n",
    "\n",
    "sns.histplot(data=female_shared_gender_df, ax=ax2, stat=\"proportion\", multiple=\"stack\",\n",
    "             x=\"female_proportion\", kde=True,\n",
    "             color='#C76638',\n",
    "             element=\"bars\", legend=True, binwidth=.02)\n",
    "ax2.set_title(\"Explanation paths for females\")\n",
    "ax2.set_xlabel(\"Proportion of shared entites being females\")\n",
    "ax2.set_ylim(0,0.30)\n"
   ]
  },
  {
   "cell_type": "markdown",
   "id": "79fae4ef-3994-4aa4-ad66-08e7f27bdcd4",
   "metadata": {},
   "source": [
    "### Evaluate grouped by gender"
   ]
  },
  {
   "cell_type": "code",
   "execution_count": 105,
   "id": "e9927ef9-a65e-4771-ae04-bf9dd7c65d5a",
   "metadata": {},
   "outputs": [],
   "source": [
    "male_shared_item_ids, male_shared_item_counts = np.unique(male_shared_entities_concatenated, return_counts=True)\n",
    "female_shared_item_ids, female_shared_item_counts = np.unique(female_shared_entities_concatenated, return_counts=True)"
   ]
  },
  {
   "cell_type": "code",
   "execution_count": 106,
   "id": "e523defc-2a05-4c1c-a4cc-d8b929e8872d",
   "metadata": {},
   "outputs": [],
   "source": [
    "male_shared_item_ids = np.flip(male_shared_item_ids[np.argsort(male_shared_item_counts)])\n",
    "male_shared_item_counts = np.flip(male_shared_item_counts[np.argsort(male_shared_item_counts)])\n",
    "female_shared_item_ids = np.flip(female_shared_item_ids[np.argsort(female_shared_item_counts)])\n",
    "female_shared_item_counts = np.flip(female_shared_item_counts[np.argsort(female_shared_item_counts)])"
   ]
  },
  {
   "cell_type": "code",
   "execution_count": 107,
   "id": "a0fcd650-bbba-45cf-af60-f96ee5bd0ca8",
   "metadata": {},
   "outputs": [],
   "source": [
    "male_shared_entity_count = np.sum(male_shared_item_counts)\n",
    "female_shared_entity_count = np.sum(female_shared_item_counts)"
   ]
  },
  {
   "cell_type": "code",
   "execution_count": 108,
   "id": "2370ffe9-3cf9-45fb-8800-7d5f53403084",
   "metadata": {},
   "outputs": [
    {
     "name": "stdout",
     "output_type": "stream",
     "text": [
      "Entity 956. \t 1099 \t 0.14745265146432962%\n",
      "Entity 325. \t 888 \t 0.1191428157418787%\n",
      "Entity 5792. \t 816 \t 0.10948258743848313%\n",
      "Entity 2829. \t 666 \t 0.08935711180640903%\n",
      "Entity 1878. \t 631 \t 0.0846611674922584%\n",
      "Entity 829. \t 599 \t 0.08036773269074926%\n",
      "Entity 1735. \t 564 \t 0.07567178837659863%\n",
      "Entity 160. \t 557 \t 0.07473259951376851%\n",
      "Entity 735. \t 556 \t 0.07459842967622135%\n",
      "Entity 271. \t 487 \t 0.06534071088546727%\n"
     ]
    }
   ],
   "source": [
    "for entity_idx, shared_entity in enumerate(male_shared_item_ids[:10]):\n",
    "    print('Entity %s. \\t %s \\t %s%%' % (shared_entity, male_shared_item_counts[entity_idx], male_shared_item_counts[entity_idx]*100/male_shared_entity_count))"
   ]
  },
  {
   "cell_type": "code",
   "execution_count": 109,
   "id": "868f8a52",
   "metadata": {},
   "outputs": [
    {
     "name": "stdout",
     "output_type": "stream",
     "text": [
      "Entity 160. \t 197 \t 0.14297430091372917%\n",
      "Entity 5792. \t 168 \t 0.12192732260663197%\n",
      "Entity 735. \t 166 \t 0.12047580686131493%\n",
      "Entity 4702. \t 139 \t 0.10088034429953478%\n",
      "Entity 3182. \t 108 \t 0.07838185024712055%\n",
      "Entity 110. \t 102 \t 0.07402730301116942%\n",
      "Entity 3736. \t 101 \t 0.07330154513851089%\n",
      "Entity 4388. \t 97 \t 0.07039851364787679%\n",
      "Entity 2829. \t 97 \t 0.07039851364787679%\n",
      "Entity 219. \t 93 \t 0.0674954821572427%\n"
     ]
    }
   ],
   "source": [
    "for entity_idx, shared_entity in enumerate(female_shared_item_ids[:10]):\n",
    "    print('Entity %s. \\t %s \\t %s%%' % (shared_entity, female_shared_item_counts[entity_idx], female_shared_item_counts[entity_idx]*100/female_shared_entity_count))"
   ]
  },
  {
   "cell_type": "code",
   "execution_count": 110,
   "id": "186bb98f",
   "metadata": {},
   "outputs": [],
   "source": [
    "male_shared_users = male_shared_item_ids[male_shared_item_ids < dataset.user_num]\n",
    "female_shared_users = female_shared_item_ids[female_shared_item_ids < dataset.user_num]"
   ]
  },
  {
   "cell_type": "code",
   "execution_count": 111,
   "id": "7a2f0374",
   "metadata": {},
   "outputs": [],
   "source": [
    "male_shared_user_gender = [internal_id_to_gender(idx) for idx in male_shared_users]\n",
    "female_shared_user_gender = [internal_id_to_gender(idx) for idx in female_shared_users]"
   ]
  },
  {
   "cell_type": "code",
   "execution_count": 112,
   "id": "af6dd78a",
   "metadata": {},
   "outputs": [
    {
     "data": {
      "text/plain": [
       "({'f': 0.18317600669136097, 'm': 0.816823993308639}, 8369)"
      ]
     },
     "execution_count": 112,
     "metadata": {},
     "output_type": "execute_result"
    }
   ],
   "source": [
    "evaluate_gender_of_shared_entities(male_shared_user_gender)"
   ]
  },
  {
   "cell_type": "code",
   "execution_count": 113,
   "id": "1f555042",
   "metadata": {},
   "outputs": [
    {
     "data": {
      "text/plain": [
       "({'f': 0.1927108530882116, 'm': 0.8072891469117884}, 6201)"
      ]
     },
     "execution_count": 113,
     "metadata": {},
     "output_type": "execute_result"
    }
   ],
   "source": [
    "evaluate_gender_of_shared_entities(female_shared_user_gender)"
   ]
  },
  {
   "cell_type": "code",
   "execution_count": 114,
   "id": "bee518cb",
   "metadata": {},
   "outputs": [
    {
     "data": {
      "text/plain": [
       "({'f': 0.09, 'm': 0.91}, 100)"
      ]
     },
     "execution_count": 114,
     "metadata": {},
     "output_type": "execute_result"
    }
   ],
   "source": [
    "evaluate_gender_of_shared_entities(male_shared_user_gender[:100])"
   ]
  },
  {
   "cell_type": "code",
   "execution_count": 115,
   "id": "98f6dd6c",
   "metadata": {},
   "outputs": [
    {
     "data": {
      "text/plain": [
       "({'f': 0.28, 'm': 0.72}, 100)"
      ]
     },
     "execution_count": 115,
     "metadata": {},
     "output_type": "execute_result"
    }
   ],
   "source": [
    "evaluate_gender_of_shared_entities(female_shared_user_gender[:100])"
   ]
  },
  {
   "cell_type": "markdown",
   "id": "2ae8842a-7db6-48e1-ae3a-628d016b2efc",
   "metadata": {},
   "source": [
    "### Evaluate with Fisher Exact Test"
   ]
  },
  {
   "cell_type": "code",
   "execution_count": 160,
   "id": "6e16b355-f7a0-4e0e-8527-6a8f49d23a00",
   "metadata": {},
   "outputs": [],
   "source": [
    "male_shared_entity_counts = {'f': 0, 'm': 0}\n",
    "female_shared_entity_counts = {'f': 0, 'm': 0}\n",
    "for (statistics, count) in male_shared_gender_statistics:\n",
    "    female_counts = 0\n",
    "    male_counts = 0\n",
    "    if 'f' in statistics:\n",
    "        male_shared_entity_counts['f'] += int(statistics['f'] * count)\n",
    "    if 'm' in statistics:\n",
    "        male_shared_entity_counts['m'] += int(statistics['m'] * count)\n",
    "\n",
    "for (statistics, count) in female_shared_gender_statistics:\n",
    "    female_counts = 0\n",
    "    male_counts = 0\n",
    "    if 'f' in statistics:\n",
    "        female_shared_entity_counts['f'] += int(statistics['f'] * count)\n",
    "    if 'm' in statistics:\n",
    "        female_shared_entity_counts['m'] += int(statistics['m'] * count)\n",
    "\n"
   ]
  },
  {
   "cell_type": "code",
   "execution_count": 176,
   "id": "61005fde-942a-4e3f-9a8a-4feba90e5696",
   "metadata": {},
   "outputs": [
    {
     "data": {
      "text/plain": [
       "7857"
      ]
     },
     "execution_count": 176,
     "metadata": {},
     "output_type": "execute_result"
    }
   ],
   "source": [
    "len(male_shared_gender_statistics)"
   ]
  },
  {
   "cell_type": "code",
   "execution_count": 165,
   "id": "eb0fc7c1-4ca9-47c8-8e4e-166dac3e2cc3",
   "metadata": {},
   "outputs": [
    {
     "data": {
      "text/plain": [
       "{'f': 32008, 'm': 216522}"
      ]
     },
     "execution_count": 165,
     "metadata": {},
     "output_type": "execute_result"
    }
   ],
   "source": [
    "male_shared_entity_counts"
   ]
  },
  {
   "cell_type": "code",
   "execution_count": 181,
   "id": "e0756846-00e6-4b17-a771-f45f85bbaa6c",
   "metadata": {},
   "outputs": [
    {
     "data": {
      "text/plain": [
       "0.0023697369802510087"
      ]
     },
     "execution_count": 181,
     "metadata": {},
     "output_type": "execute_result"
    }
   ],
   "source": [
    "from scipy.stats import fisher_exact\n",
    "\n",
    "_, fp_value = fisher_exact([[7857, 1824],[0.780622*1824, (1-0.780622)*1824]])\n",
    "fp_value"
   ]
  },
  {
   "cell_type": "code",
   "execution_count": 179,
   "id": "2cec94b0-101e-481a-9c12-79911c90a35c",
   "metadata": {},
   "outputs": [
    {
     "data": {
      "text/plain": [
       "(0.6652831219304691, 1.6626234154278403e-22)"
      ]
     },
     "execution_count": 179,
     "metadata": {},
     "output_type": "execute_result"
    }
   ],
   "source": [
    "fisher_exact([[7857, 1824],[0.866127*7857, (1-0.866127)*7857]])"
   ]
  }
 ],
 "metadata": {
  "kernelspec": {
   "display_name": "Python 3 (ipykernel)",
   "language": "python",
   "name": "python3"
  },
  "language_info": {
   "codemirror_mode": {
    "name": "ipython",
    "version": 3
   },
   "file_extension": ".py",
   "mimetype": "text/x-python",
   "name": "python",
   "nbconvert_exporter": "python",
   "pygments_lexer": "ipython3",
   "version": "3.9.15"
  }
 },
 "nbformat": 4,
 "nbformat_minor": 5
}
