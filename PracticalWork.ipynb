{
 "cells": [
  {
   "cell_type": "markdown",
   "id": "a2ed31f1-0e50-4f8a-86b0-e983172410e9",
   "metadata": {},
   "source": [
    "# Practical Work"
   ]
  },
  {
   "cell_type": "markdown",
   "id": "02cda9a7-79e5-45ee-9f02-459bd85fad9d",
   "metadata": {},
   "source": [
    "<b> Student: </b> Jonas Fallmann <br>\n",
    "<b> Matrikulation number </b> 12018700 <br>\n",
    "<b> Topic:</b> Evaulating gender bias of explained recommender systems<br>\n",
    "<b> Institute: </b> Institute of Computational Perception, Johannes Kepler University Linz"
   ]
  },
  {
   "cell_type": "markdown",
   "id": "33d49e4f-69e2-421e-99e5-cd16c30ee9bd",
   "metadata": {},
   "source": [
    "## Outline\n",
    "Recent advances in the field of recommender systems focus in a big part on explanations of recommended Items. Explainability has been shown to aid user trust and results in higher conversion rates in the online shopping domain. As an example, explanations in the music domain could be of the following form:\n",
    "\n",
    "<b>Recommended Item:</b> Clocks and Whoopty by Pintel Ragetti<br>\n",
    "<b> Explanation: </b>  \n",
    "\n"
   ]
  },
  {
   "cell_type": "markdown",
   "id": "ecf941a2-6c8c-43f3-99b7-4acc31f33838",
   "metadata": {},
   "source": [
    "# Train Model"
   ]
  },
  {
   "cell_type": "markdown",
   "id": "c246efaa-f8c1-42b2-9993-6513d8e4c141",
   "metadata": {
    "tags": []
   },
   "source": [
    "### Load config and create Dataset"
   ]
  },
  {
   "cell_type": "code",
   "execution_count": 3,
   "id": "76e405f0-0b6a-4ce8-834a-856f132eced1",
   "metadata": {},
   "outputs": [],
   "source": [
    "from logging import getLogger\n",
    "from recbole.config import Config\n",
    "from recbole.data import create_dataset, data_preparation\n",
    "from recbole.model.knowledge_aware_recommender import KGAT\n",
    "from recbole.trainer import KGATTrainer\n",
    "from recbole.utils import init_seed, init_logger\n",
    "\n",
    "train_model = True\n",
    "create_paths = True"
   ]
  },
  {
   "cell_type": "code",
   "execution_count": 4,
   "id": "3e05ff00-3d37-406e-8e66-eab5e3ce034e",
   "metadata": {
    "tags": []
   },
   "outputs": [
    {
     "name": "stderr",
     "output_type": "stream",
     "text": [
      "12 Mar 22:46    INFO  \n",
      "General Hyper Parameters:\n",
      "gpu_id = 0\n",
      "use_gpu = True\n",
      "seed = 2020\n",
      "state = INFO\n",
      "reproducibility = True\n",
      "data_path = ./data/rb_lfm\n",
      "checkpoint_dir = saved\n",
      "show_progress = True\n",
      "save_dataset = False\n",
      "dataset_save_path = None\n",
      "save_dataloaders = False\n",
      "dataloaders_save_path = None\n",
      "log_wandb = False\n",
      "\n",
      "Training Hyper Parameters:\n",
      "epochs = 40\n",
      "train_batch_size = 1024\n",
      "learner = adam\n",
      "learning_rate = 0.001\n",
      "train_neg_sample_args = {'distribution': 'uniform', 'sample_num': 1, 'alpha': 1.0, 'dynamic': False, 'candidate_num': 0}\n",
      "eval_step = 1\n",
      "stopping_step = 10\n",
      "clip_grad_norm = None\n",
      "weight_decay = 0.0\n",
      "loss_decimal_place = 4\n",
      "\n",
      "Evaluation Hyper Parameters:\n",
      "eval_args = {'split': {'RS': [8, 1, 1]}, 'group_by': 'user', 'order': 'RO', 'mode': 'full'}\n",
      "repeatable = False\n",
      "metrics = ['NDCG', 'Hit', 'Precision']\n",
      "topk = [10]\n",
      "valid_metric = NDCG@10\n",
      "valid_metric_bigger = True\n",
      "eval_batch_size = 1024\n",
      "metric_decimal_place = 4\n",
      "\n",
      "Dataset Hyper Parameters:\n",
      "field_separator = \t\n",
      "seq_separator =  \n",
      "USER_ID_FIELD = user_id\n",
      "ITEM_ID_FIELD = item_id\n",
      "RATING_FIELD = rating\n",
      "TIME_FIELD = timestamp\n",
      "seq_len = None\n",
      "LABEL_FIELD = label\n",
      "threshold = None\n",
      "NEG_PREFIX = neg_\n",
      "load_col = {'inter': ['user_id', 'item_id', 'album', 'timestamp'], 'kg': ['head_id', 'relation_id', 'tail_id'], 'link': ['item_id', 'entity_id']}\n",
      "unload_col = None\n",
      "unused_col = None\n",
      "additional_feat_suffix = None\n",
      "rm_dup_inter = None\n",
      "val_interval = None\n",
      "filter_inter_by_user_or_item = True\n",
      "user_inter_num_interval = [0,inf)\n",
      "item_inter_num_interval = [0,inf)\n",
      "alias_of_user_id = None\n",
      "alias_of_item_id = None\n",
      "alias_of_entity_id = None\n",
      "alias_of_relation_id = None\n",
      "preload_weight = None\n",
      "normalize_field = None\n",
      "normalize_all = None\n",
      "ITEM_LIST_LENGTH_FIELD = item_length\n",
      "LIST_SUFFIX = _list\n",
      "MAX_ITEM_LIST_LENGTH = 50\n",
      "POSITION_FIELD = position_id\n",
      "HEAD_ENTITY_ID_FIELD = head_id\n",
      "TAIL_ENTITY_ID_FIELD = tail_id\n",
      "RELATION_ID_FIELD = relation_id\n",
      "ENTITY_ID_FIELD = entity_id\n",
      "benchmark_filename = None\n",
      "\n",
      "Other Hyper Parameters: \n",
      "worker = 8\n",
      "wandb_project = recbole\n",
      "shuffle = True\n",
      "require_pow = False\n",
      "enable_amp = False\n",
      "enable_scaler = False\n",
      "transform = None\n",
      "embedding_size = 32\n",
      "kg_embedding_size = 32\n",
      "layers = [64, 32, 16]\n",
      "mess_dropout = 0.1\n",
      "reg_weight = 1e-05\n",
      "aggregator_type = bi\n",
      "numerical_features = []\n",
      "discretization = None\n",
      "kg_reverse_r = True\n",
      "entity_kg_num_interval = [0,inf)\n",
      "relation_kg_num_interval = [0,inf)\n",
      "MODEL_TYPE = ModelType.KNOWLEDGE\n",
      "device = cuda\n",
      "MODEL_INPUT_TYPE = InputType.PAIRWISE\n",
      "eval_type = EvaluatorType.RANKING\n",
      "single_spec = True\n",
      "local_rank = 0\n",
      "eval_neg_sample_args = {'distribution': 'uniform', 'sample_num': 'none'}\n",
      "\n",
      "\n",
      "12 Mar 22:46    INFO  rb_lfm\n",
      "The number of users: 9708\n",
      "Average actions of users: 326.13433604615227\n",
      "The number of items: 158641\n",
      "Average actions of items: 19.955786686838124\n",
      "The number of inters: 3165786\n",
      "The sparsity of the dataset: 99.79444107030568%\n",
      "Remain Fields: ['entity_id', 'user_id', 'item_id', 'timestamp', 'head_id', 'relation_id', 'tail_id']\n",
      "The number of entities: 260190\n",
      "The number of relations: 14\n",
      "The number of triples: 2536062\n",
      "The number of items that have been linked to KG: 158640\n",
      "12 Mar 22:46    INFO  [Training]: train_batch_size = [1024] train_neg_sample_args: [{'distribution': 'uniform', 'sample_num': 1, 'alpha': 1.0, 'dynamic': False, 'candidate_num': 0}]\n",
      "12 Mar 22:46    INFO  [Evaluation]: eval_batch_size = [1024] eval_args: [{'split': {'RS': [8, 1, 1]}, 'group_by': 'user', 'order': 'RO', 'mode': 'full'}]\n"
     ]
    }
   ],
   "source": [
    "\n",
    "# configurations initialization\n",
    "config = Config(model='KGAT', dataset='rb_lfm', config_file_list=['lfm.yaml'])\n",
    "\n",
    "# init random seed\n",
    "init_seed(config['seed'], config['reproducibility'])\n",
    "\n",
    "# logger initialization\n",
    "init_logger(config)\n",
    "logger = getLogger()\n",
    "\n",
    "# write config info into log\n",
    "logger.info(config)\n",
    "\n",
    "# dataset creating and filtering\n",
    "dataset = create_dataset(config)\n",
    "logger.info(dataset)\n",
    "\n",
    "# dataset splitting\n",
    "train_data, valid_data, test_data = data_preparation(config, dataset)\n"
   ]
  },
  {
   "cell_type": "markdown",
   "id": "0dd4fa2f-7b05-479b-a673-1bdc419848fe",
   "metadata": {
    "tags": []
   },
   "source": [
    "### Train model and evaluate"
   ]
  },
  {
   "cell_type": "code",
   "execution_count": 5,
   "id": "f8535eaf-7ad9-4ad4-bd6d-ef8b609aa585",
   "metadata": {
    "scrolled": true,
    "tags": []
   },
   "outputs": [
    {
     "name": "stderr",
     "output_type": "stream",
     "text": [
      "/home/jfallmann/miniconda3/envs/pr/lib/python3.9/site-packages/dgl/subgraph.py:288: DGLWarning: Key word argument preserve_nodes is deprecated. Use relabel_nodes instead.\n",
      "  dgl_warning(\n",
      "/home/jfallmann/miniconda3/envs/pr/lib/python3.9/site-packages/recbole/model/knowledge_aware_recommender/kgat.py:159: RuntimeWarning: divide by zero encountered in power\n",
      "  d_inv = np.power(rowsum, -1).flatten()\n",
      "/home/jfallmann/miniconda3/envs/pr/lib/python3.9/site-packages/recbole/model/knowledge_aware_recommender/kgat.py:166: UserWarning: Creating a tensor from a list of numpy.ndarrays is extremely slow. Please consider converting the list to a single numpy.ndarray with numpy.array() before converting to a tensor. (Triggered internally at /opt/conda/conda-bld/pytorch_1670525551200/work/torch/csrc/utils/tensor_new.cpp:230.)\n",
      "  indices = torch.LongTensor([final_adj_matrix.row, final_adj_matrix.col])\n",
      "12 Mar 22:46    INFO  KGAT(\n",
      "  (user_embedding): Embedding(9708, 32)\n",
      "  (entity_embedding): Embedding(260190, 32)\n",
      "  (relation_embedding): Embedding(14, 32)\n",
      "  (trans_w): Embedding(14, 1024)\n",
      "  (aggregator_layers): ModuleList(\n",
      "    (0): Aggregator(\n",
      "      (message_dropout): Dropout(p=0.1, inplace=False)\n",
      "      (W1): Linear(in_features=32, out_features=64, bias=True)\n",
      "      (W2): Linear(in_features=32, out_features=64, bias=True)\n",
      "      (activation): LeakyReLU(negative_slope=0.01)\n",
      "    )\n",
      "    (1): Aggregator(\n",
      "      (message_dropout): Dropout(p=0.1, inplace=False)\n",
      "      (W1): Linear(in_features=64, out_features=32, bias=True)\n",
      "      (W2): Linear(in_features=64, out_features=32, bias=True)\n",
      "      (activation): LeakyReLU(negative_slope=0.01)\n",
      "    )\n",
      "    (2): Aggregator(\n",
      "      (message_dropout): Dropout(p=0.1, inplace=False)\n",
      "      (W1): Linear(in_features=32, out_features=16, bias=True)\n",
      "      (W2): Linear(in_features=32, out_features=16, bias=True)\n",
      "      (activation): LeakyReLU(negative_slope=0.01)\n",
      "    )\n",
      "  )\n",
      "  (tanh): Tanh()\n",
      "  (mf_loss): BPRLoss()\n",
      "  (reg_loss): EmbLoss()\n",
      ")\n",
      "Trainable parameters: 8660960\n"
     ]
    },
    {
     "name": "stdout",
     "output_type": "stream",
     "text": [
      "Starting to fit model\n"
     ]
    },
    {
     "data": {
      "application/vnd.jupyter.widget-view+json": {
       "model_id": "12346e947e244e0db33e45a92edf34ce",
       "version_major": 2,
       "version_minor": 0
      },
      "text/plain": [
       "\u001b[1;35mTrain     0\u001b[0m:   0%|          | 0/2482 [00:00<?, ?it/s]"
      ]
     },
     "metadata": {},
     "output_type": "display_data"
    },
    {
     "data": {
      "application/vnd.jupyter.widget-view+json": {
       "model_id": "88ba83009283483ebbab0cd210334afc",
       "version_major": 2,
       "version_minor": 0
      },
      "text/plain": [
       "\u001b[1;35mTrain     0\u001b[0m:   0%|          | 0/2477 [00:00<?, ?it/s]"
      ]
     },
     "metadata": {},
     "output_type": "display_data"
    },
    {
     "name": "stderr",
     "output_type": "stream",
     "text": [
      "12 Mar 22:58    INFO  epoch 0 training [time: 711.02s, train_loss1: 854.8534, train_loss2: 145.6671]\n"
     ]
    },
    {
     "data": {
      "application/vnd.jupyter.widget-view+json": {
       "model_id": "5c896d10bbed433e84f1d811a6888968",
       "version_major": 2,
       "version_minor": 0
      },
      "text/plain": [
       "\u001b[1;35mEvaluate   \u001b[0m:   0%|                                                         | 0/9651 [00:00<?, ?it/s…"
      ]
     },
     "metadata": {},
     "output_type": "display_data"
    },
    {
     "name": "stderr",
     "output_type": "stream",
     "text": [
      "12 Mar 22:58    INFO  epoch 0 evaluating [time: 19.01s, valid_score: 0.006500]\n",
      "12 Mar 22:58    INFO  valid result: \n",
      "ndcg@10 : 0.0065    hit@10 : 0.0588    precision@10 : 0.0062\n",
      "12 Mar 22:58    INFO  Saving current: saved/KGAT-Mar-12-2023_22-46-45.pth\n"
     ]
    },
    {
     "data": {
      "application/vnd.jupyter.widget-view+json": {
       "model_id": "2b053adec5bd4691a9f69e3f7fa8f514",
       "version_major": 2,
       "version_minor": 0
      },
      "text/plain": [
       "\u001b[1;35mTrain     1\u001b[0m:   0%|          | 0/2482 [00:00<?, ?it/s]"
      ]
     },
     "metadata": {},
     "output_type": "display_data"
    },
    {
     "data": {
      "application/vnd.jupyter.widget-view+json": {
       "model_id": "4bf1a68badee4483b989c03e9c72cfd3",
       "version_major": 2,
       "version_minor": 0
      },
      "text/plain": [
       "\u001b[1;35mTrain     1\u001b[0m:   0%|          | 0/2477 [00:00<?, ?it/s]"
      ]
     },
     "metadata": {},
     "output_type": "display_data"
    },
    {
     "name": "stderr",
     "output_type": "stream",
     "text": [
      "12 Mar 23:08    INFO  epoch 1 training [time: 558.62s, train_loss1: 920.4822, train_loss2: 36.6092]\n"
     ]
    },
    {
     "data": {
      "application/vnd.jupyter.widget-view+json": {
       "model_id": "da4865d1e0474e3fa303e9d4c6854726",
       "version_major": 2,
       "version_minor": 0
      },
      "text/plain": [
       "\u001b[1;35mEvaluate   \u001b[0m:   0%|                                                         | 0/9651 [00:00<?, ?it/s…"
      ]
     },
     "metadata": {},
     "output_type": "display_data"
    },
    {
     "name": "stderr",
     "output_type": "stream",
     "text": [
      "12 Mar 23:08    INFO  epoch 1 evaluating [time: 19.26s, valid_score: 0.017000]\n",
      "12 Mar 23:08    INFO  valid result: \n",
      "ndcg@10 : 0.017    hit@10 : 0.1281    precision@10 : 0.0153\n",
      "12 Mar 23:08    INFO  Saving current: saved/KGAT-Mar-12-2023_22-46-45.pth\n"
     ]
    },
    {
     "data": {
      "application/vnd.jupyter.widget-view+json": {
       "model_id": "d02d12061e6944d99227b0bab3b57a33",
       "version_major": 2,
       "version_minor": 0
      },
      "text/plain": [
       "\u001b[1;35mTrain     2\u001b[0m:   0%|          | 0/2482 [00:00<?, ?it/s]"
      ]
     },
     "metadata": {},
     "output_type": "display_data"
    },
    {
     "data": {
      "application/vnd.jupyter.widget-view+json": {
       "model_id": "0a1b447071c54868898a975634820e08",
       "version_major": 2,
       "version_minor": 0
      },
      "text/plain": [
       "\u001b[1;35mTrain     2\u001b[0m:   0%|          | 0/2477 [00:00<?, ?it/s]"
      ]
     },
     "metadata": {},
     "output_type": "display_data"
    },
    {
     "name": "stderr",
     "output_type": "stream",
     "text": [
      "12 Mar 23:17    INFO  epoch 2 training [time: 558.27s, train_loss1: 755.9662, train_loss2: 20.2830]\n"
     ]
    },
    {
     "data": {
      "application/vnd.jupyter.widget-view+json": {
       "model_id": "b754c945a410490785c9c6cb35078328",
       "version_major": 2,
       "version_minor": 0
      },
      "text/plain": [
       "\u001b[1;35mEvaluate   \u001b[0m:   0%|                                                         | 0/9651 [00:00<?, ?it/s…"
      ]
     },
     "metadata": {},
     "output_type": "display_data"
    },
    {
     "name": "stderr",
     "output_type": "stream",
     "text": [
      "12 Mar 23:18    INFO  epoch 2 evaluating [time: 19.05s, valid_score: 0.023500]\n",
      "12 Mar 23:18    INFO  valid result: \n",
      "ndcg@10 : 0.0235    hit@10 : 0.1722    precision@10 : 0.0216\n",
      "12 Mar 23:18    INFO  Saving current: saved/KGAT-Mar-12-2023_22-46-45.pth\n"
     ]
    },
    {
     "data": {
      "application/vnd.jupyter.widget-view+json": {
       "model_id": "86d3500cca5f4abc93b42889c383c69f",
       "version_major": 2,
       "version_minor": 0
      },
      "text/plain": [
       "\u001b[1;35mTrain     3\u001b[0m:   0%|          | 0/2482 [00:00<?, ?it/s]"
      ]
     },
     "metadata": {},
     "output_type": "display_data"
    },
    {
     "data": {
      "application/vnd.jupyter.widget-view+json": {
       "model_id": "6d2a50740b5c49c6add1a01c1d8d4b23",
       "version_major": 2,
       "version_minor": 0
      },
      "text/plain": [
       "\u001b[1;35mTrain     3\u001b[0m:   0%|          | 0/2477 [00:00<?, ?it/s]"
      ]
     },
     "metadata": {},
     "output_type": "display_data"
    },
    {
     "name": "stderr",
     "output_type": "stream",
     "text": [
      "12 Mar 23:27    INFO  epoch 3 training [time: 558.15s, train_loss1: 660.1019, train_loss2: 13.9480]\n"
     ]
    },
    {
     "data": {
      "application/vnd.jupyter.widget-view+json": {
       "model_id": "4399579a6e79401e88a79634daef9502",
       "version_major": 2,
       "version_minor": 0
      },
      "text/plain": [
       "\u001b[1;35mEvaluate   \u001b[0m:   0%|                                                         | 0/9651 [00:00<?, ?it/s…"
      ]
     },
     "metadata": {},
     "output_type": "display_data"
    },
    {
     "name": "stderr",
     "output_type": "stream",
     "text": [
      "12 Mar 23:27    INFO  epoch 3 evaluating [time: 19.28s, valid_score: 0.028400]\n",
      "12 Mar 23:27    INFO  valid result: \n",
      "ndcg@10 : 0.0284    hit@10 : 0.1954    precision@10 : 0.0258\n",
      "12 Mar 23:27    INFO  Saving current: saved/KGAT-Mar-12-2023_22-46-45.pth\n"
     ]
    },
    {
     "data": {
      "application/vnd.jupyter.widget-view+json": {
       "model_id": "3b7f0b801b2d4b2891982dc334676a81",
       "version_major": 2,
       "version_minor": 0
      },
      "text/plain": [
       "\u001b[1;35mTrain     4\u001b[0m:   0%|          | 0/2482 [00:00<?, ?it/s]"
      ]
     },
     "metadata": {},
     "output_type": "display_data"
    },
    {
     "data": {
      "application/vnd.jupyter.widget-view+json": {
       "model_id": "5d15a60cce5f4de0ba2a0058bb5f770f",
       "version_major": 2,
       "version_minor": 0
      },
      "text/plain": [
       "\u001b[1;35mTrain     4\u001b[0m:   0%|          | 0/2477 [00:00<?, ?it/s]"
      ]
     },
     "metadata": {},
     "output_type": "display_data"
    },
    {
     "name": "stderr",
     "output_type": "stream",
     "text": [
      "12 Mar 23:37    INFO  epoch 4 training [time: 558.51s, train_loss1: 575.6870, train_loss2: 10.7574]\n"
     ]
    },
    {
     "data": {
      "application/vnd.jupyter.widget-view+json": {
       "model_id": "c5b7a9acf8254a848ed0e7b66ee0aea4",
       "version_major": 2,
       "version_minor": 0
      },
      "text/plain": [
       "\u001b[1;35mEvaluate   \u001b[0m:   0%|                                                         | 0/9651 [00:00<?, ?it/s…"
      ]
     },
     "metadata": {},
     "output_type": "display_data"
    },
    {
     "name": "stderr",
     "output_type": "stream",
     "text": [
      "12 Mar 23:37    INFO  epoch 4 evaluating [time: 19.13s, valid_score: 0.031600]\n",
      "12 Mar 23:37    INFO  valid result: \n",
      "ndcg@10 : 0.0316    hit@10 : 0.2091    precision@10 : 0.0277\n",
      "12 Mar 23:37    INFO  Saving current: saved/KGAT-Mar-12-2023_22-46-45.pth\n"
     ]
    },
    {
     "data": {
      "application/vnd.jupyter.widget-view+json": {
       "model_id": "17aad7157d6f40928d22f1eea7c56904",
       "version_major": 2,
       "version_minor": 0
      },
      "text/plain": [
       "\u001b[1;35mTrain     5\u001b[0m:   0%|          | 0/2482 [00:00<?, ?it/s]"
      ]
     },
     "metadata": {},
     "output_type": "display_data"
    },
    {
     "data": {
      "application/vnd.jupyter.widget-view+json": {
       "model_id": "54aeb15420b145428f44ed7c35d04273",
       "version_major": 2,
       "version_minor": 0
      },
      "text/plain": [
       "\u001b[1;35mTrain     5\u001b[0m:   0%|          | 0/2477 [00:00<?, ?it/s]"
      ]
     },
     "metadata": {},
     "output_type": "display_data"
    },
    {
     "name": "stderr",
     "output_type": "stream",
     "text": [
      "12 Mar 23:46    INFO  epoch 5 training [time: 558.73s, train_loss1: 507.9978, train_loss2: 8.2691]\n"
     ]
    },
    {
     "data": {
      "application/vnd.jupyter.widget-view+json": {
       "model_id": "2324363b9f1f46b1b6e82acd3c0dd685",
       "version_major": 2,
       "version_minor": 0
      },
      "text/plain": [
       "\u001b[1;35mEvaluate   \u001b[0m:   0%|                                                         | 0/9651 [00:00<?, ?it/s…"
      ]
     },
     "metadata": {},
     "output_type": "display_data"
    },
    {
     "name": "stderr",
     "output_type": "stream",
     "text": [
      "12 Mar 23:47    INFO  epoch 5 evaluating [time: 19.15s, valid_score: 0.033200]\n",
      "12 Mar 23:47    INFO  valid result: \n",
      "ndcg@10 : 0.0332    hit@10 : 0.217    precision@10 : 0.0294\n",
      "12 Mar 23:47    INFO  Saving current: saved/KGAT-Mar-12-2023_22-46-45.pth\n"
     ]
    },
    {
     "data": {
      "application/vnd.jupyter.widget-view+json": {
       "model_id": "ee6f8dd5610d4b4fb2139229899a9e8b",
       "version_major": 2,
       "version_minor": 0
      },
      "text/plain": [
       "\u001b[1;35mTrain     6\u001b[0m:   0%|          | 0/2482 [00:00<?, ?it/s]"
      ]
     },
     "metadata": {},
     "output_type": "display_data"
    },
    {
     "data": {
      "application/vnd.jupyter.widget-view+json": {
       "model_id": "af3f9b75f0bb4c5a8fd5554b6a733b67",
       "version_major": 2,
       "version_minor": 0
      },
      "text/plain": [
       "\u001b[1;35mTrain     6\u001b[0m:   0%|          | 0/2477 [00:00<?, ?it/s]"
      ]
     },
     "metadata": {},
     "output_type": "display_data"
    },
    {
     "name": "stderr",
     "output_type": "stream",
     "text": [
      "12 Mar 23:56    INFO  epoch 6 training [time: 558.52s, train_loss1: 456.6188, train_loss2: 6.6974]\n"
     ]
    },
    {
     "data": {
      "application/vnd.jupyter.widget-view+json": {
       "model_id": "7249187f13e24336928d575eb81536b6",
       "version_major": 2,
       "version_minor": 0
      },
      "text/plain": [
       "\u001b[1;35mEvaluate   \u001b[0m:   0%|                                                         | 0/9651 [00:00<?, ?it/s…"
      ]
     },
     "metadata": {},
     "output_type": "display_data"
    },
    {
     "name": "stderr",
     "output_type": "stream",
     "text": [
      "12 Mar 23:56    INFO  epoch 6 evaluating [time: 19.27s, valid_score: 0.034900]\n",
      "12 Mar 23:56    INFO  valid result: \n",
      "ndcg@10 : 0.0349    hit@10 : 0.2245    precision@10 : 0.0303\n",
      "12 Mar 23:56    INFO  Saving current: saved/KGAT-Mar-12-2023_22-46-45.pth\n"
     ]
    },
    {
     "data": {
      "application/vnd.jupyter.widget-view+json": {
       "model_id": "86912522280c43628958cde40dc9f29f",
       "version_major": 2,
       "version_minor": 0
      },
      "text/plain": [
       "\u001b[1;35mTrain     7\u001b[0m:   0%|          | 0/2482 [00:00<?, ?it/s]"
      ]
     },
     "metadata": {},
     "output_type": "display_data"
    },
    {
     "data": {
      "application/vnd.jupyter.widget-view+json": {
       "model_id": "48989976b61949c3b37d3500d1c57950",
       "version_major": 2,
       "version_minor": 0
      },
      "text/plain": [
       "\u001b[1;35mTrain     7\u001b[0m:   0%|          | 0/2477 [00:00<?, ?it/s]"
      ]
     },
     "metadata": {},
     "output_type": "display_data"
    },
    {
     "name": "stderr",
     "output_type": "stream",
     "text": [
      "13 Mar 00:06    INFO  epoch 7 training [time: 558.80s, train_loss1: 415.0009, train_loss2: 5.6462]\n"
     ]
    },
    {
     "data": {
      "application/vnd.jupyter.widget-view+json": {
       "model_id": "aef2974f5cd14c96b965c844080b0469",
       "version_major": 2,
       "version_minor": 0
      },
      "text/plain": [
       "\u001b[1;35mEvaluate   \u001b[0m:   0%|                                                         | 0/9651 [00:00<?, ?it/s…"
      ]
     },
     "metadata": {},
     "output_type": "display_data"
    },
    {
     "name": "stderr",
     "output_type": "stream",
     "text": [
      "13 Mar 00:06    INFO  epoch 7 evaluating [time: 19.46s, valid_score: 0.034900]\n",
      "13 Mar 00:06    INFO  valid result: \n",
      "ndcg@10 : 0.0349    hit@10 : 0.2264    precision@10 : 0.0308\n",
      "13 Mar 00:06    INFO  Saving current: saved/KGAT-Mar-12-2023_22-46-45.pth\n"
     ]
    },
    {
     "data": {
      "application/vnd.jupyter.widget-view+json": {
       "model_id": "25d5e8c7a8344e0c8d9873b5682b18d0",
       "version_major": 2,
       "version_minor": 0
      },
      "text/plain": [
       "\u001b[1;35mTrain     8\u001b[0m:   0%|          | 0/2482 [00:00<?, ?it/s]"
      ]
     },
     "metadata": {},
     "output_type": "display_data"
    },
    {
     "data": {
      "application/vnd.jupyter.widget-view+json": {
       "model_id": "62a023c286f24d029528b109975831f9",
       "version_major": 2,
       "version_minor": 0
      },
      "text/plain": [
       "\u001b[1;35mTrain     8\u001b[0m:   0%|          | 0/2477 [00:00<?, ?it/s]"
      ]
     },
     "metadata": {},
     "output_type": "display_data"
    },
    {
     "name": "stderr",
     "output_type": "stream",
     "text": [
      "13 Mar 00:15    INFO  epoch 8 training [time: 558.12s, train_loss1: 381.9611, train_loss2: 5.0429]\n"
     ]
    },
    {
     "data": {
      "application/vnd.jupyter.widget-view+json": {
       "model_id": "500526bcbe06495ea53c79764b3519b0",
       "version_major": 2,
       "version_minor": 0
      },
      "text/plain": [
       "\u001b[1;35mEvaluate   \u001b[0m:   0%|                                                         | 0/9651 [00:00<?, ?it/s…"
      ]
     },
     "metadata": {},
     "output_type": "display_data"
    },
    {
     "name": "stderr",
     "output_type": "stream",
     "text": [
      "13 Mar 00:15    INFO  epoch 8 evaluating [time: 19.14s, valid_score: 0.035900]\n",
      "13 Mar 00:15    INFO  valid result: \n",
      "ndcg@10 : 0.0359    hit@10 : 0.2285    precision@10 : 0.0311\n",
      "13 Mar 00:16    INFO  Saving current: saved/KGAT-Mar-12-2023_22-46-45.pth\n"
     ]
    },
    {
     "data": {
      "application/vnd.jupyter.widget-view+json": {
       "model_id": "2c2b878746564a469fe0aaa02c66c839",
       "version_major": 2,
       "version_minor": 0
      },
      "text/plain": [
       "\u001b[1;35mTrain     9\u001b[0m:   0%|          | 0/2482 [00:00<?, ?it/s]"
      ]
     },
     "metadata": {},
     "output_type": "display_data"
    },
    {
     "data": {
      "application/vnd.jupyter.widget-view+json": {
       "model_id": "5271bbc44748461db646e0fb87237347",
       "version_major": 2,
       "version_minor": 0
      },
      "text/plain": [
       "\u001b[1;35mTrain     9\u001b[0m:   0%|          | 0/2477 [00:00<?, ?it/s]"
      ]
     },
     "metadata": {},
     "output_type": "display_data"
    },
    {
     "name": "stderr",
     "output_type": "stream",
     "text": [
      "13 Mar 00:25    INFO  epoch 9 training [time: 557.88s, train_loss1: 352.4132, train_loss2: 4.2994]\n"
     ]
    },
    {
     "data": {
      "application/vnd.jupyter.widget-view+json": {
       "model_id": "e4e164954c7a4cd8b4540137055ff1d2",
       "version_major": 2,
       "version_minor": 0
      },
      "text/plain": [
       "\u001b[1;35mEvaluate   \u001b[0m:   0%|                                                         | 0/9651 [00:00<?, ?it/s…"
      ]
     },
     "metadata": {},
     "output_type": "display_data"
    },
    {
     "name": "stderr",
     "output_type": "stream",
     "text": [
      "13 Mar 00:25    INFO  epoch 9 evaluating [time: 19.62s, valid_score: 0.035700]\n",
      "13 Mar 00:25    INFO  valid result: \n",
      "ndcg@10 : 0.0357    hit@10 : 0.2248    precision@10 : 0.0308\n"
     ]
    },
    {
     "data": {
      "application/vnd.jupyter.widget-view+json": {
       "model_id": "61b1f6971b5345b2b0db5ce13755881f",
       "version_major": 2,
       "version_minor": 0
      },
      "text/plain": [
       "\u001b[1;35mTrain    10\u001b[0m:   0%|          | 0/2482 [00:00<?, ?it/s]"
      ]
     },
     "metadata": {},
     "output_type": "display_data"
    },
    {
     "data": {
      "application/vnd.jupyter.widget-view+json": {
       "model_id": "300720a75e8146c0a01aa272bcf163f1",
       "version_major": 2,
       "version_minor": 0
      },
      "text/plain": [
       "\u001b[1;35mTrain    10\u001b[0m:   0%|          | 0/2477 [00:00<?, ?it/s]"
      ]
     },
     "metadata": {},
     "output_type": "display_data"
    },
    {
     "name": "stderr",
     "output_type": "stream",
     "text": [
      "13 Mar 00:34    INFO  epoch 10 training [time: 558.49s, train_loss1: 327.3698, train_loss2: 3.8377]\n"
     ]
    },
    {
     "data": {
      "application/vnd.jupyter.widget-view+json": {
       "model_id": "79dde6b9fffd480994b168c3aa80c2c4",
       "version_major": 2,
       "version_minor": 0
      },
      "text/plain": [
       "\u001b[1;35mEvaluate   \u001b[0m:   0%|                                                         | 0/9651 [00:00<?, ?it/s…"
      ]
     },
     "metadata": {},
     "output_type": "display_data"
    },
    {
     "name": "stderr",
     "output_type": "stream",
     "text": [
      "13 Mar 00:35    INFO  epoch 10 evaluating [time: 19.60s, valid_score: 0.035000]\n",
      "13 Mar 00:35    INFO  valid result: \n",
      "ndcg@10 : 0.035    hit@10 : 0.2256    precision@10 : 0.0308\n"
     ]
    },
    {
     "data": {
      "application/vnd.jupyter.widget-view+json": {
       "model_id": "9e44160673674026bfea6a1b26d42d66",
       "version_major": 2,
       "version_minor": 0
      },
      "text/plain": [
       "\u001b[1;35mTrain    11\u001b[0m:   0%|          | 0/2482 [00:00<?, ?it/s]"
      ]
     },
     "metadata": {},
     "output_type": "display_data"
    },
    {
     "data": {
      "application/vnd.jupyter.widget-view+json": {
       "model_id": "d2eff81c723c40a28ee600c7a09539d9",
       "version_major": 2,
       "version_minor": 0
      },
      "text/plain": [
       "\u001b[1;35mTrain    11\u001b[0m:   0%|          | 0/2477 [00:00<?, ?it/s]"
      ]
     },
     "metadata": {},
     "output_type": "display_data"
    },
    {
     "name": "stderr",
     "output_type": "stream",
     "text": [
      "13 Mar 00:44    INFO  epoch 11 training [time: 558.25s, train_loss1: 308.4997, train_loss2: 3.4309]\n"
     ]
    },
    {
     "data": {
      "application/vnd.jupyter.widget-view+json": {
       "model_id": "1c0e890e5bfa4a359276cea301f348f8",
       "version_major": 2,
       "version_minor": 0
      },
      "text/plain": [
       "\u001b[1;35mEvaluate   \u001b[0m:   0%|                                                         | 0/9651 [00:00<?, ?it/s…"
      ]
     },
     "metadata": {},
     "output_type": "display_data"
    },
    {
     "name": "stderr",
     "output_type": "stream",
     "text": [
      "13 Mar 00:44    INFO  epoch 11 evaluating [time: 19.43s, valid_score: 0.035800]\n",
      "13 Mar 00:44    INFO  valid result: \n",
      "ndcg@10 : 0.0358    hit@10 : 0.2328    precision@10 : 0.0317\n"
     ]
    },
    {
     "data": {
      "application/vnd.jupyter.widget-view+json": {
       "model_id": "1ff955152d7b4cbc834f763e16f38e71",
       "version_major": 2,
       "version_minor": 0
      },
      "text/plain": [
       "\u001b[1;35mTrain    12\u001b[0m:   0%|          | 0/2482 [00:00<?, ?it/s]"
      ]
     },
     "metadata": {},
     "output_type": "display_data"
    },
    {
     "data": {
      "application/vnd.jupyter.widget-view+json": {
       "model_id": "94e2e342658c4dc88d02b08647d91146",
       "version_major": 2,
       "version_minor": 0
      },
      "text/plain": [
       "\u001b[1;35mTrain    12\u001b[0m:   0%|          | 0/2477 [00:00<?, ?it/s]"
      ]
     },
     "metadata": {},
     "output_type": "display_data"
    },
    {
     "name": "stderr",
     "output_type": "stream",
     "text": [
      "13 Mar 00:54    INFO  epoch 12 training [time: 558.78s, train_loss1: 287.2889, train_loss2: 3.2159]\n"
     ]
    },
    {
     "data": {
      "application/vnd.jupyter.widget-view+json": {
       "model_id": "79be74d18286473c9ecb120839fc52d3",
       "version_major": 2,
       "version_minor": 0
      },
      "text/plain": [
       "\u001b[1;35mEvaluate   \u001b[0m:   0%|                                                         | 0/9651 [00:00<?, ?it/s…"
      ]
     },
     "metadata": {},
     "output_type": "display_data"
    },
    {
     "name": "stderr",
     "output_type": "stream",
     "text": [
      "13 Mar 00:54    INFO  epoch 12 evaluating [time: 19.78s, valid_score: 0.035800]\n",
      "13 Mar 00:54    INFO  valid result: \n",
      "ndcg@10 : 0.0358    hit@10 : 0.2306    precision@10 : 0.0315\n"
     ]
    },
    {
     "data": {
      "application/vnd.jupyter.widget-view+json": {
       "model_id": "90cb01a77c124672a0000fc92ab33ad0",
       "version_major": 2,
       "version_minor": 0
      },
      "text/plain": [
       "\u001b[1;35mTrain    13\u001b[0m:   0%|          | 0/2482 [00:00<?, ?it/s]"
      ]
     },
     "metadata": {},
     "output_type": "display_data"
    },
    {
     "data": {
      "application/vnd.jupyter.widget-view+json": {
       "model_id": "d821d85806734f40945f3f53faa197f9",
       "version_major": 2,
       "version_minor": 0
      },
      "text/plain": [
       "\u001b[1;35mTrain    13\u001b[0m:   0%|          | 0/2477 [00:00<?, ?it/s]"
      ]
     },
     "metadata": {},
     "output_type": "display_data"
    },
    {
     "name": "stderr",
     "output_type": "stream",
     "text": [
      "13 Mar 01:03    INFO  epoch 13 training [time: 558.51s, train_loss1: 271.1874, train_loss2: 2.9385]\n"
     ]
    },
    {
     "data": {
      "application/vnd.jupyter.widget-view+json": {
       "model_id": "a348bf6baadc47099cbfc673edaf23ab",
       "version_major": 2,
       "version_minor": 0
      },
      "text/plain": [
       "\u001b[1;35mEvaluate   \u001b[0m:   0%|                                                         | 0/9651 [00:00<?, ?it/s…"
      ]
     },
     "metadata": {},
     "output_type": "display_data"
    },
    {
     "name": "stderr",
     "output_type": "stream",
     "text": [
      "13 Mar 01:04    INFO  epoch 13 evaluating [time: 19.49s, valid_score: 0.036100]\n",
      "13 Mar 01:04    INFO  valid result: \n",
      "ndcg@10 : 0.0361    hit@10 : 0.2331    precision@10 : 0.0319\n",
      "13 Mar 01:04    INFO  Saving current: saved/KGAT-Mar-12-2023_22-46-45.pth\n"
     ]
    },
    {
     "data": {
      "application/vnd.jupyter.widget-view+json": {
       "model_id": "d806158633cb42249993739ab2f06079",
       "version_major": 2,
       "version_minor": 0
      },
      "text/plain": [
       "\u001b[1;35mTrain    14\u001b[0m:   0%|          | 0/2482 [00:00<?, ?it/s]"
      ]
     },
     "metadata": {},
     "output_type": "display_data"
    },
    {
     "data": {
      "application/vnd.jupyter.widget-view+json": {
       "model_id": "313690ff93d94627be98725c6c7d7374",
       "version_major": 2,
       "version_minor": 0
      },
      "text/plain": [
       "\u001b[1;35mTrain    14\u001b[0m:   0%|          | 0/2477 [00:00<?, ?it/s]"
      ]
     },
     "metadata": {},
     "output_type": "display_data"
    },
    {
     "name": "stderr",
     "output_type": "stream",
     "text": [
      "13 Mar 01:13    INFO  epoch 14 training [time: 558.69s, train_loss1: 255.9225, train_loss2: 2.7500]\n"
     ]
    },
    {
     "data": {
      "application/vnd.jupyter.widget-view+json": {
       "model_id": "77e8aff038df4c2ea91aed102cb90685",
       "version_major": 2,
       "version_minor": 0
      },
      "text/plain": [
       "\u001b[1;35mEvaluate   \u001b[0m:   0%|                                                         | 0/9651 [00:00<?, ?it/s…"
      ]
     },
     "metadata": {},
     "output_type": "display_data"
    },
    {
     "name": "stderr",
     "output_type": "stream",
     "text": [
      "13 Mar 01:13    INFO  epoch 14 evaluating [time: 20.35s, valid_score: 0.035700]\n",
      "13 Mar 01:13    INFO  valid result: \n",
      "ndcg@10 : 0.0357    hit@10 : 0.231    precision@10 : 0.0315\n"
     ]
    },
    {
     "data": {
      "application/vnd.jupyter.widget-view+json": {
       "model_id": "85ba35aa800242a099424569757e020f",
       "version_major": 2,
       "version_minor": 0
      },
      "text/plain": [
       "\u001b[1;35mTrain    15\u001b[0m:   0%|          | 0/2482 [00:00<?, ?it/s]"
      ]
     },
     "metadata": {},
     "output_type": "display_data"
    },
    {
     "data": {
      "application/vnd.jupyter.widget-view+json": {
       "model_id": "68131eec0bf1487eb920ff5419d434a8",
       "version_major": 2,
       "version_minor": 0
      },
      "text/plain": [
       "\u001b[1;35mTrain    15\u001b[0m:   0%|          | 0/2477 [00:00<?, ?it/s]"
      ]
     },
     "metadata": {},
     "output_type": "display_data"
    },
    {
     "name": "stderr",
     "output_type": "stream",
     "text": [
      "13 Mar 01:23    INFO  epoch 15 training [time: 558.47s, train_loss1: 243.4529, train_loss2: 2.5882]\n"
     ]
    },
    {
     "data": {
      "application/vnd.jupyter.widget-view+json": {
       "model_id": "bb890d017cc6466ab25b0959323af312",
       "version_major": 2,
       "version_minor": 0
      },
      "text/plain": [
       "\u001b[1;35mEvaluate   \u001b[0m:   0%|                                                         | 0/9651 [00:00<?, ?it/s…"
      ]
     },
     "metadata": {},
     "output_type": "display_data"
    },
    {
     "name": "stderr",
     "output_type": "stream",
     "text": [
      "13 Mar 01:23    INFO  epoch 15 evaluating [time: 19.29s, valid_score: 0.036600]\n",
      "13 Mar 01:23    INFO  valid result: \n",
      "ndcg@10 : 0.0366    hit@10 : 0.2387    precision@10 : 0.0325\n",
      "13 Mar 01:23    INFO  Saving current: saved/KGAT-Mar-12-2023_22-46-45.pth\n"
     ]
    },
    {
     "data": {
      "application/vnd.jupyter.widget-view+json": {
       "model_id": "bcaa51312f1a47b0a329cb0065e4e492",
       "version_major": 2,
       "version_minor": 0
      },
      "text/plain": [
       "\u001b[1;35mTrain    16\u001b[0m:   0%|          | 0/2482 [00:00<?, ?it/s]"
      ]
     },
     "metadata": {},
     "output_type": "display_data"
    },
    {
     "data": {
      "application/vnd.jupyter.widget-view+json": {
       "model_id": "96f9dc9907d34e92b1845f408fd05718",
       "version_major": 2,
       "version_minor": 0
      },
      "text/plain": [
       "\u001b[1;35mTrain    16\u001b[0m:   0%|          | 0/2477 [00:00<?, ?it/s]"
      ]
     },
     "metadata": {},
     "output_type": "display_data"
    },
    {
     "name": "stderr",
     "output_type": "stream",
     "text": [
      "13 Mar 01:32    INFO  epoch 16 training [time: 558.81s, train_loss1: 231.1356, train_loss2: 2.3902]\n"
     ]
    },
    {
     "data": {
      "application/vnd.jupyter.widget-view+json": {
       "model_id": "e8c2ad6f5c024a1ca644f02a780f0eaf",
       "version_major": 2,
       "version_minor": 0
      },
      "text/plain": [
       "\u001b[1;35mEvaluate   \u001b[0m:   0%|                                                         | 0/9651 [00:00<?, ?it/s…"
      ]
     },
     "metadata": {},
     "output_type": "display_data"
    },
    {
     "name": "stderr",
     "output_type": "stream",
     "text": [
      "13 Mar 01:33    INFO  epoch 16 evaluating [time: 19.33s, valid_score: 0.037900]\n",
      "13 Mar 01:33    INFO  valid result: \n",
      "ndcg@10 : 0.0379    hit@10 : 0.241    precision@10 : 0.0332\n",
      "13 Mar 01:33    INFO  Saving current: saved/KGAT-Mar-12-2023_22-46-45.pth\n"
     ]
    },
    {
     "data": {
      "application/vnd.jupyter.widget-view+json": {
       "model_id": "2c2a0f3fdad34a33b81eeb8579df69d7",
       "version_major": 2,
       "version_minor": 0
      },
      "text/plain": [
       "\u001b[1;35mTrain    17\u001b[0m:   0%|          | 0/2482 [00:00<?, ?it/s]"
      ]
     },
     "metadata": {},
     "output_type": "display_data"
    },
    {
     "data": {
      "application/vnd.jupyter.widget-view+json": {
       "model_id": "723550cce9bf4b5a856665617f828f47",
       "version_major": 2,
       "version_minor": 0
      },
      "text/plain": [
       "\u001b[1;35mTrain    17\u001b[0m:   0%|          | 0/2477 [00:00<?, ?it/s]"
      ]
     },
     "metadata": {},
     "output_type": "display_data"
    },
    {
     "name": "stderr",
     "output_type": "stream",
     "text": [
      "13 Mar 01:42    INFO  epoch 17 training [time: 558.06s, train_loss1: 219.9905, train_loss2: 2.1316]\n"
     ]
    },
    {
     "data": {
      "application/vnd.jupyter.widget-view+json": {
       "model_id": "84440eafe40c4ef38c2b4659ec702b94",
       "version_major": 2,
       "version_minor": 0
      },
      "text/plain": [
       "\u001b[1;35mEvaluate   \u001b[0m:   0%|                                                         | 0/9651 [00:00<?, ?it/s…"
      ]
     },
     "metadata": {},
     "output_type": "display_data"
    },
    {
     "name": "stderr",
     "output_type": "stream",
     "text": [
      "13 Mar 01:42    INFO  epoch 17 evaluating [time: 19.38s, valid_score: 0.037500]\n",
      "13 Mar 01:42    INFO  valid result: \n",
      "ndcg@10 : 0.0375    hit@10 : 0.2405    precision@10 : 0.0328\n"
     ]
    },
    {
     "data": {
      "application/vnd.jupyter.widget-view+json": {
       "model_id": "9859c578d3c743d5a2ac7c4fbf97102e",
       "version_major": 2,
       "version_minor": 0
      },
      "text/plain": [
       "\u001b[1;35mTrain    18\u001b[0m:   0%|          | 0/2482 [00:00<?, ?it/s]"
      ]
     },
     "metadata": {},
     "output_type": "display_data"
    },
    {
     "data": {
      "application/vnd.jupyter.widget-view+json": {
       "model_id": "007c86cffa9e42baa84f7f582d29d7c3",
       "version_major": 2,
       "version_minor": 0
      },
      "text/plain": [
       "\u001b[1;35mTrain    18\u001b[0m:   0%|          | 0/2477 [00:00<?, ?it/s]"
      ]
     },
     "metadata": {},
     "output_type": "display_data"
    },
    {
     "name": "stderr",
     "output_type": "stream",
     "text": [
      "13 Mar 01:52    INFO  epoch 18 training [time: 558.38s, train_loss1: 210.4614, train_loss2: 2.2364]\n"
     ]
    },
    {
     "data": {
      "application/vnd.jupyter.widget-view+json": {
       "model_id": "7c21adbd794544f1bc5edf0357719d4a",
       "version_major": 2,
       "version_minor": 0
      },
      "text/plain": [
       "\u001b[1;35mEvaluate   \u001b[0m:   0%|                                                         | 0/9651 [00:00<?, ?it/s…"
      ]
     },
     "metadata": {},
     "output_type": "display_data"
    },
    {
     "name": "stderr",
     "output_type": "stream",
     "text": [
      "13 Mar 01:52    INFO  epoch 18 evaluating [time: 19.47s, valid_score: 0.037000]\n",
      "13 Mar 01:52    INFO  valid result: \n",
      "ndcg@10 : 0.037    hit@10 : 0.2417    precision@10 : 0.0326\n"
     ]
    },
    {
     "data": {
      "application/vnd.jupyter.widget-view+json": {
       "model_id": "f51a0c790e6c45738b6137cd3af6d0f6",
       "version_major": 2,
       "version_minor": 0
      },
      "text/plain": [
       "\u001b[1;35mTrain    19\u001b[0m:   0%|          | 0/2482 [00:00<?, ?it/s]"
      ]
     },
     "metadata": {},
     "output_type": "display_data"
    },
    {
     "data": {
      "application/vnd.jupyter.widget-view+json": {
       "model_id": "206353c82d4b4ca8afc7ded5cfe090e6",
       "version_major": 2,
       "version_minor": 0
      },
      "text/plain": [
       "\u001b[1;35mTrain    19\u001b[0m:   0%|          | 0/2477 [00:00<?, ?it/s]"
      ]
     },
     "metadata": {},
     "output_type": "display_data"
    },
    {
     "name": "stderr",
     "output_type": "stream",
     "text": [
      "13 Mar 02:01    INFO  epoch 19 training [time: 559.18s, train_loss1: 201.9276, train_loss2: 2.0947]\n"
     ]
    },
    {
     "data": {
      "application/vnd.jupyter.widget-view+json": {
       "model_id": "7548711d1a4e443fafe90d1b32c00d91",
       "version_major": 2,
       "version_minor": 0
      },
      "text/plain": [
       "\u001b[1;35mEvaluate   \u001b[0m:   0%|                                                         | 0/9651 [00:00<?, ?it/s…"
      ]
     },
     "metadata": {},
     "output_type": "display_data"
    },
    {
     "name": "stderr",
     "output_type": "stream",
     "text": [
      "13 Mar 02:01    INFO  epoch 19 evaluating [time: 19.33s, valid_score: 0.037200]\n",
      "13 Mar 02:01    INFO  valid result: \n",
      "ndcg@10 : 0.0372    hit@10 : 0.241    precision@10 : 0.0329\n"
     ]
    },
    {
     "data": {
      "application/vnd.jupyter.widget-view+json": {
       "model_id": "c7549e27bb3d4c9dac031cacea633759",
       "version_major": 2,
       "version_minor": 0
      },
      "text/plain": [
       "\u001b[1;35mTrain    20\u001b[0m:   0%|          | 0/2482 [00:00<?, ?it/s]"
      ]
     },
     "metadata": {},
     "output_type": "display_data"
    },
    {
     "data": {
      "application/vnd.jupyter.widget-view+json": {
       "model_id": "ed5ecee3b09a4bec82cd583897207286",
       "version_major": 2,
       "version_minor": 0
      },
      "text/plain": [
       "\u001b[1;35mTrain    20\u001b[0m:   0%|          | 0/2477 [00:00<?, ?it/s]"
      ]
     },
     "metadata": {},
     "output_type": "display_data"
    },
    {
     "name": "stderr",
     "output_type": "stream",
     "text": [
      "13 Mar 02:11    INFO  epoch 20 training [time: 558.24s, train_loss1: 194.3117, train_loss2: 2.0378]\n"
     ]
    },
    {
     "data": {
      "application/vnd.jupyter.widget-view+json": {
       "model_id": "b56ed64a34274aae902ec32dad5e7eb8",
       "version_major": 2,
       "version_minor": 0
      },
      "text/plain": [
       "\u001b[1;35mEvaluate   \u001b[0m:   0%|                                                         | 0/9651 [00:00<?, ?it/s…"
      ]
     },
     "metadata": {},
     "output_type": "display_data"
    },
    {
     "name": "stderr",
     "output_type": "stream",
     "text": [
      "13 Mar 02:11    INFO  epoch 20 evaluating [time: 19.11s, valid_score: 0.036600]\n",
      "13 Mar 02:11    INFO  valid result: \n",
      "ndcg@10 : 0.0366    hit@10 : 0.241    precision@10 : 0.0326\n"
     ]
    },
    {
     "data": {
      "application/vnd.jupyter.widget-view+json": {
       "model_id": "71d4aad85f004977bec3f0dbf2ac461f",
       "version_major": 2,
       "version_minor": 0
      },
      "text/plain": [
       "\u001b[1;35mTrain    21\u001b[0m:   0%|          | 0/2482 [00:00<?, ?it/s]"
      ]
     },
     "metadata": {},
     "output_type": "display_data"
    },
    {
     "data": {
      "application/vnd.jupyter.widget-view+json": {
       "model_id": "c0f28d9e960e490891898c99cc5ad74c",
       "version_major": 2,
       "version_minor": 0
      },
      "text/plain": [
       "\u001b[1;35mTrain    21\u001b[0m:   0%|          | 0/2477 [00:00<?, ?it/s]"
      ]
     },
     "metadata": {},
     "output_type": "display_data"
    },
    {
     "name": "stderr",
     "output_type": "stream",
     "text": [
      "13 Mar 02:20    INFO  epoch 21 training [time: 558.74s, train_loss1: 187.7181, train_loss2: 2.0391]\n"
     ]
    },
    {
     "data": {
      "application/vnd.jupyter.widget-view+json": {
       "model_id": "91e4a0fe0d19455d8bf5bea58462735b",
       "version_major": 2,
       "version_minor": 0
      },
      "text/plain": [
       "\u001b[1;35mEvaluate   \u001b[0m:   0%|                                                         | 0/9651 [00:00<?, ?it/s…"
      ]
     },
     "metadata": {},
     "output_type": "display_data"
    },
    {
     "name": "stderr",
     "output_type": "stream",
     "text": [
      "13 Mar 02:21    INFO  epoch 21 evaluating [time: 19.57s, valid_score: 0.036100]\n",
      "13 Mar 02:21    INFO  valid result: \n",
      "ndcg@10 : 0.0361    hit@10 : 0.2402    precision@10 : 0.0323\n"
     ]
    },
    {
     "data": {
      "application/vnd.jupyter.widget-view+json": {
       "model_id": "16ff350261a84458945c984d8b383938",
       "version_major": 2,
       "version_minor": 0
      },
      "text/plain": [
       "\u001b[1;35mTrain    22\u001b[0m:   0%|          | 0/2482 [00:00<?, ?it/s]"
      ]
     },
     "metadata": {},
     "output_type": "display_data"
    },
    {
     "data": {
      "application/vnd.jupyter.widget-view+json": {
       "model_id": "0460711a3bd54157ac07d2225b08295d",
       "version_major": 2,
       "version_minor": 0
      },
      "text/plain": [
       "\u001b[1;35mTrain    22\u001b[0m:   0%|          | 0/2477 [00:00<?, ?it/s]"
      ]
     },
     "metadata": {},
     "output_type": "display_data"
    },
    {
     "name": "stderr",
     "output_type": "stream",
     "text": [
      "13 Mar 02:30    INFO  epoch 22 training [time: 557.96s, train_loss1: 180.8357, train_loss2: 1.8436]\n"
     ]
    },
    {
     "data": {
      "application/vnd.jupyter.widget-view+json": {
       "model_id": "8c7a49e38b6d4e2da057522613860a3a",
       "version_major": 2,
       "version_minor": 0
      },
      "text/plain": [
       "\u001b[1;35mEvaluate   \u001b[0m:   0%|                                                         | 0/9651 [00:00<?, ?it/s…"
      ]
     },
     "metadata": {},
     "output_type": "display_data"
    },
    {
     "name": "stderr",
     "output_type": "stream",
     "text": [
      "13 Mar 02:30    INFO  epoch 22 evaluating [time: 19.32s, valid_score: 0.037100]\n",
      "13 Mar 02:30    INFO  valid result: \n",
      "ndcg@10 : 0.0371    hit@10 : 0.2451    precision@10 : 0.033\n"
     ]
    },
    {
     "data": {
      "application/vnd.jupyter.widget-view+json": {
       "model_id": "486b523c77a04dbf8ebf6b03f16cde25",
       "version_major": 2,
       "version_minor": 0
      },
      "text/plain": [
       "\u001b[1;35mTrain    23\u001b[0m:   0%|          | 0/2482 [00:00<?, ?it/s]"
      ]
     },
     "metadata": {},
     "output_type": "display_data"
    },
    {
     "data": {
      "application/vnd.jupyter.widget-view+json": {
       "model_id": "915959f36aae4c6684e7b9ddb40468d7",
       "version_major": 2,
       "version_minor": 0
      },
      "text/plain": [
       "\u001b[1;35mTrain    23\u001b[0m:   0%|          | 0/2477 [00:00<?, ?it/s]"
      ]
     },
     "metadata": {},
     "output_type": "display_data"
    },
    {
     "name": "stderr",
     "output_type": "stream",
     "text": [
      "13 Mar 02:40    INFO  epoch 23 training [time: 558.38s, train_loss1: 176.0473, train_loss2: 1.9286]\n"
     ]
    },
    {
     "data": {
      "application/vnd.jupyter.widget-view+json": {
       "model_id": "9f1928a72bc14ab98ca4ead4ea8f8a99",
       "version_major": 2,
       "version_minor": 0
      },
      "text/plain": [
       "\u001b[1;35mEvaluate   \u001b[0m:   0%|                                                         | 0/9651 [00:00<?, ?it/s…"
      ]
     },
     "metadata": {},
     "output_type": "display_data"
    },
    {
     "name": "stderr",
     "output_type": "stream",
     "text": [
      "13 Mar 02:40    INFO  epoch 23 evaluating [time: 19.28s, valid_score: 0.038000]\n",
      "13 Mar 02:40    INFO  valid result: \n",
      "ndcg@10 : 0.038    hit@10 : 0.2489    precision@10 : 0.0336\n",
      "13 Mar 02:40    INFO  Saving current: saved/KGAT-Mar-12-2023_22-46-45.pth\n"
     ]
    },
    {
     "data": {
      "application/vnd.jupyter.widget-view+json": {
       "model_id": "62154ed8e55a46f9a9ae0ab38088f740",
       "version_major": 2,
       "version_minor": 0
      },
      "text/plain": [
       "\u001b[1;35mTrain    24\u001b[0m:   0%|          | 0/2482 [00:00<?, ?it/s]"
      ]
     },
     "metadata": {},
     "output_type": "display_data"
    },
    {
     "data": {
      "application/vnd.jupyter.widget-view+json": {
       "model_id": "0346758e20c24517b5cb0c23198f95ea",
       "version_major": 2,
       "version_minor": 0
      },
      "text/plain": [
       "\u001b[1;35mTrain    24\u001b[0m:   0%|          | 0/2477 [00:00<?, ?it/s]"
      ]
     },
     "metadata": {},
     "output_type": "display_data"
    },
    {
     "name": "stderr",
     "output_type": "stream",
     "text": [
      "13 Mar 02:49    INFO  epoch 24 training [time: 557.91s, train_loss1: 168.8278, train_loss2: 1.7872]\n"
     ]
    },
    {
     "data": {
      "application/vnd.jupyter.widget-view+json": {
       "model_id": "c0d14e4bef094d0aa9b0fa11cc9e1016",
       "version_major": 2,
       "version_minor": 0
      },
      "text/plain": [
       "\u001b[1;35mEvaluate   \u001b[0m:   0%|                                                         | 0/9651 [00:00<?, ?it/s…"
      ]
     },
     "metadata": {},
     "output_type": "display_data"
    },
    {
     "name": "stderr",
     "output_type": "stream",
     "text": [
      "13 Mar 02:50    INFO  epoch 24 evaluating [time: 19.44s, valid_score: 0.037000]\n",
      "13 Mar 02:50    INFO  valid result: \n",
      "ndcg@10 : 0.037    hit@10 : 0.2422    precision@10 : 0.0328\n"
     ]
    },
    {
     "data": {
      "application/vnd.jupyter.widget-view+json": {
       "model_id": "582169df8a834645ad036e31230cc4b6",
       "version_major": 2,
       "version_minor": 0
      },
      "text/plain": [
       "\u001b[1;35mTrain    25\u001b[0m:   0%|          | 0/2482 [00:00<?, ?it/s]"
      ]
     },
     "metadata": {},
     "output_type": "display_data"
    },
    {
     "data": {
      "application/vnd.jupyter.widget-view+json": {
       "model_id": "6225f327da9640a09d991bc439893a55",
       "version_major": 2,
       "version_minor": 0
      },
      "text/plain": [
       "\u001b[1;35mTrain    25\u001b[0m:   0%|          | 0/2477 [00:00<?, ?it/s]"
      ]
     },
     "metadata": {},
     "output_type": "display_data"
    },
    {
     "name": "stderr",
     "output_type": "stream",
     "text": [
      "13 Mar 02:59    INFO  epoch 25 training [time: 558.60s, train_loss1: 165.2871, train_loss2: 1.6747]\n"
     ]
    },
    {
     "data": {
      "application/vnd.jupyter.widget-view+json": {
       "model_id": "ec9801099b934a54a55a6666b71f7b53",
       "version_major": 2,
       "version_minor": 0
      },
      "text/plain": [
       "\u001b[1;35mEvaluate   \u001b[0m:   0%|                                                         | 0/9651 [00:00<?, ?it/s…"
      ]
     },
     "metadata": {},
     "output_type": "display_data"
    },
    {
     "name": "stderr",
     "output_type": "stream",
     "text": [
      "13 Mar 02:59    INFO  epoch 25 evaluating [time: 19.67s, valid_score: 0.037100]\n",
      "13 Mar 02:59    INFO  valid result: \n",
      "ndcg@10 : 0.0371    hit@10 : 0.2394    precision@10 : 0.0327\n"
     ]
    },
    {
     "data": {
      "application/vnd.jupyter.widget-view+json": {
       "model_id": "a43cfd74031046eabc43b36d0a17132b",
       "version_major": 2,
       "version_minor": 0
      },
      "text/plain": [
       "\u001b[1;35mTrain    26\u001b[0m:   0%|          | 0/2482 [00:00<?, ?it/s]"
      ]
     },
     "metadata": {},
     "output_type": "display_data"
    },
    {
     "data": {
      "application/vnd.jupyter.widget-view+json": {
       "model_id": "13bb7cf3c6ca4c1a9765bf86f64df8d2",
       "version_major": 2,
       "version_minor": 0
      },
      "text/plain": [
       "\u001b[1;35mTrain    26\u001b[0m:   0%|          | 0/2477 [00:00<?, ?it/s]"
      ]
     },
     "metadata": {},
     "output_type": "display_data"
    },
    {
     "name": "stderr",
     "output_type": "stream",
     "text": [
      "13 Mar 03:09    INFO  epoch 26 training [time: 558.31s, train_loss1: 160.8752, train_loss2: 1.7576]\n"
     ]
    },
    {
     "data": {
      "application/vnd.jupyter.widget-view+json": {
       "model_id": "85ddc0b815064ec89e6d9f0dd1d404e6",
       "version_major": 2,
       "version_minor": 0
      },
      "text/plain": [
       "\u001b[1;35mEvaluate   \u001b[0m:   0%|                                                         | 0/9651 [00:00<?, ?it/s…"
      ]
     },
     "metadata": {},
     "output_type": "display_data"
    },
    {
     "name": "stderr",
     "output_type": "stream",
     "text": [
      "13 Mar 03:09    INFO  epoch 26 evaluating [time: 19.51s, valid_score: 0.037500]\n",
      "13 Mar 03:09    INFO  valid result: \n",
      "ndcg@10 : 0.0375    hit@10 : 0.2432    precision@10 : 0.0331\n"
     ]
    },
    {
     "data": {
      "application/vnd.jupyter.widget-view+json": {
       "model_id": "8ce7f9dd93394146806d56947a0a67ca",
       "version_major": 2,
       "version_minor": 0
      },
      "text/plain": [
       "\u001b[1;35mTrain    27\u001b[0m:   0%|          | 0/2482 [00:00<?, ?it/s]"
      ]
     },
     "metadata": {},
     "output_type": "display_data"
    },
    {
     "data": {
      "application/vnd.jupyter.widget-view+json": {
       "model_id": "c34ea8c0c2a14fa7861f20683f415778",
       "version_major": 2,
       "version_minor": 0
      },
      "text/plain": [
       "\u001b[1;35mTrain    27\u001b[0m:   0%|          | 0/2477 [00:00<?, ?it/s]"
      ]
     },
     "metadata": {},
     "output_type": "display_data"
    },
    {
     "name": "stderr",
     "output_type": "stream",
     "text": [
      "13 Mar 03:18    INFO  epoch 27 training [time: 558.38s, train_loss1: 156.4708, train_loss2: 1.6149]\n"
     ]
    },
    {
     "data": {
      "application/vnd.jupyter.widget-view+json": {
       "model_id": "bd0977560b084fbdabc0d013d87ef480",
       "version_major": 2,
       "version_minor": 0
      },
      "text/plain": [
       "\u001b[1;35mEvaluate   \u001b[0m:   0%|                                                         | 0/9651 [00:00<?, ?it/s…"
      ]
     },
     "metadata": {},
     "output_type": "display_data"
    },
    {
     "name": "stderr",
     "output_type": "stream",
     "text": [
      "13 Mar 03:19    INFO  epoch 27 evaluating [time: 19.49s, valid_score: 0.038100]\n",
      "13 Mar 03:19    INFO  valid result: \n",
      "ndcg@10 : 0.0381    hit@10 : 0.2463    precision@10 : 0.0334\n",
      "13 Mar 03:19    INFO  Saving current: saved/KGAT-Mar-12-2023_22-46-45.pth\n"
     ]
    },
    {
     "data": {
      "application/vnd.jupyter.widget-view+json": {
       "model_id": "fbf31ec87bef4c35b4ea415088843d49",
       "version_major": 2,
       "version_minor": 0
      },
      "text/plain": [
       "\u001b[1;35mTrain    28\u001b[0m:   0%|          | 0/2482 [00:00<?, ?it/s]"
      ]
     },
     "metadata": {},
     "output_type": "display_data"
    },
    {
     "data": {
      "application/vnd.jupyter.widget-view+json": {
       "model_id": "106816cae6b24feb959e7d728d3a32ca",
       "version_major": 2,
       "version_minor": 0
      },
      "text/plain": [
       "\u001b[1;35mTrain    28\u001b[0m:   0%|          | 0/2477 [00:00<?, ?it/s]"
      ]
     },
     "metadata": {},
     "output_type": "display_data"
    },
    {
     "name": "stderr",
     "output_type": "stream",
     "text": [
      "13 Mar 03:28    INFO  epoch 28 training [time: 558.79s, train_loss1: 153.4196, train_loss2: 1.5758]\n"
     ]
    },
    {
     "data": {
      "application/vnd.jupyter.widget-view+json": {
       "model_id": "082661464bcb4211a00c8502119d09dd",
       "version_major": 2,
       "version_minor": 0
      },
      "text/plain": [
       "\u001b[1;35mEvaluate   \u001b[0m:   0%|                                                         | 0/9651 [00:00<?, ?it/s…"
      ]
     },
     "metadata": {},
     "output_type": "display_data"
    },
    {
     "name": "stderr",
     "output_type": "stream",
     "text": [
      "13 Mar 03:28    INFO  epoch 28 evaluating [time: 19.54s, valid_score: 0.037700]\n",
      "13 Mar 03:28    INFO  valid result: \n",
      "ndcg@10 : 0.0377    hit@10 : 0.2464    precision@10 : 0.0334\n"
     ]
    },
    {
     "data": {
      "application/vnd.jupyter.widget-view+json": {
       "model_id": "1b7c1c58e2fc4596ba9dfdcb21f764fc",
       "version_major": 2,
       "version_minor": 0
      },
      "text/plain": [
       "\u001b[1;35mTrain    29\u001b[0m:   0%|          | 0/2482 [00:00<?, ?it/s]"
      ]
     },
     "metadata": {},
     "output_type": "display_data"
    },
    {
     "data": {
      "application/vnd.jupyter.widget-view+json": {
       "model_id": "2a43749d8413438a9d6ecc3c22510a1c",
       "version_major": 2,
       "version_minor": 0
      },
      "text/plain": [
       "\u001b[1;35mTrain    29\u001b[0m:   0%|          | 0/2477 [00:00<?, ?it/s]"
      ]
     },
     "metadata": {},
     "output_type": "display_data"
    },
    {
     "name": "stderr",
     "output_type": "stream",
     "text": [
      "13 Mar 03:38    INFO  epoch 29 training [time: 559.13s, train_loss1: 148.4274, train_loss2: 1.6470]\n"
     ]
    },
    {
     "data": {
      "application/vnd.jupyter.widget-view+json": {
       "model_id": "0034dfaccf0347ef8526c97453989000",
       "version_major": 2,
       "version_minor": 0
      },
      "text/plain": [
       "\u001b[1;35mEvaluate   \u001b[0m:   0%|                                                         | 0/9651 [00:00<?, ?it/s…"
      ]
     },
     "metadata": {},
     "output_type": "display_data"
    },
    {
     "name": "stderr",
     "output_type": "stream",
     "text": [
      "13 Mar 03:38    INFO  epoch 29 evaluating [time: 19.69s, valid_score: 0.038500]\n",
      "13 Mar 03:38    INFO  valid result: \n",
      "ndcg@10 : 0.0385    hit@10 : 0.2477    precision@10 : 0.0338\n",
      "13 Mar 03:38    INFO  Saving current: saved/KGAT-Mar-12-2023_22-46-45.pth\n"
     ]
    },
    {
     "data": {
      "application/vnd.jupyter.widget-view+json": {
       "model_id": "7be9088f381d44f7aebfe08c4ae8d032",
       "version_major": 2,
       "version_minor": 0
      },
      "text/plain": [
       "\u001b[1;35mTrain    30\u001b[0m:   0%|          | 0/2482 [00:00<?, ?it/s]"
      ]
     },
     "metadata": {},
     "output_type": "display_data"
    },
    {
     "data": {
      "application/vnd.jupyter.widget-view+json": {
       "model_id": "25468dda6e05409c8feb616f46eb8ff6",
       "version_major": 2,
       "version_minor": 0
      },
      "text/plain": [
       "\u001b[1;35mTrain    30\u001b[0m:   0%|          | 0/2477 [00:00<?, ?it/s]"
      ]
     },
     "metadata": {},
     "output_type": "display_data"
    },
    {
     "name": "stderr",
     "output_type": "stream",
     "text": [
      "13 Mar 03:47    INFO  epoch 30 training [time: 559.14s, train_loss1: 146.1308, train_loss2: 1.5805]\n"
     ]
    },
    {
     "data": {
      "application/vnd.jupyter.widget-view+json": {
       "model_id": "49332c48366b43648ba9966df73440ec",
       "version_major": 2,
       "version_minor": 0
      },
      "text/plain": [
       "\u001b[1;35mEvaluate   \u001b[0m:   0%|                                                         | 0/9651 [00:00<?, ?it/s…"
      ]
     },
     "metadata": {},
     "output_type": "display_data"
    },
    {
     "name": "stderr",
     "output_type": "stream",
     "text": [
      "13 Mar 03:47    INFO  epoch 30 evaluating [time: 19.75s, valid_score: 0.037600]\n",
      "13 Mar 03:47    INFO  valid result: \n",
      "ndcg@10 : 0.0376    hit@10 : 0.2484    precision@10 : 0.0333\n"
     ]
    },
    {
     "data": {
      "application/vnd.jupyter.widget-view+json": {
       "model_id": "43f9fe9fcf274e579859cd99aac5d5ec",
       "version_major": 2,
       "version_minor": 0
      },
      "text/plain": [
       "\u001b[1;35mTrain    31\u001b[0m:   0%|          | 0/2482 [00:00<?, ?it/s]"
      ]
     },
     "metadata": {},
     "output_type": "display_data"
    },
    {
     "data": {
      "application/vnd.jupyter.widget-view+json": {
       "model_id": "e99f1466f0694464949b4721a9992c68",
       "version_major": 2,
       "version_minor": 0
      },
      "text/plain": [
       "\u001b[1;35mTrain    31\u001b[0m:   0%|          | 0/2477 [00:00<?, ?it/s]"
      ]
     },
     "metadata": {},
     "output_type": "display_data"
    },
    {
     "name": "stderr",
     "output_type": "stream",
     "text": [
      "13 Mar 03:57    INFO  epoch 31 training [time: 558.56s, train_loss1: 143.2572, train_loss2: 1.6108]\n"
     ]
    },
    {
     "data": {
      "application/vnd.jupyter.widget-view+json": {
       "model_id": "569fb0244b534d34826d7179594cd32c",
       "version_major": 2,
       "version_minor": 0
      },
      "text/plain": [
       "\u001b[1;35mEvaluate   \u001b[0m:   0%|                                                         | 0/9651 [00:00<?, ?it/s…"
      ]
     },
     "metadata": {},
     "output_type": "display_data"
    },
    {
     "name": "stderr",
     "output_type": "stream",
     "text": [
      "13 Mar 03:57    INFO  epoch 31 evaluating [time: 19.09s, valid_score: 0.037400]\n",
      "13 Mar 03:57    INFO  valid result: \n",
      "ndcg@10 : 0.0374    hit@10 : 0.2433    precision@10 : 0.0331\n"
     ]
    },
    {
     "data": {
      "application/vnd.jupyter.widget-view+json": {
       "model_id": "a35fed9095d0453b91ade10875659c71",
       "version_major": 2,
       "version_minor": 0
      },
      "text/plain": [
       "\u001b[1;35mTrain    32\u001b[0m:   0%|          | 0/2482 [00:00<?, ?it/s]"
      ]
     },
     "metadata": {},
     "output_type": "display_data"
    },
    {
     "data": {
      "application/vnd.jupyter.widget-view+json": {
       "model_id": "1dcc537a6b7143af853aef70a3d7cf8c",
       "version_major": 2,
       "version_minor": 0
      },
      "text/plain": [
       "\u001b[1;35mTrain    32\u001b[0m:   0%|          | 0/2477 [00:00<?, ?it/s]"
      ]
     },
     "metadata": {},
     "output_type": "display_data"
    },
    {
     "name": "stderr",
     "output_type": "stream",
     "text": [
      "13 Mar 04:06    INFO  epoch 32 training [time: 559.04s, train_loss1: 140.1732, train_loss2: 1.4592]\n"
     ]
    },
    {
     "data": {
      "application/vnd.jupyter.widget-view+json": {
       "model_id": "b930a556cfab4864bf5b48166ed01b36",
       "version_major": 2,
       "version_minor": 0
      },
      "text/plain": [
       "\u001b[1;35mEvaluate   \u001b[0m:   0%|                                                         | 0/9651 [00:00<?, ?it/s…"
      ]
     },
     "metadata": {},
     "output_type": "display_data"
    },
    {
     "name": "stderr",
     "output_type": "stream",
     "text": [
      "13 Mar 04:07    INFO  epoch 32 evaluating [time: 19.72s, valid_score: 0.037500]\n",
      "13 Mar 04:07    INFO  valid result: \n",
      "ndcg@10 : 0.0375    hit@10 : 0.2439    precision@10 : 0.033\n"
     ]
    },
    {
     "data": {
      "application/vnd.jupyter.widget-view+json": {
       "model_id": "050a4c446daa4363979f13c3af67429a",
       "version_major": 2,
       "version_minor": 0
      },
      "text/plain": [
       "\u001b[1;35mTrain    33\u001b[0m:   0%|          | 0/2482 [00:00<?, ?it/s]"
      ]
     },
     "metadata": {},
     "output_type": "display_data"
    },
    {
     "data": {
      "application/vnd.jupyter.widget-view+json": {
       "model_id": "890d2e8548ce4eefa465a83d563549e3",
       "version_major": 2,
       "version_minor": 0
      },
      "text/plain": [
       "\u001b[1;35mTrain    33\u001b[0m:   0%|          | 0/2477 [00:00<?, ?it/s]"
      ]
     },
     "metadata": {},
     "output_type": "display_data"
    },
    {
     "name": "stderr",
     "output_type": "stream",
     "text": [
      "13 Mar 04:16    INFO  epoch 33 training [time: 557.99s, train_loss1: 136.8130, train_loss2: 1.4849]\n"
     ]
    },
    {
     "data": {
      "application/vnd.jupyter.widget-view+json": {
       "model_id": "5ebd06a0065e4b47b1fcf2e437638606",
       "version_major": 2,
       "version_minor": 0
      },
      "text/plain": [
       "\u001b[1;35mEvaluate   \u001b[0m:   0%|                                                         | 0/9651 [00:00<?, ?it/s…"
      ]
     },
     "metadata": {},
     "output_type": "display_data"
    },
    {
     "name": "stderr",
     "output_type": "stream",
     "text": [
      "13 Mar 04:16    INFO  epoch 33 evaluating [time: 19.64s, valid_score: 0.037600]\n",
      "13 Mar 04:16    INFO  valid result: \n",
      "ndcg@10 : 0.0376    hit@10 : 0.2465    precision@10 : 0.0332\n"
     ]
    },
    {
     "data": {
      "application/vnd.jupyter.widget-view+json": {
       "model_id": "5dd7df8be2654555b2afe4cbeb7f51a1",
       "version_major": 2,
       "version_minor": 0
      },
      "text/plain": [
       "\u001b[1;35mTrain    34\u001b[0m:   0%|          | 0/2482 [00:00<?, ?it/s]"
      ]
     },
     "metadata": {},
     "output_type": "display_data"
    },
    {
     "data": {
      "application/vnd.jupyter.widget-view+json": {
       "model_id": "2b22243cdb514d1893cca292e17f9d30",
       "version_major": 2,
       "version_minor": 0
      },
      "text/plain": [
       "\u001b[1;35mTrain    34\u001b[0m:   0%|          | 0/2477 [00:00<?, ?it/s]"
      ]
     },
     "metadata": {},
     "output_type": "display_data"
    },
    {
     "name": "stderr",
     "output_type": "stream",
     "text": [
      "13 Mar 04:26    INFO  epoch 34 training [time: 558.69s, train_loss1: 134.8382, train_loss2: 1.5911]\n"
     ]
    },
    {
     "data": {
      "application/vnd.jupyter.widget-view+json": {
       "model_id": "a9bf17926fb54a5bb9471644813669bb",
       "version_major": 2,
       "version_minor": 0
      },
      "text/plain": [
       "\u001b[1;35mEvaluate   \u001b[0m:   0%|                                                         | 0/9651 [00:00<?, ?it/s…"
      ]
     },
     "metadata": {},
     "output_type": "display_data"
    },
    {
     "name": "stderr",
     "output_type": "stream",
     "text": [
      "13 Mar 04:26    INFO  epoch 34 evaluating [time: 19.24s, valid_score: 0.037300]\n",
      "13 Mar 04:26    INFO  valid result: \n",
      "ndcg@10 : 0.0373    hit@10 : 0.2413    precision@10 : 0.0328\n"
     ]
    },
    {
     "data": {
      "application/vnd.jupyter.widget-view+json": {
       "model_id": "00f4fdb4d7a64738a5d7250406ffb80d",
       "version_major": 2,
       "version_minor": 0
      },
      "text/plain": [
       "\u001b[1;35mTrain    35\u001b[0m:   0%|          | 0/2482 [00:00<?, ?it/s]"
      ]
     },
     "metadata": {},
     "output_type": "display_data"
    },
    {
     "data": {
      "application/vnd.jupyter.widget-view+json": {
       "model_id": "b4338864021e4120a41feffb6872a258",
       "version_major": 2,
       "version_minor": 0
      },
      "text/plain": [
       "\u001b[1;35mTrain    35\u001b[0m:   0%|          | 0/2477 [00:00<?, ?it/s]"
      ]
     },
     "metadata": {},
     "output_type": "display_data"
    },
    {
     "name": "stderr",
     "output_type": "stream",
     "text": [
      "13 Mar 04:35    INFO  epoch 35 training [time: 558.53s, train_loss1: 132.3331, train_loss2: 1.4749]\n"
     ]
    },
    {
     "data": {
      "application/vnd.jupyter.widget-view+json": {
       "model_id": "7e2f6a9695224ddabc0f49dc2b6f338f",
       "version_major": 2,
       "version_minor": 0
      },
      "text/plain": [
       "\u001b[1;35mEvaluate   \u001b[0m:   0%|                                                         | 0/9651 [00:00<?, ?it/s…"
      ]
     },
     "metadata": {},
     "output_type": "display_data"
    },
    {
     "name": "stderr",
     "output_type": "stream",
     "text": [
      "13 Mar 04:36    INFO  epoch 35 evaluating [time: 19.00s, valid_score: 0.038100]\n",
      "13 Mar 04:36    INFO  valid result: \n",
      "ndcg@10 : 0.0381    hit@10 : 0.2518    precision@10 : 0.034\n"
     ]
    },
    {
     "data": {
      "application/vnd.jupyter.widget-view+json": {
       "model_id": "03b036f0f3684dda988a4c9b46f6a3cf",
       "version_major": 2,
       "version_minor": 0
      },
      "text/plain": [
       "\u001b[1;35mTrain    36\u001b[0m:   0%|          | 0/2482 [00:00<?, ?it/s]"
      ]
     },
     "metadata": {},
     "output_type": "display_data"
    },
    {
     "data": {
      "application/vnd.jupyter.widget-view+json": {
       "model_id": "1c641f0365684c8aaad0f5ae9cb7170f",
       "version_major": 2,
       "version_minor": 0
      },
      "text/plain": [
       "\u001b[1;35mTrain    36\u001b[0m:   0%|          | 0/2477 [00:00<?, ?it/s]"
      ]
     },
     "metadata": {},
     "output_type": "display_data"
    },
    {
     "name": "stderr",
     "output_type": "stream",
     "text": [
      "13 Mar 04:45    INFO  epoch 36 training [time: 557.90s, train_loss1: 130.4416, train_loss2: 1.4858]\n"
     ]
    },
    {
     "data": {
      "application/vnd.jupyter.widget-view+json": {
       "model_id": "2e93451c81a6466fad83aa6609311dd2",
       "version_major": 2,
       "version_minor": 0
      },
      "text/plain": [
       "\u001b[1;35mEvaluate   \u001b[0m:   0%|                                                         | 0/9651 [00:00<?, ?it/s…"
      ]
     },
     "metadata": {},
     "output_type": "display_data"
    },
    {
     "name": "stderr",
     "output_type": "stream",
     "text": [
      "13 Mar 04:45    INFO  epoch 36 evaluating [time: 19.37s, valid_score: 0.038000]\n",
      "13 Mar 04:45    INFO  valid result: \n",
      "ndcg@10 : 0.038    hit@10 : 0.2501    precision@10 : 0.0336\n"
     ]
    },
    {
     "data": {
      "application/vnd.jupyter.widget-view+json": {
       "model_id": "7a11fb22d3cd4950b95e43d08a8a10c6",
       "version_major": 2,
       "version_minor": 0
      },
      "text/plain": [
       "\u001b[1;35mTrain    37\u001b[0m:   0%|          | 0/2482 [00:00<?, ?it/s]"
      ]
     },
     "metadata": {},
     "output_type": "display_data"
    },
    {
     "data": {
      "application/vnd.jupyter.widget-view+json": {
       "model_id": "ff3a956de02443958d506baf78246cab",
       "version_major": 2,
       "version_minor": 0
      },
      "text/plain": [
       "\u001b[1;35mTrain    37\u001b[0m:   0%|          | 0/2477 [00:00<?, ?it/s]"
      ]
     },
     "metadata": {},
     "output_type": "display_data"
    },
    {
     "name": "stderr",
     "output_type": "stream",
     "text": [
      "13 Mar 04:55    INFO  epoch 37 training [time: 558.40s, train_loss1: 128.5353, train_loss2: 1.3435]\n"
     ]
    },
    {
     "data": {
      "application/vnd.jupyter.widget-view+json": {
       "model_id": "05ca2b8cfba7404482c59e459b758f71",
       "version_major": 2,
       "version_minor": 0
      },
      "text/plain": [
       "\u001b[1;35mEvaluate   \u001b[0m:   0%|                                                         | 0/9651 [00:00<?, ?it/s…"
      ]
     },
     "metadata": {},
     "output_type": "display_data"
    },
    {
     "name": "stderr",
     "output_type": "stream",
     "text": [
      "13 Mar 04:55    INFO  epoch 37 evaluating [time: 19.65s, valid_score: 0.037800]\n",
      "13 Mar 04:55    INFO  valid result: \n",
      "ndcg@10 : 0.0378    hit@10 : 0.2473    precision@10 : 0.0333\n"
     ]
    },
    {
     "data": {
      "application/vnd.jupyter.widget-view+json": {
       "model_id": "2aa5fb6c96a04668822b63674e1b1557",
       "version_major": 2,
       "version_minor": 0
      },
      "text/plain": [
       "\u001b[1;35mTrain    38\u001b[0m:   0%|          | 0/2482 [00:00<?, ?it/s]"
      ]
     },
     "metadata": {},
     "output_type": "display_data"
    },
    {
     "data": {
      "application/vnd.jupyter.widget-view+json": {
       "model_id": "5655999aec4b4f4f8abc685d2168cf15",
       "version_major": 2,
       "version_minor": 0
      },
      "text/plain": [
       "\u001b[1;35mTrain    38\u001b[0m:   0%|          | 0/2477 [00:00<?, ?it/s]"
      ]
     },
     "metadata": {},
     "output_type": "display_data"
    },
    {
     "name": "stderr",
     "output_type": "stream",
     "text": [
      "13 Mar 05:04    INFO  epoch 38 training [time: 558.11s, train_loss1: 127.9557, train_loss2: 1.5377]\n"
     ]
    },
    {
     "data": {
      "application/vnd.jupyter.widget-view+json": {
       "model_id": "83f086766c9046748dc5d6f9644d2980",
       "version_major": 2,
       "version_minor": 0
      },
      "text/plain": [
       "\u001b[1;35mEvaluate   \u001b[0m:   0%|                                                         | 0/9651 [00:00<?, ?it/s…"
      ]
     },
     "metadata": {},
     "output_type": "display_data"
    },
    {
     "name": "stderr",
     "output_type": "stream",
     "text": [
      "13 Mar 05:05    INFO  epoch 38 evaluating [time: 19.63s, valid_score: 0.037400]\n",
      "13 Mar 05:05    INFO  valid result: \n",
      "ndcg@10 : 0.0374    hit@10 : 0.2488    precision@10 : 0.0334\n"
     ]
    },
    {
     "data": {
      "application/vnd.jupyter.widget-view+json": {
       "model_id": "5c5f7befb1c149a7a9f9c4110a9e9a1d",
       "version_major": 2,
       "version_minor": 0
      },
      "text/plain": [
       "\u001b[1;35mTrain    39\u001b[0m:   0%|          | 0/2482 [00:00<?, ?it/s]"
      ]
     },
     "metadata": {},
     "output_type": "display_data"
    },
    {
     "data": {
      "application/vnd.jupyter.widget-view+json": {
       "model_id": "9f7211a7ad114689a46d57b8222e0ab5",
       "version_major": 2,
       "version_minor": 0
      },
      "text/plain": [
       "\u001b[1;35mTrain    39\u001b[0m:   0%|          | 0/2477 [00:00<?, ?it/s]"
      ]
     },
     "metadata": {},
     "output_type": "display_data"
    },
    {
     "name": "stderr",
     "output_type": "stream",
     "text": [
      "13 Mar 05:14    INFO  epoch 39 training [time: 558.45s, train_loss1: 126.0243, train_loss2: 1.5222]\n"
     ]
    },
    {
     "data": {
      "application/vnd.jupyter.widget-view+json": {
       "model_id": "e4373662fc0d40c39430a4fb344b1d68",
       "version_major": 2,
       "version_minor": 0
      },
      "text/plain": [
       "\u001b[1;35mEvaluate   \u001b[0m:   0%|                                                         | 0/9651 [00:00<?, ?it/s…"
      ]
     },
     "metadata": {},
     "output_type": "display_data"
    },
    {
     "name": "stderr",
     "output_type": "stream",
     "text": [
      "13 Mar 05:14    INFO  epoch 39 evaluating [time: 19.59s, valid_score: 0.037500]\n",
      "13 Mar 05:14    INFO  valid result: \n",
      "ndcg@10 : 0.0375    hit@10 : 0.2469    precision@10 : 0.0333\n"
     ]
    },
    {
     "name": "stdout",
     "output_type": "stream",
     "text": [
      "Evaluating model\n"
     ]
    },
    {
     "name": "stderr",
     "output_type": "stream",
     "text": [
      "13 Mar 05:14    INFO  Loading model structure and parameters from saved/KGAT-Mar-12-2023_22-46-45.pth\n"
     ]
    },
    {
     "name": "stdout",
     "output_type": "stream",
     "text": [
      "OrderedDict([('ndcg@10', 0.0411), ('hit@10', 0.2559), ('precision@10', 0.0352)])\n"
     ]
    }
   ],
   "source": [
    "if train_model:\n",
    "    # model loading and initialization\n",
    "    model = KGAT(config, train_data._dataset).to(config['device'])\n",
    "    logger.info(model)\n",
    "\n",
    "    # trainer loading and initialization\n",
    "    trainer = KGATTrainer(config, model)\n",
    "\n",
    "    print('Starting to fit model')\n",
    "    # model training\n",
    "    best_valid_score, best_valid_result = trainer.fit(train_data, valid_data, saved=True, show_progress=True)\n",
    "\n",
    "    print('Evaluating model')\n",
    "    # model evaluation\n",
    "    test_result = trainer.evaluate(test_data, load_best_model=True)\n",
    "    print(test_result)"
   ]
  },
  {
   "cell_type": "markdown",
   "id": "8f8b3c10-b124-47fb-b3b6-ae902bcf0383",
   "metadata": {},
   "source": [
    "# Load best model"
   ]
  },
  {
   "cell_type": "code",
   "execution_count": 6,
   "id": "0869e8b4-0502-4e8e-a1e8-526c022c1154",
   "metadata": {},
   "outputs": [],
   "source": [
    "import os\n",
    "import torch"
   ]
  },
  {
   "cell_type": "code",
   "execution_count": 7,
   "id": "61d23514-39b2-47a4-9e2a-2dc6c212feb9",
   "metadata": {},
   "outputs": [],
   "source": [
    "latest_model = 'saved/%s' % os.listdir('saved')[-1]"
   ]
  },
  {
   "cell_type": "code",
   "execution_count": 8,
   "id": "93c1e1ef-9159-417c-84b2-c145555a99f5",
   "metadata": {},
   "outputs": [
    {
     "data": {
      "text/plain": [
       "'saved/KGAT-Mar-12-2023_22-46-45.pth'"
      ]
     },
     "execution_count": 8,
     "metadata": {},
     "output_type": "execute_result"
    }
   ],
   "source": [
    "latest_model"
   ]
  },
  {
   "cell_type": "code",
   "execution_count": 9,
   "id": "bc1e8555-aad8-4b36-9ea0-ad2d399cfe80",
   "metadata": {},
   "outputs": [
    {
     "data": {
      "text/plain": [
       "<All keys matched successfully>"
      ]
     },
     "execution_count": 9,
     "metadata": {},
     "output_type": "execute_result"
    }
   ],
   "source": [
    "state_dict = torch.load(latest_model, map_location='cuda')\n",
    "model = KGAT(config, train_data._dataset).to(config['device'])\n",
    "\n",
    "model.load_state_dict(state_dict['state_dict'])"
   ]
  },
  {
   "cell_type": "code",
   "execution_count": 10,
   "id": "aa4f71cf-edb8-496c-b783-3d2eb4a0494a",
   "metadata": {},
   "outputs": [
    {
     "name": "stdout",
     "output_type": "stream",
     "text": [
      "OrderedDict([('ndcg@10', 0.039), ('hit@10', 0.2471), ('precision@10', 0.0336)])\n"
     ]
    }
   ],
   "source": [
    "trainer = KGATTrainer(config, model)\n",
    "test_result = trainer.evaluate(test_data, load_best_model=False)\n",
    "print(test_result)"
   ]
  },
  {
   "cell_type": "markdown",
   "id": "8d53e096-c694-4305-9f54-7c317f4a6afa",
   "metadata": {},
   "source": [
    "# Prepare for model evaluation"
   ]
  },
  {
   "cell_type": "markdown",
   "id": "31eeb586-68ba-41f5-9ed0-74029e8c92ff",
   "metadata": {},
   "source": [
    "## Create graph from attention matrix"
   ]
  },
  {
   "cell_type": "code",
   "execution_count": 11,
   "id": "f6c5498c-4bff-42d2-8caf-5113456bdadc",
   "metadata": {},
   "outputs": [],
   "source": [
    "import os\n",
    "import torch\n",
    "from scipy.sparse import coo_matrix\n",
    "from scipy.sparse.csgraph import shortest_path\n",
    "import numpy as np\n",
    "from tqdm.notebook import tqdm\n",
    "import matplotlib.pyplot as plt\n",
    "from recbole.data.interaction import Interaction\n"
   ]
  },
  {
   "cell_type": "code",
   "execution_count": 12,
   "id": "bee384cf-e538-4774-88ca-b5727b2d4c07",
   "metadata": {},
   "outputs": [],
   "source": [
    "def get_path(Pr, j):\n",
    "    path = [j]\n",
    "    k = j\n",
    "    while Pr[k] != -9999:\n",
    "        path.append(Pr[k])\n",
    "        k = Pr[k]\n",
    "    return path[::-1]"
   ]
  },
  {
   "cell_type": "code",
   "execution_count": 13,
   "id": "cad73d03-0be7-4690-ba67-b76922b5b570",
   "metadata": {},
   "outputs": [],
   "source": [
    "from enum import Enum\n",
    "class DistanceMode(Enum):\n",
    "    Inverse=1\n",
    "    RBF=2\n",
    "    Linear=3"
   ]
  },
  {
   "cell_type": "code",
   "execution_count": 14,
   "id": "64f1746c-03e1-494c-937c-9f7b2b07ea6d",
   "metadata": {},
   "outputs": [],
   "source": [
    "attention_matrix = model.A_in.cpu().coalesce()\n",
    "attention_matrix_size = attention_matrix.size()[0] # since it is square"
   ]
  },
  {
   "cell_type": "code",
   "execution_count": 15,
   "id": "e0022277-6c6f-4ebc-9db9-9058b6e6dafa",
   "metadata": {},
   "outputs": [],
   "source": [
    "def create_scipy_matrix(distance_mode: str, size: int):\n",
    "    attention_values = attention_matrix.values().numpy()\n",
    "    if distance_mode == DistanceMode.Inverse:\n",
    "        attention_values = 1/attention_values\n",
    "    if distance_mode == DistanceMode.RBF:\n",
    "        attention_values = np.exp(-attention_values**2)\n",
    "    if distance_mode == DistanceMode.Linear:\n",
    "        attention_values = 1-attention_values\n",
    "    return coo_matrix((attention_values, (attention_matrix.indices()[0].numpy(), attention_matrix.indices()[1].numpy())), shape=(size,size))"
   ]
  },
  {
   "cell_type": "code",
   "execution_count": 16,
   "id": "d1c381e6-84ce-48ad-8b78-6b5903df04a9",
   "metadata": {},
   "outputs": [],
   "source": [
    "graph_matrix = create_scipy_matrix(DistanceMode.RBF, attention_matrix_size)"
   ]
  },
  {
   "cell_type": "markdown",
   "id": "feb7404e-690b-472e-915a-4cba5dd4c0a9",
   "metadata": {},
   "source": [
    "## Create shortest path for k top predictions"
   ]
  },
  {
   "cell_type": "markdown",
   "id": "95c84779-624a-4633-9c97-a817a68feba5",
   "metadata": {},
   "source": [
    "<b> Important note:</b> Id's in the attention matrix are shiftet by the number of users `dataset.user_num`. So fetching an id using the token i.e. token2id results in an id not yet shifted. So to get the corresponding attention-matrix-id we need to shift items and entities!"
   ]
  },
  {
   "cell_type": "code",
   "execution_count": 17,
   "id": "201ef164-6b3f-4fb2-b342-3ec5109eb2d3",
   "metadata": {},
   "outputs": [
    {
     "data": {
      "application/vnd.jupyter.widget-view+json": {
       "model_id": "6b92aafc861545d798aab130035fa987",
       "version_major": 2,
       "version_minor": 0
      },
      "text/plain": [
       "  0%|          | 0/9681 [00:00<?, ?it/s]"
      ]
     },
     "metadata": {},
     "output_type": "display_data"
    }
   ],
   "source": [
    "user_paths = {}\n",
    "if create_paths:\n",
    "    for batch_idx, batched_data in enumerate(tqdm(test_data)):\n",
    "        interaction, history_index, positive_u, positive_i = batched_data\n",
    "        user_id = interaction['user_id'].cpu().numpy().item()\n",
    "\n",
    "        predictions = model.full_sort_predict(interaction).detach().cpu().numpy()\n",
    "        recommended_items = np.argsort(predictions)\n",
    "        recommended_items = recommended_items[np.isin(recommended_items, positive_i + dataset.user_num)]\n",
    "\n",
    "        # now calculate shortest distances for current user\n",
    "        shortest_distances, predecessors = shortest_path(graph_matrix, directed=True,  return_predecessors = True, indices=[user_id])\n",
    "\n",
    "        # calculate the paths for the top k recommended items\n",
    "        paths = []\n",
    "        for item_idx in recommended_items:\n",
    "            path = get_path(predecessors[0], item_idx)\n",
    "            paths.append(np.asarray(path, dtype=int))\n",
    "        user_paths[user_id] = paths"
   ]
  },
  {
   "cell_type": "code",
   "execution_count": 18,
   "id": "16d48888-0f38-44b6-ae68-7c96f3c3a3f4",
   "metadata": {},
   "outputs": [
    {
     "name": "stdout",
     "output_type": "stream",
     "text": [
      "Object successfully saved to \"paths.pkl\"\n"
     ]
    }
   ],
   "source": [
    "import pickle\n",
    "file_name = 'paths.pkl'\n",
    "if create_paths:\n",
    "    with open(file_name, 'wb') as file:\n",
    "        pickle.dump(user_paths, file)\n",
    "        print(f'Object successfully saved to \"{file_name}\"')\n",
    "else:\n",
    "    with open(file_name, 'rb') as file:\n",
    "        user_paths = pickle.load(file)\n",
    "        print(f'Object successfully loaded from \"{file_name}\"')"
   ]
  },
  {
   "cell_type": "code",
   "execution_count": 19,
   "id": "0e06f54b-5e9a-4590-9866-ba996dd98b96",
   "metadata": {},
   "outputs": [],
   "source": [
    "gender_ids = dataset.token2id('entity_id', ['m', 'f'])"
   ]
  },
  {
   "cell_type": "code",
   "execution_count": 20,
   "id": "5ac27e92-1090-40f5-bcbb-54d95c4b2b46",
   "metadata": {},
   "outputs": [
    {
     "data": {
      "text/plain": [
       "array([[0., 0., 0., ..., 0., 0., 0.]], dtype=float32)"
      ]
     },
     "execution_count": 20,
     "metadata": {},
     "output_type": "execute_result"
    }
   ],
   "source": [
    "male_attention_row = np.asarray(graph_matrix.getrow(dataset.user_num + gender_ids[0]).todense())\n",
    "male_attention_row"
   ]
  },
  {
   "cell_type": "code",
   "execution_count": 21,
   "id": "e2bb2e58-5aae-4b66-9524-7d6914ba5cdb",
   "metadata": {},
   "outputs": [
    {
     "data": {
      "text/plain": [
       "(array([], dtype=int64), array([], dtype=int64))"
      ]
     },
     "execution_count": 21,
     "metadata": {},
     "output_type": "execute_result"
    }
   ],
   "source": [
    "np.nonzero(male_attention_row)"
   ]
  },
  {
   "cell_type": "code",
   "execution_count": 22,
   "id": "a6a10df7-5882-48e3-8eeb-0ddd33a918b3",
   "metadata": {},
   "outputs": [
    {
     "data": {
      "text/plain": [
       "array([[0.],\n",
       "       [0.],\n",
       "       [0.],\n",
       "       ...,\n",
       "       [0.],\n",
       "       [0.],\n",
       "       [0.]], dtype=float32)"
      ]
     },
     "execution_count": 22,
     "metadata": {},
     "output_type": "execute_result"
    }
   ],
   "source": [
    "male_attention_col = np.asarray(graph_matrix.getcol(dataset.user_num + gender_ids[0]).todense())\n",
    "male_attention_col"
   ]
  },
  {
   "cell_type": "code",
   "execution_count": 23,
   "id": "5b3d5c55-b62f-49f1-93f3-62969bdae476",
   "metadata": {},
   "outputs": [
    {
     "data": {
      "text/plain": [
       "(array([168349, 168350, 168351, ..., 178066, 178068, 178069]),\n",
       " array([0, 0, 0, ..., 0, 0, 0]))"
      ]
     },
     "execution_count": 23,
     "metadata": {},
     "output_type": "execute_result"
    }
   ],
   "source": [
    "np.nonzero(male_attention_col)"
   ]
  },
  {
   "cell_type": "code",
   "execution_count": 24,
   "id": "6271824b",
   "metadata": {},
   "outputs": [
    {
     "data": {
      "text/plain": [
       "(array([3.60000e+01, 0.00000e+00, 0.00000e+00, 0.00000e+00, 0.00000e+00,\n",
       "        0.00000e+00, 3.01882e+05, 0.00000e+00, 0.00000e+00, 2.73000e+02]),\n",
       " array([1. , 1.5, 2. , 2.5, 3. , 3.5, 4. , 4.5, 5. , 5.5, 6. ]),\n",
       " <BarContainer object of 10 artists>)"
      ]
     },
     "execution_count": 24,
     "metadata": {},
     "output_type": "execute_result"
    },
    {
     "data": {
      "image/png": "[encoded data removed]",
      "text/plain": [
       "<Figure size 640x480 with 1 Axes>"
      ]
     },
     "metadata": {},
     "output_type": "display_data"
    }
   ],
   "source": [
    "flat_list = [item for sublist in list(user_paths.values()) for item in sublist]\n",
    "flat_lengths = [len(item) for item in flat_list]\n",
    "plt.hist(flat_lengths)"
   ]
  },
  {
   "cell_type": "markdown",
   "id": "3eceb3a6-f695-440f-b14b-7be4a08cf3ed",
   "metadata": {},
   "source": [
    "# Evaluation"
   ]
  },
  {
   "cell_type": "code",
   "execution_count": 25,
   "id": "92f5945f-525e-452d-b3cc-be68d7c805dd",
   "metadata": {},
   "outputs": [],
   "source": [
    "import seaborn as sns"
   ]
  },
  {
   "cell_type": "markdown",
   "id": "af0da57b-5e81-47ee-aacf-6af12afb7a76",
   "metadata": {
    "tags": []
   },
   "source": [
    "## Load all users and divide into male and female"
   ]
  },
  {
   "cell_type": "code",
   "execution_count": 26,
   "id": "145855bf-4e9f-461b-a338-e285baeaab22",
   "metadata": {},
   "outputs": [],
   "source": [
    "import pandas as pd\n",
    "user_df = pd.read_csv('data/lfm/75percent_subset_users.tsv', sep='\\t')"
   ]
  },
  {
   "cell_type": "code",
   "execution_count": 27,
   "id": "c5a9ad35-7dce-481c-aa96-3c35a2d33d10",
   "metadata": {},
   "outputs": [],
   "source": [
    "user_ids = list(user_paths.keys())"
   ]
  },
  {
   "cell_type": "code",
   "execution_count": 28,
   "id": "8c1c6b2a-f388-408c-81f9-1060b77a7bf6",
   "metadata": {},
   "outputs": [],
   "source": [
    "external_user_ids = [int(item) for item in dataset.id2token(dataset.uid_field, user_ids)]"
   ]
  },
  {
   "cell_type": "code",
   "execution_count": 29,
   "id": "e55aab81-8fc5-4639-8b3c-39fa16f14e9d",
   "metadata": {},
   "outputs": [],
   "source": [
    "# remove users that recbole removed in the dataset creation process\n",
    "user_df = user_df[user_df.user_id.isin(external_user_ids)]"
   ]
  },
  {
   "cell_type": "code",
   "execution_count": 30,
   "id": "729082cd-d6e3-49f6-b75e-c57d38166b97",
   "metadata": {},
   "outputs": [],
   "source": [
    "male_users = user_df[user_df.gender == 'm']\n",
    "female_users = user_df[user_df.gender =='f']"
   ]
  },
  {
   "cell_type": "code",
   "execution_count": 31,
   "id": "38c1c1d8-c7dd-4b21-b182-9327bb17bfbd",
   "metadata": {},
   "outputs": [
    {
     "name": "stdout",
     "output_type": "stream",
     "text": [
      "Male users: 7857, 0.8115897118066315(%)\n",
      "Male users: 1824, 0.18841028819336844(%)\n"
     ]
    }
   ],
   "source": [
    "print('Male users: %s, %s(%%)' % (len(male_users), len(male_users)/(len(male_users)+len(female_users))))\n",
    "print('Male users: %s, %s(%%)' % (len(female_users), len(female_users)/(len(male_users)+len(female_users))))"
   ]
  },
  {
   "cell_type": "code",
   "execution_count": 32,
   "id": "c3ab8249-9e39-4bdc-8362-3749355602af",
   "metadata": {},
   "outputs": [
    {
     "data": {
      "text/plain": [
       "<BarContainer object of 2 artists>"
      ]
     },
     "execution_count": 32,
     "metadata": {},
     "output_type": "execute_result"
    },
    {
     "data": {
      "image/png": "[encoded data removed]",
      "text/plain": [
       "<Figure size 640x480 with 1 Axes>"
      ]
     },
     "metadata": {},
     "output_type": "display_data"
    }
   ],
   "source": [
    "plt.bar(['male user count', 'female user count'], [len(male_users), len(female_users)])"
   ]
  },
  {
   "cell_type": "code",
   "execution_count": 33,
   "id": "a15d640f-db10-46b0-9ba3-3f015e8f080b",
   "metadata": {},
   "outputs": [],
   "source": [
    "male_internal_user_ids = dataset.token2id(dataset.uid_field, [str(item) for item in male_users.user_id.to_numpy()])\n",
    "female_internal_user_ids = dataset.token2id(dataset.uid_field, [str(item) for item in female_users.user_id.to_numpy()])"
   ]
  },
  {
   "cell_type": "code",
   "execution_count": 34,
   "id": "a1df0364-a0ae-4f79-bec8-379f91b32e58",
   "metadata": {},
   "outputs": [],
   "source": [
    "def internal_id_to_gender(idx: int):\n",
    "    return 'm' if idx in male_internal_user_ids else 'f'"
   ]
  },
  {
   "cell_type": "code",
   "execution_count": 35,
   "id": "06571427-b5c9-4787-8db9-23ccb338f5bc",
   "metadata": {},
   "outputs": [],
   "source": [
    "def is_male(idx:int):\n",
    "    return idx in male_internal_user_ids"
   ]
  },
  {
   "cell_type": "markdown",
   "id": "a9dfa3f8-8f3d-4300-a904-d7e22f7f0f2e",
   "metadata": {},
   "source": [
    "### Calculate average path length on per user basis"
   ]
  },
  {
   "cell_type": "code",
   "execution_count": 36,
   "id": "843aecb0-e572-437a-93b9-a1fb0edbe4a4",
   "metadata": {},
   "outputs": [
    {
     "name": "stderr",
     "output_type": "stream",
     "text": [
      "/home/jfallmann/miniconda3/envs/pr/lib/python3.9/site-packages/numpy/core/fromnumeric.py:3432: RuntimeWarning: Mean of empty slice.\n",
      "  return _methods._mean(a, axis=axis, dtype=dtype,\n",
      "/home/jfallmann/miniconda3/envs/pr/lib/python3.9/site-packages/numpy/core/_methods.py:190: RuntimeWarning: invalid value encountered in double_scalars\n",
      "  ret = ret.dtype.type(ret / rcount)\n"
     ]
    }
   ],
   "source": [
    "user_average_path_lengths = {}\n",
    "for key in user_paths.keys():\n",
    "    paths_for_user = user_paths[key]\n",
    "    average_path_length = np.mean([len(path) for path in paths_for_user])\n",
    "    user_average_path_lengths[key] = average_path_length"
   ]
  },
  {
   "cell_type": "code",
   "execution_count": 37,
   "id": "6a03a623-536e-421b-a1e8-0fc63f23116a",
   "metadata": {},
   "outputs": [
    {
     "data": {
      "text/html": [
       "<div>\n",
       "<style scoped>\n",
       "    .dataframe tbody tr th:only-of-type {\n",
       "        vertical-align: middle;\n",
       "    }\n",
       "\n",
       "    .dataframe tbody tr th {\n",
       "        vertical-align: top;\n",
       "    }\n",
       "\n",
       "    .dataframe thead th {\n",
       "        text-align: right;\n",
       "    }\n",
       "</style>\n",
       "<table border=\"1\" class=\"dataframe\">\n",
       "  <thead>\n",
       "    <tr style=\"text-align: right;\">\n",
       "      <th></th>\n",
       "      <th>gender</th>\n",
       "      <th>average path length</th>\n",
       "      <th>male/female</th>\n",
       "    </tr>\n",
       "  </thead>\n",
       "  <tbody>\n",
       "    <tr>\n",
       "      <th>0</th>\n",
       "      <td>m</td>\n",
       "      <td>4.0</td>\n",
       "      <td>_</td>\n",
       "    </tr>\n",
       "    <tr>\n",
       "      <th>1</th>\n",
       "      <td>f</td>\n",
       "      <td>4.0</td>\n",
       "      <td>_</td>\n",
       "    </tr>\n",
       "    <tr>\n",
       "      <th>2</th>\n",
       "      <td>m</td>\n",
       "      <td>4.0</td>\n",
       "      <td>_</td>\n",
       "    </tr>\n",
       "    <tr>\n",
       "      <th>3</th>\n",
       "      <td>m</td>\n",
       "      <td>4.0</td>\n",
       "      <td>_</td>\n",
       "    </tr>\n",
       "    <tr>\n",
       "      <th>4</th>\n",
       "      <td>m</td>\n",
       "      <td>4.0</td>\n",
       "      <td>_</td>\n",
       "    </tr>\n",
       "    <tr>\n",
       "      <th>...</th>\n",
       "      <td>...</td>\n",
       "      <td>...</td>\n",
       "      <td>...</td>\n",
       "    </tr>\n",
       "    <tr>\n",
       "      <th>9676</th>\n",
       "      <td>f</td>\n",
       "      <td>NaN</td>\n",
       "      <td>_</td>\n",
       "    </tr>\n",
       "    <tr>\n",
       "      <th>9677</th>\n",
       "      <td>f</td>\n",
       "      <td>4.0</td>\n",
       "      <td>_</td>\n",
       "    </tr>\n",
       "    <tr>\n",
       "      <th>9678</th>\n",
       "      <td>m</td>\n",
       "      <td>4.0</td>\n",
       "      <td>_</td>\n",
       "    </tr>\n",
       "    <tr>\n",
       "      <th>9679</th>\n",
       "      <td>m</td>\n",
       "      <td>4.0</td>\n",
       "      <td>_</td>\n",
       "    </tr>\n",
       "    <tr>\n",
       "      <th>9680</th>\n",
       "      <td>m</td>\n",
       "      <td>4.0</td>\n",
       "      <td>_</td>\n",
       "    </tr>\n",
       "  </tbody>\n",
       "</table>\n",
       "<p>9681 rows × 3 columns</p>\n",
       "</div>"
      ],
      "text/plain": [
       "     gender  average path length male/female\n",
       "0         m                  4.0           _\n",
       "1         f                  4.0           _\n",
       "2         m                  4.0           _\n",
       "3         m                  4.0           _\n",
       "4         m                  4.0           _\n",
       "...     ...                  ...         ...\n",
       "9676      f                  NaN           _\n",
       "9677      f                  4.0           _\n",
       "9678      m                  4.0           _\n",
       "9679      m                  4.0           _\n",
       "9680      m                  4.0           _\n",
       "\n",
       "[9681 rows x 3 columns]"
      ]
     },
     "execution_count": 37,
     "metadata": {},
     "output_type": "execute_result"
    }
   ],
   "source": [
    "length_distribution_dataframe = pd.DataFrame({'gender': [internal_id_to_gender(idx) for idx in user_paths.keys()], 'average path length': list(user_average_path_lengths.values()), 'male/female': ['_' for _ in user_paths.keys()]})\n",
    "length_distribution_dataframe"
   ]
  },
  {
   "cell_type": "code",
   "execution_count": 38,
   "id": "ecbba77f-3420-4465-abea-d0d6b3071c4a",
   "metadata": {},
   "outputs": [
    {
     "data": {
      "text/plain": [
       "Text(0.5, 0, 'Path length')"
      ]
     },
     "execution_count": 38,
     "metadata": {},
     "output_type": "execute_result"
    },
    {
     "data": {
      "image/png": "[encoded data removed]",
      "text/plain": [
       "<Figure size 1500x700 with 2 Axes>"
      ]
     },
     "metadata": {},
     "output_type": "display_data"
    }
   ],
   "source": [
    "import matplotlib.pyplot as plt\n",
    "f, (ax1, ax2) = plt.subplots(1,2, figsize=(15,7))\n",
    "\n",
    "sns.histplot(data=length_distribution_dataframe[length_distribution_dataframe.gender == 'm'], ax=ax1, stat=\"proportion\",\n",
    "             x=\"average path length\", kde=False,\n",
    "             color=\"#3899C7\",\n",
    "             element=\"bars\", legend=True)\n",
    "ax1.set_title(\"Explanation path length distribution for males\")\n",
    "ax1.set_xlabel(\"Path length\")\n",
    "\n",
    "sns.histplot(data=length_distribution_dataframe[length_distribution_dataframe.gender == 'f'], ax=ax2, stat=\"proportion\", multiple=\"stack\",\n",
    "             x=\"average path length\", kde=False,\n",
    "             color='#C76638',\n",
    "             element=\"bars\", legend=True)\n",
    "ax2.set_title(\"Explanation path length distribution for females\")\n",
    "ax2.set_xlabel(\"Path length\")"
   ]
  },
  {
   "cell_type": "code",
   "execution_count": 39,
   "id": "1aca59ab-d4f0-4d15-aca1-b1350d8cce51",
   "metadata": {},
   "outputs": [
    {
     "data": {
      "text/plain": [
       "<AxesSubplot: xlabel='male/female', ylabel='average path length'>"
      ]
     },
     "execution_count": 39,
     "metadata": {},
     "output_type": "execute_result"
    },
    {
     "data": {
      "image/png": "[encoded data removed]",
      "text/plain": [
       "<Figure size 1500x700 with 1 Axes>"
      ]
     },
     "metadata": {},
     "output_type": "display_data"
    }
   ],
   "source": [
    "import matplotlib.pyplot as plt\n",
    "f = plt.figure(figsize=(15,7))\n",
    "sns.violinplot(data=length_distribution_dataframe, y='average path length', x='male/female', hue='gender', split=True, palette=\"pastel\", stat='proportion', legend=True)"
   ]
  },
  {
   "cell_type": "code",
   "execution_count": 40,
   "id": "177d720c-390f-4994-97f2-52fc05d326ee",
   "metadata": {},
   "outputs": [
    {
     "data": {
      "text/plain": [
       "<AxesSubplot: xlabel='male/female', ylabel='average path length'>"
      ]
     },
     "execution_count": 40,
     "metadata": {},
     "output_type": "execute_result"
    },
    {
     "data": {
      "image/png": "[encoded data removed]",
      "text/plain": [
       "<Figure size 1000x1000 with 1 Axes>"
      ]
     },
     "metadata": {},
     "output_type": "display_data"
    }
   ],
   "source": [
    "import matplotlib.pyplot as plt\n",
    "f = plt.figure(figsize=(10,10))\n",
    "sns.boxplot(y=\"average path length\", x=\"male/female\",\n",
    "            hue=\"gender\", palette=\"pastel\",\n",
    "            data=length_distribution_dataframe)"
   ]
  },
  {
   "cell_type": "markdown",
   "id": "c93ac038-3a14-415b-97f6-e090888208b3",
   "metadata": {},
   "source": [
    "## Evaluate path length per gender per user"
   ]
  },
  {
   "cell_type": "code",
   "execution_count": 41,
   "id": "67bbe996-6cd7-4c62-809d-d50c6acd74e3",
   "metadata": {},
   "outputs": [],
   "source": [
    "import math"
   ]
  },
  {
   "cell_type": "code",
   "execution_count": 42,
   "id": "d24ce4aa-23e9-4af8-8e5d-a2c55cdef690",
   "metadata": {},
   "outputs": [],
   "source": [
    "male_path_lengths = {}\n",
    "for key in user_paths.keys():\n",
    "    if key in male_internal_user_ids:\n",
    "        if not math.isnan(user_average_path_lengths[key]):\n",
    "            male_path_lengths[key] = user_average_path_lengths[key]\n",
    "\n",
    "female_path_lengths = {}\n",
    "for key in user_paths.keys():\n",
    "    if key in female_internal_user_ids:\n",
    "        if not math.isnan(user_average_path_lengths[key]):\n",
    "            female_path_lengths[key] = user_average_path_lengths[key]"
   ]
  },
  {
   "cell_type": "code",
   "execution_count": 43,
   "id": "5f0806a4-ebab-470e-803b-062dbfe1cbed",
   "metadata": {},
   "outputs": [
    {
     "data": {
      "text/plain": [
       "4.022661015952647"
      ]
     },
     "execution_count": 43,
     "metadata": {},
     "output_type": "execute_result"
    }
   ],
   "source": [
    "np.mean(list(male_path_lengths.values()))"
   ]
  },
  {
   "cell_type": "code",
   "execution_count": 44,
   "id": "387ff0d5-651e-4ddc-b93c-ed2274920697",
   "metadata": {},
   "outputs": [
    {
     "data": {
      "text/plain": [
       "4.0"
      ]
     },
     "execution_count": 44,
     "metadata": {},
     "output_type": "execute_result"
    }
   ],
   "source": [
    "np.median(list(male_path_lengths.values()))"
   ]
  },
  {
   "cell_type": "code",
   "execution_count": 45,
   "id": "d9bbbbaf-d2dd-47a7-b439-fb2020c496ae",
   "metadata": {},
   "outputs": [
    {
     "data": {
      "text/plain": [
       "4.020694948653"
      ]
     },
     "execution_count": 45,
     "metadata": {},
     "output_type": "execute_result"
    }
   ],
   "source": [
    "np.mean(list(female_path_lengths.values()))"
   ]
  },
  {
   "cell_type": "code",
   "execution_count": 46,
   "id": "79914702-58c5-4092-947e-6f34fbb94af7",
   "metadata": {},
   "outputs": [
    {
     "data": {
      "text/plain": [
       "4.0"
      ]
     },
     "execution_count": 46,
     "metadata": {},
     "output_type": "execute_result"
    }
   ],
   "source": [
    "np.median(list(female_path_lengths.values()))"
   ]
  },
  {
   "cell_type": "markdown",
   "id": "19126254-33b9-429b-bf2e-0a689b2660cb",
   "metadata": {},
   "source": [
    "## Evaluate path length per gender"
   ]
  },
  {
   "cell_type": "code",
   "execution_count": 47,
   "id": "833098fa-bfb6-418b-9e78-a29512df7fb4",
   "metadata": {},
   "outputs": [],
   "source": [
    "male_paths = {}\n",
    "for key in user_paths.keys():\n",
    "    if key in male_internal_user_ids:\n",
    "        male_paths[key] = user_paths[key]\n",
    "\n",
    "female_paths = {}\n",
    "for key in user_paths.keys():\n",
    "    if key in female_internal_user_ids:\n",
    "        female_paths[key] = user_paths[key]"
   ]
  },
  {
   "cell_type": "code",
   "execution_count": 48,
   "id": "fd3118a4-5f08-45eb-8661-02cffb69e596",
   "metadata": {},
   "outputs": [],
   "source": [
    "def average_path_length(paths: dict):\n",
    "    flat_list = [item for sublist in list(paths.values()) for item in sublist]\n",
    "    lengths = [len(item) for item in flat_list]\n",
    "    return np.mean(lengths), lengths"
   ]
  },
  {
   "cell_type": "code",
   "execution_count": 49,
   "id": "ad08c7f9-bd16-42ae-9b10-7e587685cd93",
   "metadata": {},
   "outputs": [],
   "source": [
    "male_average, male_lengths = average_path_length(male_paths)"
   ]
  },
  {
   "cell_type": "code",
   "execution_count": 50,
   "id": "15a9975d-34bc-4132-b712-2690f752fef7",
   "metadata": {},
   "outputs": [],
   "source": [
    "female_average, female_lengths = average_path_length(female_paths)"
   ]
  },
  {
   "cell_type": "code",
   "execution_count": 51,
   "id": "4edbaf15-defa-4bbc-8227-02ecad248eb8",
   "metadata": {},
   "outputs": [
    {
     "data": {
      "text/plain": [
       "(4.001499472016896, 4.001440113639485)"
      ]
     },
     "execution_count": 51,
     "metadata": {},
     "output_type": "execute_result"
    }
   ],
   "source": [
    "female_average, male_average"
   ]
  },
  {
   "cell_type": "markdown",
   "id": "d21e7ddc-7a6e-43e1-a385-1b96e261d460",
   "metadata": {},
   "source": [
    "## Evaluate shared entities"
   ]
  },
  {
   "cell_type": "code",
   "execution_count": 52,
   "id": "78f73962-c326-4abf-9a25-ac4d668c903d",
   "metadata": {},
   "outputs": [],
   "source": [
    "male_shared_entities = []\n",
    "female_shared_entities = []\n",
    "for user_id in user_paths.keys():\n",
    "    paths_for_user = user_paths[user_id]\n",
    "    paths_without_start_and_end = [path[1:] for path in paths_for_user]\n",
    "    paths_without_start_and_end = list(filter(lambda x: len(x) > 0, paths_without_start_and_end))\n",
    "\n",
    "    try:\n",
    "        concatenated_paths = np.concatenate(paths_without_start_and_end)\n",
    "    except:\n",
    "        pass\n",
    "    \n",
    "    if is_male(user_id):\n",
    "        male_shared_entities.append(concatenated_paths)\n",
    "    else:\n",
    "        female_shared_entities.append(concatenated_paths)\n",
    "    \n",
    "male_shared_entities_concatenated = np.concatenate(male_shared_entities)\n",
    "female_shared_entities_concatenated = np.concatenate(female_shared_entities)"
   ]
  },
  {
   "cell_type": "code",
   "execution_count": 53,
   "id": "bc8e2585",
   "metadata": {},
   "outputs": [],
   "source": [
    "def evaluate_gender_of_shared_entities(data):\n",
    "    gender_token, counts = np.unique(data, return_counts=True)\n",
    "    distribution = {gender_token[0]: counts[0]/np.sum(counts)}\n",
    "    if len(gender_token) == 2:\n",
    "        distribution[gender_token[1]] = counts[1]/np.sum(counts)\n",
    "    return (distribution, len(data))"
   ]
  },
  {
   "cell_type": "markdown",
   "id": "01269232-16da-42b9-b604-51af4cd4747b",
   "metadata": {},
   "source": [
    "### Evaluate grouped by user by gender"
   ]
  },
  {
   "cell_type": "code",
   "execution_count": 54,
   "id": "b69197d7-56ce-4220-8218-088e0597fc1e",
   "metadata": {},
   "outputs": [],
   "source": [
    "male_shared_gender_statistics = []\n",
    "for shared_entities in male_shared_entities:\n",
    "    shared_users = shared_entities[shared_entities < dataset.user_num]\n",
    "    shared_gender_tokens = [internal_id_to_gender(idx) for idx in shared_users]\n",
    "    male_shared_gender_statistics.append(evaluate_gender_of_shared_entities(shared_gender_tokens))\n",
    "    \n",
    "female_shared_gender_statistics = []\n",
    "for shared_entities in female_shared_entities:\n",
    "    shared_users = shared_entities[shared_entities < dataset.user_num]\n",
    "    shared_gender_tokens = [internal_id_to_gender(idx) for idx in shared_users]\n",
    "    female_shared_gender_statistics.append(evaluate_gender_of_shared_entities(shared_gender_tokens))"
   ]
  },
  {
   "cell_type": "code",
   "execution_count": 55,
   "id": "f725bf4f-027b-44fe-9b1f-a33dc2f29ca5",
   "metadata": {},
   "outputs": [],
   "source": [
    "male_shared_gender_df = pd.DataFrame({'gender': ['m' for _ in male_shared_gender_statistics], 'male_proportion': [float(item['m']) if 'm' in item else 0 for item, _ in male_shared_gender_statistics],'female_proportion': [float(item['f']) if 'f' in item else 0 for item,_ in male_shared_gender_statistics], 'male - female': ['_' for item in male_shared_gender_statistics] })\n",
    "female_shared_gender_df = pd.DataFrame({'gender': ['f' for _ in female_shared_gender_statistics], 'male_proportion': [float(item['m']) if 'm' in item else 0 for item, _ in female_shared_gender_statistics],'female_proportion': [float(item['f']) if 'f' in item else 0 for item,_ in female_shared_gender_statistics], 'male - female': ['_' for item in female_shared_gender_statistics] })"
   ]
  },
  {
   "cell_type": "code",
   "execution_count": 56,
   "id": "5bf39768-194c-4973-8a0d-fbae01847c79",
   "metadata": {},
   "outputs": [
    {
     "name": "stderr",
     "output_type": "stream",
     "text": [
      "/tmp/ipykernel_81016/325008653.py:1: FutureWarning: The default value of numeric_only in DataFrame.mean is deprecated. In a future version, it will default to False. In addition, specifying 'numeric_only=None' is deprecated. Select only valid columns or specify the value of numeric_only to silence this warning.\n",
      "  male_shared_gender_df.mean()\n"
     ]
    },
    {
     "data": {
      "text/plain": [
       "male_proportion      0.863324\n",
       "female_proportion    0.136676\n",
       "dtype: float64"
      ]
     },
     "execution_count": 56,
     "metadata": {},
     "output_type": "execute_result"
    }
   ],
   "source": [
    "male_shared_gender_df.mean()"
   ]
  },
  {
   "cell_type": "code",
   "execution_count": 57,
   "id": "ca663a52-456f-4d3b-ac4b-168f2c514106",
   "metadata": {},
   "outputs": [
    {
     "name": "stderr",
     "output_type": "stream",
     "text": [
      "/tmp/ipykernel_81016/384587550.py:1: FutureWarning: The default value of numeric_only in DataFrame.mean is deprecated. In a future version, it will default to False. In addition, specifying 'numeric_only=None' is deprecated. Select only valid columns or specify the value of numeric_only to silence this warning.\n",
      "  female_shared_gender_df.mean()\n"
     ]
    },
    {
     "data": {
      "text/plain": [
       "male_proportion      0.777028\n",
       "female_proportion    0.222972\n",
       "dtype: float64"
      ]
     },
     "execution_count": 57,
     "metadata": {},
     "output_type": "execute_result"
    }
   ],
   "source": [
    "female_shared_gender_df.mean()"
   ]
  },
  {
   "cell_type": "code",
   "execution_count": 58,
   "id": "5f997278-d280-41e0-a3ce-2ea980afbf4e",
   "metadata": {},
   "outputs": [
    {
     "data": {
      "text/plain": [
       "(0.0, 0.3)"
      ]
     },
     "execution_count": 58,
     "metadata": {},
     "output_type": "execute_result"
    },
    {
     "data": {
      "image/png": "[encoded data removed]",
      "text/plain": [
       "<Figure size 1500x700 with 2 Axes>"
      ]
     },
     "metadata": {},
     "output_type": "display_data"
    }
   ],
   "source": [
    "f, (ax1, ax2) = plt.subplots(1,2, figsize=(15,7))\n",
    "\n",
    "sns.histplot(data=male_shared_gender_df, ax=ax1, stat=\"proportion\",\n",
    "             x=\"male_proportion\", kde=True,\n",
    "             color=\"#3899C7\",\n",
    "             element=\"bars\", legend=True, binwidth=.02)\n",
    "ax1.set_title(\"Explanation paths for males\")\n",
    "ax1.set_xlabel(\"Proportion of shared entites being males\")\n",
    "ax1.set_ylim(0,0.30)\n",
    "\n",
    "sns.histplot(data=female_shared_gender_df, ax=ax2, stat=\"proportion\", multiple=\"stack\",\n",
    "             x=\"male_proportion\", kde=True,\n",
    "             color='#C76638',\n",
    "             element=\"bars\", legend=True, binwidth=.02)\n",
    "ax2.set_title(\"Explanation paths for females\")\n",
    "ax2.set_xlabel(\"Proportion of shared entites being males\")\n",
    "ax2.set_ylim(0,0.30)\n"
   ]
  },
  {
   "cell_type": "code",
   "execution_count": 59,
   "id": "9364b817-58c3-4f0f-9fc3-750e1996ade5",
   "metadata": {},
   "outputs": [
    {
     "data": {
      "text/plain": [
       "(0.0, 0.3)"
      ]
     },
     "execution_count": 59,
     "metadata": {},
     "output_type": "execute_result"
    },
    {
     "data": {
      "image/png": "[encoded data removed]",
      "text/plain": [
       "<Figure size 1500x700 with 2 Axes>"
      ]
     },
     "metadata": {},
     "output_type": "display_data"
    }
   ],
   "source": [
    "f, (ax1, ax2) = plt.subplots(1,2, figsize=(15,7))\n",
    "\n",
    "sns.histplot(data=male_shared_gender_df, ax=ax1, stat=\"proportion\",\n",
    "             x=\"female_proportion\", kde=True,\n",
    "             color=\"#3899C7\",\n",
    "             element=\"bars\", legend=True, binwidth=.02)\n",
    "ax1.set_title(\"Explanation paths for males\")\n",
    "ax1.set_xlabel(\"Proportion of shared entites being females\")\n",
    "ax1.set_ylim(0,0.30)\n",
    "\n",
    "sns.histplot(data=female_shared_gender_df, ax=ax2, stat=\"proportion\", multiple=\"stack\",\n",
    "             x=\"female_proportion\", kde=True,\n",
    "             color='#C76638',\n",
    "             element=\"bars\", legend=True, binwidth=.02)\n",
    "ax2.set_title(\"Explanation paths for females\")\n",
    "ax2.set_xlabel(\"Proportion of shared entites being females\")\n",
    "ax2.set_ylim(0,0.30)\n"
   ]
  },
  {
   "cell_type": "markdown",
   "id": "79fae4ef-3994-4aa4-ad66-08e7f27bdcd4",
   "metadata": {},
   "source": [
    "### Evaluate grouped by gender"
   ]
  },
  {
   "cell_type": "code",
   "execution_count": 60,
   "id": "e9927ef9-a65e-4771-ae04-bf9dd7c65d5a",
   "metadata": {},
   "outputs": [],
   "source": [
    "male_shared_item_ids, male_shared_item_counts = np.unique(male_shared_entities_concatenated, return_counts=True)\n",
    "female_shared_item_ids, female_shared_item_counts = np.unique(female_shared_entities_concatenated, return_counts=True)"
   ]
  },
  {
   "cell_type": "code",
   "execution_count": 61,
   "id": "e523defc-2a05-4c1c-a4cc-d8b929e8872d",
   "metadata": {},
   "outputs": [],
   "source": [
    "male_shared_item_ids = np.flip(male_shared_item_ids[np.argsort(male_shared_item_counts)])\n",
    "male_shared_item_counts = np.flip(male_shared_item_counts[np.argsort(male_shared_item_counts)])\n",
    "female_shared_item_ids = np.flip(female_shared_item_ids[np.argsort(female_shared_item_counts)])\n",
    "female_shared_item_counts = np.flip(female_shared_item_counts[np.argsort(female_shared_item_counts)])"
   ]
  },
  {
   "cell_type": "code",
   "execution_count": 62,
   "id": "a0fcd650-bbba-45cf-af60-f96ee5bd0ca8",
   "metadata": {},
   "outputs": [],
   "source": [
    "male_shared_entity_count = np.sum(male_shared_item_counts)\n",
    "female_shared_entity_count = np.sum(female_shared_item_counts)"
   ]
  },
  {
   "cell_type": "code",
   "execution_count": 63,
   "id": "2370ffe9-3cf9-45fb-8800-7d5f53403084",
   "metadata": {},
   "outputs": [
    {
     "name": "stdout",
     "output_type": "stream",
     "text": [
      "Entity 956. \t 949 \t 0.12384248384436301%\n",
      "Entity 325. \t 755 \t 0.09852589599841315%\n",
      "Entity 5792. \t 653 \t 0.08521511269796528%\n",
      "Entity 1878. \t 622 \t 0.08116967855763309%\n",
      "Entity 1735. \t 587 \t 0.07660225291532254%\n",
      "Entity 2829. \t 527 \t 0.06877238038564733%\n",
      "Entity 735. \t 504 \t 0.06577092924927182%\n",
      "Entity 160. \t 495 \t 0.06459644836982054%\n",
      "Entity 5570. \t 487 \t 0.06355246536586384%\n",
      "Entity 1520. \t 461 \t 0.060159520603004585%\n"
     ]
    }
   ],
   "source": [
    "for entity_idx, shared_entity in enumerate(male_shared_item_ids[:10]):\n",
    "    print('Entity %s. \\t %s \\t %s%%' % (shared_entity, male_shared_item_counts[entity_idx], male_shared_item_counts[entity_idx]*100/male_shared_entity_count))"
   ]
  },
  {
   "cell_type": "code",
   "execution_count": 64,
   "id": "868f8a52",
   "metadata": {},
   "outputs": [
    {
     "name": "stdout",
     "output_type": "stream",
     "text": [
      "Entity 735. \t 158 \t 0.11104863649142536%\n",
      "Entity 160. \t 142 \t 0.09980320494798987%\n",
      "Entity 5792. \t 141 \t 0.09910036547652516%\n",
      "Entity 4388. \t 119 \t 0.08363789710430138%\n",
      "Entity 2829. \t 115 \t 0.0808265392184425%\n",
      "Entity 110. \t 111 \t 0.07801518133258364%\n",
      "Entity 4702. \t 102 \t 0.07168962608940119%\n",
      "Entity 2095. \t 88 \t 0.06184987348889514%\n",
      "Entity 790. \t 82 \t 0.05763283666010683%\n",
      "Entity 4622. \t 78 \t 0.054821478774247964%\n"
     ]
    }
   ],
   "source": [
    "for entity_idx, shared_entity in enumerate(female_shared_item_ids[:10]):\n",
    "    print('Entity %s. \\t %s \\t %s%%' % (shared_entity, female_shared_item_counts[entity_idx], female_shared_item_counts[entity_idx]*100/female_shared_entity_count))"
   ]
  },
  {
   "cell_type": "code",
   "execution_count": 65,
   "id": "186bb98f",
   "metadata": {},
   "outputs": [],
   "source": [
    "male_shared_users = male_shared_item_ids[male_shared_item_ids < dataset.user_num]\n",
    "female_shared_users = female_shared_item_ids[female_shared_item_ids < dataset.user_num]"
   ]
  },
  {
   "cell_type": "code",
   "execution_count": 66,
   "id": "7a2f0374",
   "metadata": {},
   "outputs": [],
   "source": [
    "male_shared_user_gender = [internal_id_to_gender(idx) for idx in male_shared_users]\n",
    "female_shared_user_gender = [internal_id_to_gender(idx) for idx in female_shared_users]"
   ]
  },
  {
   "cell_type": "code",
   "execution_count": 67,
   "id": "af6dd78a",
   "metadata": {},
   "outputs": [
    {
     "data": {
      "text/plain": [
       "({'f': 0.18154863724483977, 'm': 0.8184513627551602}, 8769)"
      ]
     },
     "execution_count": 67,
     "metadata": {},
     "output_type": "execute_result"
    }
   ],
   "source": [
    "evaluate_gender_of_shared_entities(male_shared_user_gender)"
   ]
  },
  {
   "cell_type": "code",
   "execution_count": 68,
   "id": "1f555042",
   "metadata": {},
   "outputs": [
    {
     "data": {
      "text/plain": [
       "({'f': 0.19083186877562977, 'm': 0.8091681312243703}, 6828)"
      ]
     },
     "execution_count": 68,
     "metadata": {},
     "output_type": "execute_result"
    }
   ],
   "source": [
    "evaluate_gender_of_shared_entities(female_shared_user_gender)"
   ]
  },
  {
   "cell_type": "code",
   "execution_count": 69,
   "id": "bee518cb",
   "metadata": {},
   "outputs": [
    {
     "data": {
      "text/plain": [
       "({'f': 0.09, 'm': 0.91}, 100)"
      ]
     },
     "execution_count": 69,
     "metadata": {},
     "output_type": "execute_result"
    }
   ],
   "source": [
    "evaluate_gender_of_shared_entities(male_shared_user_gender[:100])"
   ]
  },
  {
   "cell_type": "code",
   "execution_count": 70,
   "id": "98f6dd6c",
   "metadata": {},
   "outputs": [
    {
     "data": {
      "text/plain": [
       "({'f': 0.31, 'm': 0.69}, 100)"
      ]
     },
     "execution_count": 70,
     "metadata": {},
     "output_type": "execute_result"
    }
   ],
   "source": [
    "evaluate_gender_of_shared_entities(female_shared_user_gender[:100])"
   ]
  }
 ],
 "metadata": {
  "kernelspec": {
   "display_name": "Python 3 (ipykernel)",
   "language": "python",
   "name": "python3"
  },
  "language_info": {
   "codemirror_mode": {
    "name": "ipython",
    "version": 3
   },
   "file_extension": ".py",
   "mimetype": "text/x-python",
   "name": "python",
   "nbconvert_exporter": "python",
   "pygments_lexer": "ipython3",
   "version": "3.9.15"
  }
 },
 "nbformat": 4,
 "nbformat_minor": 5
}
