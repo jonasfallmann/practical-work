{
 "cells": [
  {
   "cell_type": "markdown",
   "id": "a2ed31f1-0e50-4f8a-86b0-e983172410e9",
   "metadata": {},
   "source": [
    "# Practical Work"
   ]
  },
  {
   "cell_type": "markdown",
   "id": "02cda9a7-79e5-45ee-9f02-459bd85fad9d",
   "metadata": {},
   "source": [
    "<b> Student: </b> Jonas Fallmann <br>\n",
    "<b> Matrikulation number </b> 12018700 <br>\n",
    "<b> Topic:</b> Evaulating gender bias of explained recommender systems<br>\n",
    "<b> Institute: </b> Institute of Computational Perception, Johannes Kepler University Linz"
   ]
  },
  {
   "cell_type": "markdown",
   "id": "33d49e4f-69e2-421e-99e5-cd16c30ee9bd",
   "metadata": {},
   "source": [
    "## Outline\n",
    "Recent advances in the field of recommender systems focus in a big part on explanations of recommended Items. Explainability has been shown to aid user trust and results in higher conversion rates in the online shopping domain. As an example, explanations in the music domain could be of the following form:\n",
    "\n",
    "<b>Recommended Item:</b> Clocks and Whoopty by Pintel Ragetti<br>\n",
    "<b> Explanation: </b>  \n",
    "\n"
   ]
  },
  {
   "cell_type": "markdown",
   "id": "ecf941a2-6c8c-43f3-99b7-4acc31f33838",
   "metadata": {},
   "source": [
    "# Train Model"
   ]
  },
  {
   "cell_type": "markdown",
   "id": "c246efaa-f8c1-42b2-9993-6513d8e4c141",
   "metadata": {
    "tags": []
   },
   "source": [
    "### Load config and create Dataset"
   ]
  },
  {
   "cell_type": "code",
   "execution_count": 1,
   "id": "76e405f0-0b6a-4ce8-834a-856f132eced1",
   "metadata": {},
   "outputs": [],
   "source": [
    "from logging import getLogger\n",
    "from recbole.config import Config\n",
    "from recbole.data import create_dataset, data_preparation\n",
    "from recbole.model.knowledge_aware_recommender import KGAT\n",
    "from recbole.trainer import KGATTrainer\n",
    "from recbole.utils import init_seed, init_logger\n",
    "\n",
    "train_model = True\n",
    "create_paths = True"
   ]
  },
  {
   "cell_type": "code",
   "execution_count": 2,
   "id": "3e05ff00-3d37-406e-8e66-eab5e3ce034e",
   "metadata": {
    "jupyter": {
     "outputs_hidden": true
    },
    "tags": []
   },
   "outputs": [
    {
     "name": "stderr",
     "output_type": "stream",
     "text": [
      "06 Mar 23:16    INFO  \n",
      "General Hyper Parameters:\n",
      "gpu_id = 0\n",
      "use_gpu = True\n",
      "seed = 2020\n",
      "state = INFO\n",
      "reproducibility = True\n",
      "data_path = ./data/rb_lfm\n",
      "checkpoint_dir = saved\n",
      "show_progress = True\n",
      "save_dataset = False\n",
      "dataset_save_path = None\n",
      "save_dataloaders = False\n",
      "dataloaders_save_path = None\n",
      "log_wandb = False\n",
      "\n",
      "Training Hyper Parameters:\n",
      "epochs = 35\n",
      "train_batch_size = 1024\n",
      "learner = adam\n",
      "learning_rate = 0.001\n",
      "train_neg_sample_args = {'distribution': 'uniform', 'sample_num': 1, 'alpha': 1.0, 'dynamic': False, 'candidate_num': 0}\n",
      "eval_step = 1\n",
      "stopping_step = 10\n",
      "clip_grad_norm = None\n",
      "weight_decay = 0.0\n",
      "loss_decimal_place = 4\n",
      "\n",
      "Evaluation Hyper Parameters:\n",
      "eval_args = {'split': {'RS': [8, 1, 1]}, 'group_by': 'user', 'order': 'TO', 'mode': 'full'}\n",
      "repeatable = False\n",
      "metrics = ['NDCG', 'Hit', 'Precision']\n",
      "topk = [10]\n",
      "valid_metric = NDCG@10\n",
      "valid_metric_bigger = True\n",
      "eval_batch_size = 1024\n",
      "metric_decimal_place = 4\n",
      "\n",
      "Dataset Hyper Parameters:\n",
      "field_separator = \t\n",
      "seq_separator =  \n",
      "USER_ID_FIELD = user_id\n",
      "ITEM_ID_FIELD = item_id\n",
      "RATING_FIELD = rating\n",
      "TIME_FIELD = timestamp\n",
      "seq_len = None\n",
      "LABEL_FIELD = label\n",
      "threshold = None\n",
      "NEG_PREFIX = neg_\n",
      "load_col = {'inter': ['user_id', 'item_id', 'album', 'timestamp'], 'kg': ['head_id', 'relation_id', 'tail_id'], 'link': ['item_id', 'entity_id']}\n",
      "unload_col = None\n",
      "unused_col = None\n",
      "additional_feat_suffix = None\n",
      "rm_dup_inter = None\n",
      "val_interval = None\n",
      "filter_inter_by_user_or_item = True\n",
      "user_inter_num_interval = [0,inf)\n",
      "item_inter_num_interval = [0,inf)\n",
      "alias_of_user_id = None\n",
      "alias_of_item_id = None\n",
      "alias_of_entity_id = None\n",
      "alias_of_relation_id = None\n",
      "preload_weight = None\n",
      "normalize_field = None\n",
      "normalize_all = None\n",
      "ITEM_LIST_LENGTH_FIELD = item_length\n",
      "LIST_SUFFIX = _list\n",
      "MAX_ITEM_LIST_LENGTH = 50\n",
      "POSITION_FIELD = position_id\n",
      "HEAD_ENTITY_ID_FIELD = head_id\n",
      "TAIL_ENTITY_ID_FIELD = tail_id\n",
      "RELATION_ID_FIELD = relation_id\n",
      "ENTITY_ID_FIELD = entity_id\n",
      "benchmark_filename = None\n",
      "\n",
      "Other Hyper Parameters: \n",
      "worker = 8\n",
      "wandb_project = recbole\n",
      "shuffle = True\n",
      "require_pow = False\n",
      "enable_amp = False\n",
      "enable_scaler = False\n",
      "transform = None\n",
      "embedding_size = 32\n",
      "kg_embedding_size = 32\n",
      "layers = [32, 16, 8]\n",
      "mess_dropout = 0.1\n",
      "reg_weight = 1e-05\n",
      "aggregator_type = bi\n",
      "numerical_features = []\n",
      "discretization = None\n",
      "kg_reverse_r = True\n",
      "entity_kg_num_interval = [0,inf)\n",
      "relation_kg_num_interval = [0,inf)\n",
      "MODEL_TYPE = ModelType.KNOWLEDGE\n",
      "device = cuda\n",
      "MODEL_INPUT_TYPE = InputType.PAIRWISE\n",
      "eval_type = EvaluatorType.RANKING\n",
      "single_spec = True\n",
      "local_rank = 0\n",
      "eval_neg_sample_args = {'distribution': 'uniform', 'sample_num': 'none'}\n",
      "\n",
      "\n",
      "06 Mar 23:17    INFO  rb_lfm\n",
      "The number of users: 9754\n",
      "Average actions of users: 512.100276837896\n",
      "The number of items: 156836\n",
      "Average actions of items: 31.845659451015397\n",
      "The number of inters: 4994514\n",
      "The sparsity of the dataset: 99.67351387738039%\n",
      "Remain Fields: ['entity_id', 'user_id', 'item_id', 'timestamp', 'head_id', 'relation_id', 'tail_id']\n",
      "The number of entities: 275538\n",
      "The number of relations: 14\n",
      "The number of triples: 2261308\n",
      "The number of items that have been linked to KG: 156835\n",
      "06 Mar 23:17    INFO  [Training]: train_batch_size = [1024] train_neg_sample_args: [{'distribution': 'uniform', 'sample_num': 1, 'alpha': 1.0, 'dynamic': False, 'candidate_num': 0}]\n",
      "06 Mar 23:17    INFO  [Evaluation]: eval_batch_size = [1024] eval_args: [{'split': {'RS': [8, 1, 1]}, 'group_by': 'user', 'order': 'TO', 'mode': 'full'}]\n"
     ]
    }
   ],
   "source": [
    "\n",
    "# configurations initialization\n",
    "config = Config(model='KGAT', dataset='rb_lfm', config_file_list=['lfm.yaml'])\n",
    "\n",
    "# init random seed\n",
    "init_seed(config['seed'], config['reproducibility'])\n",
    "\n",
    "# logger initialization\n",
    "init_logger(config)\n",
    "logger = getLogger()\n",
    "\n",
    "# write config info into log\n",
    "logger.info(config)\n",
    "\n",
    "# dataset creating and filtering\n",
    "dataset = create_dataset(config)\n",
    "logger.info(dataset)\n",
    "\n",
    "# dataset splitting\n",
    "train_data, valid_data, test_data = data_preparation(config, dataset)\n"
   ]
  },
  {
   "cell_type": "markdown",
   "id": "0dd4fa2f-7b05-479b-a673-1bdc419848fe",
   "metadata": {
    "tags": []
   },
   "source": [
    "### Train model and evaluate"
   ]
  },
  {
   "cell_type": "code",
   "execution_count": 3,
   "id": "f8535eaf-7ad9-4ad4-bd6d-ef8b609aa585",
   "metadata": {
    "scrolled": true,
    "tags": []
   },
   "outputs": [
    {
     "name": "stderr",
     "output_type": "stream",
     "text": [
      "/home/jfallmann/miniconda3/envs/pr/lib/python3.9/site-packages/dgl/subgraph.py:288: DGLWarning: Key word argument preserve_nodes is deprecated. Use relabel_nodes instead.\n",
      "  dgl_warning(\n",
      "/home/jfallmann/miniconda3/envs/pr/lib/python3.9/site-packages/recbole/model/knowledge_aware_recommender/kgat.py:159: RuntimeWarning: divide by zero encountered in power\n",
      "  d_inv = np.power(rowsum, -1).flatten()\n",
      "/home/jfallmann/miniconda3/envs/pr/lib/python3.9/site-packages/recbole/model/knowledge_aware_recommender/kgat.py:166: UserWarning: Creating a tensor from a list of numpy.ndarrays is extremely slow. Please consider converting the list to a single numpy.ndarray with numpy.array() before converting to a tensor. (Triggered internally at /opt/conda/conda-bld/pytorch_1670525551200/work/torch/csrc/utils/tensor_new.cpp:230.)\n",
      "  indices = torch.LongTensor([final_adj_matrix.row, final_adj_matrix.col])\n",
      "06 Mar 23:17    INFO  KGAT(\n",
      "  (user_embedding): Embedding(9754, 32)\n",
      "  (entity_embedding): Embedding(275538, 32)\n",
      "  (relation_embedding): Embedding(14, 32)\n",
      "  (trans_w): Embedding(14, 1024)\n",
      "  (aggregator_layers): ModuleList(\n",
      "    (0): Aggregator(\n",
      "      (message_dropout): Dropout(p=0.1, inplace=False)\n",
      "      (W1): Linear(in_features=32, out_features=32, bias=True)\n",
      "      (W2): Linear(in_features=32, out_features=32, bias=True)\n",
      "      (activation): LeakyReLU(negative_slope=0.01)\n",
      "    )\n",
      "    (1): Aggregator(\n",
      "      (message_dropout): Dropout(p=0.1, inplace=False)\n",
      "      (W1): Linear(in_features=32, out_features=16, bias=True)\n",
      "      (W2): Linear(in_features=32, out_features=16, bias=True)\n",
      "      (activation): LeakyReLU(negative_slope=0.01)\n",
      "    )\n",
      "    (2): Aggregator(\n",
      "      (message_dropout): Dropout(p=0.1, inplace=False)\n",
      "      (W1): Linear(in_features=16, out_features=8, bias=True)\n",
      "      (W2): Linear(in_features=16, out_features=8, bias=True)\n",
      "      (activation): LeakyReLU(negative_slope=0.01)\n",
      "    )\n",
      "  )\n",
      "  (tanh): Tanh()\n",
      "  (mf_loss): BPRLoss()\n",
      "  (reg_loss): EmbLoss()\n",
      ")\n",
      "Trainable parameters: 9147568\n"
     ]
    },
    {
     "name": "stdout",
     "output_type": "stream",
     "text": [
      "Starting to fit model\n"
     ]
    },
    {
     "data": {
      "application/vnd.jupyter.widget-view+json": {
       "model_id": "cf597de6487a4f3ba9c3d1c9c45dffbe",
       "version_major": 2,
       "version_minor": 0
      },
      "text/plain": [
       "\u001b[1;35mTrain     0\u001b[0m:   0%|          | 0/3910 [00:00<?, ?it/s]"
      ]
     },
     "metadata": {},
     "output_type": "display_data"
    },
    {
     "data": {
      "application/vnd.jupyter.widget-view+json": {
       "model_id": "a6408fb3b09d48bdabe352d5d6a17260",
       "version_major": 2,
       "version_minor": 0
      },
      "text/plain": [
       "\u001b[1;35mTrain     0\u001b[0m:   0%|          | 0/2209 [00:00<?, ?it/s]"
      ]
     },
     "metadata": {},
     "output_type": "display_data"
    },
    {
     "name": "stderr",
     "output_type": "stream",
     "text": [
      "06 Mar 23:30    INFO  epoch 0 training [time: 755.97s, train_loss1: 1128.1399, train_loss2: 156.2698]\n"
     ]
    },
    {
     "data": {
      "application/vnd.jupyter.widget-view+json": {
       "model_id": "ed23c7610a6c45f99c78fa8ad4930493",
       "version_major": 2,
       "version_minor": 0
      },
      "text/plain": [
       "\u001b[1;35mEvaluate   \u001b[0m:   0%|                                                         | 0/9649 [00:00<?, ?it/s…"
      ]
     },
     "metadata": {},
     "output_type": "display_data"
    },
    {
     "name": "stderr",
     "output_type": "stream",
     "text": [
      "06 Mar 23:30    INFO  epoch 0 evaluating [time: 18.21s, valid_score: 0.018000]\n",
      "06 Mar 23:30    INFO  valid result: \n",
      "ndcg@10 : 0.018    hit@10 : 0.1219    precision@10 : 0.0163\n",
      "06 Mar 23:30    INFO  Saving current: saved/KGAT-Mar-06-2023_23-17-41.pth\n"
     ]
    },
    {
     "data": {
      "application/vnd.jupyter.widget-view+json": {
       "model_id": "e3776e1deef74299afd961df07384cda",
       "version_major": 2,
       "version_minor": 0
      },
      "text/plain": [
       "\u001b[1;35mTrain     1\u001b[0m:   0%|          | 0/3910 [00:00<?, ?it/s]"
      ]
     },
     "metadata": {},
     "output_type": "display_data"
    },
    {
     "data": {
      "application/vnd.jupyter.widget-view+json": {
       "model_id": "b0aa89e2c39d4e45a31bd037f554cd9b",
       "version_major": 2,
       "version_minor": 0
      },
      "text/plain": [
       "\u001b[1;35mTrain     1\u001b[0m:   0%|          | 0/2209 [00:00<?, ?it/s]"
      ]
     },
     "metadata": {},
     "output_type": "display_data"
    },
    {
     "name": "stderr",
     "output_type": "stream",
     "text": [
      "06 Mar 23:39    INFO  epoch 1 training [time: 562.85s, train_loss1: 1140.7877, train_loss2: 39.5037]\n"
     ]
    },
    {
     "data": {
      "application/vnd.jupyter.widget-view+json": {
       "model_id": "44448b203c944fcc8720d0adadd6934e",
       "version_major": 2,
       "version_minor": 0
      },
      "text/plain": [
       "\u001b[1;35mEvaluate   \u001b[0m:   0%|                                                         | 0/9649 [00:00<?, ?it/s…"
      ]
     },
     "metadata": {},
     "output_type": "display_data"
    },
    {
     "name": "stderr",
     "output_type": "stream",
     "text": [
      "06 Mar 23:40    INFO  epoch 1 evaluating [time: 18.19s, valid_score: 0.056300]\n",
      "06 Mar 23:40    INFO  valid result: \n",
      "ndcg@10 : 0.0563    hit@10 : 0.2483    precision@10 : 0.0479\n",
      "06 Mar 23:40    INFO  Saving current: saved/KGAT-Mar-06-2023_23-17-41.pth\n"
     ]
    },
    {
     "data": {
      "application/vnd.jupyter.widget-view+json": {
       "model_id": "25841a89eb0640b7acc5cc6d0850300f",
       "version_major": 2,
       "version_minor": 0
      },
      "text/plain": [
       "\u001b[1;35mTrain     2\u001b[0m:   0%|          | 0/3910 [00:00<?, ?it/s]"
      ]
     },
     "metadata": {},
     "output_type": "display_data"
    },
    {
     "data": {
      "application/vnd.jupyter.widget-view+json": {
       "model_id": "dd5862a73bf2449b9408083a4460ad57",
       "version_major": 2,
       "version_minor": 0
      },
      "text/plain": [
       "\u001b[1;35mTrain     2\u001b[0m:   0%|          | 0/2209 [00:00<?, ?it/s]"
      ]
     },
     "metadata": {},
     "output_type": "display_data"
    },
    {
     "name": "stderr",
     "output_type": "stream",
     "text": [
      "06 Mar 23:49    INFO  epoch 2 training [time: 563.21s, train_loss1: 852.7676, train_loss2: 22.9993]\n"
     ]
    },
    {
     "data": {
      "application/vnd.jupyter.widget-view+json": {
       "model_id": "93ab30c6a09e47e390241d20286927e9",
       "version_major": 2,
       "version_minor": 0
      },
      "text/plain": [
       "\u001b[1;35mEvaluate   \u001b[0m:   0%|                                                         | 0/9649 [00:00<?, ?it/s…"
      ]
     },
     "metadata": {},
     "output_type": "display_data"
    },
    {
     "name": "stderr",
     "output_type": "stream",
     "text": [
      "06 Mar 23:49    INFO  epoch 2 evaluating [time: 18.09s, valid_score: 0.065100]\n",
      "06 Mar 23:49    INFO  valid result: \n",
      "ndcg@10 : 0.0651    hit@10 : 0.2765    precision@10 : 0.0556\n",
      "06 Mar 23:49    INFO  Saving current: saved/KGAT-Mar-06-2023_23-17-41.pth\n"
     ]
    },
    {
     "data": {
      "application/vnd.jupyter.widget-view+json": {
       "model_id": "3ee3db45d2ee455bb527ec022d91cc47",
       "version_major": 2,
       "version_minor": 0
      },
      "text/plain": [
       "\u001b[1;35mTrain     3\u001b[0m:   0%|          | 0/3910 [00:00<?, ?it/s]"
      ]
     },
     "metadata": {},
     "output_type": "display_data"
    },
    {
     "data": {
      "application/vnd.jupyter.widget-view+json": {
       "model_id": "1de7c20c626e4f1ab42886b52d63bbb1",
       "version_major": 2,
       "version_minor": 0
      },
      "text/plain": [
       "\u001b[1;35mTrain     3\u001b[0m:   0%|          | 0/2209 [00:00<?, ?it/s]"
      ]
     },
     "metadata": {},
     "output_type": "display_data"
    },
    {
     "name": "stderr",
     "output_type": "stream",
     "text": [
      "06 Mar 23:59    INFO  epoch 3 training [time: 563.27s, train_loss1: 646.6623, train_loss2: 15.2364]\n"
     ]
    },
    {
     "data": {
      "application/vnd.jupyter.widget-view+json": {
       "model_id": "e8e149b817ce49298be99d5d317ebef1",
       "version_major": 2,
       "version_minor": 0
      },
      "text/plain": [
       "\u001b[1;35mEvaluate   \u001b[0m:   0%|                                                         | 0/9649 [00:00<?, ?it/s…"
      ]
     },
     "metadata": {},
     "output_type": "display_data"
    },
    {
     "name": "stderr",
     "output_type": "stream",
     "text": [
      "06 Mar 23:59    INFO  epoch 3 evaluating [time: 18.21s, valid_score: 0.070100]\n",
      "06 Mar 23:59    INFO  valid result: \n",
      "ndcg@10 : 0.0701    hit@10 : 0.2925    precision@10 : 0.0596\n",
      "06 Mar 23:59    INFO  Saving current: saved/KGAT-Mar-06-2023_23-17-41.pth\n"
     ]
    },
    {
     "data": {
      "application/vnd.jupyter.widget-view+json": {
       "model_id": "9c519d05fff240c2a97e3c9a97969890",
       "version_major": 2,
       "version_minor": 0
      },
      "text/plain": [
       "\u001b[1;35mTrain     4\u001b[0m:   0%|          | 0/3910 [00:00<?, ?it/s]"
      ]
     },
     "metadata": {},
     "output_type": "display_data"
    },
    {
     "data": {
      "application/vnd.jupyter.widget-view+json": {
       "model_id": "17490b548f8c4545adc58cbc77081298",
       "version_major": 2,
       "version_minor": 0
      },
      "text/plain": [
       "\u001b[1;35mTrain     4\u001b[0m:   0%|          | 0/2209 [00:00<?, ?it/s]"
      ]
     },
     "metadata": {},
     "output_type": "display_data"
    },
    {
     "name": "stderr",
     "output_type": "stream",
     "text": [
      "07 Mar 00:09    INFO  epoch 4 training [time: 562.87s, train_loss1: 514.8036, train_loss2: 11.1650]\n"
     ]
    },
    {
     "data": {
      "application/vnd.jupyter.widget-view+json": {
       "model_id": "39334c34618a49c9a173d7e1d7902ab1",
       "version_major": 2,
       "version_minor": 0
      },
      "text/plain": [
       "\u001b[1;35mEvaluate   \u001b[0m:   0%|                                                         | 0/9649 [00:00<?, ?it/s…"
      ]
     },
     "metadata": {},
     "output_type": "display_data"
    },
    {
     "name": "stderr",
     "output_type": "stream",
     "text": [
      "07 Mar 00:09    INFO  epoch 4 evaluating [time: 18.06s, valid_score: 0.072200]\n",
      "07 Mar 00:09    INFO  valid result: \n",
      "ndcg@10 : 0.0722    hit@10 : 0.2968    precision@10 : 0.062\n",
      "07 Mar 00:09    INFO  Saving current: saved/KGAT-Mar-06-2023_23-17-41.pth\n"
     ]
    },
    {
     "data": {
      "application/vnd.jupyter.widget-view+json": {
       "model_id": "b97fe8968fb046b58454d2159fa54e2b",
       "version_major": 2,
       "version_minor": 0
      },
      "text/plain": [
       "\u001b[1;35mTrain     5\u001b[0m:   0%|          | 0/3910 [00:00<?, ?it/s]"
      ]
     },
     "metadata": {},
     "output_type": "display_data"
    },
    {
     "data": {
      "application/vnd.jupyter.widget-view+json": {
       "model_id": "bacf660524134bca9457d22a9056d04f",
       "version_major": 2,
       "version_minor": 0
      },
      "text/plain": [
       "\u001b[1;35mTrain     5\u001b[0m:   0%|          | 0/2209 [00:00<?, ?it/s]"
      ]
     },
     "metadata": {},
     "output_type": "display_data"
    },
    {
     "name": "stderr",
     "output_type": "stream",
     "text": [
      "07 Mar 00:18    INFO  epoch 5 training [time: 563.89s, train_loss1: 428.3520, train_loss2: 8.7343]\n"
     ]
    },
    {
     "data": {
      "application/vnd.jupyter.widget-view+json": {
       "model_id": "fcbde27b9c994496b38384a3e81df9a8",
       "version_major": 2,
       "version_minor": 0
      },
      "text/plain": [
       "\u001b[1;35mEvaluate   \u001b[0m:   0%|                                                         | 0/9649 [00:00<?, ?it/s…"
      ]
     },
     "metadata": {},
     "output_type": "display_data"
    },
    {
     "name": "stderr",
     "output_type": "stream",
     "text": [
      "07 Mar 00:19    INFO  epoch 5 evaluating [time: 18.20s, valid_score: 0.074600]\n",
      "07 Mar 00:19    INFO  valid result: \n",
      "ndcg@10 : 0.0746    hit@10 : 0.307    precision@10 : 0.0638\n",
      "07 Mar 00:19    INFO  Saving current: saved/KGAT-Mar-06-2023_23-17-41.pth\n"
     ]
    },
    {
     "data": {
      "application/vnd.jupyter.widget-view+json": {
       "model_id": "137e916741b844309a988e88375376c3",
       "version_major": 2,
       "version_minor": 0
      },
      "text/plain": [
       "\u001b[1;35mTrain     6\u001b[0m:   0%|          | 0/3910 [00:00<?, ?it/s]"
      ]
     },
     "metadata": {},
     "output_type": "display_data"
    },
    {
     "data": {
      "application/vnd.jupyter.widget-view+json": {
       "model_id": "b2f1b094a2784670b26013aaf41b930e",
       "version_major": 2,
       "version_minor": 0
      },
      "text/plain": [
       "\u001b[1;35mTrain     6\u001b[0m:   0%|          | 0/2209 [00:00<?, ?it/s]"
      ]
     },
     "metadata": {},
     "output_type": "display_data"
    },
    {
     "name": "stderr",
     "output_type": "stream",
     "text": [
      "07 Mar 00:28    INFO  epoch 6 training [time: 563.66s, train_loss1: 367.1952, train_loss2: 7.0211]\n"
     ]
    },
    {
     "data": {
      "application/vnd.jupyter.widget-view+json": {
       "model_id": "008263d7d5494beab71400fc081a418b",
       "version_major": 2,
       "version_minor": 0
      },
      "text/plain": [
       "\u001b[1;35mEvaluate   \u001b[0m:   0%|                                                         | 0/9649 [00:00<?, ?it/s…"
      ]
     },
     "metadata": {},
     "output_type": "display_data"
    },
    {
     "name": "stderr",
     "output_type": "stream",
     "text": [
      "07 Mar 00:28    INFO  epoch 6 evaluating [time: 18.22s, valid_score: 0.077300]\n",
      "07 Mar 00:28    INFO  valid result: \n",
      "ndcg@10 : 0.0773    hit@10 : 0.3172    precision@10 : 0.0665\n",
      "07 Mar 00:28    INFO  Saving current: saved/KGAT-Mar-06-2023_23-17-41.pth\n"
     ]
    },
    {
     "data": {
      "application/vnd.jupyter.widget-view+json": {
       "model_id": "a9549bab32e4428e8ee49a3eb80d5ea8",
       "version_major": 2,
       "version_minor": 0
      },
      "text/plain": [
       "\u001b[1;35mTrain     7\u001b[0m:   0%|          | 0/3910 [00:00<?, ?it/s]"
      ]
     },
     "metadata": {},
     "output_type": "display_data"
    },
    {
     "data": {
      "application/vnd.jupyter.widget-view+json": {
       "model_id": "ae334c273d674d84b6e02ee17dd2f308",
       "version_major": 2,
       "version_minor": 0
      },
      "text/plain": [
       "\u001b[1;35mTrain     7\u001b[0m:   0%|          | 0/2209 [00:00<?, ?it/s]"
      ]
     },
     "metadata": {},
     "output_type": "display_data"
    },
    {
     "name": "stderr",
     "output_type": "stream",
     "text": [
      "07 Mar 00:38    INFO  epoch 7 training [time: 563.89s, train_loss1: 322.7862, train_loss2: 5.7306]\n"
     ]
    },
    {
     "data": {
      "application/vnd.jupyter.widget-view+json": {
       "model_id": "c24925ec6aa74a149bb993ae7fbb64f7",
       "version_major": 2,
       "version_minor": 0
      },
      "text/plain": [
       "\u001b[1;35mEvaluate   \u001b[0m:   0%|                                                         | 0/9649 [00:00<?, ?it/s…"
      ]
     },
     "metadata": {},
     "output_type": "display_data"
    },
    {
     "name": "stderr",
     "output_type": "stream",
     "text": [
      "07 Mar 00:38    INFO  epoch 7 evaluating [time: 18.32s, valid_score: 0.081000]\n",
      "07 Mar 00:38    INFO  valid result: \n",
      "ndcg@10 : 0.081    hit@10 : 0.326    precision@10 : 0.0693\n",
      "07 Mar 00:38    INFO  Saving current: saved/KGAT-Mar-06-2023_23-17-41.pth\n"
     ]
    },
    {
     "data": {
      "application/vnd.jupyter.widget-view+json": {
       "model_id": "ae3bcf75485a4ce6be7201ec0965315b",
       "version_major": 2,
       "version_minor": 0
      },
      "text/plain": [
       "\u001b[1;35mTrain     8\u001b[0m:   0%|          | 0/3910 [00:00<?, ?it/s]"
      ]
     },
     "metadata": {},
     "output_type": "display_data"
    },
    {
     "data": {
      "application/vnd.jupyter.widget-view+json": {
       "model_id": "1eb3c1fbf87d4aa1945d25d9d89fae02",
       "version_major": 2,
       "version_minor": 0
      },
      "text/plain": [
       "\u001b[1;35mTrain     8\u001b[0m:   0%|          | 0/2209 [00:00<?, ?it/s]"
      ]
     },
     "metadata": {},
     "output_type": "display_data"
    },
    {
     "name": "stderr",
     "output_type": "stream",
     "text": [
      "07 Mar 00:47    INFO  epoch 8 training [time: 563.51s, train_loss1: 287.3548, train_loss2: 4.6977]\n"
     ]
    },
    {
     "data": {
      "application/vnd.jupyter.widget-view+json": {
       "model_id": "687bfbd6146e47babadb6f1ee968a1c8",
       "version_major": 2,
       "version_minor": 0
      },
      "text/plain": [
       "\u001b[1;35mEvaluate   \u001b[0m:   0%|                                                         | 0/9649 [00:00<?, ?it/s…"
      ]
     },
     "metadata": {},
     "output_type": "display_data"
    },
    {
     "name": "stderr",
     "output_type": "stream",
     "text": [
      "07 Mar 00:48    INFO  epoch 8 evaluating [time: 18.32s, valid_score: 0.082100]\n",
      "07 Mar 00:48    INFO  valid result: \n",
      "ndcg@10 : 0.0821    hit@10 : 0.332    precision@10 : 0.0714\n",
      "07 Mar 00:48    INFO  Saving current: saved/KGAT-Mar-06-2023_23-17-41.pth\n"
     ]
    },
    {
     "data": {
      "application/vnd.jupyter.widget-view+json": {
       "model_id": "866fcf903d0041208aa845c0e223aee7",
       "version_major": 2,
       "version_minor": 0
      },
      "text/plain": [
       "\u001b[1;35mTrain     9\u001b[0m:   0%|          | 0/3910 [00:00<?, ?it/s]"
      ]
     },
     "metadata": {},
     "output_type": "display_data"
    },
    {
     "data": {
      "application/vnd.jupyter.widget-view+json": {
       "model_id": "84009f3b1c1a4e30a16dcd9dcef97caf",
       "version_major": 2,
       "version_minor": 0
      },
      "text/plain": [
       "\u001b[1;35mTrain     9\u001b[0m:   0%|          | 0/2209 [00:00<?, ?it/s]"
      ]
     },
     "metadata": {},
     "output_type": "display_data"
    },
    {
     "name": "stderr",
     "output_type": "stream",
     "text": [
      "07 Mar 00:57    INFO  epoch 9 training [time: 564.07s, train_loss1: 257.7668, train_loss2: 4.2175]\n"
     ]
    },
    {
     "data": {
      "application/vnd.jupyter.widget-view+json": {
       "model_id": "17d3c261dd124b2fbab187df5e913e34",
       "version_major": 2,
       "version_minor": 0
      },
      "text/plain": [
       "\u001b[1;35mEvaluate   \u001b[0m:   0%|                                                         | 0/9649 [00:00<?, ?it/s…"
      ]
     },
     "metadata": {},
     "output_type": "display_data"
    },
    {
     "name": "stderr",
     "output_type": "stream",
     "text": [
      "07 Mar 00:57    INFO  epoch 9 evaluating [time: 18.20s, valid_score: 0.084800]\n",
      "07 Mar 00:57    INFO  valid result: \n",
      "ndcg@10 : 0.0848    hit@10 : 0.3385    precision@10 : 0.0731\n",
      "07 Mar 00:57    INFO  Saving current: saved/KGAT-Mar-06-2023_23-17-41.pth\n"
     ]
    },
    {
     "data": {
      "application/vnd.jupyter.widget-view+json": {
       "model_id": "f5027ef9dfbb4d998f03faf991ae459c",
       "version_major": 2,
       "version_minor": 0
      },
      "text/plain": [
       "\u001b[1;35mTrain    10\u001b[0m:   0%|          | 0/3910 [00:00<?, ?it/s]"
      ]
     },
     "metadata": {},
     "output_type": "display_data"
    },
    {
     "data": {
      "application/vnd.jupyter.widget-view+json": {
       "model_id": "c8daa313d35f49bbaf3b5c2627fd790a",
       "version_major": 2,
       "version_minor": 0
      },
      "text/plain": [
       "\u001b[1;35mTrain    10\u001b[0m:   0%|          | 0/2209 [00:00<?, ?it/s]"
      ]
     },
     "metadata": {},
     "output_type": "display_data"
    },
    {
     "name": "stderr",
     "output_type": "stream",
     "text": [
      "07 Mar 01:07    INFO  epoch 10 training [time: 563.87s, train_loss1: 236.1479, train_loss2: 3.6454]\n"
     ]
    },
    {
     "data": {
      "application/vnd.jupyter.widget-view+json": {
       "model_id": "0f7db7b74f7b4656995b98adc9152e97",
       "version_major": 2,
       "version_minor": 0
      },
      "text/plain": [
       "\u001b[1;35mEvaluate   \u001b[0m:   0%|                                                         | 0/9649 [00:00<?, ?it/s…"
      ]
     },
     "metadata": {},
     "output_type": "display_data"
    },
    {
     "name": "stderr",
     "output_type": "stream",
     "text": [
      "07 Mar 01:07    INFO  epoch 10 evaluating [time: 18.14s, valid_score: 0.086400]\n",
      "07 Mar 01:07    INFO  valid result: \n",
      "ndcg@10 : 0.0864    hit@10 : 0.3398    precision@10 : 0.0745\n",
      "07 Mar 01:07    INFO  Saving current: saved/KGAT-Mar-06-2023_23-17-41.pth\n"
     ]
    },
    {
     "data": {
      "application/vnd.jupyter.widget-view+json": {
       "model_id": "dce72600c1a34919912fe0efe855706f",
       "version_major": 2,
       "version_minor": 0
      },
      "text/plain": [
       "\u001b[1;35mTrain    11\u001b[0m:   0%|          | 0/3910 [00:00<?, ?it/s]"
      ]
     },
     "metadata": {},
     "output_type": "display_data"
    },
    {
     "data": {
      "application/vnd.jupyter.widget-view+json": {
       "model_id": "c1e6947027964f17af65b4bbb7564a43",
       "version_major": 2,
       "version_minor": 0
      },
      "text/plain": [
       "\u001b[1;35mTrain    11\u001b[0m:   0%|          | 0/2209 [00:00<?, ?it/s]"
      ]
     },
     "metadata": {},
     "output_type": "display_data"
    },
    {
     "name": "stderr",
     "output_type": "stream",
     "text": [
      "07 Mar 01:16    INFO  epoch 11 training [time: 563.91s, train_loss1: 216.4724, train_loss2: 3.3360]\n"
     ]
    },
    {
     "data": {
      "application/vnd.jupyter.widget-view+json": {
       "model_id": "fae3293bd07b4ae38cc589d98a0c5774",
       "version_major": 2,
       "version_minor": 0
      },
      "text/plain": [
       "\u001b[1;35mEvaluate   \u001b[0m:   0%|                                                         | 0/9649 [00:00<?, ?it/s…"
      ]
     },
     "metadata": {},
     "output_type": "display_data"
    },
    {
     "name": "stderr",
     "output_type": "stream",
     "text": [
      "07 Mar 01:17    INFO  epoch 11 evaluating [time: 18.27s, valid_score: 0.087700]\n",
      "07 Mar 01:17    INFO  valid result: \n",
      "ndcg@10 : 0.0877    hit@10 : 0.3446    precision@10 : 0.0755\n",
      "07 Mar 01:17    INFO  Saving current: saved/KGAT-Mar-06-2023_23-17-41.pth\n"
     ]
    },
    {
     "data": {
      "application/vnd.jupyter.widget-view+json": {
       "model_id": "de514d187f1d4682be27cbd13dfaefc1",
       "version_major": 2,
       "version_minor": 0
      },
      "text/plain": [
       "\u001b[1;35mTrain    12\u001b[0m:   0%|          | 0/3910 [00:00<?, ?it/s]"
      ]
     },
     "metadata": {},
     "output_type": "display_data"
    },
    {
     "data": {
      "application/vnd.jupyter.widget-view+json": {
       "model_id": "ca20f8da7cfb44ecb8c7a73b4bcb6d0a",
       "version_major": 2,
       "version_minor": 0
      },
      "text/plain": [
       "\u001b[1;35mTrain    12\u001b[0m:   0%|          | 0/2209 [00:00<?, ?it/s]"
      ]
     },
     "metadata": {},
     "output_type": "display_data"
    },
    {
     "name": "stderr",
     "output_type": "stream",
     "text": [
      "07 Mar 01:26    INFO  epoch 12 training [time: 563.26s, train_loss1: 199.9468, train_loss2: 3.0587]\n"
     ]
    },
    {
     "data": {
      "application/vnd.jupyter.widget-view+json": {
       "model_id": "e87e2633bc914cad96d130539f67260f",
       "version_major": 2,
       "version_minor": 0
      },
      "text/plain": [
       "\u001b[1;35mEvaluate   \u001b[0m:   0%|                                                         | 0/9649 [00:00<?, ?it/s…"
      ]
     },
     "metadata": {},
     "output_type": "display_data"
    },
    {
     "name": "stderr",
     "output_type": "stream",
     "text": [
      "07 Mar 01:26    INFO  epoch 12 evaluating [time: 18.23s, valid_score: 0.090400]\n",
      "07 Mar 01:26    INFO  valid result: \n",
      "ndcg@10 : 0.0904    hit@10 : 0.3581    precision@10 : 0.078\n",
      "07 Mar 01:27    INFO  Saving current: saved/KGAT-Mar-06-2023_23-17-41.pth\n"
     ]
    },
    {
     "data": {
      "application/vnd.jupyter.widget-view+json": {
       "model_id": "0ec90e0e45134cfa835024b59cbacc93",
       "version_major": 2,
       "version_minor": 0
      },
      "text/plain": [
       "\u001b[1;35mTrain    13\u001b[0m:   0%|          | 0/3910 [00:00<?, ?it/s]"
      ]
     },
     "metadata": {},
     "output_type": "display_data"
    },
    {
     "data": {
      "application/vnd.jupyter.widget-view+json": {
       "model_id": "7244bca96e6441168f0a30720b6c3458",
       "version_major": 2,
       "version_minor": 0
      },
      "text/plain": [
       "\u001b[1;35mTrain    13\u001b[0m:   0%|          | 0/2209 [00:00<?, ?it/s]"
      ]
     },
     "metadata": {},
     "output_type": "display_data"
    },
    {
     "name": "stderr",
     "output_type": "stream",
     "text": [
      "07 Mar 01:36    INFO  epoch 13 training [time: 564.27s, train_loss1: 185.8880, train_loss2: 2.9238]\n"
     ]
    },
    {
     "data": {
      "application/vnd.jupyter.widget-view+json": {
       "model_id": "4d0b24886df04613abc43d4ed494fb4a",
       "version_major": 2,
       "version_minor": 0
      },
      "text/plain": [
       "\u001b[1;35mEvaluate   \u001b[0m:   0%|                                                         | 0/9649 [00:00<?, ?it/s…"
      ]
     },
     "metadata": {},
     "output_type": "display_data"
    },
    {
     "name": "stderr",
     "output_type": "stream",
     "text": [
      "07 Mar 01:36    INFO  epoch 13 evaluating [time: 18.35s, valid_score: 0.093000]\n",
      "07 Mar 01:36    INFO  valid result: \n",
      "ndcg@10 : 0.093    hit@10 : 0.3629    precision@10 : 0.0804\n",
      "07 Mar 01:36    INFO  Saving current: saved/KGAT-Mar-06-2023_23-17-41.pth\n"
     ]
    },
    {
     "data": {
      "application/vnd.jupyter.widget-view+json": {
       "model_id": "e951a76f9dea449a9d79acb4243c8a88",
       "version_major": 2,
       "version_minor": 0
      },
      "text/plain": [
       "\u001b[1;35mTrain    14\u001b[0m:   0%|          | 0/3910 [00:00<?, ?it/s]"
      ]
     },
     "metadata": {},
     "output_type": "display_data"
    },
    {
     "data": {
      "application/vnd.jupyter.widget-view+json": {
       "model_id": "fb8bb09212e747c6b5a77220e8d8c762",
       "version_major": 2,
       "version_minor": 0
      },
      "text/plain": [
       "\u001b[1;35mTrain    14\u001b[0m:   0%|          | 0/2209 [00:00<?, ?it/s]"
      ]
     },
     "metadata": {},
     "output_type": "display_data"
    },
    {
     "name": "stderr",
     "output_type": "stream",
     "text": [
      "07 Mar 01:46    INFO  epoch 14 training [time: 563.37s, train_loss1: 174.7666, train_loss2: 2.7252]\n"
     ]
    },
    {
     "data": {
      "application/vnd.jupyter.widget-view+json": {
       "model_id": "48beaa91e2084bad8dd3547f30f7cf15",
       "version_major": 2,
       "version_minor": 0
      },
      "text/plain": [
       "\u001b[1;35mEvaluate   \u001b[0m:   0%|                                                         | 0/9649 [00:00<?, ?it/s…"
      ]
     },
     "metadata": {},
     "output_type": "display_data"
    },
    {
     "name": "stderr",
     "output_type": "stream",
     "text": [
      "07 Mar 01:46    INFO  epoch 14 evaluating [time: 18.09s, valid_score: 0.092900]\n",
      "07 Mar 01:46    INFO  valid result: \n",
      "ndcg@10 : 0.0929    hit@10 : 0.364    precision@10 : 0.0805\n"
     ]
    },
    {
     "data": {
      "application/vnd.jupyter.widget-view+json": {
       "model_id": "69952b2a4bdd43dd887d6b0737e4dc3e",
       "version_major": 2,
       "version_minor": 0
      },
      "text/plain": [
       "\u001b[1;35mTrain    15\u001b[0m:   0%|          | 0/3910 [00:00<?, ?it/s]"
      ]
     },
     "metadata": {},
     "output_type": "display_data"
    },
    {
     "data": {
      "application/vnd.jupyter.widget-view+json": {
       "model_id": "48b6882378c94deb88d1aee918c30385",
       "version_major": 2,
       "version_minor": 0
      },
      "text/plain": [
       "\u001b[1;35mTrain    15\u001b[0m:   0%|          | 0/2209 [00:00<?, ?it/s]"
      ]
     },
     "metadata": {},
     "output_type": "display_data"
    },
    {
     "name": "stderr",
     "output_type": "stream",
     "text": [
      "07 Mar 01:55    INFO  epoch 15 training [time: 563.74s, train_loss1: 165.2588, train_loss2: 2.4316]\n"
     ]
    },
    {
     "data": {
      "application/vnd.jupyter.widget-view+json": {
       "model_id": "2426f10b84004904973d3310d87f7159",
       "version_major": 2,
       "version_minor": 0
      },
      "text/plain": [
       "\u001b[1;35mEvaluate   \u001b[0m:   0%|                                                         | 0/9649 [00:00<?, ?it/s…"
      ]
     },
     "metadata": {},
     "output_type": "display_data"
    },
    {
     "name": "stderr",
     "output_type": "stream",
     "text": [
      "07 Mar 01:56    INFO  epoch 15 evaluating [time: 18.13s, valid_score: 0.095000]\n",
      "07 Mar 01:56    INFO  valid result: \n",
      "ndcg@10 : 0.095    hit@10 : 0.3652    precision@10 : 0.0818\n",
      "07 Mar 01:56    INFO  Saving current: saved/KGAT-Mar-06-2023_23-17-41.pth\n"
     ]
    },
    {
     "data": {
      "application/vnd.jupyter.widget-view+json": {
       "model_id": "6fe35013a0454eb89690d2e847139b3a",
       "version_major": 2,
       "version_minor": 0
      },
      "text/plain": [
       "\u001b[1;35mTrain    16\u001b[0m:   0%|          | 0/3910 [00:00<?, ?it/s]"
      ]
     },
     "metadata": {},
     "output_type": "display_data"
    },
    {
     "data": {
      "application/vnd.jupyter.widget-view+json": {
       "model_id": "11378201ae344276924c43036add655b",
       "version_major": 2,
       "version_minor": 0
      },
      "text/plain": [
       "\u001b[1;35mTrain    16\u001b[0m:   0%|          | 0/2209 [00:00<?, ?it/s]"
      ]
     },
     "metadata": {},
     "output_type": "display_data"
    },
    {
     "name": "stderr",
     "output_type": "stream",
     "text": [
      "07 Mar 02:05    INFO  epoch 16 training [time: 563.30s, train_loss1: 155.6905, train_loss2: 2.2447]\n"
     ]
    },
    {
     "data": {
      "application/vnd.jupyter.widget-view+json": {
       "model_id": "ca0b6fad99344d4c9325d81e6267057a",
       "version_major": 2,
       "version_minor": 0
      },
      "text/plain": [
       "\u001b[1;35mEvaluate   \u001b[0m:   0%|                                                         | 0/9649 [00:00<?, ?it/s…"
      ]
     },
     "metadata": {},
     "output_type": "display_data"
    },
    {
     "name": "stderr",
     "output_type": "stream",
     "text": [
      "07 Mar 02:05    INFO  epoch 16 evaluating [time: 18.25s, valid_score: 0.096900]\n",
      "07 Mar 02:05    INFO  valid result: \n",
      "ndcg@10 : 0.0969    hit@10 : 0.3725    precision@10 : 0.0833\n",
      "07 Mar 02:05    INFO  Saving current: saved/KGAT-Mar-06-2023_23-17-41.pth\n"
     ]
    },
    {
     "data": {
      "application/vnd.jupyter.widget-view+json": {
       "model_id": "532e524660aa4f2f91095bac4db8f3fb",
       "version_major": 2,
       "version_minor": 0
      },
      "text/plain": [
       "\u001b[1;35mTrain    17\u001b[0m:   0%|          | 0/3910 [00:00<?, ?it/s]"
      ]
     },
     "metadata": {},
     "output_type": "display_data"
    },
    {
     "data": {
      "application/vnd.jupyter.widget-view+json": {
       "model_id": "73378ecb2d1a41fda0d608bdf031ad63",
       "version_major": 2,
       "version_minor": 0
      },
      "text/plain": [
       "\u001b[1;35mTrain    17\u001b[0m:   0%|          | 0/2209 [00:00<?, ?it/s]"
      ]
     },
     "metadata": {},
     "output_type": "display_data"
    },
    {
     "name": "stderr",
     "output_type": "stream",
     "text": [
      "07 Mar 02:15    INFO  epoch 17 training [time: 563.23s, train_loss1: 146.8183, train_loss2: 2.1414]\n"
     ]
    },
    {
     "data": {
      "application/vnd.jupyter.widget-view+json": {
       "model_id": "f60dec0e8f62423c89b9cd47d45a571a",
       "version_major": 2,
       "version_minor": 0
      },
      "text/plain": [
       "\u001b[1;35mEvaluate   \u001b[0m:   0%|                                                         | 0/9649 [00:00<?, ?it/s…"
      ]
     },
     "metadata": {},
     "output_type": "display_data"
    },
    {
     "name": "stderr",
     "output_type": "stream",
     "text": [
      "07 Mar 02:15    INFO  epoch 17 evaluating [time: 18.41s, valid_score: 0.096600]\n",
      "07 Mar 02:15    INFO  valid result: \n",
      "ndcg@10 : 0.0966    hit@10 : 0.3754    precision@10 : 0.0833\n"
     ]
    },
    {
     "data": {
      "application/vnd.jupyter.widget-view+json": {
       "model_id": "08970076d4d149d486513d7ca87bff68",
       "version_major": 2,
       "version_minor": 0
      },
      "text/plain": [
       "\u001b[1;35mTrain    18\u001b[0m:   0%|          | 0/3910 [00:00<?, ?it/s]"
      ]
     },
     "metadata": {},
     "output_type": "display_data"
    },
    {
     "data": {
      "application/vnd.jupyter.widget-view+json": {
       "model_id": "d7ba5cde026d4202846f4df628c9a6ca",
       "version_major": 2,
       "version_minor": 0
      },
      "text/plain": [
       "\u001b[1;35mTrain    18\u001b[0m:   0%|          | 0/2209 [00:00<?, ?it/s]"
      ]
     },
     "metadata": {},
     "output_type": "display_data"
    },
    {
     "name": "stderr",
     "output_type": "stream",
     "text": [
      "07 Mar 02:24    INFO  epoch 18 training [time: 563.74s, train_loss1: 141.0216, train_loss2: 2.1465]\n"
     ]
    },
    {
     "data": {
      "application/vnd.jupyter.widget-view+json": {
       "model_id": "2fc9a0fd735347a9bcb6a7cb51a734a3",
       "version_major": 2,
       "version_minor": 0
      },
      "text/plain": [
       "\u001b[1;35mEvaluate   \u001b[0m:   0%|                                                         | 0/9649 [00:00<?, ?it/s…"
      ]
     },
     "metadata": {},
     "output_type": "display_data"
    },
    {
     "name": "stderr",
     "output_type": "stream",
     "text": [
      "07 Mar 02:25    INFO  epoch 18 evaluating [time: 18.16s, valid_score: 0.097100]\n",
      "07 Mar 02:25    INFO  valid result: \n",
      "ndcg@10 : 0.0971    hit@10 : 0.3697    precision@10 : 0.0837\n",
      "07 Mar 02:25    INFO  Saving current: saved/KGAT-Mar-06-2023_23-17-41.pth\n"
     ]
    },
    {
     "data": {
      "application/vnd.jupyter.widget-view+json": {
       "model_id": "10636b2502a848e485d98c5a03880830",
       "version_major": 2,
       "version_minor": 0
      },
      "text/plain": [
       "\u001b[1;35mTrain    19\u001b[0m:   0%|          | 0/3910 [00:00<?, ?it/s]"
      ]
     },
     "metadata": {},
     "output_type": "display_data"
    },
    {
     "data": {
      "application/vnd.jupyter.widget-view+json": {
       "model_id": "10f97100c64a4d4ca0ba3bf3dbc21423",
       "version_major": 2,
       "version_minor": 0
      },
      "text/plain": [
       "\u001b[1;35mTrain    19\u001b[0m:   0%|          | 0/2209 [00:00<?, ?it/s]"
      ]
     },
     "metadata": {},
     "output_type": "display_data"
    },
    {
     "name": "stderr",
     "output_type": "stream",
     "text": [
      "07 Mar 02:34    INFO  epoch 19 training [time: 563.38s, train_loss1: 135.6060, train_loss2: 1.8387]\n"
     ]
    },
    {
     "data": {
      "application/vnd.jupyter.widget-view+json": {
       "model_id": "29cd61b1641e44a49864312b7f7dc7d9",
       "version_major": 2,
       "version_minor": 0
      },
      "text/plain": [
       "\u001b[1;35mEvaluate   \u001b[0m:   0%|                                                         | 0/9649 [00:00<?, ?it/s…"
      ]
     },
     "metadata": {},
     "output_type": "display_data"
    },
    {
     "name": "stderr",
     "output_type": "stream",
     "text": [
      "07 Mar 02:34    INFO  epoch 19 evaluating [time: 18.31s, valid_score: 0.098100]\n",
      "07 Mar 02:34    INFO  valid result: \n",
      "ndcg@10 : 0.0981    hit@10 : 0.3706    precision@10 : 0.0841\n",
      "07 Mar 02:34    INFO  Saving current: saved/KGAT-Mar-06-2023_23-17-41.pth\n"
     ]
    },
    {
     "data": {
      "application/vnd.jupyter.widget-view+json": {
       "model_id": "b157a5d999484ced9555bd64a5c58107",
       "version_major": 2,
       "version_minor": 0
      },
      "text/plain": [
       "\u001b[1;35mTrain    20\u001b[0m:   0%|          | 0/3910 [00:00<?, ?it/s]"
      ]
     },
     "metadata": {},
     "output_type": "display_data"
    },
    {
     "data": {
      "application/vnd.jupyter.widget-view+json": {
       "model_id": "86cc78298dad4a8e9406eb6ad1039f2c",
       "version_major": 2,
       "version_minor": 0
      },
      "text/plain": [
       "\u001b[1;35mTrain    20\u001b[0m:   0%|          | 0/2209 [00:00<?, ?it/s]"
      ]
     },
     "metadata": {},
     "output_type": "display_data"
    },
    {
     "name": "stderr",
     "output_type": "stream",
     "text": [
      "07 Mar 02:44    INFO  epoch 20 training [time: 563.52s, train_loss1: 131.2105, train_loss2: 1.8810]\n"
     ]
    },
    {
     "data": {
      "application/vnd.jupyter.widget-view+json": {
       "model_id": "ceb0c322ce194d50815aaf051a1e25fe",
       "version_major": 2,
       "version_minor": 0
      },
      "text/plain": [
       "\u001b[1;35mEvaluate   \u001b[0m:   0%|                                                         | 0/9649 [00:00<?, ?it/s…"
      ]
     },
     "metadata": {},
     "output_type": "display_data"
    },
    {
     "name": "stderr",
     "output_type": "stream",
     "text": [
      "07 Mar 02:44    INFO  epoch 20 evaluating [time: 18.15s, valid_score: 0.099200]\n",
      "07 Mar 02:44    INFO  valid result: \n",
      "ndcg@10 : 0.0992    hit@10 : 0.3747    precision@10 : 0.0859\n",
      "07 Mar 02:44    INFO  Saving current: saved/KGAT-Mar-06-2023_23-17-41.pth\n"
     ]
    },
    {
     "data": {
      "application/vnd.jupyter.widget-view+json": {
       "model_id": "503e53ccc4914fffb7079ddd797eac2d",
       "version_major": 2,
       "version_minor": 0
      },
      "text/plain": [
       "\u001b[1;35mTrain    21\u001b[0m:   0%|          | 0/3910 [00:00<?, ?it/s]"
      ]
     },
     "metadata": {},
     "output_type": "display_data"
    },
    {
     "data": {
      "application/vnd.jupyter.widget-view+json": {
       "model_id": "a5198d7a442e4471a2eba95949706703",
       "version_major": 2,
       "version_minor": 0
      },
      "text/plain": [
       "\u001b[1;35mTrain    21\u001b[0m:   0%|          | 0/2209 [00:00<?, ?it/s]"
      ]
     },
     "metadata": {},
     "output_type": "display_data"
    },
    {
     "name": "stderr",
     "output_type": "stream",
     "text": [
      "07 Mar 02:53    INFO  epoch 21 training [time: 563.29s, train_loss1: 125.9075, train_loss2: 1.9101]\n"
     ]
    },
    {
     "data": {
      "application/vnd.jupyter.widget-view+json": {
       "model_id": "a0f5fd9f3f1144d0ba12fe37febaef8e",
       "version_major": 2,
       "version_minor": 0
      },
      "text/plain": [
       "\u001b[1;35mEvaluate   \u001b[0m:   0%|                                                         | 0/9649 [00:00<?, ?it/s…"
      ]
     },
     "metadata": {},
     "output_type": "display_data"
    },
    {
     "name": "stderr",
     "output_type": "stream",
     "text": [
      "07 Mar 02:54    INFO  epoch 21 evaluating [time: 18.13s, valid_score: 0.101700]\n",
      "07 Mar 02:54    INFO  valid result: \n",
      "ndcg@10 : 0.1017    hit@10 : 0.3841    precision@10 : 0.0881\n",
      "07 Mar 02:54    INFO  Saving current: saved/KGAT-Mar-06-2023_23-17-41.pth\n"
     ]
    },
    {
     "data": {
      "application/vnd.jupyter.widget-view+json": {
       "model_id": "a58c4b72567843c1868b194bdbb40099",
       "version_major": 2,
       "version_minor": 0
      },
      "text/plain": [
       "\u001b[1;35mTrain    22\u001b[0m:   0%|          | 0/3910 [00:00<?, ?it/s]"
      ]
     },
     "metadata": {},
     "output_type": "display_data"
    },
    {
     "data": {
      "application/vnd.jupyter.widget-view+json": {
       "model_id": "1aaaf277c1d7484da9d52111e473ad09",
       "version_major": 2,
       "version_minor": 0
      },
      "text/plain": [
       "\u001b[1;35mTrain    22\u001b[0m:   0%|          | 0/2209 [00:00<?, ?it/s]"
      ]
     },
     "metadata": {},
     "output_type": "display_data"
    },
    {
     "name": "stderr",
     "output_type": "stream",
     "text": [
      "07 Mar 03:03    INFO  epoch 22 training [time: 563.02s, train_loss1: 121.3910, train_loss2: 1.8070]\n"
     ]
    },
    {
     "data": {
      "application/vnd.jupyter.widget-view+json": {
       "model_id": "8bd38aaa2fe34058bb3b28ab4580ab58",
       "version_major": 2,
       "version_minor": 0
      },
      "text/plain": [
       "\u001b[1;35mEvaluate   \u001b[0m:   0%|                                                         | 0/9649 [00:00<?, ?it/s…"
      ]
     },
     "metadata": {},
     "output_type": "display_data"
    },
    {
     "name": "stderr",
     "output_type": "stream",
     "text": [
      "07 Mar 03:03    INFO  epoch 22 evaluating [time: 18.28s, valid_score: 0.101600]\n",
      "07 Mar 03:03    INFO  valid result: \n",
      "ndcg@10 : 0.1016    hit@10 : 0.3856    precision@10 : 0.0877\n"
     ]
    },
    {
     "data": {
      "application/vnd.jupyter.widget-view+json": {
       "model_id": "92cd9a2aefbb43a9a11794a431bc3b72",
       "version_major": 2,
       "version_minor": 0
      },
      "text/plain": [
       "\u001b[1;35mTrain    23\u001b[0m:   0%|          | 0/3910 [00:00<?, ?it/s]"
      ]
     },
     "metadata": {},
     "output_type": "display_data"
    },
    {
     "data": {
      "application/vnd.jupyter.widget-view+json": {
       "model_id": "4d99d8c52e234c31bd831895b2e9c1d7",
       "version_major": 2,
       "version_minor": 0
      },
      "text/plain": [
       "\u001b[1;35mTrain    23\u001b[0m:   0%|          | 0/2209 [00:00<?, ?it/s]"
      ]
     },
     "metadata": {},
     "output_type": "display_data"
    },
    {
     "name": "stderr",
     "output_type": "stream",
     "text": [
      "07 Mar 03:13    INFO  epoch 23 training [time: 563.88s, train_loss1: 118.0965, train_loss2: 1.8524]\n"
     ]
    },
    {
     "data": {
      "application/vnd.jupyter.widget-view+json": {
       "model_id": "2ed7adb9097e49309f5792e77e4b32e2",
       "version_major": 2,
       "version_minor": 0
      },
      "text/plain": [
       "\u001b[1;35mEvaluate   \u001b[0m:   0%|                                                         | 0/9649 [00:00<?, ?it/s…"
      ]
     },
     "metadata": {},
     "output_type": "display_data"
    },
    {
     "name": "stderr",
     "output_type": "stream",
     "text": [
      "07 Mar 03:13    INFO  epoch 23 evaluating [time: 18.02s, valid_score: 0.102700]\n",
      "07 Mar 03:13    INFO  valid result: \n",
      "ndcg@10 : 0.1027    hit@10 : 0.3865    precision@10 : 0.0885\n",
      "07 Mar 03:13    INFO  Saving current: saved/KGAT-Mar-06-2023_23-17-41.pth\n"
     ]
    },
    {
     "data": {
      "application/vnd.jupyter.widget-view+json": {
       "model_id": "9427001a47e44a7b986b66743ba11fbb",
       "version_major": 2,
       "version_minor": 0
      },
      "text/plain": [
       "\u001b[1;35mTrain    24\u001b[0m:   0%|          | 0/3910 [00:00<?, ?it/s]"
      ]
     },
     "metadata": {},
     "output_type": "display_data"
    },
    {
     "data": {
      "application/vnd.jupyter.widget-view+json": {
       "model_id": "9174388f5cc94f3fa79fd40e0ada4d59",
       "version_major": 2,
       "version_minor": 0
      },
      "text/plain": [
       "\u001b[1;35mTrain    24\u001b[0m:   0%|          | 0/2209 [00:00<?, ?it/s]"
      ]
     },
     "metadata": {},
     "output_type": "display_data"
    },
    {
     "name": "stderr",
     "output_type": "stream",
     "text": [
      "07 Mar 03:23    INFO  epoch 24 training [time: 563.08s, train_loss1: 114.8320, train_loss2: 1.6174]\n"
     ]
    },
    {
     "data": {
      "application/vnd.jupyter.widget-view+json": {
       "model_id": "3816238c718e446fb86ff5ebf74a6507",
       "version_major": 2,
       "version_minor": 0
      },
      "text/plain": [
       "\u001b[1;35mEvaluate   \u001b[0m:   0%|                                                         | 0/9649 [00:00<?, ?it/s…"
      ]
     },
     "metadata": {},
     "output_type": "display_data"
    },
    {
     "name": "stderr",
     "output_type": "stream",
     "text": [
      "07 Mar 03:23    INFO  epoch 24 evaluating [time: 18.10s, valid_score: 0.102500]\n",
      "07 Mar 03:23    INFO  valid result: \n",
      "ndcg@10 : 0.1025    hit@10 : 0.3853    precision@10 : 0.0885\n"
     ]
    },
    {
     "data": {
      "application/vnd.jupyter.widget-view+json": {
       "model_id": "4912a6bc5afd49cf9282a5a8e1801115",
       "version_major": 2,
       "version_minor": 0
      },
      "text/plain": [
       "\u001b[1;35mTrain    25\u001b[0m:   0%|          | 0/3910 [00:00<?, ?it/s]"
      ]
     },
     "metadata": {},
     "output_type": "display_data"
    },
    {
     "data": {
      "application/vnd.jupyter.widget-view+json": {
       "model_id": "b72cbea659e7410482576b2b42dd8cc4",
       "version_major": 2,
       "version_minor": 0
      },
      "text/plain": [
       "\u001b[1;35mTrain    25\u001b[0m:   0%|          | 0/2209 [00:00<?, ?it/s]"
      ]
     },
     "metadata": {},
     "output_type": "display_data"
    },
    {
     "name": "stderr",
     "output_type": "stream",
     "text": [
      "07 Mar 03:32    INFO  epoch 25 training [time: 563.86s, train_loss1: 112.2772, train_loss2: 1.6526]\n"
     ]
    },
    {
     "data": {
      "application/vnd.jupyter.widget-view+json": {
       "model_id": "5b3b23bf504143e5af712f932c86da2d",
       "version_major": 2,
       "version_minor": 0
      },
      "text/plain": [
       "\u001b[1;35mEvaluate   \u001b[0m:   0%|                                                         | 0/9649 [00:00<?, ?it/s…"
      ]
     },
     "metadata": {},
     "output_type": "display_data"
    },
    {
     "name": "stderr",
     "output_type": "stream",
     "text": [
      "07 Mar 03:33    INFO  epoch 25 evaluating [time: 18.23s, valid_score: 0.103100]\n",
      "07 Mar 03:33    INFO  valid result: \n",
      "ndcg@10 : 0.1031    hit@10 : 0.3873    precision@10 : 0.0888\n",
      "07 Mar 03:33    INFO  Saving current: saved/KGAT-Mar-06-2023_23-17-41.pth\n"
     ]
    },
    {
     "data": {
      "application/vnd.jupyter.widget-view+json": {
       "model_id": "307d7ef77b624dc29e3a214e0d64979a",
       "version_major": 2,
       "version_minor": 0
      },
      "text/plain": [
       "\u001b[1;35mTrain    26\u001b[0m:   0%|          | 0/3910 [00:00<?, ?it/s]"
      ]
     },
     "metadata": {},
     "output_type": "display_data"
    },
    {
     "data": {
      "application/vnd.jupyter.widget-view+json": {
       "model_id": "1818d4a621ce445d8a190d17b7c41088",
       "version_major": 2,
       "version_minor": 0
      },
      "text/plain": [
       "\u001b[1;35mTrain    26\u001b[0m:   0%|          | 0/2209 [00:00<?, ?it/s]"
      ]
     },
     "metadata": {},
     "output_type": "display_data"
    },
    {
     "name": "stderr",
     "output_type": "stream",
     "text": [
      "07 Mar 03:42    INFO  epoch 26 training [time: 563.39s, train_loss1: 109.7315, train_loss2: 1.6728]\n"
     ]
    },
    {
     "data": {
      "application/vnd.jupyter.widget-view+json": {
       "model_id": "8c7bf24864c9463599345d6ad33a4681",
       "version_major": 2,
       "version_minor": 0
      },
      "text/plain": [
       "\u001b[1;35mEvaluate   \u001b[0m:   0%|                                                         | 0/9649 [00:00<?, ?it/s…"
      ]
     },
     "metadata": {},
     "output_type": "display_data"
    },
    {
     "name": "stderr",
     "output_type": "stream",
     "text": [
      "07 Mar 03:42    INFO  epoch 26 evaluating [time: 17.98s, valid_score: 0.105300]\n",
      "07 Mar 03:42    INFO  valid result: \n",
      "ndcg@10 : 0.1053    hit@10 : 0.3914    precision@10 : 0.0904\n",
      "07 Mar 03:42    INFO  Saving current: saved/KGAT-Mar-06-2023_23-17-41.pth\n"
     ]
    },
    {
     "data": {
      "application/vnd.jupyter.widget-view+json": {
       "model_id": "a6e1e3e953ff4c858835042deff8dacd",
       "version_major": 2,
       "version_minor": 0
      },
      "text/plain": [
       "\u001b[1;35mTrain    27\u001b[0m:   0%|          | 0/3910 [00:00<?, ?it/s]"
      ]
     },
     "metadata": {},
     "output_type": "display_data"
    },
    {
     "data": {
      "application/vnd.jupyter.widget-view+json": {
       "model_id": "fa123a96703a4dcabda86f9b9e30345f",
       "version_major": 2,
       "version_minor": 0
      },
      "text/plain": [
       "\u001b[1;35mTrain    27\u001b[0m:   0%|          | 0/2209 [00:00<?, ?it/s]"
      ]
     },
     "metadata": {},
     "output_type": "display_data"
    },
    {
     "name": "stderr",
     "output_type": "stream",
     "text": [
      "07 Mar 03:52    INFO  epoch 27 training [time: 563.61s, train_loss1: 107.0484, train_loss2: 1.6382]\n"
     ]
    },
    {
     "data": {
      "application/vnd.jupyter.widget-view+json": {
       "model_id": "55a37ffe75254736a3db6b07e9512906",
       "version_major": 2,
       "version_minor": 0
      },
      "text/plain": [
       "\u001b[1;35mEvaluate   \u001b[0m:   0%|                                                         | 0/9649 [00:00<?, ?it/s…"
      ]
     },
     "metadata": {},
     "output_type": "display_data"
    },
    {
     "name": "stderr",
     "output_type": "stream",
     "text": [
      "07 Mar 03:52    INFO  epoch 27 evaluating [time: 17.93s, valid_score: 0.105700]\n",
      "07 Mar 03:52    INFO  valid result: \n",
      "ndcg@10 : 0.1057    hit@10 : 0.3922    precision@10 : 0.0911\n",
      "07 Mar 03:52    INFO  Saving current: saved/KGAT-Mar-06-2023_23-17-41.pth\n"
     ]
    },
    {
     "data": {
      "application/vnd.jupyter.widget-view+json": {
       "model_id": "92269e25fbfa4755855b7f45ae36516a",
       "version_major": 2,
       "version_minor": 0
      },
      "text/plain": [
       "\u001b[1;35mTrain    28\u001b[0m:   0%|          | 0/3910 [00:00<?, ?it/s]"
      ]
     },
     "metadata": {},
     "output_type": "display_data"
    },
    {
     "data": {
      "application/vnd.jupyter.widget-view+json": {
       "model_id": "0e4ef8dc72ad415e953dbf2c7d21e183",
       "version_major": 2,
       "version_minor": 0
      },
      "text/plain": [
       "\u001b[1;35mTrain    28\u001b[0m:   0%|          | 0/2209 [00:00<?, ?it/s]"
      ]
     },
     "metadata": {},
     "output_type": "display_data"
    },
    {
     "name": "stderr",
     "output_type": "stream",
     "text": [
      "07 Mar 04:01    INFO  epoch 28 training [time: 564.00s, train_loss1: 104.2589, train_loss2: 1.5502]\n"
     ]
    },
    {
     "data": {
      "application/vnd.jupyter.widget-view+json": {
       "model_id": "56bfa9ae7afb458b849f4a2fa35c7b1d",
       "version_major": 2,
       "version_minor": 0
      },
      "text/plain": [
       "\u001b[1;35mEvaluate   \u001b[0m:   0%|                                                         | 0/9649 [00:00<?, ?it/s…"
      ]
     },
     "metadata": {},
     "output_type": "display_data"
    },
    {
     "name": "stderr",
     "output_type": "stream",
     "text": [
      "07 Mar 04:02    INFO  epoch 28 evaluating [time: 18.41s, valid_score: 0.105800]\n",
      "07 Mar 04:02    INFO  valid result: \n",
      "ndcg@10 : 0.1058    hit@10 : 0.3947    precision@10 : 0.0909\n",
      "07 Mar 04:02    INFO  Saving current: saved/KGAT-Mar-06-2023_23-17-41.pth\n"
     ]
    },
    {
     "data": {
      "application/vnd.jupyter.widget-view+json": {
       "model_id": "5d36cac4cc1148c2bff3a4404a22e44c",
       "version_major": 2,
       "version_minor": 0
      },
      "text/plain": [
       "\u001b[1;35mTrain    29\u001b[0m:   0%|          | 0/3910 [00:00<?, ?it/s]"
      ]
     },
     "metadata": {},
     "output_type": "display_data"
    },
    {
     "data": {
      "application/vnd.jupyter.widget-view+json": {
       "model_id": "5b980c41a47f4601ace94c8d320e36a8",
       "version_major": 2,
       "version_minor": 0
      },
      "text/plain": [
       "\u001b[1;35mTrain    29\u001b[0m:   0%|          | 0/2209 [00:00<?, ?it/s]"
      ]
     },
     "metadata": {},
     "output_type": "display_data"
    },
    {
     "name": "stderr",
     "output_type": "stream",
     "text": [
      "07 Mar 04:11    INFO  epoch 29 training [time: 563.72s, train_loss1: 102.5425, train_loss2: 1.5778]\n"
     ]
    },
    {
     "data": {
      "application/vnd.jupyter.widget-view+json": {
       "model_id": "ba224b06d7fe4209992f44b624cfc604",
       "version_major": 2,
       "version_minor": 0
      },
      "text/plain": [
       "\u001b[1;35mEvaluate   \u001b[0m:   0%|                                                         | 0/9649 [00:00<?, ?it/s…"
      ]
     },
     "metadata": {},
     "output_type": "display_data"
    },
    {
     "name": "stderr",
     "output_type": "stream",
     "text": [
      "07 Mar 04:11    INFO  epoch 29 evaluating [time: 18.33s, valid_score: 0.106200]\n",
      "07 Mar 04:11    INFO  valid result: \n",
      "ndcg@10 : 0.1062    hit@10 : 0.3969    precision@10 : 0.0919\n",
      "07 Mar 04:11    INFO  Saving current: saved/KGAT-Mar-06-2023_23-17-41.pth\n"
     ]
    },
    {
     "data": {
      "application/vnd.jupyter.widget-view+json": {
       "model_id": "8796e267bd5a4af3ba36d7583184399e",
       "version_major": 2,
       "version_minor": 0
      },
      "text/plain": [
       "\u001b[1;35mTrain    30\u001b[0m:   0%|          | 0/3910 [00:00<?, ?it/s]"
      ]
     },
     "metadata": {},
     "output_type": "display_data"
    },
    {
     "data": {
      "application/vnd.jupyter.widget-view+json": {
       "model_id": "1b71ad45947247448a0987f609dbe1ab",
       "version_major": 2,
       "version_minor": 0
      },
      "text/plain": [
       "\u001b[1;35mTrain    30\u001b[0m:   0%|          | 0/2209 [00:00<?, ?it/s]"
      ]
     },
     "metadata": {},
     "output_type": "display_data"
    },
    {
     "name": "stderr",
     "output_type": "stream",
     "text": [
      "07 Mar 04:21    INFO  epoch 30 training [time: 563.57s, train_loss1: 100.6644, train_loss2: 1.4274]\n"
     ]
    },
    {
     "data": {
      "application/vnd.jupyter.widget-view+json": {
       "model_id": "b4155ad9d77247a788175100ba28920e",
       "version_major": 2,
       "version_minor": 0
      },
      "text/plain": [
       "\u001b[1;35mEvaluate   \u001b[0m:   0%|                                                         | 0/9649 [00:00<?, ?it/s…"
      ]
     },
     "metadata": {},
     "output_type": "display_data"
    },
    {
     "name": "stderr",
     "output_type": "stream",
     "text": [
      "07 Mar 04:21    INFO  epoch 30 evaluating [time: 18.51s, valid_score: 0.107000]\n",
      "07 Mar 04:21    INFO  valid result: \n",
      "ndcg@10 : 0.107    hit@10 : 0.3962    precision@10 : 0.0919\n",
      "07 Mar 04:21    INFO  Saving current: saved/KGAT-Mar-06-2023_23-17-41.pth\n"
     ]
    },
    {
     "data": {
      "application/vnd.jupyter.widget-view+json": {
       "model_id": "fc5e618e702d4abdb322e5403bb20612",
       "version_major": 2,
       "version_minor": 0
      },
      "text/plain": [
       "\u001b[1;35mTrain    31\u001b[0m:   0%|          | 0/3910 [00:00<?, ?it/s]"
      ]
     },
     "metadata": {},
     "output_type": "display_data"
    },
    {
     "data": {
      "application/vnd.jupyter.widget-view+json": {
       "model_id": "07bc2ba859de4e5a9ac95cfa5490e8fc",
       "version_major": 2,
       "version_minor": 0
      },
      "text/plain": [
       "\u001b[1;35mTrain    31\u001b[0m:   0%|          | 0/2209 [00:00<?, ?it/s]"
      ]
     },
     "metadata": {},
     "output_type": "display_data"
    },
    {
     "name": "stderr",
     "output_type": "stream",
     "text": [
      "07 Mar 04:30    INFO  epoch 31 training [time: 563.59s, train_loss1: 98.7010, train_loss2: 1.3989]\n"
     ]
    },
    {
     "data": {
      "application/vnd.jupyter.widget-view+json": {
       "model_id": "0c99d67c3951491f8f6e76c0965681c6",
       "version_major": 2,
       "version_minor": 0
      },
      "text/plain": [
       "\u001b[1;35mEvaluate   \u001b[0m:   0%|                                                         | 0/9649 [00:00<?, ?it/s…"
      ]
     },
     "metadata": {},
     "output_type": "display_data"
    },
    {
     "name": "stderr",
     "output_type": "stream",
     "text": [
      "07 Mar 04:31    INFO  epoch 31 evaluating [time: 18.31s, valid_score: 0.105300]\n",
      "07 Mar 04:31    INFO  valid result: \n",
      "ndcg@10 : 0.1053    hit@10 : 0.3931    precision@10 : 0.0907\n"
     ]
    },
    {
     "data": {
      "application/vnd.jupyter.widget-view+json": {
       "model_id": "4806ec5174a24d4e926194596ebc2225",
       "version_major": 2,
       "version_minor": 0
      },
      "text/plain": [
       "\u001b[1;35mTrain    32\u001b[0m:   0%|          | 0/3910 [00:00<?, ?it/s]"
      ]
     },
     "metadata": {},
     "output_type": "display_data"
    },
    {
     "data": {
      "application/vnd.jupyter.widget-view+json": {
       "model_id": "2ec816253a1d4a9ea4d708788093e418",
       "version_major": 2,
       "version_minor": 0
      },
      "text/plain": [
       "\u001b[1;35mTrain    32\u001b[0m:   0%|          | 0/2209 [00:00<?, ?it/s]"
      ]
     },
     "metadata": {},
     "output_type": "display_data"
    },
    {
     "name": "stderr",
     "output_type": "stream",
     "text": [
      "07 Mar 04:40    INFO  epoch 32 training [time: 563.99s, train_loss1: 97.2910, train_loss2: 1.5435]\n"
     ]
    },
    {
     "data": {
      "application/vnd.jupyter.widget-view+json": {
       "model_id": "74edbdbd9b924226adf42b8ef490bea5",
       "version_major": 2,
       "version_minor": 0
      },
      "text/plain": [
       "\u001b[1;35mEvaluate   \u001b[0m:   0%|                                                         | 0/9649 [00:00<?, ?it/s…"
      ]
     },
     "metadata": {},
     "output_type": "display_data"
    },
    {
     "name": "stderr",
     "output_type": "stream",
     "text": [
      "07 Mar 04:41    INFO  epoch 32 evaluating [time: 17.97s, valid_score: 0.105200]\n",
      "07 Mar 04:41    INFO  valid result: \n",
      "ndcg@10 : 0.1052    hit@10 : 0.3993    precision@10 : 0.0912\n"
     ]
    },
    {
     "data": {
      "application/vnd.jupyter.widget-view+json": {
       "model_id": "10c932c386504a3c90a46b72fa6c622f",
       "version_major": 2,
       "version_minor": 0
      },
      "text/plain": [
       "\u001b[1;35mTrain    33\u001b[0m:   0%|          | 0/3910 [00:00<?, ?it/s]"
      ]
     },
     "metadata": {},
     "output_type": "display_data"
    },
    {
     "data": {
      "application/vnd.jupyter.widget-view+json": {
       "model_id": "7ea59ab12cda43f1b47af384950649ab",
       "version_major": 2,
       "version_minor": 0
      },
      "text/plain": [
       "\u001b[1;35mTrain    33\u001b[0m:   0%|          | 0/2209 [00:00<?, ?it/s]"
      ]
     },
     "metadata": {},
     "output_type": "display_data"
    },
    {
     "name": "stderr",
     "output_type": "stream",
     "text": [
      "07 Mar 04:50    INFO  epoch 33 training [time: 563.77s, train_loss1: 95.8674, train_loss2: 1.4484]\n"
     ]
    },
    {
     "data": {
      "application/vnd.jupyter.widget-view+json": {
       "model_id": "7805441b6c9548b2b713019c123fc769",
       "version_major": 2,
       "version_minor": 0
      },
      "text/plain": [
       "\u001b[1;35mEvaluate   \u001b[0m:   0%|                                                         | 0/9649 [00:00<?, ?it/s…"
      ]
     },
     "metadata": {},
     "output_type": "display_data"
    },
    {
     "name": "stderr",
     "output_type": "stream",
     "text": [
      "07 Mar 04:50    INFO  epoch 33 evaluating [time: 18.21s, valid_score: 0.105700]\n",
      "07 Mar 04:50    INFO  valid result: \n",
      "ndcg@10 : 0.1057    hit@10 : 0.3985    precision@10 : 0.0916\n"
     ]
    },
    {
     "data": {
      "application/vnd.jupyter.widget-view+json": {
       "model_id": "114d70faa87c4ecb95c86fbe86c2060b",
       "version_major": 2,
       "version_minor": 0
      },
      "text/plain": [
       "\u001b[1;35mTrain    34\u001b[0m:   0%|          | 0/3910 [00:00<?, ?it/s]"
      ]
     },
     "metadata": {},
     "output_type": "display_data"
    },
    {
     "data": {
      "application/vnd.jupyter.widget-view+json": {
       "model_id": "05aa4cbee3374b8a981828a4dcefaf94",
       "version_major": 2,
       "version_minor": 0
      },
      "text/plain": [
       "\u001b[1;35mTrain    34\u001b[0m:   0%|          | 0/2209 [00:00<?, ?it/s]"
      ]
     },
     "metadata": {},
     "output_type": "display_data"
    },
    {
     "name": "stderr",
     "output_type": "stream",
     "text": [
      "07 Mar 05:00    INFO  epoch 34 training [time: 563.53s, train_loss1: 95.2137, train_loss2: 1.2787]\n"
     ]
    },
    {
     "data": {
      "application/vnd.jupyter.widget-view+json": {
       "model_id": "b672d2fdedcd481281db8d5bff67faef",
       "version_major": 2,
       "version_minor": 0
      },
      "text/plain": [
       "\u001b[1;35mEvaluate   \u001b[0m:   0%|                                                         | 0/9649 [00:00<?, ?it/s…"
      ]
     },
     "metadata": {},
     "output_type": "display_data"
    },
    {
     "name": "stderr",
     "output_type": "stream",
     "text": [
      "07 Mar 05:00    INFO  epoch 34 evaluating [time: 18.19s, valid_score: 0.106400]\n",
      "07 Mar 05:00    INFO  valid result: \n",
      "ndcg@10 : 0.1064    hit@10 : 0.3999    precision@10 : 0.0914\n"
     ]
    },
    {
     "name": "stdout",
     "output_type": "stream",
     "text": [
      "Evaluating model\n"
     ]
    },
    {
     "name": "stderr",
     "output_type": "stream",
     "text": [
      "07 Mar 05:00    INFO  Loading model structure and parameters from saved/KGAT-Mar-06-2023_23-17-41.pth\n"
     ]
    },
    {
     "name": "stdout",
     "output_type": "stream",
     "text": [
      "OrderedDict([('ndcg@10', 0.0999), ('hit@10', 0.3803), ('precision@10', 0.0868)])\n"
     ]
    }
   ],
   "source": [
    "if train_model:\n",
    "    # model loading and initialization\n",
    "    model = KGAT(config, train_data._dataset).to(config['device'])\n",
    "    logger.info(model)\n",
    "\n",
    "    # trainer loading and initialization\n",
    "    trainer = KGATTrainer(config, model)\n",
    "\n",
    "    print('Starting to fit model')\n",
    "    # model training\n",
    "    best_valid_score, best_valid_result = trainer.fit(train_data, valid_data, saved=True, show_progress=True)\n",
    "\n",
    "    print('Evaluating model')\n",
    "    # model evaluation\n",
    "    test_result = trainer.evaluate(test_data, load_best_model=True)\n",
    "    print(test_result)"
   ]
  },
  {
   "cell_type": "markdown",
   "id": "8f8b3c10-b124-47fb-b3b6-ae902bcf0383",
   "metadata": {},
   "source": [
    "# Load best model"
   ]
  },
  {
   "cell_type": "code",
   "execution_count": 4,
   "id": "0869e8b4-0502-4e8e-a1e8-526c022c1154",
   "metadata": {},
   "outputs": [],
   "source": [
    "import os\n",
    "import torch"
   ]
  },
  {
   "cell_type": "code",
   "execution_count": 5,
   "id": "61d23514-39b2-47a4-9e2a-2dc6c212feb9",
   "metadata": {},
   "outputs": [],
   "source": [
    "latest_model = 'saved/%s' % os.listdir('saved')[-1]"
   ]
  },
  {
   "cell_type": "code",
   "execution_count": 6,
   "id": "93c1e1ef-9159-417c-84b2-c145555a99f5",
   "metadata": {},
   "outputs": [
    {
     "data": {
      "text/plain": [
       "'saved/KGAT-Mar-06-2023_08-03-10.pth'"
      ]
     },
     "execution_count": 6,
     "metadata": {},
     "output_type": "execute_result"
    }
   ],
   "source": [
    "latest_model"
   ]
  },
  {
   "cell_type": "code",
   "execution_count": 7,
   "id": "bc1e8555-aad8-4b36-9ea0-ad2d399cfe80",
   "metadata": {},
   "outputs": [
    {
     "data": {
      "text/plain": [
       "<All keys matched successfully>"
      ]
     },
     "execution_count": 7,
     "metadata": {},
     "output_type": "execute_result"
    }
   ],
   "source": [
    "state_dict = torch.load(latest_model, map_location='cuda')\n",
    "model = KGAT(config, train_data._dataset).to(config['device'])\n",
    "\n",
    "model.load_state_dict(state_dict['state_dict'])"
   ]
  },
  {
   "cell_type": "code",
   "execution_count": 8,
   "id": "aa4f71cf-edb8-496c-b783-3d2eb4a0494a",
   "metadata": {},
   "outputs": [
    {
     "name": "stdout",
     "output_type": "stream",
     "text": [
      "OrderedDict([('ndcg@10', 0.1072), ('hit@10', 0.4015), ('precision@10', 0.0924)])\n"
     ]
    }
   ],
   "source": [
    "trainer = KGATTrainer(config, model)\n",
    "test_result = trainer.evaluate(test_data, load_best_model=False)\n",
    "print(test_result)"
   ]
  },
  {
   "cell_type": "markdown",
   "id": "8d53e096-c694-4305-9f54-7c317f4a6afa",
   "metadata": {},
   "source": [
    "# Prepare for model evaluation"
   ]
  },
  {
   "cell_type": "markdown",
   "id": "31eeb586-68ba-41f5-9ed0-74029e8c92ff",
   "metadata": {},
   "source": [
    "## Create graph from attention matrix"
   ]
  },
  {
   "cell_type": "code",
   "execution_count": 9,
   "id": "f6c5498c-4bff-42d2-8caf-5113456bdadc",
   "metadata": {},
   "outputs": [],
   "source": [
    "import os\n",
    "import torch\n",
    "from scipy.sparse import coo_matrix\n",
    "from scipy.sparse.csgraph import shortest_path\n",
    "import numpy as np\n",
    "from tqdm.notebook import tqdm\n",
    "import matplotlib.pyplot as plt\n",
    "from recbole.data.interaction import Interaction\n"
   ]
  },
  {
   "cell_type": "code",
   "execution_count": 10,
   "id": "bee384cf-e538-4774-88ca-b5727b2d4c07",
   "metadata": {},
   "outputs": [],
   "source": [
    "def get_path(Pr, j):\n",
    "    path = [j]\n",
    "    k = j\n",
    "    while Pr[k] != -9999:\n",
    "        path.append(Pr[k])\n",
    "        k = Pr[k]\n",
    "    return path[::-1]"
   ]
  },
  {
   "cell_type": "code",
   "execution_count": 11,
   "id": "cad73d03-0be7-4690-ba67-b76922b5b570",
   "metadata": {},
   "outputs": [],
   "source": [
    "from enum import Enum\n",
    "class DistanceMode(Enum):\n",
    "    Inverse=1\n",
    "    RBF=2\n",
    "    Linear=3"
   ]
  },
  {
   "cell_type": "code",
   "execution_count": 12,
   "id": "64f1746c-03e1-494c-937c-9f7b2b07ea6d",
   "metadata": {},
   "outputs": [],
   "source": [
    "attention_matrix = model.A_in.cpu().coalesce()\n",
    "attention_matrix_size = attention_matrix.size()[0] # since it is square"
   ]
  },
  {
   "cell_type": "code",
   "execution_count": 13,
   "id": "e0022277-6c6f-4ebc-9db9-9058b6e6dafa",
   "metadata": {},
   "outputs": [],
   "source": [
    "def create_scipy_matrix(distance_mode: str, size: int):\n",
    "    attention_values = attention_matrix.values().numpy()\n",
    "    if distance_mode == DistanceMode.Inverse:\n",
    "        attention_values = 1/attention_values\n",
    "    if distance_mode == DistanceMode.RBF:\n",
    "        attention_values = np.exp(-attention_values**2)\n",
    "    if distance_mode == DistanceMode.Linear:\n",
    "        attention_values = 1-attention_values\n",
    "    return coo_matrix((attention_values, (attention_matrix.indices()[0].numpy(), attention_matrix.indices()[1].numpy())), shape=(size,size))"
   ]
  },
  {
   "cell_type": "code",
   "execution_count": 14,
   "id": "d1c381e6-84ce-48ad-8b78-6b5903df04a9",
   "metadata": {},
   "outputs": [],
   "source": [
    "graph_matrix = create_scipy_matrix(DistanceMode.RBF, attention_matrix_size)"
   ]
  },
  {
   "cell_type": "markdown",
   "id": "feb7404e-690b-472e-915a-4cba5dd4c0a9",
   "metadata": {},
   "source": [
    "## Create shortest path for k top predictions"
   ]
  },
  {
   "cell_type": "markdown",
   "id": "95c84779-624a-4633-9c97-a817a68feba5",
   "metadata": {},
   "source": [
    "<b> Important note:</b> Id's in the attention matrix are shiftet by the number of users `dataset.user_num`. So fetching an id using the token i.e. token2id results in an id not yet shifted. So to get the corresponding attention-matrix-id we need to shift items and entities!"
   ]
  },
  {
   "cell_type": "code",
   "execution_count": 15,
   "id": "201ef164-6b3f-4fb2-b342-3ec5109eb2d3",
   "metadata": {},
   "outputs": [
    {
     "data": {
      "application/vnd.jupyter.widget-view+json": {
       "model_id": "91f4f6e024534fde97324afcc6709fd6",
       "version_major": 2,
       "version_minor": 0
      },
      "text/plain": [
       "  0%|          | 0/9703 [00:00<?, ?it/s]"
      ]
     },
     "metadata": {},
     "output_type": "display_data"
    }
   ],
   "source": [
    "user_paths = {}\n",
    "\n",
    "for batch_idx, batched_data in enumerate(tqdm(test_data)):\n",
    "    interaction, history_index, positive_u, positive_i = batched_data\n",
    "    user_id = interaction['user_id'].cpu().numpy().item()\n",
    "    \n",
    "    predictions = model.full_sort_predict(interaction).detach().cpu().numpy()\n",
    "    recommended_items = np.argsort(predictions)\n",
    "    recommended_items = recommended_items[np.isin(recommended_items, positive_i + dataset.user_num)]\n",
    "    \n",
    "    # now calculate shortest distances for current user\n",
    "    shortest_distances, predecessors = shortest_path(graph_matrix, directed=True,  return_predecessors = True, indices=[user_id])\n",
    "    \n",
    "    # calculate the paths for the top k recommended items\n",
    "    paths = []\n",
    "    for item_idx in recommended_items:\n",
    "        path = get_path(predecessors[0], item_idx)\n",
    "        paths.append(np.asarray(path, dtype=int))\n",
    "    user_paths[user_id] = paths"
   ]
  },
  {
   "cell_type": "code",
   "execution_count": 16,
   "id": "16d48888-0f38-44b6-ae68-7c96f3c3a3f4",
   "metadata": {},
   "outputs": [
    {
     "name": "stdout",
     "output_type": "stream",
     "text": [
      "Object successfully saved to \"paths.pkl\"\n"
     ]
    }
   ],
   "source": [
    "import pickle\n",
    "file_name = 'paths.pkl'\n",
    "if create_paths:\n",
    "    with open(file_name, 'wb') as file:\n",
    "        pickle.dump(user_paths, file)\n",
    "        print(f'Object successfully saved to \"{file_name}\"')\n",
    "else:\n",
    "    with open(file_name, 'rb') as file:\n",
    "        user_paths = pickle.load(file)\n",
    "        print(f'Object successfully loaded from \"{file_name}\"')"
   ]
  },
  {
   "cell_type": "code",
   "execution_count": 17,
   "id": "0e06f54b-5e9a-4590-9866-ba996dd98b96",
   "metadata": {},
   "outputs": [],
   "source": [
    "gender_ids = dataset.token2id('entity_id', ['m', 'f'])"
   ]
  },
  {
   "cell_type": "code",
   "execution_count": 18,
   "id": "5ac27e92-1090-40f5-bcbb-54d95c4b2b46",
   "metadata": {},
   "outputs": [
    {
     "data": {
      "text/plain": [
       "array([[0., 0., 0., ..., 0., 0., 0.]], dtype=float32)"
      ]
     },
     "execution_count": 18,
     "metadata": {},
     "output_type": "execute_result"
    }
   ],
   "source": [
    "male_attention_row = np.asarray(graph_matrix.getrow(dataset.user_num + gender_ids[0]).todense())\n",
    "male_attention_row"
   ]
  },
  {
   "cell_type": "code",
   "execution_count": 19,
   "id": "e2bb2e58-5aae-4b66-9524-7d6914ba5cdb",
   "metadata": {},
   "outputs": [
    {
     "data": {
      "text/plain": [
       "(array([], dtype=int64), array([], dtype=int64))"
      ]
     },
     "execution_count": 19,
     "metadata": {},
     "output_type": "execute_result"
    }
   ],
   "source": [
    "np.nonzero(male_attention_row)"
   ]
  },
  {
   "cell_type": "code",
   "execution_count": 20,
   "id": "a6a10df7-5882-48e3-8eeb-0ddd33a918b3",
   "metadata": {},
   "outputs": [
    {
     "data": {
      "text/plain": [
       "array([[0.],\n",
       "       [0.],\n",
       "       [0.],\n",
       "       ...,\n",
       "       [0.],\n",
       "       [0.],\n",
       "       [0.]], dtype=float32)"
      ]
     },
     "execution_count": 20,
     "metadata": {},
     "output_type": "execute_result"
    }
   ],
   "source": [
    "male_attention_col = np.asarray(graph_matrix.getcol(dataset.user_num + gender_ids[0]).todense())\n",
    "male_attention_col"
   ]
  },
  {
   "cell_type": "code",
   "execution_count": 21,
   "id": "5b3d5c55-b62f-49f1-93f3-62969bdae476",
   "metadata": {},
   "outputs": [
    {
     "data": {
      "text/plain": [
       "(array([166590, 166591, 166592, ..., 176383, 176385, 176386]),\n",
       " array([0, 0, 0, ..., 0, 0, 0]))"
      ]
     },
     "execution_count": 21,
     "metadata": {},
     "output_type": "execute_result"
    }
   ],
   "source": [
    "np.nonzero(male_attention_col)"
   ]
  },
  {
   "cell_type": "code",
   "execution_count": 56,
   "id": "6271824b",
   "metadata": {},
   "outputs": [
    {
     "data": {
      "text/plain": [
       "(array([1.30000e+01, 0.00000e+00, 1.47846e+05, 0.00000e+00, 0.00000e+00,\n",
       "        0.00000e+00, 1.81828e+05, 0.00000e+00, 0.00000e+00, 1.43400e+03]),\n",
       " array([1. , 1.5, 2. , 2.5, 3. , 3.5, 4. , 4.5, 5. , 5.5, 6. ]),\n",
       " <BarContainer object of 10 artists>)"
      ]
     },
     "execution_count": 56,
     "metadata": {},
     "output_type": "execute_result"
    },
    {
     "data": {
      "image/png": "[encoded data removed]",
      "text/plain": [
       "<Figure size 640x480 with 1 Axes>"
      ]
     },
     "metadata": {},
     "output_type": "display_data"
    }
   ],
   "source": [
    "flat_list = [item for sublist in list(user_paths.values()) for item in sublist]\n",
    "flat_lengths = [len(item) for item in flat_list]\n",
    "plt.hist(flat_lengths)"
   ]
  },
  {
   "cell_type": "markdown",
   "id": "3eceb3a6-f695-440f-b14b-7be4a08cf3ed",
   "metadata": {},
   "source": [
    "# Evaluation"
   ]
  },
  {
   "cell_type": "code",
   "execution_count": 22,
   "id": "92f5945f-525e-452d-b3cc-be68d7c805dd",
   "metadata": {},
   "outputs": [],
   "source": [
    "import seaborn as sns"
   ]
  },
  {
   "cell_type": "markdown",
   "id": "af0da57b-5e81-47ee-aacf-6af12afb7a76",
   "metadata": {
    "tags": []
   },
   "source": [
    "## Load all users and divide into male and female"
   ]
  },
  {
   "cell_type": "code",
   "execution_count": 23,
   "id": "145855bf-4e9f-461b-a338-e285baeaab22",
   "metadata": {},
   "outputs": [],
   "source": [
    "import pandas as pd\n",
    "user_df = pd.read_csv('data/lfm/50percent_subset_users.tsv', sep='\\t')"
   ]
  },
  {
   "cell_type": "code",
   "execution_count": 24,
   "id": "c5a9ad35-7dce-481c-aa96-3c35a2d33d10",
   "metadata": {},
   "outputs": [],
   "source": [
    "user_ids = list(user_paths.keys())"
   ]
  },
  {
   "cell_type": "code",
   "execution_count": 25,
   "id": "8c1c6b2a-f388-408c-81f9-1060b77a7bf6",
   "metadata": {},
   "outputs": [],
   "source": [
    "external_user_ids = [int(item) for item in dataset.id2token(dataset.uid_field, user_ids)]"
   ]
  },
  {
   "cell_type": "code",
   "execution_count": 26,
   "id": "e55aab81-8fc5-4639-8b3c-39fa16f14e9d",
   "metadata": {},
   "outputs": [],
   "source": [
    "# remove users that recbole removed in the dataset creation process\n",
    "user_df = user_df[user_df.user_id.isin(external_user_ids)]"
   ]
  },
  {
   "cell_type": "code",
   "execution_count": 27,
   "id": "729082cd-d6e3-49f6-b75e-c57d38166b97",
   "metadata": {},
   "outputs": [],
   "source": [
    "male_users = user_df[user_df.gender == 'm']\n",
    "female_users = user_df[user_df.gender =='f']"
   ]
  },
  {
   "cell_type": "code",
   "execution_count": 28,
   "id": "c3ab8249-9e39-4bdc-8362-3749355602af",
   "metadata": {},
   "outputs": [
    {
     "data": {
      "text/plain": [
       "<BarContainer object of 2 artists>"
      ]
     },
     "execution_count": 28,
     "metadata": {},
     "output_type": "execute_result"
    },
    {
     "data": {
      "image/png": "[encoded data removed]",
      "text/plain": [
       "<Figure size 640x480 with 1 Axes>"
      ]
     },
     "metadata": {},
     "output_type": "display_data"
    }
   ],
   "source": [
    "plt.bar(['male user count', 'female user count'], [len(male_users), len(female_users)])"
   ]
  },
  {
   "cell_type": "code",
   "execution_count": 29,
   "id": "a15d640f-db10-46b0-9ba3-3f015e8f080b",
   "metadata": {},
   "outputs": [],
   "source": [
    "male_internal_user_ids = dataset.token2id(dataset.uid_field, [str(item) for item in male_users.user_id.to_numpy()])\n",
    "female_internal_user_ids = dataset.token2id(dataset.uid_field, [str(item) for item in female_users.user_id.to_numpy()])"
   ]
  },
  {
   "cell_type": "code",
   "execution_count": 30,
   "id": "a1df0364-a0ae-4f79-bec8-379f91b32e58",
   "metadata": {},
   "outputs": [],
   "source": [
    "def internal_id_to_gender(idx: int):\n",
    "    return 'm' if idx in male_internal_user_ids else 'f'"
   ]
  },
  {
   "cell_type": "code",
   "execution_count": 31,
   "id": "06571427-b5c9-4787-8db9-23ccb338f5bc",
   "metadata": {},
   "outputs": [],
   "source": [
    "def is_male(idx:int):\n",
    "    return idx in male_internal_user_ids"
   ]
  },
  {
   "cell_type": "markdown",
   "id": "a9dfa3f8-8f3d-4300-a904-d7e22f7f0f2e",
   "metadata": {},
   "source": [
    "### Calculate average path length on per user basis"
   ]
  },
  {
   "cell_type": "code",
   "execution_count": 32,
   "id": "843aecb0-e572-437a-93b9-a1fb0edbe4a4",
   "metadata": {},
   "outputs": [
    {
     "name": "stderr",
     "output_type": "stream",
     "text": [
      "/home/jfallmann/miniconda3/envs/pr/lib/python3.9/site-packages/numpy/core/fromnumeric.py:3432: RuntimeWarning: Mean of empty slice.\n",
      "  return _methods._mean(a, axis=axis, dtype=dtype,\n",
      "/home/jfallmann/miniconda3/envs/pr/lib/python3.9/site-packages/numpy/core/_methods.py:190: RuntimeWarning: invalid value encountered in double_scalars\n",
      "  ret = ret.dtype.type(ret / rcount)\n"
     ]
    }
   ],
   "source": [
    "user_average_path_lengths = {}\n",
    "for key in user_paths.keys():\n",
    "    paths_for_user = user_paths[key]\n",
    "    average_path_length = np.mean([len(path) for path in paths_for_user])\n",
    "    user_average_path_lengths[key] = average_path_length"
   ]
  },
  {
   "cell_type": "code",
   "execution_count": 33,
   "id": "6a03a623-536e-421b-a1e8-0fc63f23116a",
   "metadata": {},
   "outputs": [
    {
     "data": {
      "text/html": [
       "<div>\n",
       "<style scoped>\n",
       "    .dataframe tbody tr th:only-of-type {\n",
       "        vertical-align: middle;\n",
       "    }\n",
       "\n",
       "    .dataframe tbody tr th {\n",
       "        vertical-align: top;\n",
       "    }\n",
       "\n",
       "    .dataframe thead th {\n",
       "        text-align: right;\n",
       "    }\n",
       "</style>\n",
       "<table border=\"1\" class=\"dataframe\">\n",
       "  <thead>\n",
       "    <tr style=\"text-align: right;\">\n",
       "      <th></th>\n",
       "      <th>gender</th>\n",
       "      <th>average path length</th>\n",
       "      <th>male/female</th>\n",
       "    </tr>\n",
       "  </thead>\n",
       "  <tbody>\n",
       "    <tr>\n",
       "      <th>0</th>\n",
       "      <td>m</td>\n",
       "      <td>3.666667</td>\n",
       "      <td>_</td>\n",
       "    </tr>\n",
       "    <tr>\n",
       "      <th>1</th>\n",
       "      <td>m</td>\n",
       "      <td>3.696429</td>\n",
       "      <td>_</td>\n",
       "    </tr>\n",
       "    <tr>\n",
       "      <th>2</th>\n",
       "      <td>f</td>\n",
       "      <td>3.625000</td>\n",
       "      <td>_</td>\n",
       "    </tr>\n",
       "    <tr>\n",
       "      <th>3</th>\n",
       "      <td>m</td>\n",
       "      <td>3.000000</td>\n",
       "      <td>_</td>\n",
       "    </tr>\n",
       "    <tr>\n",
       "      <th>4</th>\n",
       "      <td>f</td>\n",
       "      <td>3.555556</td>\n",
       "      <td>_</td>\n",
       "    </tr>\n",
       "    <tr>\n",
       "      <th>...</th>\n",
       "      <td>...</td>\n",
       "      <td>...</td>\n",
       "      <td>...</td>\n",
       "    </tr>\n",
       "    <tr>\n",
       "      <th>9698</th>\n",
       "      <td>m</td>\n",
       "      <td>4.000000</td>\n",
       "      <td>_</td>\n",
       "    </tr>\n",
       "    <tr>\n",
       "      <th>9699</th>\n",
       "      <td>f</td>\n",
       "      <td>4.000000</td>\n",
       "      <td>_</td>\n",
       "    </tr>\n",
       "    <tr>\n",
       "      <th>9700</th>\n",
       "      <td>m</td>\n",
       "      <td>6.000000</td>\n",
       "      <td>_</td>\n",
       "    </tr>\n",
       "    <tr>\n",
       "      <th>9701</th>\n",
       "      <td>m</td>\n",
       "      <td>4.000000</td>\n",
       "      <td>_</td>\n",
       "    </tr>\n",
       "    <tr>\n",
       "      <th>9702</th>\n",
       "      <td>f</td>\n",
       "      <td>NaN</td>\n",
       "      <td>_</td>\n",
       "    </tr>\n",
       "  </tbody>\n",
       "</table>\n",
       "<p>9703 rows × 3 columns</p>\n",
       "</div>"
      ],
      "text/plain": [
       "     gender  average path length male/female\n",
       "0         m             3.666667           _\n",
       "1         m             3.696429           _\n",
       "2         f             3.625000           _\n",
       "3         m             3.000000           _\n",
       "4         f             3.555556           _\n",
       "...     ...                  ...         ...\n",
       "9698      m             4.000000           _\n",
       "9699      f             4.000000           _\n",
       "9700      m             6.000000           _\n",
       "9701      m             4.000000           _\n",
       "9702      f                  NaN           _\n",
       "\n",
       "[9703 rows x 3 columns]"
      ]
     },
     "execution_count": 33,
     "metadata": {},
     "output_type": "execute_result"
    }
   ],
   "source": [
    "length_distribution_dataframe = pd.DataFrame({'gender': [internal_id_to_gender(idx) for idx in user_paths.keys()], 'average path length': list(user_average_path_lengths.values()), 'male/female': ['_' for _ in user_paths.keys()]})\n",
    "length_distribution_dataframe"
   ]
  },
  {
   "cell_type": "code",
   "execution_count": 34,
   "id": "ecbba77f-3420-4465-abea-d0d6b3071c4a",
   "metadata": {},
   "outputs": [
    {
     "data": {
      "text/plain": [
       "Text(0, 0.5, 'Occurence in %')"
      ]
     },
     "execution_count": 34,
     "metadata": {},
     "output_type": "execute_result"
    },
    {
     "data": {
      "image/png": "[encoded data removed]",
      "text/plain": [
       "<Figure size 1500x700 with 1 Axes>"
      ]
     },
     "metadata": {},
     "output_type": "display_data"
    }
   ],
   "source": [
    "import matplotlib.pyplot as plt\n",
    "f = plt.figure(figsize=(15,7))\n",
    "ax = f.add_subplot(1,1,1)\n",
    "\n",
    "sns.histplot(data=length_distribution_dataframe, ax=ax, stat=\"proportion\", multiple=\"stack\",\n",
    "             x=\"average path length\", kde=False,\n",
    "             palette=\"pastel\", hue=\"gender\",\n",
    "             element=\"bars\", legend=True)\n",
    "ax.set_title(\"Explanation path length distribution\")\n",
    "ax.set_xlabel(\"Path length\")\n",
    "ax.set_ylabel(\"Occurence in %\")"
   ]
  },
  {
   "cell_type": "code",
   "execution_count": 35,
   "id": "1aca59ab-d4f0-4d15-aca1-b1350d8cce51",
   "metadata": {},
   "outputs": [
    {
     "data": {
      "text/plain": [
       "<AxesSubplot: xlabel='male/female', ylabel='average path length'>"
      ]
     },
     "execution_count": 35,
     "metadata": {},
     "output_type": "execute_result"
    },
    {
     "data": {
      "image/png": "[encoded data removed]",
      "text/plain": [
       "<Figure size 1500x700 with 1 Axes>"
      ]
     },
     "metadata": {},
     "output_type": "display_data"
    }
   ],
   "source": [
    "import matplotlib.pyplot as plt\n",
    "f = plt.figure(figsize=(15,7))\n",
    "sns.violinplot(data=length_distribution_dataframe, y='average path length', x='male/female', hue='gender', split=True, palette=\"pastel\", stat='proportion', legend=True)"
   ]
  },
  {
   "cell_type": "code",
   "execution_count": 36,
   "id": "177d720c-390f-4994-97f2-52fc05d326ee",
   "metadata": {},
   "outputs": [
    {
     "data": {
      "text/plain": [
       "<AxesSubplot: xlabel='male/female', ylabel='average path length'>"
      ]
     },
     "execution_count": 36,
     "metadata": {},
     "output_type": "execute_result"
    },
    {
     "data": {
      "image/png": "[encoded data removed]",
      "text/plain": [
       "<Figure size 1000x1000 with 1 Axes>"
      ]
     },
     "metadata": {},
     "output_type": "display_data"
    }
   ],
   "source": [
    "import matplotlib.pyplot as plt\n",
    "f = plt.figure(figsize=(10,10))\n",
    "sns.boxplot(y=\"average path length\", x=\"male/female\",\n",
    "            hue=\"gender\", palette=\"pastel\",\n",
    "            data=length_distribution_dataframe)"
   ]
  },
  {
   "cell_type": "markdown",
   "id": "c93ac038-3a14-415b-97f6-e090888208b3",
   "metadata": {},
   "source": [
    "## Evaluate path length per gender per user"
   ]
  },
  {
   "cell_type": "code",
   "execution_count": 37,
   "id": "67bbe996-6cd7-4c62-809d-d50c6acd74e3",
   "metadata": {},
   "outputs": [],
   "source": [
    "import math"
   ]
  },
  {
   "cell_type": "code",
   "execution_count": 38,
   "id": "d24ce4aa-23e9-4af8-8e5d-a2c55cdef690",
   "metadata": {},
   "outputs": [],
   "source": [
    "male_path_lengths = {}\n",
    "for key in user_paths.keys():\n",
    "    if key in male_internal_user_ids:\n",
    "        if not math.isnan(user_average_path_lengths[key]):\n",
    "            male_path_lengths[key] = user_average_path_lengths[key]\n",
    "\n",
    "female_path_lengths = {}\n",
    "for key in user_paths.keys():\n",
    "    if key in female_internal_user_ids:\n",
    "        if not math.isnan(user_average_path_lengths[key]):\n",
    "            female_path_lengths[key] = user_average_path_lengths[key]"
   ]
  },
  {
   "cell_type": "code",
   "execution_count": 39,
   "id": "5f0806a4-ebab-470e-803b-062dbfe1cbed",
   "metadata": {},
   "outputs": [
    {
     "data": {
      "text/plain": [
       "3.352992493807623"
      ]
     },
     "execution_count": 39,
     "metadata": {},
     "output_type": "execute_result"
    }
   ],
   "source": [
    "np.mean(list(male_path_lengths.values()))"
   ]
  },
  {
   "cell_type": "code",
   "execution_count": 40,
   "id": "387ff0d5-651e-4ddc-b93c-ed2274920697",
   "metadata": {},
   "outputs": [
    {
     "data": {
      "text/plain": [
       "3.38255033557047"
      ]
     },
     "execution_count": 40,
     "metadata": {},
     "output_type": "execute_result"
    }
   ],
   "source": [
    "np.median(list(male_path_lengths.values()))"
   ]
  },
  {
   "cell_type": "code",
   "execution_count": 41,
   "id": "d9bbbbaf-d2dd-47a7-b439-fb2020c496ae",
   "metadata": {},
   "outputs": [
    {
     "data": {
      "text/plain": [
       "3.2490573992831133"
      ]
     },
     "execution_count": 41,
     "metadata": {},
     "output_type": "execute_result"
    }
   ],
   "source": [
    "np.mean(list(female_path_lengths.values()))"
   ]
  },
  {
   "cell_type": "code",
   "execution_count": 42,
   "id": "79914702-58c5-4092-947e-6f34fbb94af7",
   "metadata": {},
   "outputs": [
    {
     "data": {
      "text/plain": [
       "3.276595744680851"
      ]
     },
     "execution_count": 42,
     "metadata": {},
     "output_type": "execute_result"
    }
   ],
   "source": [
    "np.median(list(female_path_lengths.values()))"
   ]
  },
  {
   "cell_type": "markdown",
   "id": "19126254-33b9-429b-bf2e-0a689b2660cb",
   "metadata": {},
   "source": [
    "## Evaluate path length per gender"
   ]
  },
  {
   "cell_type": "code",
   "execution_count": 43,
   "id": "833098fa-bfb6-418b-9e78-a29512df7fb4",
   "metadata": {},
   "outputs": [],
   "source": [
    "male_paths = {}\n",
    "for key in user_paths.keys():\n",
    "    if key in male_internal_user_ids:\n",
    "        male_paths[key] = user_paths[key]\n",
    "\n",
    "female_paths = {}\n",
    "for key in user_paths.keys():\n",
    "    if key in female_internal_user_ids:\n",
    "        female_paths[key] = user_paths[key]"
   ]
  },
  {
   "cell_type": "code",
   "execution_count": 44,
   "id": "fd3118a4-5f08-45eb-8661-02cffb69e596",
   "metadata": {},
   "outputs": [],
   "source": [
    "def average_path_length(paths: dict):\n",
    "    flat_list = [item for sublist in list(paths.values()) for item in sublist]\n",
    "    lengths = [len(item) for item in flat_list]\n",
    "    return np.mean(lengths), lengths"
   ]
  },
  {
   "cell_type": "code",
   "execution_count": 45,
   "id": "ad08c7f9-bd16-42ae-9b10-7e587685cd93",
   "metadata": {},
   "outputs": [],
   "source": [
    "male_average, male_lengths = average_path_length(male_paths)"
   ]
  },
  {
   "cell_type": "code",
   "execution_count": 46,
   "id": "15a9975d-34bc-4132-b712-2690f752fef7",
   "metadata": {},
   "outputs": [],
   "source": [
    "female_average, female_lengths = average_path_length(female_paths)"
   ]
  },
  {
   "cell_type": "code",
   "execution_count": 47,
   "id": "4edbaf15-defa-4bbc-8227-02ecad248eb8",
   "metadata": {},
   "outputs": [
    {
     "data": {
      "text/plain": [
       "(3.0725792871175974, 3.123809763897492)"
      ]
     },
     "execution_count": 47,
     "metadata": {},
     "output_type": "execute_result"
    }
   ],
   "source": [
    "female_average, male_average"
   ]
  },
  {
   "cell_type": "markdown",
   "id": "d21e7ddc-7a6e-43e1-a385-1b96e261d460",
   "metadata": {},
   "source": [
    "## Evaluate shared entities"
   ]
  },
  {
   "cell_type": "code",
   "execution_count": 48,
   "id": "78f73962-c326-4abf-9a25-ac4d668c903d",
   "metadata": {},
   "outputs": [],
   "source": [
    "male_shared_entities = []\n",
    "female_shared_entities = []\n",
    "for user_id in user_paths.keys():\n",
    "    paths_for_user = user_paths[user_id]\n",
    "    paths_without_start_and_end = [path[1:] for path in paths_for_user]\n",
    "    paths_without_start_and_end = list(filter(lambda x: len(x) > 0, paths_without_start_and_end))\n",
    "\n",
    "    try:\n",
    "        concatenated_paths = np.concatenate(paths_without_start_and_end)\n",
    "    except:\n",
    "        pass\n",
    "    \n",
    "    if is_male(user_id):\n",
    "        male_shared_entities.append(concatenated_paths)\n",
    "    else:\n",
    "        female_shared_entities.append(concatenated_paths)\n",
    "    \n",
    "male_shared_entities = np.concatenate(male_shared_entities)\n",
    "female_shared_entities = np.concatenate(female_shared_entities)"
   ]
  },
  {
   "cell_type": "code",
   "execution_count": 49,
   "id": "e9927ef9-a65e-4771-ae04-bf9dd7c65d5a",
   "metadata": {},
   "outputs": [],
   "source": [
    "male_shared_item_ids, male_shared_item_counts = np.unique(male_shared_entities, return_counts=True)\n",
    "female_shared_item_ids, female_shared_item_counts = np.unique(female_shared_entities, return_counts=True)"
   ]
  },
  {
   "cell_type": "code",
   "execution_count": 50,
   "id": "e523defc-2a05-4c1c-a4cc-d8b929e8872d",
   "metadata": {},
   "outputs": [],
   "source": [
    "male_shared_item_ids = np.flip(male_shared_item_ids[np.argsort(male_shared_item_counts)])\n",
    "male_shared_item_counts = np.flip(male_shared_item_counts[np.argsort(male_shared_item_counts)])\n",
    "female_shared_item_ids = np.flip(female_shared_item_ids[np.argsort(female_shared_item_counts)])\n",
    "female_shared_item_counts = np.flip(female_shared_item_counts[np.argsort(female_shared_item_counts)])"
   ]
  },
  {
   "cell_type": "code",
   "execution_count": 57,
   "id": "a0fcd650-bbba-45cf-af60-f96ee5bd0ca8",
   "metadata": {},
   "outputs": [],
   "source": [
    "male_shared_entity_count = np.sum(male_shared_item_counts)\n",
    "female_shared_entity_count = np.sum(female_shared_item_counts)"
   ]
  },
  {
   "cell_type": "code",
   "execution_count": 58,
   "id": "2370ffe9-3cf9-45fb-8800-7d5f53403084",
   "metadata": {},
   "outputs": [
    {
     "name": "stdout",
     "output_type": "stream",
     "text": [
      "Entity 6687. \t 1073 \t 0.18127878413126408%\n",
      "Entity 119. \t 944 \t 0.15948478305676914%\n",
      "Entity 519. \t 877 \t 0.14816541815761286%\n",
      "Entity 5700. \t 871 \t 0.1471517436890317%\n",
      "Entity 1171. \t 836 \t 0.14123864262230826%\n",
      "Entity 3236. \t 715 \t 0.12079620750592154%\n",
      "Entity 4190. \t 710 \t 0.11995147878210391%\n",
      "Entity 868. \t 645 \t 0.10897000537247468%\n",
      "Entity 3316. \t 617 \t 0.10423952451909593%\n",
      "Entity 206. \t 613 \t 0.10356374154004183%\n"
     ]
    }
   ],
   "source": [
    "for entity_idx, shared_entity in enumerate(male_shared_item_ids[:10]):\n",
    "    print('Entity %s. \\t %s \\t %s%%' % (shared_entity, male_shared_item_counts[entity_idx], male_shared_item_counts[entity_idx]*100/male_shared_entity_count))"
   ]
  },
  {
   "cell_type": "code",
   "execution_count": 60,
   "id": "868f8a52",
   "metadata": {},
   "outputs": [
    {
     "name": "stdout",
     "output_type": "stream",
     "text": [
      "Entity 119. \t 269 \t 0.2412404602401643%\n",
      "Entity 9868. \t 221 \t 0.19819383536459595%\n",
      "Entity 1171. \t 196 \t 0.1757737182419041%\n",
      "Entity 4190. \t 178 \t 0.15963123391356596%\n",
      "Entity 715. \t 151 \t 0.13541750742105876%\n",
      "Entity 1333. \t 148 \t 0.13272709336633576%\n",
      "Entity 519. \t 143 \t 0.12824306994179738%\n",
      "Entity 5700. \t 139 \t 0.12465585120216668%\n",
      "Entity 66. \t 130 \t 0.11658460903799761%\n",
      "Entity 382. \t 121 \t 0.10851336687382855%\n"
     ]
    }
   ],
   "source": [
    "for entity_idx, shared_entity in enumerate(female_shared_item_ids[:10]):\n",
    "    print('Entity %s. \\t %s \\t %s%%' % (shared_entity, female_shared_item_counts[entity_idx], female_shared_item_counts[entity_idx]*100/female_shared_entity_count))"
   ]
  },
  {
   "cell_type": "code",
   "execution_count": 65,
   "id": "186bb98f",
   "metadata": {},
   "outputs": [],
   "source": [
    "male_shared_users = male_shared_item_ids[male_shared_item_ids < dataset.user_num]\n",
    "female_shared_users = female_shared_item_ids[female_shared_item_ids < dataset.user_num]"
   ]
  },
  {
   "cell_type": "code",
   "execution_count": 67,
   "id": "7a2f0374",
   "metadata": {},
   "outputs": [],
   "source": [
    "male_shared_user_gender = [internal_id_to_gender(idx) for idx in male_shared_users]\n",
    "female_shared_user_gender = [internal_id_to_gender(idx) for idx in female_shared_users]"
   ]
  },
  {
   "cell_type": "code",
   "execution_count": 75,
   "id": "bc8e2585",
   "metadata": {},
   "outputs": [],
   "source": [
    "def evaluate_gender_of_shared_entities(data):\n",
    "    gender_token, counts = np.unique(data, return_counts=True)\n",
    "    return {gender_token[0]: counts[0]/np.sum(counts), gender_token[1]: counts[1]/np.sum(counts)}"
   ]
  },
  {
   "cell_type": "code",
   "execution_count": 76,
   "id": "af6dd78a",
   "metadata": {},
   "outputs": [
    {
     "data": {
      "text/plain": [
       "{'f': 0.1774915254237288, 'm': 0.8225084745762712}"
      ]
     },
     "execution_count": 76,
     "metadata": {},
     "output_type": "execute_result"
    }
   ],
   "source": [
    "evaluate_gender_of_shared_entities(male_shared_user_gender)"
   ]
  },
  {
   "cell_type": "code",
   "execution_count": 77,
   "id": "1f555042",
   "metadata": {},
   "outputs": [
    {
     "data": {
      "text/plain": [
       "{'f': 0.20268569030633654, 'm': 0.7973143096936635}"
      ]
     },
     "execution_count": 77,
     "metadata": {},
     "output_type": "execute_result"
    }
   ],
   "source": [
    "evaluate_gender_of_shared_entities(female_shared_user_gender)"
   ]
  },
  {
   "cell_type": "code",
   "execution_count": 78,
   "id": "bee518cb",
   "metadata": {},
   "outputs": [
    {
     "data": {
      "text/plain": [
       "{'f': 0.05, 'm': 0.95}"
      ]
     },
     "execution_count": 78,
     "metadata": {},
     "output_type": "execute_result"
    }
   ],
   "source": [
    "evaluate_gender_of_shared_entities(male_shared_user_gender[:100])"
   ]
  },
  {
   "cell_type": "code",
   "execution_count": 79,
   "id": "98f6dd6c",
   "metadata": {},
   "outputs": [
    {
     "data": {
      "text/plain": [
       "{'f': 0.19, 'm': 0.81}"
      ]
     },
     "execution_count": 79,
     "metadata": {},
     "output_type": "execute_result"
    }
   ],
   "source": [
    "evaluate_gender_of_shared_entities(female_shared_user_gender[:100])"
   ]
  }
 ],
 "metadata": {
  "kernelspec": {
   "display_name": "Python 3 (ipykernel)",
   "language": "python",
   "name": "python3"
  },
  "language_info": {
   "codemirror_mode": {
    "name": "ipython",
    "version": 3
   },
   "file_extension": ".py",
   "mimetype": "text/x-python",
   "name": "python",
   "nbconvert_exporter": "python",
   "pygments_lexer": "ipython3",
   "version": "3.9.15"
  }
 },
 "nbformat": 4,
 "nbformat_minor": 5
}
