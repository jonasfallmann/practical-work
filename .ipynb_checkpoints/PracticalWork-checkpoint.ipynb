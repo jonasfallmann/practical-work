{
 "cells": [
  {
   "cell_type": "markdown",
   "id": "a2ed31f1-0e50-4f8a-86b0-e983172410e9",
   "metadata": {},
   "source": [
    "# Practical Work"
   ]
  },
  {
   "cell_type": "markdown",
   "id": "02cda9a7-79e5-45ee-9f02-459bd85fad9d",
   "metadata": {},
   "source": [
    "<b> Student: </b> Jonas Fallmann <br>\n",
    "<b> Matrikulation number </b> 12018700 <br>\n",
    "<b> Topic:</b> Evaulating gender bias of explained recommender systems<br>\n",
    "<b> Institute: </b> Institute of Computational Perception, Johannes Kepler University Linz"
   ]
  },
  {
   "cell_type": "markdown",
   "id": "33d49e4f-69e2-421e-99e5-cd16c30ee9bd",
   "metadata": {},
   "source": [
    "## Outline\n",
    "Recent advances in the field of recommender systems focus in a big part on explanations of recommended Items. Explainability has been shown to aid user trust and results in higher conversion rates in the online shopping domain. As an example, explanations in the music domain could be of the following form:\n",
    "\n",
    "<b>Recommended Item:</b> Clocks and Whoopty by Pintel Ragetti<br>\n",
    "<b> Explanation: </b>  \n",
    "\n"
   ]
  },
  {
   "cell_type": "markdown",
   "id": "ecf941a2-6c8c-43f3-99b7-4acc31f33838",
   "metadata": {},
   "source": [
    "# Train Model"
   ]
  },
  {
   "cell_type": "markdown",
   "id": "c246efaa-f8c1-42b2-9993-6513d8e4c141",
   "metadata": {
    "tags": []
   },
   "source": [
    "### Load config and create Dataset"
   ]
  },
  {
   "cell_type": "code",
   "execution_count": null,
   "id": "76e405f0-0b6a-4ce8-834a-856f132eced1",
   "metadata": {},
   "outputs": [],
   "source": [
    "from logging import getLogger\n",
    "from recbole.config import Config\n",
    "from recbole.data import create_dataset, data_preparation\n",
    "from recbole.model.knowledge_aware_recommender import KGAT\n",
    "from recbole.trainer import KGATTrainer\n",
    "from recbole.utils import init_seed, init_logger\n",
    "\n",
    "train_model = True\n",
    "create_paths = True"
   ]
  },
  {
   "cell_type": "code",
   "execution_count": null,
   "id": "3e05ff00-3d37-406e-8e66-eab5e3ce034e",
   "metadata": {
    "tags": []
   },
   "outputs": [],
   "source": [
    "\n",
    "# configurations initialization\n",
    "config = Config(model='KGAT', dataset='rb_lfm', config_file_list=['lfm.yaml'])\n",
    "\n",
    "# init random seed\n",
    "init_seed(config['seed'], config['reproducibility'])\n",
    "\n",
    "# logger initialization\n",
    "init_logger(config)\n",
    "logger = getLogger()\n",
    "\n",
    "# write config info into log\n",
    "logger.info(config)\n",
    "\n",
    "# dataset creating and filtering\n",
    "dataset = create_dataset(config)\n",
    "logger.info(dataset)\n",
    "\n",
    "# dataset splitting\n",
    "train_data, valid_data, test_data = data_preparation(config, dataset)\n"
   ]
  },
  {
   "cell_type": "markdown",
   "id": "0dd4fa2f-7b05-479b-a673-1bdc419848fe",
   "metadata": {
    "tags": []
   },
   "source": [
    "### Train model and evaluate"
   ]
  },
  {
   "cell_type": "code",
   "execution_count": null,
   "id": "f8535eaf-7ad9-4ad4-bd6d-ef8b609aa585",
   "metadata": {
    "scrolled": true,
    "tags": []
   },
   "outputs": [],
   "source": [
    "if train_model:\n",
    "    # model loading and initialization\n",
    "    model = KGAT(config, train_data._dataset).to(config['device'])\n",
    "    logger.info(model)\n",
    "\n",
    "    # trainer loading and initialization\n",
    "    trainer = KGATTrainer(config, model)\n",
    "\n",
    "    print('Starting to fit model')\n",
    "    # model training\n",
    "    best_valid_score, best_valid_result = trainer.fit(train_data, valid_data, saved=True, show_progress=True)\n",
    "\n",
    "    print('Evaluating model')\n",
    "    # model evaluation\n",
    "    test_result = trainer.evaluate(test_data, load_best_model=True)\n",
    "    print(test_result)"
   ]
  },
  {
   "cell_type": "markdown",
   "id": "8f8b3c10-b124-47fb-b3b6-ae902bcf0383",
   "metadata": {},
   "source": [
    "# Load best model"
   ]
  },
  {
   "cell_type": "code",
   "execution_count": null,
   "id": "0869e8b4-0502-4e8e-a1e8-526c022c1154",
   "metadata": {},
   "outputs": [],
   "source": [
    "import os\n",
    "import torch"
   ]
  },
  {
   "cell_type": "code",
   "execution_count": null,
   "id": "61d23514-39b2-47a4-9e2a-2dc6c212feb9",
   "metadata": {},
   "outputs": [],
   "source": [
    "latest_model = 'saved/%s' % os.listdir('saved')[-1]"
   ]
  },
  {
   "cell_type": "code",
   "execution_count": null,
   "id": "93c1e1ef-9159-417c-84b2-c145555a99f5",
   "metadata": {},
   "outputs": [],
   "source": [
    "latest_model"
   ]
  },
  {
   "cell_type": "code",
   "execution_count": null,
   "id": "bc1e8555-aad8-4b36-9ea0-ad2d399cfe80",
   "metadata": {},
   "outputs": [],
   "source": [
    "state_dict = torch.load(latest_model, map_location='cuda')\n",
    "model = KGAT(config, train_data._dataset).to(config['device'])\n",
    "\n",
    "model.load_state_dict(state_dict['state_dict'])"
   ]
  },
  {
   "cell_type": "code",
   "execution_count": null,
   "id": "aa4f71cf-edb8-496c-b783-3d2eb4a0494a",
   "metadata": {},
   "outputs": [],
   "source": [
    "trainer = KGATTrainer(config, model)\n",
    "test_result = trainer.evaluate(test_data, load_best_model=False)\n",
    "print(test_result)"
   ]
  },
  {
   "cell_type": "markdown",
   "id": "8d53e096-c694-4305-9f54-7c317f4a6afa",
   "metadata": {},
   "source": [
    "# Prepare for model evaluation"
   ]
  },
  {
   "cell_type": "markdown",
   "id": "31eeb586-68ba-41f5-9ed0-74029e8c92ff",
   "metadata": {},
   "source": [
    "## Create graph from attention matrix"
   ]
  },
  {
   "cell_type": "code",
   "execution_count": null,
   "id": "f6c5498c-4bff-42d2-8caf-5113456bdadc",
   "metadata": {},
   "outputs": [],
   "source": [
    "import os\n",
    "import torch\n",
    "from scipy.sparse import coo_matrix\n",
    "from scipy.sparse.csgraph import shortest_path\n",
    "import numpy as np\n",
    "from tqdm.notebook import tqdm\n",
    "import matplotlib.pyplot as plt\n",
    "from recbole.data.interaction import Interaction\n"
   ]
  },
  {
   "cell_type": "code",
   "execution_count": null,
   "id": "bee384cf-e538-4774-88ca-b5727b2d4c07",
   "metadata": {},
   "outputs": [],
   "source": [
    "def get_path(Pr, j):\n",
    "    path = [j]\n",
    "    k = j\n",
    "    while Pr[k] != -9999:\n",
    "        path.append(Pr[k])\n",
    "        k = Pr[k]\n",
    "    return path[::-1]"
   ]
  },
  {
   "cell_type": "code",
   "execution_count": null,
   "id": "cad73d03-0be7-4690-ba67-b76922b5b570",
   "metadata": {},
   "outputs": [],
   "source": [
    "from enum import Enum\n",
    "class DistanceMode(Enum):\n",
    "    Inverse=1\n",
    "    RBF=2\n",
    "    Linear=3"
   ]
  },
  {
   "cell_type": "code",
   "execution_count": null,
   "id": "64f1746c-03e1-494c-937c-9f7b2b07ea6d",
   "metadata": {},
   "outputs": [],
   "source": [
    "attention_matrix = model.A_in.cpu().coalesce()\n",
    "attention_matrix_size = attention_matrix.size()[0] # since it is square"
   ]
  },
  {
   "cell_type": "code",
   "execution_count": null,
   "id": "e0022277-6c6f-4ebc-9db9-9058b6e6dafa",
   "metadata": {},
   "outputs": [],
   "source": [
    "def create_scipy_matrix(distance_mode: str, size: int):\n",
    "    attention_values = attention_matrix.values().numpy()\n",
    "    if distance_mode == DistanceMode.Inverse:\n",
    "        attention_values = 1/attention_values\n",
    "    if distance_mode == DistanceMode.RBF:\n",
    "        attention_values = np.exp(-attention_values**2)\n",
    "    if distance_mode == DistanceMode.Linear:\n",
    "        attention_values = 1-attention_values\n",
    "    return coo_matrix((attention_values, (attention_matrix.indices()[0].numpy(), attention_matrix.indices()[1].numpy())), shape=(size,size))"
   ]
  },
  {
   "cell_type": "code",
   "execution_count": null,
   "id": "d1c381e6-84ce-48ad-8b78-6b5903df04a9",
   "metadata": {},
   "outputs": [],
   "source": [
    "graph_matrix = create_scipy_matrix(DistanceMode.RBF, attention_matrix_size)"
   ]
  },
  {
   "cell_type": "markdown",
   "id": "feb7404e-690b-472e-915a-4cba5dd4c0a9",
   "metadata": {},
   "source": [
    "## Create shortest path for k top predictions"
   ]
  },
  {
   "cell_type": "markdown",
   "id": "95c84779-624a-4633-9c97-a817a68feba5",
   "metadata": {},
   "source": [
    "<b> Important note:</b> Id's in the attention matrix are shiftet by the number of users `dataset.user_num`. So fetching an id using the token i.e. token2id results in an id not yet shifted. So to get the corresponding attention-matrix-id we need to shift items and entities!"
   ]
  },
  {
   "cell_type": "code",
   "execution_count": null,
   "id": "201ef164-6b3f-4fb2-b342-3ec5109eb2d3",
   "metadata": {},
   "outputs": [],
   "source": [
    "user_paths = {}\n",
    "if create_paths:\n",
    "    for batch_idx, batched_data in enumerate(tqdm(test_data)):\n",
    "        interaction, history_index, positive_u, positive_i = batched_data\n",
    "        user_id = interaction['user_id'].cpu().numpy().item()\n",
    "\n",
    "        predictions = model.full_sort_predict(interaction).detach().cpu().numpy()\n",
    "        recommended_items = np.argsort(predictions)\n",
    "        recommended_items = recommended_items[np.isin(recommended_items, positive_i + dataset.user_num)]\n",
    "\n",
    "        # now calculate shortest distances for current user\n",
    "        shortest_distances, predecessors = shortest_path(graph_matrix, directed=True,  return_predecessors = True, indices=[user_id])\n",
    "\n",
    "        # calculate the paths for the top k recommended items\n",
    "        paths = []\n",
    "        for item_idx in recommended_items:\n",
    "            path = get_path(predecessors[0], item_idx)\n",
    "            paths.append(np.asarray(path, dtype=int))\n",
    "        user_paths[user_id] = paths"
   ]
  },
  {
   "cell_type": "code",
   "execution_count": null,
   "id": "16d48888-0f38-44b6-ae68-7c96f3c3a3f4",
   "metadata": {},
   "outputs": [],
   "source": [
    "import pickle\n",
    "file_name = 'paths.pkl'\n",
    "if create_paths:\n",
    "    with open(file_name, 'wb') as file:\n",
    "        pickle.dump(user_paths, file)\n",
    "        print(f'Object successfully saved to \"{file_name}\"')\n",
    "else:\n",
    "    with open(file_name, 'rb') as file:\n",
    "        user_paths = pickle.load(file)\n",
    "        print(f'Object successfully loaded from \"{file_name}\"')"
   ]
  },
  {
   "cell_type": "code",
   "execution_count": null,
   "id": "0e06f54b-5e9a-4590-9866-ba996dd98b96",
   "metadata": {},
   "outputs": [],
   "source": [
    "gender_ids = dataset.token2id('entity_id', ['m', 'f'])"
   ]
  },
  {
   "cell_type": "code",
   "execution_count": null,
   "id": "5ac27e92-1090-40f5-bcbb-54d95c4b2b46",
   "metadata": {},
   "outputs": [],
   "source": [
    "male_attention_row = np.asarray(graph_matrix.getrow(dataset.user_num + gender_ids[0]).todense())\n",
    "male_attention_row"
   ]
  },
  {
   "cell_type": "code",
   "execution_count": null,
   "id": "e2bb2e58-5aae-4b66-9524-7d6914ba5cdb",
   "metadata": {},
   "outputs": [],
   "source": [
    "np.nonzero(male_attention_row)"
   ]
  },
  {
   "cell_type": "code",
   "execution_count": null,
   "id": "a6a10df7-5882-48e3-8eeb-0ddd33a918b3",
   "metadata": {},
   "outputs": [],
   "source": [
    "male_attention_col = np.asarray(graph_matrix.getcol(dataset.user_num + gender_ids[0]).todense())\n",
    "male_attention_col"
   ]
  },
  {
   "cell_type": "code",
   "execution_count": null,
   "id": "5b3d5c55-b62f-49f1-93f3-62969bdae476",
   "metadata": {},
   "outputs": [],
   "source": [
    "np.nonzero(male_attention_col)"
   ]
  },
  {
   "cell_type": "code",
   "execution_count": null,
   "id": "6271824b",
   "metadata": {},
   "outputs": [],
   "source": [
    "flat_list = [item for sublist in list(user_paths.values()) for item in sublist]\n",
    "flat_lengths = [len(item) for item in flat_list]\n",
    "plt.hist(flat_lengths)"
   ]
  },
  {
   "cell_type": "markdown",
   "id": "3eceb3a6-f695-440f-b14b-7be4a08cf3ed",
   "metadata": {},
   "source": [
    "# Evaluation"
   ]
  },
  {
   "cell_type": "code",
   "execution_count": null,
   "id": "92f5945f-525e-452d-b3cc-be68d7c805dd",
   "metadata": {},
   "outputs": [],
   "source": [
    "import seaborn as sns"
   ]
  },
  {
   "cell_type": "markdown",
   "id": "af0da57b-5e81-47ee-aacf-6af12afb7a76",
   "metadata": {
    "tags": []
   },
   "source": [
    "## Load all users and divide into male and female"
   ]
  },
  {
   "cell_type": "code",
   "execution_count": null,
   "id": "145855bf-4e9f-461b-a338-e285baeaab22",
   "metadata": {},
   "outputs": [],
   "source": [
    "import pandas as pd\n",
    "user_df = pd.read_csv('data/lfm/75percent_subset_users.tsv', sep='\\t')"
   ]
  },
  {
   "cell_type": "code",
   "execution_count": null,
   "id": "c5a9ad35-7dce-481c-aa96-3c35a2d33d10",
   "metadata": {},
   "outputs": [],
   "source": [
    "user_ids = list(user_paths.keys())"
   ]
  },
  {
   "cell_type": "code",
   "execution_count": null,
   "id": "8c1c6b2a-f388-408c-81f9-1060b77a7bf6",
   "metadata": {},
   "outputs": [],
   "source": [
    "external_user_ids = [int(item) for item in dataset.id2token(dataset.uid_field, user_ids)]"
   ]
  },
  {
   "cell_type": "code",
   "execution_count": null,
   "id": "e55aab81-8fc5-4639-8b3c-39fa16f14e9d",
   "metadata": {},
   "outputs": [],
   "source": [
    "# remove users that recbole removed in the dataset creation process\n",
    "user_df = user_df[user_df.user_id.isin(external_user_ids)]"
   ]
  },
  {
   "cell_type": "code",
   "execution_count": null,
   "id": "729082cd-d6e3-49f6-b75e-c57d38166b97",
   "metadata": {},
   "outputs": [],
   "source": [
    "male_users = user_df[user_df.gender == 'm']\n",
    "female_users = user_df[user_df.gender =='f']"
   ]
  },
  {
   "cell_type": "code",
   "execution_count": null,
   "id": "38c1c1d8-c7dd-4b21-b182-9327bb17bfbd",
   "metadata": {},
   "outputs": [],
   "source": [
    "print('Male users: %s, %s(%%)' % (len(male_users), len(male_users)/(len(male_users)+len(female_users))))\n",
    "print('Male users: %s, %s(%%)' % (len(female_users), len(female_users)/(len(male_users)+len(female_users))))"
   ]
  },
  {
   "cell_type": "code",
   "execution_count": null,
   "id": "c3ab8249-9e39-4bdc-8362-3749355602af",
   "metadata": {},
   "outputs": [],
   "source": [
    "plt.bar(['male user count', 'female user count'], [len(male_users), len(female_users)])"
   ]
  },
  {
   "cell_type": "code",
   "execution_count": null,
   "id": "a15d640f-db10-46b0-9ba3-3f015e8f080b",
   "metadata": {},
   "outputs": [],
   "source": [
    "male_internal_user_ids = dataset.token2id(dataset.uid_field, [str(item) for item in male_users.user_id.to_numpy()])\n",
    "female_internal_user_ids = dataset.token2id(dataset.uid_field, [str(item) for item in female_users.user_id.to_numpy()])"
   ]
  },
  {
   "cell_type": "code",
   "execution_count": null,
   "id": "a1df0364-a0ae-4f79-bec8-379f91b32e58",
   "metadata": {},
   "outputs": [],
   "source": [
    "def internal_id_to_gender(idx: int):\n",
    "    return 'm' if idx in male_internal_user_ids else 'f'"
   ]
  },
  {
   "cell_type": "code",
   "execution_count": null,
   "id": "06571427-b5c9-4787-8db9-23ccb338f5bc",
   "metadata": {},
   "outputs": [],
   "source": [
    "def is_male(idx:int):\n",
    "    return idx in male_internal_user_ids"
   ]
  },
  {
   "cell_type": "markdown",
   "id": "a9dfa3f8-8f3d-4300-a904-d7e22f7f0f2e",
   "metadata": {},
   "source": [
    "### Calculate average path length on per user basis"
   ]
  },
  {
   "cell_type": "code",
   "execution_count": null,
   "id": "843aecb0-e572-437a-93b9-a1fb0edbe4a4",
   "metadata": {},
   "outputs": [],
   "source": [
    "user_average_path_lengths = {}\n",
    "for key in user_paths.keys():\n",
    "    paths_for_user = user_paths[key]\n",
    "    average_path_length = np.mean([len(path) for path in paths_for_user])\n",
    "    user_average_path_lengths[key] = average_path_length"
   ]
  },
  {
   "cell_type": "code",
   "execution_count": null,
   "id": "6a03a623-536e-421b-a1e8-0fc63f23116a",
   "metadata": {},
   "outputs": [],
   "source": [
    "length_distribution_dataframe = pd.DataFrame({'gender': [internal_id_to_gender(idx) for idx in user_paths.keys()], 'average path length': list(user_average_path_lengths.values()), 'male/female': ['_' for _ in user_paths.keys()]})\n",
    "length_distribution_dataframe"
   ]
  },
  {
   "cell_type": "code",
   "execution_count": null,
   "id": "ecbba77f-3420-4465-abea-d0d6b3071c4a",
   "metadata": {},
   "outputs": [],
   "source": [
    "import matplotlib.pyplot as plt\n",
    "f, (ax1, ax2) = plt.subplots(1,2, figsize=(15,7))\n",
    "\n",
    "sns.histplot(data=length_distribution_dataframe[length_distribution_dataframe.gender == 'm'], ax=ax1, stat=\"proportion\",\n",
    "             x=\"average path length\", kde=False,\n",
    "             color=\"#3899C7\",\n",
    "             element=\"bars\", legend=True)\n",
    "ax1.set_title(\"Explanation path length distribution for males\")\n",
    "ax1.set_xlabel(\"Path length\")\n",
    "\n",
    "sns.histplot(data=length_distribution_dataframe[length_distribution_dataframe.gender == 'f'], ax=ax2, stat=\"proportion\", multiple=\"stack\",\n",
    "             x=\"average path length\", kde=False,\n",
    "             color='#C76638',\n",
    "             element=\"bars\", legend=True)\n",
    "ax2.set_title(\"Explanation path length distribution for females\")\n",
    "ax2.set_xlabel(\"Path length\")"
   ]
  },
  {
   "cell_type": "code",
   "execution_count": null,
   "id": "1aca59ab-d4f0-4d15-aca1-b1350d8cce51",
   "metadata": {},
   "outputs": [],
   "source": [
    "import matplotlib.pyplot as plt\n",
    "f = plt.figure(figsize=(15,7))\n",
    "sns.violinplot(data=length_distribution_dataframe, y='average path length', x='male/female', hue='gender', split=True, palette=\"pastel\", stat='proportion', legend=True)"
   ]
  },
  {
   "cell_type": "code",
   "execution_count": null,
   "id": "177d720c-390f-4994-97f2-52fc05d326ee",
   "metadata": {},
   "outputs": [],
   "source": [
    "import matplotlib.pyplot as plt\n",
    "f = plt.figure(figsize=(10,10))\n",
    "sns.boxplot(y=\"average path length\", x=\"male/female\",\n",
    "            hue=\"gender\", palette=\"pastel\",\n",
    "            data=length_distribution_dataframe)"
   ]
  },
  {
   "cell_type": "markdown",
   "id": "c93ac038-3a14-415b-97f6-e090888208b3",
   "metadata": {},
   "source": [
    "## Evaluate path length per gender per user"
   ]
  },
  {
   "cell_type": "code",
   "execution_count": null,
   "id": "67bbe996-6cd7-4c62-809d-d50c6acd74e3",
   "metadata": {},
   "outputs": [],
   "source": [
    "import math"
   ]
  },
  {
   "cell_type": "code",
   "execution_count": null,
   "id": "d24ce4aa-23e9-4af8-8e5d-a2c55cdef690",
   "metadata": {},
   "outputs": [],
   "source": [
    "male_path_lengths = {}\n",
    "for key in user_paths.keys():\n",
    "    if key in male_internal_user_ids:\n",
    "        if not math.isnan(user_average_path_lengths[key]):\n",
    "            male_path_lengths[key] = user_average_path_lengths[key]\n",
    "\n",
    "female_path_lengths = {}\n",
    "for key in user_paths.keys():\n",
    "    if key in female_internal_user_ids:\n",
    "        if not math.isnan(user_average_path_lengths[key]):\n",
    "            female_path_lengths[key] = user_average_path_lengths[key]"
   ]
  },
  {
   "cell_type": "code",
   "execution_count": null,
   "id": "5f0806a4-ebab-470e-803b-062dbfe1cbed",
   "metadata": {},
   "outputs": [],
   "source": [
    "np.mean(list(male_path_lengths.values()))"
   ]
  },
  {
   "cell_type": "code",
   "execution_count": null,
   "id": "387ff0d5-651e-4ddc-b93c-ed2274920697",
   "metadata": {},
   "outputs": [],
   "source": [
    "np.median(list(male_path_lengths.values()))"
   ]
  },
  {
   "cell_type": "code",
   "execution_count": null,
   "id": "d9bbbbaf-d2dd-47a7-b439-fb2020c496ae",
   "metadata": {},
   "outputs": [],
   "source": [
    "np.mean(list(female_path_lengths.values()))"
   ]
  },
  {
   "cell_type": "code",
   "execution_count": null,
   "id": "79914702-58c5-4092-947e-6f34fbb94af7",
   "metadata": {},
   "outputs": [],
   "source": [
    "np.median(list(female_path_lengths.values()))"
   ]
  },
  {
   "cell_type": "markdown",
   "id": "19126254-33b9-429b-bf2e-0a689b2660cb",
   "metadata": {},
   "source": [
    "## Evaluate path length per gender"
   ]
  },
  {
   "cell_type": "code",
   "execution_count": null,
   "id": "833098fa-bfb6-418b-9e78-a29512df7fb4",
   "metadata": {},
   "outputs": [],
   "source": [
    "male_paths = {}\n",
    "for key in user_paths.keys():\n",
    "    if key in male_internal_user_ids:\n",
    "        male_paths[key] = user_paths[key]\n",
    "\n",
    "female_paths = {}\n",
    "for key in user_paths.keys():\n",
    "    if key in female_internal_user_ids:\n",
    "        female_paths[key] = user_paths[key]"
   ]
  },
  {
   "cell_type": "code",
   "execution_count": null,
   "id": "fd3118a4-5f08-45eb-8661-02cffb69e596",
   "metadata": {},
   "outputs": [],
   "source": [
    "def average_path_length(paths: dict):\n",
    "    flat_list = [item for sublist in list(paths.values()) for item in sublist]\n",
    "    lengths = [len(item) for item in flat_list]\n",
    "    return np.mean(lengths), lengths"
   ]
  },
  {
   "cell_type": "code",
   "execution_count": null,
   "id": "ad08c7f9-bd16-42ae-9b10-7e587685cd93",
   "metadata": {},
   "outputs": [],
   "source": [
    "male_average, male_lengths = average_path_length(male_paths)"
   ]
  },
  {
   "cell_type": "code",
   "execution_count": null,
   "id": "15a9975d-34bc-4132-b712-2690f752fef7",
   "metadata": {},
   "outputs": [],
   "source": [
    "female_average, female_lengths = average_path_length(female_paths)"
   ]
  },
  {
   "cell_type": "code",
   "execution_count": null,
   "id": "4edbaf15-defa-4bbc-8227-02ecad248eb8",
   "metadata": {},
   "outputs": [],
   "source": [
    "female_average, male_average"
   ]
  },
  {
   "cell_type": "markdown",
   "id": "d21e7ddc-7a6e-43e1-a385-1b96e261d460",
   "metadata": {},
   "source": [
    "## Evaluate shared entities"
   ]
  },
  {
   "cell_type": "code",
   "execution_count": null,
   "id": "78f73962-c326-4abf-9a25-ac4d668c903d",
   "metadata": {},
   "outputs": [],
   "source": [
    "male_shared_entities = []\n",
    "female_shared_entities = []\n",
    "for user_id in user_paths.keys():\n",
    "    paths_for_user = user_paths[user_id]\n",
    "    paths_without_start_and_end = [path[1:] for path in paths_for_user]\n",
    "    paths_without_start_and_end = list(filter(lambda x: len(x) > 0, paths_without_start_and_end))\n",
    "\n",
    "    try:\n",
    "        concatenated_paths = np.concatenate(paths_without_start_and_end)\n",
    "    except:\n",
    "        pass\n",
    "    \n",
    "    if is_male(user_id):\n",
    "        male_shared_entities.append(concatenated_paths)\n",
    "    else:\n",
    "        female_shared_entities.append(concatenated_paths)\n",
    "    \n",
    "male_shared_entities_concatenated = np.concatenate(male_shared_entities)\n",
    "female_shared_entities_concatenated = np.concatenate(female_shared_entities)"
   ]
  },
  {
   "cell_type": "code",
   "execution_count": null,
   "id": "bc8e2585",
   "metadata": {},
   "outputs": [],
   "source": [
    "def evaluate_gender_of_shared_entities(data):\n",
    "    gender_token, counts = np.unique(data, return_counts=True)\n",
    "    distribution = {gender_token[0]: counts[0]/np.sum(counts)}\n",
    "    if len(gender_token) == 2:\n",
    "        distribution[gender_token[1]] = counts[1]/np.sum(counts)\n",
    "    return (distribution, len(data))"
   ]
  },
  {
   "cell_type": "markdown",
   "id": "01269232-16da-42b9-b604-51af4cd4747b",
   "metadata": {},
   "source": [
    "### Evaluate grouped by user by gender"
   ]
  },
  {
   "cell_type": "code",
   "execution_count": null,
   "id": "b69197d7-56ce-4220-8218-088e0597fc1e",
   "metadata": {},
   "outputs": [],
   "source": [
    "male_shared_gender_statistics = []\n",
    "for shared_entities in male_shared_entities:\n",
    "    shared_users = shared_entities[shared_entities < dataset.user_num]\n",
    "    shared_gender_tokens = [internal_id_to_gender(idx) for idx in shared_users]\n",
    "    male_shared_gender_statistics.append(evaluate_gender_of_shared_entities(shared_gender_tokens))\n",
    "    \n",
    "female_shared_gender_statistics = []\n",
    "for shared_entities in female_shared_entities:\n",
    "    shared_users = shared_entities[shared_entities < dataset.user_num]\n",
    "    shared_gender_tokens = [internal_id_to_gender(idx) for idx in shared_users]\n",
    "    female_shared_gender_statistics.append(evaluate_gender_of_shared_entities(shared_gender_tokens))"
   ]
  },
  {
   "cell_type": "code",
   "execution_count": null,
   "id": "f725bf4f-027b-44fe-9b1f-a33dc2f29ca5",
   "metadata": {},
   "outputs": [],
   "source": [
    "male_shared_gender_df = pd.DataFrame({'gender': ['m' for _ in male_shared_gender_statistics], 'male_proportion': [float(item['m']) if 'm' in item else 0 for item, _ in male_shared_gender_statistics],'female_proportion': [float(item['f']) if 'f' in item else 0 for item,_ in male_shared_gender_statistics], 'male - female': ['_' for item in male_shared_gender_statistics] })\n",
    "female_shared_gender_df = pd.DataFrame({'gender': ['f' for _ in female_shared_gender_statistics], 'male_proportion': [float(item['m']) if 'm' in item else 0 for item, _ in female_shared_gender_statistics],'female_proportion': [float(item['f']) if 'f' in item else 0 for item,_ in female_shared_gender_statistics], 'male - female': ['_' for item in female_shared_gender_statistics] })"
   ]
  },
  {
   "cell_type": "code",
   "execution_count": null,
   "id": "5bf39768-194c-4973-8a0d-fbae01847c79",
   "metadata": {},
   "outputs": [],
   "source": [
    "male_shared_gender_df.mean()"
   ]
  },
  {
   "cell_type": "code",
   "execution_count": null,
   "id": "ca663a52-456f-4d3b-ac4b-168f2c514106",
   "metadata": {},
   "outputs": [],
   "source": [
    "female_shared_gender_df.mean()"
   ]
  },
  {
   "cell_type": "code",
   "execution_count": null,
   "id": "5f997278-d280-41e0-a3ce-2ea980afbf4e",
   "metadata": {},
   "outputs": [],
   "source": [
    "f, (ax1, ax2) = plt.subplots(1,2, figsize=(15,7))\n",
    "\n",
    "sns.histplot(data=male_shared_gender_df, ax=ax1, stat=\"proportion\",\n",
    "             x=\"male_proportion\", kde=True,\n",
    "             color=\"#3899C7\",\n",
    "             element=\"bars\", legend=True, binwidth=.02)\n",
    "ax1.set_title(\"Explanation paths for males\")\n",
    "ax1.set_xlabel(\"Proportion of shared entites being males\")\n",
    "ax1.set_ylim(0,0.30)\n",
    "\n",
    "sns.histplot(data=female_shared_gender_df, ax=ax2, stat=\"proportion\", multiple=\"stack\",\n",
    "             x=\"male_proportion\", kde=True,\n",
    "             color='#C76638',\n",
    "             element=\"bars\", legend=True, binwidth=.02)\n",
    "ax2.set_title(\"Explanation paths for females\")\n",
    "ax2.set_xlabel(\"Proportion of shared entites being males\")\n",
    "ax2.set_ylim(0,0.30)\n"
   ]
  },
  {
   "cell_type": "code",
   "execution_count": null,
   "id": "9364b817-58c3-4f0f-9fc3-750e1996ade5",
   "metadata": {},
   "outputs": [],
   "source": [
    "f, (ax1, ax2) = plt.subplots(1,2, figsize=(15,7))\n",
    "\n",
    "sns.histplot(data=male_shared_gender_df, ax=ax1, stat=\"proportion\",\n",
    "             x=\"female_proportion\", kde=True,\n",
    "             color=\"#3899C7\",\n",
    "             element=\"bars\", legend=True, binwidth=.02)\n",
    "ax1.set_title(\"Explanation paths for males\")\n",
    "ax1.set_xlabel(\"Proportion of shared entites being females\")\n",
    "ax1.set_ylim(0,0.30)\n",
    "\n",
    "sns.histplot(data=female_shared_gender_df, ax=ax2, stat=\"proportion\", multiple=\"stack\",\n",
    "             x=\"female_proportion\", kde=True,\n",
    "             color='#C76638',\n",
    "             element=\"bars\", legend=True, binwidth=.02)\n",
    "ax2.set_title(\"Explanation paths for females\")\n",
    "ax2.set_xlabel(\"Proportion of shared entites being females\")\n",
    "ax2.set_ylim(0,0.30)\n"
   ]
  },
  {
   "cell_type": "markdown",
   "id": "79fae4ef-3994-4aa4-ad66-08e7f27bdcd4",
   "metadata": {},
   "source": [
    "### Evaluate grouped by gender"
   ]
  },
  {
   "cell_type": "code",
   "execution_count": null,
   "id": "e9927ef9-a65e-4771-ae04-bf9dd7c65d5a",
   "metadata": {},
   "outputs": [],
   "source": [
    "male_shared_item_ids, male_shared_item_counts = np.unique(male_shared_entities_concatenated, return_counts=True)\n",
    "female_shared_item_ids, female_shared_item_counts = np.unique(female_shared_entities_concatenated, return_counts=True)"
   ]
  },
  {
   "cell_type": "code",
   "execution_count": null,
   "id": "e523defc-2a05-4c1c-a4cc-d8b929e8872d",
   "metadata": {},
   "outputs": [],
   "source": [
    "male_shared_item_ids = np.flip(male_shared_item_ids[np.argsort(male_shared_item_counts)])\n",
    "male_shared_item_counts = np.flip(male_shared_item_counts[np.argsort(male_shared_item_counts)])\n",
    "female_shared_item_ids = np.flip(female_shared_item_ids[np.argsort(female_shared_item_counts)])\n",
    "female_shared_item_counts = np.flip(female_shared_item_counts[np.argsort(female_shared_item_counts)])"
   ]
  },
  {
   "cell_type": "code",
   "execution_count": null,
   "id": "a0fcd650-bbba-45cf-af60-f96ee5bd0ca8",
   "metadata": {},
   "outputs": [],
   "source": [
    "male_shared_entity_count = np.sum(male_shared_item_counts)\n",
    "female_shared_entity_count = np.sum(female_shared_item_counts)"
   ]
  },
  {
   "cell_type": "code",
   "execution_count": null,
   "id": "2370ffe9-3cf9-45fb-8800-7d5f53403084",
   "metadata": {},
   "outputs": [],
   "source": [
    "for entity_idx, shared_entity in enumerate(male_shared_item_ids[:10]):\n",
    "    print('Entity %s. \\t %s \\t %s%%' % (shared_entity, male_shared_item_counts[entity_idx], male_shared_item_counts[entity_idx]*100/male_shared_entity_count))"
   ]
  },
  {
   "cell_type": "code",
   "execution_count": null,
   "id": "868f8a52",
   "metadata": {},
   "outputs": [],
   "source": [
    "for entity_idx, shared_entity in enumerate(female_shared_item_ids[:10]):\n",
    "    print('Entity %s. \\t %s \\t %s%%' % (shared_entity, female_shared_item_counts[entity_idx], female_shared_item_counts[entity_idx]*100/female_shared_entity_count))"
   ]
  },
  {
   "cell_type": "code",
   "execution_count": null,
   "id": "186bb98f",
   "metadata": {},
   "outputs": [],
   "source": [
    "male_shared_users = male_shared_item_ids[male_shared_item_ids < dataset.user_num]\n",
    "female_shared_users = female_shared_item_ids[female_shared_item_ids < dataset.user_num]"
   ]
  },
  {
   "cell_type": "code",
   "execution_count": null,
   "id": "7a2f0374",
   "metadata": {},
   "outputs": [],
   "source": [
    "male_shared_user_gender = [internal_id_to_gender(idx) for idx in male_shared_users]\n",
    "female_shared_user_gender = [internal_id_to_gender(idx) for idx in female_shared_users]"
   ]
  },
  {
   "cell_type": "code",
   "execution_count": null,
   "id": "af6dd78a",
   "metadata": {},
   "outputs": [],
   "source": [
    "evaluate_gender_of_shared_entities(male_shared_user_gender)"
   ]
  },
  {
   "cell_type": "code",
   "execution_count": null,
   "id": "1f555042",
   "metadata": {},
   "outputs": [],
   "source": [
    "evaluate_gender_of_shared_entities(female_shared_user_gender)"
   ]
  },
  {
   "cell_type": "code",
   "execution_count": null,
   "id": "bee518cb",
   "metadata": {},
   "outputs": [],
   "source": [
    "evaluate_gender_of_shared_entities(male_shared_user_gender[:100])"
   ]
  },
  {
   "cell_type": "code",
   "execution_count": null,
   "id": "98f6dd6c",
   "metadata": {},
   "outputs": [],
   "source": [
    "evaluate_gender_of_shared_entities(female_shared_user_gender[:100])"
   ]
  }
 ],
 "metadata": {
  "kernelspec": {
   "display_name": "Python 3 (ipykernel)",
   "language": "python",
   "name": "python3"
  },
  "language_info": {
   "codemirror_mode": {
    "name": "ipython",
    "version": 3
   },
   "file_extension": ".py",
   "mimetype": "text/x-python",
   "name": "python",
   "nbconvert_exporter": "python",
   "pygments_lexer": "ipython3",
   "version": "3.9.15"
  }
 },
 "nbformat": 4,
 "nbformat_minor": 5
}
