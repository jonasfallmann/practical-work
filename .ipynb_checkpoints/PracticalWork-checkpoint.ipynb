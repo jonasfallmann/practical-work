{
 "cells": [
  {
   "cell_type": "markdown",
   "id": "a2ed31f1-0e50-4f8a-86b0-e983172410e9",
   "metadata": {},
   "source": [
    "# Practical Work"
   ]
  },
  {
   "cell_type": "markdown",
   "id": "02cda9a7-79e5-45ee-9f02-459bd85fad9d",
   "metadata": {},
   "source": [
    "<b> Student: </b> Jonas Fallmann <br>\n",
    "<b> Matrikulation number </b> 12018700 <br>\n",
    "<b> Topic:</b> Evaulating gender bias of explained recommender systems<br>\n",
    "<b> Institute: </b> Institute of Computational Perception, Johannes Kepler University Linz"
   ]
  },
  {
   "cell_type": "markdown",
   "id": "33d49e4f-69e2-421e-99e5-cd16c30ee9bd",
   "metadata": {},
   "source": [
    "## Outline\n",
    "Recent advances in the field of recommender systems focus in a big part on explanations of recommended Items. Explainability has been shown to aid user trust and results in higher conversion rates in the online shopping domain. As an example, explanations in the music domain could be of the following form:\n",
    "\n",
    "<b>Recommended Item:</b> Clocks and Whoopty by Pintel Ragetti<br>\n",
    "<b> Explanation: </b>  \n",
    "\n"
   ]
  },
  {
   "cell_type": "markdown",
   "id": "ecf941a2-6c8c-43f3-99b7-4acc31f33838",
   "metadata": {},
   "source": [
    "# Train Model"
   ]
  },
  {
   "cell_type": "markdown",
   "id": "c246efaa-f8c1-42b2-9993-6513d8e4c141",
   "metadata": {
    "tags": []
   },
   "source": [
    "### Load config and create Dataset"
   ]
  },
  {
   "cell_type": "code",
   "execution_count": 1,
   "id": "76e405f0-0b6a-4ce8-834a-856f132eced1",
   "metadata": {},
   "outputs": [],
   "source": [
    "from logging import getLogger\n",
    "from recbole.config import Config\n",
    "from recbole.data import create_dataset, data_preparation\n",
    "from recbole.model.knowledge_aware_recommender import KGAT\n",
    "from recbole.trainer import KGATTrainer\n",
    "from recbole.utils import init_seed, init_logger\n",
    "\n",
    "train_model = True\n",
    "create_paths = True"
   ]
  },
  {
   "cell_type": "code",
   "execution_count": 2,
   "id": "3e05ff00-3d37-406e-8e66-eab5e3ce034e",
   "metadata": {
    "scrolled": true,
    "tags": []
   },
   "outputs": [
    {
     "name": "stderr",
     "output_type": "stream",
     "text": [
      "27 Feb 14:19    INFO  \n",
      "General Hyper Parameters:\n",
      "gpu_id = 0\n",
      "use_gpu = True\n",
      "seed = 2020\n",
      "state = INFO\n",
      "reproducibility = True\n",
      "data_path = ./data/rb_lfm\n",
      "checkpoint_dir = saved\n",
      "show_progress = True\n",
      "save_dataset = False\n",
      "dataset_save_path = None\n",
      "save_dataloaders = False\n",
      "dataloaders_save_path = None\n",
      "log_wandb = False\n",
      "\n",
      "Training Hyper Parameters:\n",
      "epochs = 20\n",
      "train_batch_size = 512\n",
      "learner = adam\n",
      "learning_rate = 0.001\n",
      "train_neg_sample_args = {'distribution': 'uniform', 'sample_num': 1, 'alpha': 1.0, 'dynamic': False, 'candidate_num': 0}\n",
      "eval_step = 1\n",
      "stopping_step = 10\n",
      "clip_grad_norm = None\n",
      "weight_decay = 0.0\n",
      "loss_decimal_place = 4\n",
      "\n",
      "Evaluation Hyper Parameters:\n",
      "eval_args = {'split': {'RS': [8, 1, 1]}, 'group_by': 'user', 'order': 'RO', 'mode': 'full'}\n",
      "repeatable = False\n",
      "metrics = ['NDCG', 'Hit', 'Precision']\n",
      "topk = [10]\n",
      "valid_metric = NDCG@10\n",
      "valid_metric_bigger = True\n",
      "eval_batch_size = 256\n",
      "metric_decimal_place = 4\n",
      "\n",
      "Dataset Hyper Parameters:\n",
      "field_separator = \t\n",
      "seq_separator =  \n",
      "USER_ID_FIELD = user_id\n",
      "ITEM_ID_FIELD = item_id\n",
      "RATING_FIELD = rating\n",
      "TIME_FIELD = timestamp\n",
      "seq_len = None\n",
      "LABEL_FIELD = label\n",
      "threshold = None\n",
      "NEG_PREFIX = neg_\n",
      "load_col = {'inter': ['user_id', 'item_id', 'album', 'timestamp'], 'kg': ['head_id', 'relation_id', 'tail_id'], 'link': ['item_id', 'entity_id']}\n",
      "unload_col = None\n",
      "unused_col = None\n",
      "additional_feat_suffix = None\n",
      "rm_dup_inter = None\n",
      "val_interval = None\n",
      "filter_inter_by_user_or_item = True\n",
      "user_inter_num_interval = [0,inf)\n",
      "item_inter_num_interval = [0,inf)\n",
      "alias_of_user_id = None\n",
      "alias_of_item_id = None\n",
      "alias_of_entity_id = None\n",
      "alias_of_relation_id = None\n",
      "preload_weight = None\n",
      "normalize_field = None\n",
      "normalize_all = None\n",
      "ITEM_LIST_LENGTH_FIELD = item_length\n",
      "LIST_SUFFIX = _list\n",
      "MAX_ITEM_LIST_LENGTH = 50\n",
      "POSITION_FIELD = position_id\n",
      "HEAD_ENTITY_ID_FIELD = head_id\n",
      "TAIL_ENTITY_ID_FIELD = tail_id\n",
      "RELATION_ID_FIELD = relation_id\n",
      "ENTITY_ID_FIELD = entity_id\n",
      "benchmark_filename = None\n",
      "\n",
      "Other Hyper Parameters: \n",
      "worker = 8\n",
      "wandb_project = recbole\n",
      "shuffle = True\n",
      "require_pow = False\n",
      "enable_amp = False\n",
      "enable_scaler = False\n",
      "transform = None\n",
      "embedding_size = 32\n",
      "kg_embedding_size = 32\n",
      "layers = [32, 16, 8]\n",
      "mess_dropout = 0.1\n",
      "reg_weight = 1e-05\n",
      "aggregator_type = bi\n",
      "numerical_features = []\n",
      "discretization = None\n",
      "kg_reverse_r = True\n",
      "entity_kg_num_interval = [0,inf)\n",
      "relation_kg_num_interval = [0,inf)\n",
      "MODEL_TYPE = ModelType.KNOWLEDGE\n",
      "device = cuda\n",
      "MODEL_INPUT_TYPE = InputType.PAIRWISE\n",
      "eval_type = EvaluatorType.RANKING\n",
      "single_spec = True\n",
      "local_rank = 0\n",
      "eval_neg_sample_args = {'distribution': 'uniform', 'sample_num': 'none'}\n",
      "\n",
      "\n",
      "27 Feb 14:20    INFO  rb_lfm\n",
      "The number of users: 9569\n",
      "Average actions of users: 475.72627508361205\n",
      "The number of items: 94188\n",
      "Average actions of items: 48.32672237145253\n",
      "The number of inters: 4551749\n",
      "The sparsity of the dataset: 99.49497116434777%\n",
      "Remain Fields: ['entity_id', 'user_id', 'item_id', 'timestamp', 'head_id', 'relation_id', 'tail_id']\n",
      "The number of entities: 173441\n",
      "The number of relations: 14\n",
      "The number of triples: 1523274\n",
      "The number of items that have been linked to KG: 94187\n",
      "27 Feb 14:20    INFO  [Training]: train_batch_size = [512] train_neg_sample_args: [{'distribution': 'uniform', 'sample_num': 1, 'alpha': 1.0, 'dynamic': False, 'candidate_num': 0}]\n",
      "27 Feb 14:20    INFO  [Evaluation]: eval_batch_size = [256] eval_args: [{'split': {'RS': [8, 1, 1]}, 'group_by': 'user', 'order': 'RO', 'mode': 'full'}]\n"
     ]
    }
   ],
   "source": [
    "\n",
    "# configurations initialization\n",
    "config = Config(model='KGAT', dataset='rb_lfm', config_file_list=['lfm.yaml'])\n",
    "\n",
    "# init random seed\n",
    "init_seed(config['seed'], config['reproducibility'])\n",
    "\n",
    "# logger initialization\n",
    "init_logger(config)\n",
    "logger = getLogger()\n",
    "\n",
    "# write config info into log\n",
    "logger.info(config)\n",
    "\n",
    "# dataset creating and filtering\n",
    "dataset = create_dataset(config)\n",
    "logger.info(dataset)\n",
    "\n",
    "# dataset splitting\n",
    "train_data, valid_data, test_data = data_preparation(config, dataset)\n"
   ]
  },
  {
   "cell_type": "markdown",
   "id": "0dd4fa2f-7b05-479b-a673-1bdc419848fe",
   "metadata": {
    "tags": []
   },
   "source": [
    "### Train model and evaluate"
   ]
  },
  {
   "cell_type": "code",
   "execution_count": 3,
   "id": "f8535eaf-7ad9-4ad4-bd6d-ef8b609aa585",
   "metadata": {
    "scrolled": true
   },
   "outputs": [
    {
     "name": "stderr",
     "output_type": "stream",
     "text": [
      "/home/jfallmann/miniconda3/envs/pr/lib/python3.9/site-packages/dgl/subgraph.py:288: DGLWarning: Key word argument preserve_nodes is deprecated. Use relabel_nodes instead.\n",
      "  dgl_warning(\n",
      "/home/jfallmann/miniconda3/envs/pr/lib/python3.9/site-packages/recbole/model/knowledge_aware_recommender/kgat.py:159: RuntimeWarning: divide by zero encountered in power\n",
      "  d_inv = np.power(rowsum, -1).flatten()\n",
      "/home/jfallmann/miniconda3/envs/pr/lib/python3.9/site-packages/recbole/model/knowledge_aware_recommender/kgat.py:166: UserWarning: Creating a tensor from a list of numpy.ndarrays is extremely slow. Please consider converting the list to a single numpy.ndarray with numpy.array() before converting to a tensor. (Triggered internally at /opt/conda/conda-bld/pytorch_1670525551200/work/torch/csrc/utils/tensor_new.cpp:230.)\n",
      "  indices = torch.LongTensor([final_adj_matrix.row, final_adj_matrix.col])\n",
      "27 Feb 14:20    INFO  KGAT(\n",
      "  (user_embedding): Embedding(9569, 32)\n",
      "  (entity_embedding): Embedding(173441, 32)\n",
      "  (relation_embedding): Embedding(14, 32)\n",
      "  (trans_w): Embedding(14, 1024)\n",
      "  (aggregator_layers): ModuleList(\n",
      "    (0): Aggregator(\n",
      "      (message_dropout): Dropout(p=0.1, inplace=False)\n",
      "      (W1): Linear(in_features=32, out_features=32, bias=True)\n",
      "      (W2): Linear(in_features=32, out_features=32, bias=True)\n",
      "      (activation): LeakyReLU(negative_slope=0.01)\n",
      "    )\n",
      "    (1): Aggregator(\n",
      "      (message_dropout): Dropout(p=0.1, inplace=False)\n",
      "      (W1): Linear(in_features=32, out_features=16, bias=True)\n",
      "      (W2): Linear(in_features=32, out_features=16, bias=True)\n",
      "      (activation): LeakyReLU(negative_slope=0.01)\n",
      "    )\n",
      "    (2): Aggregator(\n",
      "      (message_dropout): Dropout(p=0.1, inplace=False)\n",
      "      (W1): Linear(in_features=16, out_features=8, bias=True)\n",
      "      (W2): Linear(in_features=16, out_features=8, bias=True)\n",
      "      (activation): LeakyReLU(negative_slope=0.01)\n",
      "    )\n",
      "  )\n",
      "  (tanh): Tanh()\n",
      "  (mf_loss): BPRLoss()\n",
      "  (reg_loss): EmbLoss()\n",
      ")\n",
      "Trainable parameters: 5874544\n"
     ]
    },
    {
     "name": "stdout",
     "output_type": "stream",
     "text": [
      "Starting to fit model\n"
     ]
    },
    {
     "data": {
      "application/vnd.jupyter.widget-view+json": {
       "model_id": "87ae36672d1f4ae4a930c48830588ac1",
       "version_major": 2,
       "version_minor": 0
      },
      "text/plain": [
       "\u001b[1;35mTrain     0\u001b[0m:   0%|          | 0/7128 [00:00<?, ?it/s]"
      ]
     },
     "metadata": {},
     "output_type": "display_data"
    },
    {
     "data": {
      "application/vnd.jupyter.widget-view+json": {
       "model_id": "dabab94106e942a6b7e727908b9724b2",
       "version_major": 2,
       "version_minor": 0
      },
      "text/plain": [
       "\u001b[1;35mTrain     0\u001b[0m:   0%|          | 0/2976 [00:00<?, ?it/s]"
      ]
     },
     "metadata": {},
     "output_type": "display_data"
    },
    {
     "name": "stderr",
     "output_type": "stream",
     "text": [
      "27 Feb 14:39    INFO  epoch 0 training [time: 1177.89s, train_loss1: 2137.8465, train_loss2: 161.5594]\n"
     ]
    },
    {
     "data": {
      "application/vnd.jupyter.widget-view+json": {
       "model_id": "71080db9651a430392895a579987f053",
       "version_major": 2,
       "version_minor": 0
      },
      "text/plain": [
       "\u001b[1;35mEvaluate   \u001b[0m:   0%|                                                         | 0/9531 [00:00<?, ?it/s…"
      ]
     },
     "metadata": {},
     "output_type": "display_data"
    },
    {
     "name": "stderr",
     "output_type": "stream",
     "text": [
      "27 Feb 14:40    INFO  epoch 0 evaluating [time: 18.54s, valid_score: 0.052600]\n",
      "27 Feb 14:40    INFO  valid result: \n",
      "ndcg@10 : 0.0526    hit@10 : 0.2669    precision@10 : 0.0465\n",
      "27 Feb 14:40    INFO  Saving current: saved/KGAT-Feb-27-2023_14-20-18.pth\n"
     ]
    },
    {
     "data": {
      "application/vnd.jupyter.widget-view+json": {
       "model_id": "f7e3c1b0569c472c858db7e510324a67",
       "version_major": 2,
       "version_minor": 0
      },
      "text/plain": [
       "\u001b[1;35mTrain     1\u001b[0m:   0%|          | 0/7128 [00:00<?, ?it/s]"
      ]
     },
     "metadata": {},
     "output_type": "display_data"
    },
    {
     "data": {
      "application/vnd.jupyter.widget-view+json": {
       "model_id": "9ad6a676ecb24cd8befc6b0027987be9",
       "version_major": 2,
       "version_minor": 0
      },
      "text/plain": [
       "\u001b[1;35mTrain     1\u001b[0m:   0%|          | 0/2976 [00:00<?, ?it/s]"
      ]
     },
     "metadata": {},
     "output_type": "display_data"
    },
    {
     "name": "stderr",
     "output_type": "stream",
     "text": [
      "27 Feb 14:54    INFO  epoch 1 training [time: 858.60s, train_loss1: 1835.3998, train_loss2: 41.2298]\n"
     ]
    },
    {
     "data": {
      "application/vnd.jupyter.widget-view+json": {
       "model_id": "96308072d76a45c1b711c7e99a7362e5",
       "version_major": 2,
       "version_minor": 0
      },
      "text/plain": [
       "\u001b[1;35mEvaluate   \u001b[0m:   0%|                                                         | 0/9531 [00:00<?, ?it/s…"
      ]
     },
     "metadata": {},
     "output_type": "display_data"
    },
    {
     "name": "stderr",
     "output_type": "stream",
     "text": [
      "27 Feb 14:54    INFO  epoch 1 evaluating [time: 18.30s, valid_score: 0.086300]\n",
      "27 Feb 14:54    INFO  valid result: \n",
      "ndcg@10 : 0.0863    hit@10 : 0.3638    precision@10 : 0.0747\n",
      "27 Feb 14:54    INFO  Saving current: saved/KGAT-Feb-27-2023_14-20-18.pth\n"
     ]
    },
    {
     "data": {
      "application/vnd.jupyter.widget-view+json": {
       "model_id": "993d348ec4844abe843bb1a412ff6167",
       "version_major": 2,
       "version_minor": 0
      },
      "text/plain": [
       "\u001b[1;35mTrain     2\u001b[0m:   0%|          | 0/7128 [00:00<?, ?it/s]"
      ]
     },
     "metadata": {},
     "output_type": "display_data"
    },
    {
     "data": {
      "application/vnd.jupyter.widget-view+json": {
       "model_id": "098f68e7d1064602ab1aba68e2f82563",
       "version_major": 2,
       "version_minor": 0
      },
      "text/plain": [
       "\u001b[1;35mTrain     2\u001b[0m:   0%|          | 0/2976 [00:00<?, ?it/s]"
      ]
     },
     "metadata": {},
     "output_type": "display_data"
    },
    {
     "name": "stderr",
     "output_type": "stream",
     "text": [
      "27 Feb 15:09    INFO  epoch 2 training [time: 856.35s, train_loss1: 1280.8120, train_loss2: 22.8692]\n"
     ]
    },
    {
     "data": {
      "application/vnd.jupyter.widget-view+json": {
       "model_id": "e6a74e69f296457795aa78dd853a8eb2",
       "version_major": 2,
       "version_minor": 0
      },
      "text/plain": [
       "\u001b[1;35mEvaluate   \u001b[0m:   0%|                                                         | 0/9531 [00:00<?, ?it/s…"
      ]
     },
     "metadata": {},
     "output_type": "display_data"
    },
    {
     "name": "stderr",
     "output_type": "stream",
     "text": [
      "27 Feb 15:09    INFO  epoch 2 evaluating [time: 17.92s, valid_score: 0.092000]\n",
      "27 Feb 15:09    INFO  valid result: \n",
      "ndcg@10 : 0.092    hit@10 : 0.3797    precision@10 : 0.0799\n",
      "27 Feb 15:09    INFO  Saving current: saved/KGAT-Feb-27-2023_14-20-18.pth\n"
     ]
    },
    {
     "data": {
      "application/vnd.jupyter.widget-view+json": {
       "model_id": "78143fb1cbb84fb5af942c58ec1941e8",
       "version_major": 2,
       "version_minor": 0
      },
      "text/plain": [
       "\u001b[1;35mTrain     3\u001b[0m:   0%|          | 0/7128 [00:00<?, ?it/s]"
      ]
     },
     "metadata": {},
     "output_type": "display_data"
    },
    {
     "data": {
      "application/vnd.jupyter.widget-view+json": {
       "model_id": "50427d08995947f9803536641ddf454f",
       "version_major": 2,
       "version_minor": 0
      },
      "text/plain": [
       "\u001b[1;35mTrain     3\u001b[0m:   0%|          | 0/2976 [00:00<?, ?it/s]"
      ]
     },
     "metadata": {},
     "output_type": "display_data"
    },
    {
     "name": "stderr",
     "output_type": "stream",
     "text": [
      "27 Feb 15:23    INFO  epoch 3 training [time: 830.66s, train_loss1: 1013.9281, train_loss2: 15.1526]\n"
     ]
    },
    {
     "data": {
      "application/vnd.jupyter.widget-view+json": {
       "model_id": "1c39f748f4c54f54952a2dc6666a0f2b",
       "version_major": 2,
       "version_minor": 0
      },
      "text/plain": [
       "\u001b[1;35mEvaluate   \u001b[0m:   0%|                                                         | 0/9531 [00:00<?, ?it/s…"
      ]
     },
     "metadata": {},
     "output_type": "display_data"
    },
    {
     "name": "stderr",
     "output_type": "stream",
     "text": [
      "27 Feb 15:23    INFO  epoch 3 evaluating [time: 17.22s, valid_score: 0.095500]\n",
      "27 Feb 15:23    INFO  valid result: \n",
      "ndcg@10 : 0.0955    hit@10 : 0.3881    precision@10 : 0.083\n",
      "27 Feb 15:23    INFO  Saving current: saved/KGAT-Feb-27-2023_14-20-18.pth\n"
     ]
    },
    {
     "data": {
      "application/vnd.jupyter.widget-view+json": {
       "model_id": "3c1516bf6294448bac71f7dc61eafd2f",
       "version_major": 2,
       "version_minor": 0
      },
      "text/plain": [
       "\u001b[1;35mTrain     4\u001b[0m:   0%|          | 0/7128 [00:00<?, ?it/s]"
      ]
     },
     "metadata": {},
     "output_type": "display_data"
    },
    {
     "data": {
      "application/vnd.jupyter.widget-view+json": {
       "model_id": "b575682f5557436e91158bcf85c95c47",
       "version_major": 2,
       "version_minor": 0
      },
      "text/plain": [
       "\u001b[1;35mTrain     4\u001b[0m:   0%|          | 0/2976 [00:00<?, ?it/s]"
      ]
     },
     "metadata": {},
     "output_type": "display_data"
    },
    {
     "name": "stderr",
     "output_type": "stream",
     "text": [
      "27 Feb 15:37    INFO  epoch 4 training [time: 822.87s, train_loss1: 850.7247, train_loss2: 11.3744]\n"
     ]
    },
    {
     "data": {
      "application/vnd.jupyter.widget-view+json": {
       "model_id": "342b087c99dc4f08862b1b86459719e1",
       "version_major": 2,
       "version_minor": 0
      },
      "text/plain": [
       "\u001b[1;35mEvaluate   \u001b[0m:   0%|                                                         | 0/9531 [00:00<?, ?it/s…"
      ]
     },
     "metadata": {},
     "output_type": "display_data"
    },
    {
     "name": "stderr",
     "output_type": "stream",
     "text": [
      "27 Feb 15:37    INFO  epoch 4 evaluating [time: 18.08s, valid_score: 0.100300]\n",
      "27 Feb 15:37    INFO  valid result: \n",
      "ndcg@10 : 0.1003    hit@10 : 0.3988    precision@10 : 0.0871\n",
      "27 Feb 15:37    INFO  Saving current: saved/KGAT-Feb-27-2023_14-20-18.pth\n"
     ]
    },
    {
     "data": {
      "application/vnd.jupyter.widget-view+json": {
       "model_id": "50bab0309442471ca1ada23fc85d2e31",
       "version_major": 2,
       "version_minor": 0
      },
      "text/plain": [
       "\u001b[1;35mTrain     5\u001b[0m:   0%|          | 0/7128 [00:00<?, ?it/s]"
      ]
     },
     "metadata": {},
     "output_type": "display_data"
    },
    {
     "data": {
      "application/vnd.jupyter.widget-view+json": {
       "model_id": "dc5643c7f11b43128009f7291f28ac47",
       "version_major": 2,
       "version_minor": 0
      },
      "text/plain": [
       "\u001b[1;35mTrain     5\u001b[0m:   0%|          | 0/2976 [00:00<?, ?it/s]"
      ]
     },
     "metadata": {},
     "output_type": "display_data"
    },
    {
     "name": "stderr",
     "output_type": "stream",
     "text": [
      "27 Feb 15:51    INFO  epoch 5 training [time: 857.44s, train_loss1: 739.3235, train_loss2: 9.0457]\n"
     ]
    },
    {
     "data": {
      "application/vnd.jupyter.widget-view+json": {
       "model_id": "f7c416c4e54d4095ac9ce73608a030bb",
       "version_major": 2,
       "version_minor": 0
      },
      "text/plain": [
       "\u001b[1;35mEvaluate   \u001b[0m:   0%|                                                         | 0/9531 [00:00<?, ?it/s…"
      ]
     },
     "metadata": {},
     "output_type": "display_data"
    },
    {
     "name": "stderr",
     "output_type": "stream",
     "text": [
      "27 Feb 15:52    INFO  epoch 5 evaluating [time: 18.06s, valid_score: 0.103500]\n",
      "27 Feb 15:52    INFO  valid result: \n",
      "ndcg@10 : 0.1035    hit@10 : 0.41    precision@10 : 0.0897\n",
      "27 Feb 15:52    INFO  Saving current: saved/KGAT-Feb-27-2023_14-20-18.pth\n"
     ]
    },
    {
     "data": {
      "application/vnd.jupyter.widget-view+json": {
       "model_id": "7e1086d8495e4becbd5a7e2ba9eb83f8",
       "version_major": 2,
       "version_minor": 0
      },
      "text/plain": [
       "\u001b[1;35mTrain     6\u001b[0m:   0%|          | 0/7128 [00:00<?, ?it/s]"
      ]
     },
     "metadata": {},
     "output_type": "display_data"
    },
    {
     "data": {
      "application/vnd.jupyter.widget-view+json": {
       "model_id": "8e87bdb5ee894819aff2da8627cce195",
       "version_major": 2,
       "version_minor": 0
      },
      "text/plain": [
       "\u001b[1;35mTrain     6\u001b[0m:   0%|          | 0/2976 [00:00<?, ?it/s]"
      ]
     },
     "metadata": {},
     "output_type": "display_data"
    },
    {
     "name": "stderr",
     "output_type": "stream",
     "text": [
      "27 Feb 16:06    INFO  epoch 6 training [time: 857.44s, train_loss1: 655.6998, train_loss2: 7.2053]\n"
     ]
    },
    {
     "data": {
      "application/vnd.jupyter.widget-view+json": {
       "model_id": "70e9e86de0d54bc1b55e0c16e5e9f833",
       "version_major": 2,
       "version_minor": 0
      },
      "text/plain": [
       "\u001b[1;35mEvaluate   \u001b[0m:   0%|                                                         | 0/9531 [00:00<?, ?it/s…"
      ]
     },
     "metadata": {},
     "output_type": "display_data"
    },
    {
     "name": "stderr",
     "output_type": "stream",
     "text": [
      "27 Feb 16:06    INFO  epoch 6 evaluating [time: 18.20s, valid_score: 0.105300]\n",
      "27 Feb 16:06    INFO  valid result: \n",
      "ndcg@10 : 0.1053    hit@10 : 0.4098    precision@10 : 0.092\n",
      "27 Feb 16:06    INFO  Saving current: saved/KGAT-Feb-27-2023_14-20-18.pth\n"
     ]
    },
    {
     "data": {
      "application/vnd.jupyter.widget-view+json": {
       "model_id": "bf75da8a31734e63ae956acf12b3c5da",
       "version_major": 2,
       "version_minor": 0
      },
      "text/plain": [
       "\u001b[1;35mTrain     7\u001b[0m:   0%|          | 0/7128 [00:00<?, ?it/s]"
      ]
     },
     "metadata": {},
     "output_type": "display_data"
    },
    {
     "data": {
      "application/vnd.jupyter.widget-view+json": {
       "model_id": "9a1cdc0bb3c3489e8b58aea568a03e6a",
       "version_major": 2,
       "version_minor": 0
      },
      "text/plain": [
       "\u001b[1;35mTrain     7\u001b[0m:   0%|          | 0/2976 [00:00<?, ?it/s]"
      ]
     },
     "metadata": {},
     "output_type": "display_data"
    },
    {
     "name": "stderr",
     "output_type": "stream",
     "text": [
      "27 Feb 16:20    INFO  epoch 7 training [time: 836.77s, train_loss1: 593.1651, train_loss2: 6.3096]\n"
     ]
    },
    {
     "data": {
      "application/vnd.jupyter.widget-view+json": {
       "model_id": "c7a28aea7dc148a2bd08c568cea51844",
       "version_major": 2,
       "version_minor": 0
      },
      "text/plain": [
       "\u001b[1;35mEvaluate   \u001b[0m:   0%|                                                         | 0/9531 [00:00<?, ?it/s…"
      ]
     },
     "metadata": {},
     "output_type": "display_data"
    },
    {
     "name": "stderr",
     "output_type": "stream",
     "text": [
      "27 Feb 16:21    INFO  epoch 7 evaluating [time: 18.15s, valid_score: 0.109500]\n",
      "27 Feb 16:21    INFO  valid result: \n",
      "ndcg@10 : 0.1095    hit@10 : 0.4259    precision@10 : 0.096\n",
      "27 Feb 16:21    INFO  Saving current: saved/KGAT-Feb-27-2023_14-20-18.pth\n"
     ]
    },
    {
     "data": {
      "application/vnd.jupyter.widget-view+json": {
       "model_id": "b71386f263554fc2a902773e99e41f0c",
       "version_major": 2,
       "version_minor": 0
      },
      "text/plain": [
       "\u001b[1;35mTrain     8\u001b[0m:   0%|          | 0/7128 [00:00<?, ?it/s]"
      ]
     },
     "metadata": {},
     "output_type": "display_data"
    },
    {
     "data": {
      "application/vnd.jupyter.widget-view+json": {
       "model_id": "642c9ffc15f941409f71a487469b8781",
       "version_major": 2,
       "version_minor": 0
      },
      "text/plain": [
       "\u001b[1;35mTrain     8\u001b[0m:   0%|          | 0/2976 [00:00<?, ?it/s]"
      ]
     },
     "metadata": {},
     "output_type": "display_data"
    },
    {
     "name": "stderr",
     "output_type": "stream",
     "text": [
      "27 Feb 16:35    INFO  epoch 8 training [time: 858.23s, train_loss1: 538.5657, train_loss2: 5.4916]\n"
     ]
    },
    {
     "data": {
      "application/vnd.jupyter.widget-view+json": {
       "model_id": "4bf5a4ee08544847901ac8a7b0b4d74b",
       "version_major": 2,
       "version_minor": 0
      },
      "text/plain": [
       "\u001b[1;35mEvaluate   \u001b[0m:   0%|                                                         | 0/9531 [00:00<?, ?it/s…"
      ]
     },
     "metadata": {},
     "output_type": "display_data"
    },
    {
     "name": "stderr",
     "output_type": "stream",
     "text": [
      "27 Feb 16:35    INFO  epoch 8 evaluating [time: 18.25s, valid_score: 0.112300]\n",
      "27 Feb 16:35    INFO  valid result: \n",
      "ndcg@10 : 0.1123    hit@10 : 0.4306    precision@10 : 0.0984\n",
      "27 Feb 16:35    INFO  Saving current: saved/KGAT-Feb-27-2023_14-20-18.pth\n"
     ]
    },
    {
     "data": {
      "application/vnd.jupyter.widget-view+json": {
       "model_id": "d423f45db3144e9e84a069e811a0d214",
       "version_major": 2,
       "version_minor": 0
      },
      "text/plain": [
       "\u001b[1;35mTrain     9\u001b[0m:   0%|          | 0/7128 [00:00<?, ?it/s]"
      ]
     },
     "metadata": {},
     "output_type": "display_data"
    },
    {
     "data": {
      "application/vnd.jupyter.widget-view+json": {
       "model_id": "1a302085bd074487b8502122cc89423a",
       "version_major": 2,
       "version_minor": 0
      },
      "text/plain": [
       "\u001b[1;35mTrain     9\u001b[0m:   0%|          | 0/2976 [00:00<?, ?it/s]"
      ]
     },
     "metadata": {},
     "output_type": "display_data"
    },
    {
     "name": "stderr",
     "output_type": "stream",
     "text": [
      "27 Feb 16:49    INFO  epoch 9 training [time: 839.30s, train_loss1: 494.4193, train_loss2: 4.9667]\n"
     ]
    },
    {
     "data": {
      "application/vnd.jupyter.widget-view+json": {
       "model_id": "0a19eeddce6445b09d297db351fea5cf",
       "version_major": 2,
       "version_minor": 0
      },
      "text/plain": [
       "\u001b[1;35mEvaluate   \u001b[0m:   0%|                                                         | 0/9531 [00:00<?, ?it/s…"
      ]
     },
     "metadata": {},
     "output_type": "display_data"
    },
    {
     "name": "stderr",
     "output_type": "stream",
     "text": [
      "27 Feb 16:49    INFO  epoch 9 evaluating [time: 17.01s, valid_score: 0.116100]\n",
      "27 Feb 16:49    INFO  valid result: \n",
      "ndcg@10 : 0.1161    hit@10 : 0.4408    precision@10 : 0.1019\n",
      "27 Feb 16:49    INFO  Saving current: saved/KGAT-Feb-27-2023_14-20-18.pth\n"
     ]
    },
    {
     "data": {
      "application/vnd.jupyter.widget-view+json": {
       "model_id": "3bc11b6f72934705ba642c45c6ef9cc7",
       "version_major": 2,
       "version_minor": 0
      },
      "text/plain": [
       "\u001b[1;35mTrain    10\u001b[0m:   0%|          | 0/7128 [00:00<?, ?it/s]"
      ]
     },
     "metadata": {},
     "output_type": "display_data"
    },
    {
     "data": {
      "application/vnd.jupyter.widget-view+json": {
       "model_id": "02fdbcb44af74b079438f4dc47643db6",
       "version_major": 2,
       "version_minor": 0
      },
      "text/plain": [
       "\u001b[1;35mTrain    10\u001b[0m:   0%|          | 0/2976 [00:00<?, ?it/s]"
      ]
     },
     "metadata": {},
     "output_type": "display_data"
    },
    {
     "name": "stderr",
     "output_type": "stream",
     "text": [
      "27 Feb 17:03    INFO  epoch 10 training [time: 813.58s, train_loss1: 458.1735, train_loss2: 4.5074]\n"
     ]
    },
    {
     "data": {
      "application/vnd.jupyter.widget-view+json": {
       "model_id": "595eee0329ec4d5a90d0dacfd2dcfece",
       "version_major": 2,
       "version_minor": 0
      },
      "text/plain": [
       "\u001b[1;35mEvaluate   \u001b[0m:   0%|                                                         | 0/9531 [00:00<?, ?it/s…"
      ]
     },
     "metadata": {},
     "output_type": "display_data"
    },
    {
     "name": "stderr",
     "output_type": "stream",
     "text": [
      "27 Feb 17:03    INFO  epoch 10 evaluating [time: 17.08s, valid_score: 0.118300]\n",
      "27 Feb 17:03    INFO  valid result: \n",
      "ndcg@10 : 0.1183    hit@10 : 0.4425    precision@10 : 0.104\n",
      "27 Feb 17:03    INFO  Saving current: saved/KGAT-Feb-27-2023_14-20-18.pth\n"
     ]
    },
    {
     "data": {
      "application/vnd.jupyter.widget-view+json": {
       "model_id": "b844cdf9f591424bb47ed55375eed2f4",
       "version_major": 2,
       "version_minor": 0
      },
      "text/plain": [
       "\u001b[1;35mTrain    11\u001b[0m:   0%|          | 0/7128 [00:00<?, ?it/s]"
      ]
     },
     "metadata": {},
     "output_type": "display_data"
    },
    {
     "data": {
      "application/vnd.jupyter.widget-view+json": {
       "model_id": "f6c2748d41934596b3e9df30adc3303c",
       "version_major": 2,
       "version_minor": 0
      },
      "text/plain": [
       "\u001b[1;35mTrain    11\u001b[0m:   0%|          | 0/2976 [00:00<?, ?it/s]"
      ]
     },
     "metadata": {},
     "output_type": "display_data"
    },
    {
     "name": "stderr",
     "output_type": "stream",
     "text": [
      "27 Feb 17:18    INFO  epoch 11 training [time: 853.70s, train_loss1: 430.9889, train_loss2: 4.3036]\n"
     ]
    },
    {
     "data": {
      "application/vnd.jupyter.widget-view+json": {
       "model_id": "eea7de46b9b3497ea48c1a214c69f20f",
       "version_major": 2,
       "version_minor": 0
      },
      "text/plain": [
       "\u001b[1;35mEvaluate   \u001b[0m:   0%|                                                         | 0/9531 [00:00<?, ?it/s…"
      ]
     },
     "metadata": {},
     "output_type": "display_data"
    },
    {
     "name": "stderr",
     "output_type": "stream",
     "text": [
      "27 Feb 17:18    INFO  epoch 11 evaluating [time: 18.56s, valid_score: 0.120800]\n",
      "27 Feb 17:18    INFO  valid result: \n",
      "ndcg@10 : 0.1208    hit@10 : 0.452    precision@10 : 0.1061\n",
      "27 Feb 17:18    INFO  Saving current: saved/KGAT-Feb-27-2023_14-20-18.pth\n"
     ]
    },
    {
     "data": {
      "application/vnd.jupyter.widget-view+json": {
       "model_id": "4f7667a819904d93a96374d42dd883fb",
       "version_major": 2,
       "version_minor": 0
      },
      "text/plain": [
       "\u001b[1;35mTrain    12\u001b[0m:   0%|          | 0/7128 [00:00<?, ?it/s]"
      ]
     },
     "metadata": {},
     "output_type": "display_data"
    },
    {
     "data": {
      "application/vnd.jupyter.widget-view+json": {
       "model_id": "7ee4bcc29ff4480c8ac73b40255de199",
       "version_major": 2,
       "version_minor": 0
      },
      "text/plain": [
       "\u001b[1;35mTrain    12\u001b[0m:   0%|          | 0/2976 [00:00<?, ?it/s]"
      ]
     },
     "metadata": {},
     "output_type": "display_data"
    },
    {
     "name": "stderr",
     "output_type": "stream",
     "text": [
      "27 Feb 17:32    INFO  epoch 12 training [time: 856.99s, train_loss1: 402.0915, train_loss2: 4.0418]\n"
     ]
    },
    {
     "data": {
      "application/vnd.jupyter.widget-view+json": {
       "model_id": "ab40c83ea7324294b8318d0c70363e12",
       "version_major": 2,
       "version_minor": 0
      },
      "text/plain": [
       "\u001b[1;35mEvaluate   \u001b[0m:   0%|                                                         | 0/9531 [00:00<?, ?it/s…"
      ]
     },
     "metadata": {},
     "output_type": "display_data"
    },
    {
     "name": "stderr",
     "output_type": "stream",
     "text": [
      "27 Feb 17:32    INFO  epoch 12 evaluating [time: 18.33s, valid_score: 0.124100]\n",
      "27 Feb 17:32    INFO  valid result: \n",
      "ndcg@10 : 0.1241    hit@10 : 0.4602    precision@10 : 0.1093\n",
      "27 Feb 17:32    INFO  Saving current: saved/KGAT-Feb-27-2023_14-20-18.pth\n"
     ]
    },
    {
     "data": {
      "application/vnd.jupyter.widget-view+json": {
       "model_id": "765c6e16812f42e2aada29c2e6f259a5",
       "version_major": 2,
       "version_minor": 0
      },
      "text/plain": [
       "\u001b[1;35mTrain    13\u001b[0m:   0%|          | 0/7128 [00:00<?, ?it/s]"
      ]
     },
     "metadata": {},
     "output_type": "display_data"
    },
    {
     "data": {
      "application/vnd.jupyter.widget-view+json": {
       "model_id": "8a7cdc367e5440728654cba1eb6ccbb1",
       "version_major": 2,
       "version_minor": 0
      },
      "text/plain": [
       "\u001b[1;35mTrain    13\u001b[0m:   0%|          | 0/2976 [00:00<?, ?it/s]"
      ]
     },
     "metadata": {},
     "output_type": "display_data"
    },
    {
     "name": "stderr",
     "output_type": "stream",
     "text": [
      "27 Feb 17:47    INFO  epoch 13 training [time: 855.91s, train_loss1: 382.8423, train_loss2: 3.8520]\n"
     ]
    },
    {
     "data": {
      "application/vnd.jupyter.widget-view+json": {
       "model_id": "421473526603451c9f444349a0e81315",
       "version_major": 2,
       "version_minor": 0
      },
      "text/plain": [
       "\u001b[1;35mEvaluate   \u001b[0m:   0%|                                                         | 0/9531 [00:00<?, ?it/s…"
      ]
     },
     "metadata": {},
     "output_type": "display_data"
    },
    {
     "name": "stderr",
     "output_type": "stream",
     "text": [
      "27 Feb 17:47    INFO  epoch 13 evaluating [time: 18.19s, valid_score: 0.127000]\n",
      "27 Feb 17:47    INFO  valid result: \n",
      "ndcg@10 : 0.127    hit@10 : 0.4689    precision@10 : 0.1122\n",
      "27 Feb 17:47    INFO  Saving current: saved/KGAT-Feb-27-2023_14-20-18.pth\n"
     ]
    },
    {
     "data": {
      "application/vnd.jupyter.widget-view+json": {
       "model_id": "8e9fb73e98d94fde97343df5a9cd099c",
       "version_major": 2,
       "version_minor": 0
      },
      "text/plain": [
       "\u001b[1;35mTrain    14\u001b[0m:   0%|          | 0/7128 [00:00<?, ?it/s]"
      ]
     },
     "metadata": {},
     "output_type": "display_data"
    },
    {
     "data": {
      "application/vnd.jupyter.widget-view+json": {
       "model_id": "4877697e71604483a46d92ef383d8a24",
       "version_major": 2,
       "version_minor": 0
      },
      "text/plain": [
       "\u001b[1;35mTrain    14\u001b[0m:   0%|          | 0/2976 [00:00<?, ?it/s]"
      ]
     },
     "metadata": {},
     "output_type": "display_data"
    },
    {
     "name": "stderr",
     "output_type": "stream",
     "text": [
      "27 Feb 18:01    INFO  epoch 14 training [time: 857.47s, train_loss1: 365.3161, train_loss2: 3.5052]\n"
     ]
    },
    {
     "data": {
      "application/vnd.jupyter.widget-view+json": {
       "model_id": "1fc6e16afa8347d994024f0e01709b28",
       "version_major": 2,
       "version_minor": 0
      },
      "text/plain": [
       "\u001b[1;35mEvaluate   \u001b[0m:   0%|                                                         | 0/9531 [00:00<?, ?it/s…"
      ]
     },
     "metadata": {},
     "output_type": "display_data"
    },
    {
     "name": "stderr",
     "output_type": "stream",
     "text": [
      "27 Feb 18:02    INFO  epoch 14 evaluating [time: 17.92s, valid_score: 0.128500]\n",
      "27 Feb 18:02    INFO  valid result: \n",
      "ndcg@10 : 0.1285    hit@10 : 0.4695    precision@10 : 0.1128\n",
      "27 Feb 18:02    INFO  Saving current: saved/KGAT-Feb-27-2023_14-20-18.pth\n"
     ]
    },
    {
     "data": {
      "application/vnd.jupyter.widget-view+json": {
       "model_id": "4025fb89b4fb4a1f8a21cb6af80d5cc9",
       "version_major": 2,
       "version_minor": 0
      },
      "text/plain": [
       "\u001b[1;35mTrain    15\u001b[0m:   0%|          | 0/7128 [00:00<?, ?it/s]"
      ]
     },
     "metadata": {},
     "output_type": "display_data"
    },
    {
     "data": {
      "application/vnd.jupyter.widget-view+json": {
       "model_id": "c03bcdd1b60349c8b16804c04fad924a",
       "version_major": 2,
       "version_minor": 0
      },
      "text/plain": [
       "\u001b[1;35mTrain    15\u001b[0m:   0%|          | 0/2976 [00:00<?, ?it/s]"
      ]
     },
     "metadata": {},
     "output_type": "display_data"
    },
    {
     "name": "stderr",
     "output_type": "stream",
     "text": [
      "27 Feb 18:16    INFO  epoch 15 training [time: 857.68s, train_loss1: 349.2621, train_loss2: 3.6199]\n"
     ]
    },
    {
     "data": {
      "application/vnd.jupyter.widget-view+json": {
       "model_id": "93996f13f3f4457b9ad03498e450cf83",
       "version_major": 2,
       "version_minor": 0
      },
      "text/plain": [
       "\u001b[1;35mEvaluate   \u001b[0m:   0%|                                                         | 0/9531 [00:00<?, ?it/s…"
      ]
     },
     "metadata": {},
     "output_type": "display_data"
    },
    {
     "name": "stderr",
     "output_type": "stream",
     "text": [
      "27 Feb 18:16    INFO  epoch 15 evaluating [time: 18.28s, valid_score: 0.130800]\n",
      "27 Feb 18:16    INFO  valid result: \n",
      "ndcg@10 : 0.1308    hit@10 : 0.4746    precision@10 : 0.1159\n",
      "27 Feb 18:16    INFO  Saving current: saved/KGAT-Feb-27-2023_14-20-18.pth\n"
     ]
    },
    {
     "data": {
      "application/vnd.jupyter.widget-view+json": {
       "model_id": "3304084475974f3eb42c171e0cc86c68",
       "version_major": 2,
       "version_minor": 0
      },
      "text/plain": [
       "\u001b[1;35mTrain    16\u001b[0m:   0%|          | 0/7128 [00:00<?, ?it/s]"
      ]
     },
     "metadata": {},
     "output_type": "display_data"
    },
    {
     "ename": "KeyboardInterrupt",
     "evalue": "",
     "output_type": "error",
     "traceback": [
      "\u001b[0;31m---------------------------------------------------------------------------\u001b[0m",
      "\u001b[0;31mKeyboardInterrupt\u001b[0m                         Traceback (most recent call last)",
      "Cell \u001b[0;32mIn[3], line 11\u001b[0m\n\u001b[1;32m      9\u001b[0m \u001b[38;5;28mprint\u001b[39m(\u001b[38;5;124m'\u001b[39m\u001b[38;5;124mStarting to fit model\u001b[39m\u001b[38;5;124m'\u001b[39m)\n\u001b[1;32m     10\u001b[0m \u001b[38;5;66;03m# model training\u001b[39;00m\n\u001b[0;32m---> 11\u001b[0m best_valid_score, best_valid_result \u001b[38;5;241m=\u001b[39m \u001b[43mtrainer\u001b[49m\u001b[38;5;241;43m.\u001b[39;49m\u001b[43mfit\u001b[49m\u001b[43m(\u001b[49m\u001b[43mtrain_data\u001b[49m\u001b[43m,\u001b[49m\u001b[43m \u001b[49m\u001b[43mvalid_data\u001b[49m\u001b[43m,\u001b[49m\u001b[43m \u001b[49m\u001b[43msaved\u001b[49m\u001b[38;5;241;43m=\u001b[39;49m\u001b[38;5;28;43;01mTrue\u001b[39;49;00m\u001b[43m,\u001b[49m\u001b[43m \u001b[49m\u001b[43mshow_progress\u001b[49m\u001b[38;5;241;43m=\u001b[39;49m\u001b[38;5;28;43;01mTrue\u001b[39;49;00m\u001b[43m)\u001b[49m\n\u001b[1;32m     13\u001b[0m \u001b[38;5;28mprint\u001b[39m(\u001b[38;5;124m'\u001b[39m\u001b[38;5;124mEvaluating model\u001b[39m\u001b[38;5;124m'\u001b[39m)\n\u001b[1;32m     14\u001b[0m \u001b[38;5;66;03m# model evaluation\u001b[39;00m\n",
      "File \u001b[0;32m~/miniconda3/envs/pr/lib/python3.9/site-packages/recbole/trainer/trainer.py:439\u001b[0m, in \u001b[0;36mTrainer.fit\u001b[0;34m(self, train_data, valid_data, verbose, saved, show_progress, callback_fn)\u001b[0m\n\u001b[1;32m    436\u001b[0m \u001b[38;5;28;01mfor\u001b[39;00m epoch_idx \u001b[38;5;129;01min\u001b[39;00m \u001b[38;5;28mrange\u001b[39m(\u001b[38;5;28mself\u001b[39m\u001b[38;5;241m.\u001b[39mstart_epoch, \u001b[38;5;28mself\u001b[39m\u001b[38;5;241m.\u001b[39mepochs):\n\u001b[1;32m    437\u001b[0m     \u001b[38;5;66;03m# train\u001b[39;00m\n\u001b[1;32m    438\u001b[0m     training_start_time \u001b[38;5;241m=\u001b[39m time()\n\u001b[0;32m--> 439\u001b[0m     train_loss \u001b[38;5;241m=\u001b[39m \u001b[38;5;28;43mself\u001b[39;49m\u001b[38;5;241;43m.\u001b[39;49m\u001b[43m_train_epoch\u001b[49m\u001b[43m(\u001b[49m\n\u001b[1;32m    440\u001b[0m \u001b[43m        \u001b[49m\u001b[43mtrain_data\u001b[49m\u001b[43m,\u001b[49m\u001b[43m \u001b[49m\u001b[43mepoch_idx\u001b[49m\u001b[43m,\u001b[49m\u001b[43m \u001b[49m\u001b[43mshow_progress\u001b[49m\u001b[38;5;241;43m=\u001b[39;49m\u001b[43mshow_progress\u001b[49m\n\u001b[1;32m    441\u001b[0m \u001b[43m    \u001b[49m\u001b[43m)\u001b[49m\n\u001b[1;32m    442\u001b[0m     \u001b[38;5;28mself\u001b[39m\u001b[38;5;241m.\u001b[39mtrain_loss_dict[epoch_idx] \u001b[38;5;241m=\u001b[39m (\n\u001b[1;32m    443\u001b[0m         \u001b[38;5;28msum\u001b[39m(train_loss) \u001b[38;5;28;01mif\u001b[39;00m \u001b[38;5;28misinstance\u001b[39m(train_loss, \u001b[38;5;28mtuple\u001b[39m) \u001b[38;5;28;01melse\u001b[39;00m train_loss\n\u001b[1;32m    444\u001b[0m     )\n\u001b[1;32m    445\u001b[0m     training_end_time \u001b[38;5;241m=\u001b[39m time()\n",
      "File \u001b[0;32m~/miniconda3/envs/pr/lib/python3.9/site-packages/recbole/trainer/trainer.py:723\u001b[0m, in \u001b[0;36mKGATTrainer._train_epoch\u001b[0;34m(self, train_data, epoch_idx, loss_func, show_progress)\u001b[0m\n\u001b[1;32m    721\u001b[0m     train_data\u001b[38;5;241m.\u001b[39mknowledge_shuffle(epoch_idx)\n\u001b[1;32m    722\u001b[0m train_data\u001b[38;5;241m.\u001b[39mset_mode(KGDataLoaderState\u001b[38;5;241m.\u001b[39mRS)\n\u001b[0;32m--> 723\u001b[0m rs_total_loss \u001b[38;5;241m=\u001b[39m \u001b[38;5;28;43msuper\u001b[39;49m\u001b[43m(\u001b[49m\u001b[43m)\u001b[49m\u001b[38;5;241;43m.\u001b[39;49m\u001b[43m_train_epoch\u001b[49m\u001b[43m(\u001b[49m\n\u001b[1;32m    724\u001b[0m \u001b[43m    \u001b[49m\u001b[43mtrain_data\u001b[49m\u001b[43m,\u001b[49m\u001b[43m \u001b[49m\u001b[43mepoch_idx\u001b[49m\u001b[43m,\u001b[49m\u001b[43m \u001b[49m\u001b[43mshow_progress\u001b[49m\u001b[38;5;241;43m=\u001b[39;49m\u001b[43mshow_progress\u001b[49m\n\u001b[1;32m    725\u001b[0m \u001b[43m\u001b[49m\u001b[43m)\u001b[49m\n\u001b[1;32m    727\u001b[0m \u001b[38;5;66;03m# train kg\u001b[39;00m\n\u001b[1;32m    728\u001b[0m train_data\u001b[38;5;241m.\u001b[39mset_mode(KGDataLoaderState\u001b[38;5;241m.\u001b[39mKG)\n",
      "File \u001b[0;32m~/miniconda3/envs/pr/lib/python3.9/site-packages/recbole/trainer/trainer.py:261\u001b[0m, in \u001b[0;36mTrainer._train_epoch\u001b[0;34m(self, train_data, epoch_idx, loss_func, show_progress)\u001b[0m\n\u001b[1;32m    257\u001b[0m     total_loss \u001b[38;5;241m=\u001b[39m (\n\u001b[1;32m    258\u001b[0m         losses\u001b[38;5;241m.\u001b[39mitem() \u001b[38;5;28;01mif\u001b[39;00m total_loss \u001b[38;5;129;01mis\u001b[39;00m \u001b[38;5;28;01mNone\u001b[39;00m \u001b[38;5;28;01melse\u001b[39;00m total_loss \u001b[38;5;241m+\u001b[39m losses\u001b[38;5;241m.\u001b[39mitem()\n\u001b[1;32m    259\u001b[0m     )\n\u001b[1;32m    260\u001b[0m \u001b[38;5;28mself\u001b[39m\u001b[38;5;241m.\u001b[39m_check_nan(loss)\n\u001b[0;32m--> 261\u001b[0m \u001b[43mscaler\u001b[49m\u001b[38;5;241;43m.\u001b[39;49m\u001b[43mscale\u001b[49m\u001b[43m(\u001b[49m\u001b[43mloss\u001b[49m\u001b[43m \u001b[49m\u001b[38;5;241;43m+\u001b[39;49m\u001b[43m \u001b[49m\u001b[43msync_loss\u001b[49m\u001b[43m)\u001b[49m\u001b[38;5;241;43m.\u001b[39;49m\u001b[43mbackward\u001b[49m\u001b[43m(\u001b[49m\u001b[43m)\u001b[49m\n\u001b[1;32m    262\u001b[0m \u001b[38;5;28;01mif\u001b[39;00m \u001b[38;5;28mself\u001b[39m\u001b[38;5;241m.\u001b[39mclip_grad_norm:\n\u001b[1;32m    263\u001b[0m     clip_grad_norm_(\u001b[38;5;28mself\u001b[39m\u001b[38;5;241m.\u001b[39mmodel\u001b[38;5;241m.\u001b[39mparameters(), \u001b[38;5;241m*\u001b[39m\u001b[38;5;241m*\u001b[39m\u001b[38;5;28mself\u001b[39m\u001b[38;5;241m.\u001b[39mclip_grad_norm)\n",
      "File \u001b[0;32m~/miniconda3/envs/pr/lib/python3.9/site-packages/torch/_tensor.py:488\u001b[0m, in \u001b[0;36mTensor.backward\u001b[0;34m(self, gradient, retain_graph, create_graph, inputs)\u001b[0m\n\u001b[1;32m    478\u001b[0m \u001b[38;5;28;01mif\u001b[39;00m has_torch_function_unary(\u001b[38;5;28mself\u001b[39m):\n\u001b[1;32m    479\u001b[0m     \u001b[38;5;28;01mreturn\u001b[39;00m handle_torch_function(\n\u001b[1;32m    480\u001b[0m         Tensor\u001b[38;5;241m.\u001b[39mbackward,\n\u001b[1;32m    481\u001b[0m         (\u001b[38;5;28mself\u001b[39m,),\n\u001b[0;32m   (...)\u001b[0m\n\u001b[1;32m    486\u001b[0m         inputs\u001b[38;5;241m=\u001b[39minputs,\n\u001b[1;32m    487\u001b[0m     )\n\u001b[0;32m--> 488\u001b[0m \u001b[43mtorch\u001b[49m\u001b[38;5;241;43m.\u001b[39;49m\u001b[43mautograd\u001b[49m\u001b[38;5;241;43m.\u001b[39;49m\u001b[43mbackward\u001b[49m\u001b[43m(\u001b[49m\n\u001b[1;32m    489\u001b[0m \u001b[43m    \u001b[49m\u001b[38;5;28;43mself\u001b[39;49m\u001b[43m,\u001b[49m\u001b[43m \u001b[49m\u001b[43mgradient\u001b[49m\u001b[43m,\u001b[49m\u001b[43m \u001b[49m\u001b[43mretain_graph\u001b[49m\u001b[43m,\u001b[49m\u001b[43m \u001b[49m\u001b[43mcreate_graph\u001b[49m\u001b[43m,\u001b[49m\u001b[43m \u001b[49m\u001b[43minputs\u001b[49m\u001b[38;5;241;43m=\u001b[39;49m\u001b[43minputs\u001b[49m\n\u001b[1;32m    490\u001b[0m \u001b[43m\u001b[49m\u001b[43m)\u001b[49m\n",
      "File \u001b[0;32m~/miniconda3/envs/pr/lib/python3.9/site-packages/torch/autograd/__init__.py:197\u001b[0m, in \u001b[0;36mbackward\u001b[0;34m(tensors, grad_tensors, retain_graph, create_graph, grad_variables, inputs)\u001b[0m\n\u001b[1;32m    192\u001b[0m     retain_graph \u001b[38;5;241m=\u001b[39m create_graph\n\u001b[1;32m    194\u001b[0m \u001b[38;5;66;03m# The reason we repeat same the comment below is that\u001b[39;00m\n\u001b[1;32m    195\u001b[0m \u001b[38;5;66;03m# some Python versions print out the first line of a multi-line function\u001b[39;00m\n\u001b[1;32m    196\u001b[0m \u001b[38;5;66;03m# calls in the traceback and some print out the last line\u001b[39;00m\n\u001b[0;32m--> 197\u001b[0m \u001b[43mVariable\u001b[49m\u001b[38;5;241;43m.\u001b[39;49m\u001b[43m_execution_engine\u001b[49m\u001b[38;5;241;43m.\u001b[39;49m\u001b[43mrun_backward\u001b[49m\u001b[43m(\u001b[49m\u001b[43m  \u001b[49m\u001b[38;5;66;43;03m# Calls into the C++ engine to run the backward pass\u001b[39;49;00m\n\u001b[1;32m    198\u001b[0m \u001b[43m    \u001b[49m\u001b[43mtensors\u001b[49m\u001b[43m,\u001b[49m\u001b[43m \u001b[49m\u001b[43mgrad_tensors_\u001b[49m\u001b[43m,\u001b[49m\u001b[43m \u001b[49m\u001b[43mretain_graph\u001b[49m\u001b[43m,\u001b[49m\u001b[43m \u001b[49m\u001b[43mcreate_graph\u001b[49m\u001b[43m,\u001b[49m\u001b[43m \u001b[49m\u001b[43minputs\u001b[49m\u001b[43m,\u001b[49m\n\u001b[1;32m    199\u001b[0m \u001b[43m    \u001b[49m\u001b[43mallow_unreachable\u001b[49m\u001b[38;5;241;43m=\u001b[39;49m\u001b[38;5;28;43;01mTrue\u001b[39;49;00m\u001b[43m,\u001b[49m\u001b[43m \u001b[49m\u001b[43maccumulate_grad\u001b[49m\u001b[38;5;241;43m=\u001b[39;49m\u001b[38;5;28;43;01mTrue\u001b[39;49;00m\u001b[43m)\u001b[49m\n",
      "\u001b[0;31mKeyboardInterrupt\u001b[0m: "
     ]
    }
   ],
   "source": [
    "if train_model:\n",
    "    # model loading and initialization\n",
    "    model = KGAT(config, train_data._dataset).to(config['device'])\n",
    "    logger.info(model)\n",
    "\n",
    "    # trainer loading and initialization\n",
    "    trainer = KGATTrainer(config, model)\n",
    "\n",
    "    print('Starting to fit model')\n",
    "    # model training\n",
    "    best_valid_score, best_valid_result = trainer.fit(train_data, valid_data, saved=True, show_progress=True)\n",
    "\n",
    "    print('Evaluating model')\n",
    "    # model evaluation\n",
    "    test_result = trainer.evaluate(test_data, load_best_model=True)\n",
    "    print(test_result)"
   ]
  },
  {
   "cell_type": "markdown",
   "id": "8f8b3c10-b124-47fb-b3b6-ae902bcf0383",
   "metadata": {},
   "source": [
    "# Load best model"
   ]
  },
  {
   "cell_type": "code",
   "execution_count": null,
   "id": "0869e8b4-0502-4e8e-a1e8-526c022c1154",
   "metadata": {},
   "outputs": [],
   "source": [
    "import os\n",
    "import torch"
   ]
  },
  {
   "cell_type": "code",
   "execution_count": null,
   "id": "61d23514-39b2-47a4-9e2a-2dc6c212feb9",
   "metadata": {},
   "outputs": [],
   "source": [
    "latest_model = 'saved/%s' % os.listdir('saved')[-1]"
   ]
  },
  {
   "cell_type": "code",
   "execution_count": null,
   "id": "93c1e1ef-9159-417c-84b2-c145555a99f5",
   "metadata": {},
   "outputs": [],
   "source": [
    "latest_model"
   ]
  },
  {
   "cell_type": "code",
   "execution_count": null,
   "id": "bc1e8555-aad8-4b36-9ea0-ad2d399cfe80",
   "metadata": {},
   "outputs": [],
   "source": [
    "state_dict = torch.load(latest_model, map_location='cuda')\n",
    "model = KGAT(config, train_data._dataset).to(config['device'])\n",
    "\n",
    "model.load_state_dict(state_dict['state_dict'])"
   ]
  },
  {
   "cell_type": "code",
   "execution_count": null,
   "id": "aa4f71cf-edb8-496c-b783-3d2eb4a0494a",
   "metadata": {},
   "outputs": [],
   "source": [
    "trainer = KGATTrainer(config, model)\n",
    "test_result = trainer.evaluate(test_data, load_best_model=False)\n",
    "print(test_result)"
   ]
  },
  {
   "cell_type": "markdown",
   "id": "8d53e096-c694-4305-9f54-7c317f4a6afa",
   "metadata": {},
   "source": [
    "# Prepare for model evaluation"
   ]
  },
  {
   "cell_type": "markdown",
   "id": "31eeb586-68ba-41f5-9ed0-74029e8c92ff",
   "metadata": {},
   "source": [
    "## Create graph from attention matrix"
   ]
  },
  {
   "cell_type": "code",
   "execution_count": null,
   "id": "f6c5498c-4bff-42d2-8caf-5113456bdadc",
   "metadata": {},
   "outputs": [],
   "source": [
    "import os\n",
    "import torch\n",
    "from scipy.sparse import coo_matrix\n",
    "from scipy.sparse.csgraph import shortest_path\n",
    "import numpy as np\n",
    "from tqdm.notebook import tqdm\n",
    "import matplotlib.pyplot as plt\n",
    "from recbole.data.interaction import Interaction\n"
   ]
  },
  {
   "cell_type": "code",
   "execution_count": null,
   "id": "bee384cf-e538-4774-88ca-b5727b2d4c07",
   "metadata": {},
   "outputs": [],
   "source": [
    "def get_path(Pr, j):\n",
    "    path = [j]\n",
    "    k = j\n",
    "    while Pr[k] != -9999:\n",
    "        path.append(Pr[k])\n",
    "        k = Pr[k]\n",
    "    return path[::-1]"
   ]
  },
  {
   "cell_type": "code",
   "execution_count": null,
   "id": "cad73d03-0be7-4690-ba67-b76922b5b570",
   "metadata": {},
   "outputs": [],
   "source": [
    "from enum import Enum\n",
    "class DistanceMode(Enum):\n",
    "    Inverse=1\n",
    "    RBF=2\n",
    "    Linear=3"
   ]
  },
  {
   "cell_type": "code",
   "execution_count": null,
   "id": "64f1746c-03e1-494c-937c-9f7b2b07ea6d",
   "metadata": {},
   "outputs": [],
   "source": [
    "attention_matrix = model.A_in.cpu().coalesce()\n",
    "attention_matrix_size = attention_matrix.size()[0] # since it is square"
   ]
  },
  {
   "cell_type": "code",
   "execution_count": null,
   "id": "e0022277-6c6f-4ebc-9db9-9058b6e6dafa",
   "metadata": {},
   "outputs": [],
   "source": [
    "def create_scipy_matrix(distance_mode: str, size: int):\n",
    "    attention_values = attention_matrix.values().numpy()\n",
    "    if distance_mode == DistanceMode.Inverse:\n",
    "        attention_values = 1/attention_values\n",
    "    if distance_mode == DistanceMode.RBF:\n",
    "        attention_values = np.exp(-attention_values**2)\n",
    "    if distance_mode == DistanceMode.Linear:\n",
    "        attention_values = 1-attention_values\n",
    "    return coo_matrix((attention_values, (attention_matrix.indices()[0].numpy(), attention_matrix.indices()[1].numpy())), shape=(size,size))"
   ]
  },
  {
   "cell_type": "code",
   "execution_count": null,
   "id": "d1c381e6-84ce-48ad-8b78-6b5903df04a9",
   "metadata": {},
   "outputs": [],
   "source": [
    "graph_matrix = create_scipy_matrix(DistanceMode.RBF, attention_matrix_size)"
   ]
  },
  {
   "cell_type": "markdown",
   "id": "feb7404e-690b-472e-915a-4cba5dd4c0a9",
   "metadata": {},
   "source": [
    "## Create shortest path for k top predictions"
   ]
  },
  {
   "cell_type": "markdown",
   "id": "95c84779-624a-4633-9c97-a817a68feba5",
   "metadata": {},
   "source": [
    "<b> Important note:</b> Id's in the attention matrix are shiftet by the number of users `dataset.user_num`. So fetching an id using the token i.e. token2id results in an id not yet shifted. So to get the corresponding attention-matrix-id we need to shift items and entities!"
   ]
  },
  {
   "cell_type": "code",
   "execution_count": null,
   "id": "57bab0ad-e61f-4905-adc2-8d0a817625a9",
   "metadata": {},
   "outputs": [],
   "source": [
    "k = 10"
   ]
  },
  {
   "cell_type": "code",
   "execution_count": null,
   "id": "29643388-d71f-48ac-88bb-a2cb46733a4e",
   "metadata": {},
   "outputs": [],
   "source": [
    "historical_interactions, interaction_mask, interaction_counts = dataset.history_item_matrix()\n",
    "historical_interactions = historical_interactions.cpu().numpy()\n",
    "interaction_mask = interaction_mask.cpu().numpy()\n",
    "interaction_counts = interaction_counts.cpu().numpy()"
   ]
  },
  {
   "cell_type": "code",
   "execution_count": null,
   "id": "cc171ee2-296f-4dcb-bb1e-b430ecdda54e",
   "metadata": {},
   "outputs": [],
   "source": [
    "valid_user_ids = np.arange(1, dataset.user_num)"
   ]
  },
  {
   "cell_type": "code",
   "execution_count": null,
   "id": "fbd554fa-d168-4dee-aeab-49639170e2c8",
   "metadata": {},
   "outputs": [],
   "source": [
    "model.eval()\n",
    "user_paths = {}\n",
    "if create_paths:\n",
    "    for user_id in tqdm(valid_user_ids):\n",
    "        interaction = Interaction({\n",
    "            'user_id': torch.tensor([user_id])\n",
    "        })\n",
    "        predictions = model.full_sort_predict(interaction).detach().cpu().numpy()\n",
    "\n",
    "        # calculate top 10 recommended items\n",
    "        recommended_items = np.argsort(predictions)\n",
    "        seen_items = np.unique(historical_interactions[user_id][:interaction_counts[user_id]])\n",
    "        recommended_items = recommended_items[np.isin(recommended_items, seen_items, invert=True)]\n",
    "\n",
    "        top_k_recommended_items = np.flip(recommended_items)[:k]\n",
    "\n",
    "        # item ids in the entity list start after the users, \n",
    "        # so we have to add the number of users to the recommended indices\n",
    "        top_k_recommended_items = top_k_recommended_items + dataset.user_num\n",
    "\n",
    "        # now calculate shortest distances for current user\n",
    "        shortest_distances, predecessors = shortest_path(graph_matrix, directed=True,  return_predecessors = True, indices=[user_id])\n",
    "\n",
    "        # calculate the paths for the top k recommended items\n",
    "        paths = []\n",
    "        for item_idx in top_k_recommended_items:\n",
    "            path = get_path(predecessors[0], item_idx)\n",
    "            paths.append(np.asarray(path, dtype=int))\n",
    "        user_paths[user_id] = paths"
   ]
  },
  {
   "cell_type": "code",
   "execution_count": null,
   "id": "16d48888-0f38-44b6-ae68-7c96f3c3a3f4",
   "metadata": {},
   "outputs": [],
   "source": [
    "import pickle\n",
    "file_name = 'paths.pkl'\n",
    "if create_paths:\n",
    "    with open(file_name, 'wb') as file:\n",
    "        pickle.dump(user_paths, file)\n",
    "        print(f'Object successfully saved to \"{file_name}\"')\n",
    "else:\n",
    "    with open(file_name, 'rb') as file:\n",
    "        user_paths = pickle.load(file)\n",
    "        print(f'Object successfully loaded from \"{file_name}\"')"
   ]
  },
  {
   "cell_type": "code",
   "execution_count": null,
   "id": "0e06f54b-5e9a-4590-9866-ba996dd98b96",
   "metadata": {},
   "outputs": [],
   "source": [
    "dataset.token2id('entity_id', ['m', 'f'])"
   ]
  },
  {
   "cell_type": "code",
   "execution_count": null,
   "id": "5c12a3f4-3e88-49ad-aab0-81315f7baae2",
   "metadata": {},
   "outputs": [],
   "source": [
    "male_attention_values = graph_matrix.getcol(105729+dataset.user_num).todense()"
   ]
  },
  {
   "cell_type": "code",
   "execution_count": null,
   "id": "655a1600-9133-4d23-810a-491d737bf300",
   "metadata": {},
   "outputs": [],
   "source": [
    "a = np.asarray(male_attention_values)"
   ]
  },
  {
   "cell_type": "code",
   "execution_count": null,
   "id": "cc0b7fdd-0778-4d96-ab73-6a42dd9179bc",
   "metadata": {},
   "outputs": [],
   "source": [
    "indices, _ = np.nonzero(a)\n",
    "len(indices)"
   ]
  }
 ],
 "metadata": {
  "kernelspec": {
   "display_name": "Python 3 (ipykernel)",
   "language": "python",
   "name": "python3"
  },
  "language_info": {
   "codemirror_mode": {
    "name": "ipython",
    "version": 3
   },
   "file_extension": ".py",
   "mimetype": "text/x-python",
   "name": "python",
   "nbconvert_exporter": "python",
   "pygments_lexer": "ipython3",
   "version": "3.9.15"
  }
 },
 "nbformat": 4,
 "nbformat_minor": 5
}
