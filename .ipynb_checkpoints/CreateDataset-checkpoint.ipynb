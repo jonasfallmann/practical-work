{
 "cells": [
  {
   "cell_type": "markdown",
   "id": "62f80974-db9d-47d2-ae39-4988b2980fcb",
   "metadata": {},
   "source": [
    "# Clean Dataset and create subset for KG creation"
   ]
  },
  {
   "cell_type": "code",
   "execution_count": 62,
   "id": "b583fba6-5998-4b50-b457-c76d909486eb",
   "metadata": {},
   "outputs": [],
   "source": [
    "ratio = .75\n",
    "name = '75percent_subset'"
   ]
  },
  {
   "cell_type": "code",
   "execution_count": 63,
   "id": "66fd99f9-04dc-4b9d-9739-341e61c09bbe",
   "metadata": {},
   "outputs": [],
   "source": [
    "import pandas as pd\n",
    "import numpy as np\n",
    "import csv\n",
    "import time\n",
    "import sys\n",
    "import json\n",
    "import joblib\n",
    "import os\n",
    "\n",
    "from tqdm import tqdm"
   ]
  },
  {
   "cell_type": "code",
   "execution_count": 64,
   "id": "2acdbcd8-38f5-4b42-9804-faf6bfbe15ba",
   "metadata": {},
   "outputs": [],
   "source": [
    "users = pd.read_csv('data/lfm/users.tsv', sep='\\t')\n",
    "tracks = pd.read_csv('data/lfm/tracks.tsv', sep='\\t')\n",
    "listening_events = pd.read_csv('data/lfm/listening_events.tsv', sep='\\t')\n",
    "albums = pd.read_csv('data/lfm/albums.tsv', sep='\\t')"
   ]
  },
  {
   "cell_type": "code",
   "execution_count": 65,
   "id": "93da2146-6082-432d-bd8a-49273f8ec34a",
   "metadata": {},
   "outputs": [
    {
     "data": {
      "text/plain": [
       "4079421"
      ]
     },
     "execution_count": 65,
     "metadata": {},
     "output_type": "execute_result"
    }
   ],
   "source": [
    "len(tracks)"
   ]
  },
  {
   "cell_type": "code",
   "execution_count": 66,
   "id": "a40d2728-bcc5-4a96-a142-faba2a085e01",
   "metadata": {},
   "outputs": [
    {
     "data": {
      "text/plain": [
       "30357786"
      ]
     },
     "execution_count": 66,
     "metadata": {},
     "output_type": "execute_result"
    }
   ],
   "source": [
    "len(listening_events)"
   ]
  },
  {
   "cell_type": "markdown",
   "id": "627a2ebb-750e-4e76-b684-9441e82563b1",
   "metadata": {},
   "source": [
    "## Clean Dataset"
   ]
  },
  {
   "cell_type": "markdown",
   "id": "330cdf18-6c7a-4862-a212-bb606e351924",
   "metadata": {},
   "source": [
    "<b> Remove users which gender is not defined and whose age is not element of [10;90] </b>"
   ]
  },
  {
   "cell_type": "code",
   "execution_count": 67,
   "id": "e2b38e8a-9839-4638-bc74-5ee0e10a7686",
   "metadata": {},
   "outputs": [
    {
     "name": "stdout",
     "output_type": "stream",
     "text": [
      "Removed -5163 users\n"
     ]
    }
   ],
   "source": [
    "l = len(users)\n",
    "users = users[users.gender.isin(['m', 'f']) & (users.age >= 10) & (users.age <= 95)]\n",
    "print('Removed %s users' % (len(users) - l))"
   ]
  },
  {
   "cell_type": "markdown",
   "id": "6740a9c4-dc14-4328-9024-11b7c0cbf98e",
   "metadata": {},
   "source": [
    "<b> Remove now unassigned listening events </b>"
   ]
  },
  {
   "cell_type": "code",
   "execution_count": 68,
   "id": "29e1784f-14fb-43a3-8d45-e8719beeec2a",
   "metadata": {},
   "outputs": [
    {
     "name": "stdout",
     "output_type": "stream",
     "text": [
      "Removed -9725559 listening events\n"
     ]
    }
   ],
   "source": [
    "l = len(listening_events)\n",
    "listening_events = listening_events[listening_events.user_id.isin(users.user_id)]\n",
    "print('Removed %s listening events' % (len(listening_events) - l))"
   ]
  },
  {
   "cell_type": "markdown",
   "id": "41b7f9ae-a355-4d2f-85b6-a8e0d5cc1706",
   "metadata": {},
   "source": [
    "<b> remove duplicate listening events </b>"
   ]
  },
  {
   "cell_type": "code",
   "execution_count": 69,
   "id": "fa1d288a-4368-4246-aebd-83b94717c915",
   "metadata": {},
   "outputs": [
    {
     "name": "stdout",
     "output_type": "stream",
     "text": [
      "-10636671\n"
     ]
    }
   ],
   "source": [
    "listening_events = listening_events.sort_values('timestamp')\n",
    "old_length_le = len(listening_events)\n",
    "listening_events = listening_events.drop_duplicates(subset=['user_id', 'track_id'])\n",
    "print(len(listening_events)-old_length_le)"
   ]
  },
  {
   "cell_type": "markdown",
   "id": "17affe50-dce6-4a07-9994-b34d6ce7a961",
   "metadata": {},
   "source": [
    "<b> 10-core filtering </b>"
   ]
  },
  {
   "cell_type": "code",
   "execution_count": 70,
   "id": "06c65f4d-ad49-43da-bc04-6bed409b3ebf",
   "metadata": {},
   "outputs": [
    {
     "name": "stdout",
     "output_type": "stream",
     "text": [
      "Records after item pass:  6213108\n",
      "Records after user pass:  6212621\n",
      "Records after item pass:  6212421\n",
      "Records after user pass:  6212421\n",
      "Records after item pass:  6212421\n",
      "Records after user pass:  6212421\n",
      "Exiting...\n"
     ]
    }
   ],
   "source": [
    "n_core = 5\n",
    "while True:\n",
    "    start_number = len(listening_events)\n",
    "\n",
    "    # Item pass\n",
    "    item_counts = listening_events.track_id.value_counts()\n",
    "    item_above = set(item_counts[item_counts >= n_core].index)\n",
    "    listening_events = listening_events[listening_events.track_id.isin(item_above)]\n",
    "    print('Records after item pass: ', len(listening_events))\n",
    "\n",
    "    # User pass\n",
    "    user_counts = listening_events.user_id.value_counts()\n",
    "    user_above = set(user_counts[user_counts >= n_core].index)\n",
    "    listening_events = listening_events[listening_events.user_id.isin(user_above)]\n",
    "    print('Records after user pass: ', len(listening_events))\n",
    "\n",
    "    if len(listening_events) == start_number:\n",
    "        print('Exiting...')\n",
    "        break"
   ]
  },
  {
   "cell_type": "code",
   "execution_count": 71,
   "id": "6cd2f9bd-2b67-4d7a-aa16-4b1bbc005b07",
   "metadata": {},
   "outputs": [],
   "source": [
    "users = users[users.user_id.isin(set(listening_events.user_id))]\n",
    "tracks = tracks[tracks.track_id.isin(set(listening_events.track_id))]"
   ]
  },
  {
   "cell_type": "code",
   "execution_count": 72,
   "id": "db6c3072-b31c-4807-bc3c-5dbd153e3cd4",
   "metadata": {},
   "outputs": [
    {
     "data": {
      "text/html": [
       "<div>\n",
       "<style scoped>\n",
       "    .dataframe tbody tr th:only-of-type {\n",
       "        vertical-align: middle;\n",
       "    }\n",
       "\n",
       "    .dataframe tbody tr th {\n",
       "        vertical-align: top;\n",
       "    }\n",
       "\n",
       "    .dataframe thead th {\n",
       "        text-align: right;\n",
       "    }\n",
       "</style>\n",
       "<table border=\"1\" class=\"dataframe\">\n",
       "  <thead>\n",
       "    <tr style=\"text-align: right;\">\n",
       "      <th></th>\n",
       "      <th>user_id</th>\n",
       "      <th>country</th>\n",
       "      <th>age</th>\n",
       "      <th>gender</th>\n",
       "      <th>creation_time</th>\n",
       "    </tr>\n",
       "  </thead>\n",
       "  <tbody>\n",
       "    <tr>\n",
       "      <th>7814</th>\n",
       "      <td>28457</td>\n",
       "      <td>BR</td>\n",
       "      <td>21</td>\n",
       "      <td>m</td>\n",
       "      <td>2008-12-30 05:46:26</td>\n",
       "    </tr>\n",
       "  </tbody>\n",
       "</table>\n",
       "</div>"
      ],
      "text/plain": [
       "      user_id country  age gender        creation_time\n",
       "7814    28457      BR   21      m  2008-12-30 05:46:26"
      ]
     },
     "execution_count": 72,
     "metadata": {},
     "output_type": "execute_result"
    }
   ],
   "source": [
    "users.sample(1)"
   ]
  },
  {
   "cell_type": "markdown",
   "id": "8b19ddd2-b3cc-46e6-9b7b-d37ec55c8c4e",
   "metadata": {},
   "source": [
    "## Create a subset given a ratio"
   ]
  },
  {
   "cell_type": "code",
   "execution_count": 73,
   "id": "c8c51aea-fa86-45a1-b684-062ba3bd8b69",
   "metadata": {},
   "outputs": [
    {
     "data": {
      "text/plain": [
       "278646"
      ]
     },
     "execution_count": 73,
     "metadata": {},
     "output_type": "execute_result"
    }
   ],
   "source": [
    "n = ratio*len(tracks)\n",
    "n = int(np.ceil(n))\n",
    "n"
   ]
  },
  {
   "cell_type": "code",
   "execution_count": 74,
   "id": "2011fd0a-15a6-4e1f-9087-54d07ac8f2df",
   "metadata": {},
   "outputs": [
    {
     "data": {
      "text/html": [
       "<div>\n",
       "<style scoped>\n",
       "    .dataframe tbody tr th:only-of-type {\n",
       "        vertical-align: middle;\n",
       "    }\n",
       "\n",
       "    .dataframe tbody tr th {\n",
       "        vertical-align: top;\n",
       "    }\n",
       "\n",
       "    .dataframe thead th {\n",
       "        text-align: right;\n",
       "    }\n",
       "</style>\n",
       "<table border=\"1\" class=\"dataframe\">\n",
       "  <thead>\n",
       "    <tr style=\"text-align: right;\">\n",
       "      <th></th>\n",
       "      <th>track_id</th>\n",
       "      <th>artist</th>\n",
       "      <th>track</th>\n",
       "    </tr>\n",
       "  </thead>\n",
       "  <tbody>\n",
       "    <tr>\n",
       "      <th>2915403</th>\n",
       "      <td>36009223</td>\n",
       "      <td>Far From Alaska</td>\n",
       "      <td>Slug</td>\n",
       "    </tr>\n",
       "    <tr>\n",
       "      <th>1666621</th>\n",
       "      <td>21227870</td>\n",
       "      <td>Black Light Burns</td>\n",
       "      <td>It's Good To Be Gold</td>\n",
       "    </tr>\n",
       "    <tr>\n",
       "      <th>2498943</th>\n",
       "      <td>31113571</td>\n",
       "      <td>Eydie Gormé</td>\n",
       "      <td>Piel Canela</td>\n",
       "    </tr>\n",
       "    <tr>\n",
       "      <th>3071783</th>\n",
       "      <td>37868019</td>\n",
       "      <td>Oakwood Station</td>\n",
       "      <td>Summer Breeze Memories</td>\n",
       "    </tr>\n",
       "    <tr>\n",
       "      <th>2011736</th>\n",
       "      <td>25351420</td>\n",
       "      <td>LANY</td>\n",
       "      <td>Made in Hollywood</td>\n",
       "    </tr>\n",
       "  </tbody>\n",
       "</table>\n",
       "</div>"
      ],
      "text/plain": [
       "         track_id             artist                   track\n",
       "2915403  36009223    Far From Alaska                    Slug\n",
       "1666621  21227870  Black Light Burns    It's Good To Be Gold\n",
       "2498943  31113571        Eydie Gormé             Piel Canela\n",
       "3071783  37868019    Oakwood Station  Summer Breeze Memories\n",
       "2011736  25351420               LANY       Made in Hollywood"
      ]
     },
     "execution_count": 74,
     "metadata": {},
     "output_type": "execute_result"
    }
   ],
   "source": [
    "tracks_subset = tracks.sample(n)\n",
    "tracks_subset.to_csv('data/lfm/%s_tracks.tsv' % name, sep='\\t', index=False)\n",
    "tracks_subset.head()"
   ]
  },
  {
   "cell_type": "code",
   "execution_count": 75,
   "id": "5a825a03-2260-4b84-871e-8bee7c55649e",
   "metadata": {},
   "outputs": [
    {
     "data": {
      "text/html": [
       "<div>\n",
       "<style scoped>\n",
       "    .dataframe tbody tr th:only-of-type {\n",
       "        vertical-align: middle;\n",
       "    }\n",
       "\n",
       "    .dataframe tbody tr th {\n",
       "        vertical-align: top;\n",
       "    }\n",
       "\n",
       "    .dataframe thead th {\n",
       "        text-align: right;\n",
       "    }\n",
       "</style>\n",
       "<table border=\"1\" class=\"dataframe\">\n",
       "  <thead>\n",
       "    <tr style=\"text-align: right;\">\n",
       "      <th></th>\n",
       "      <th>user_id</th>\n",
       "      <th>track_id</th>\n",
       "      <th>album_id</th>\n",
       "      <th>timestamp</th>\n",
       "    </tr>\n",
       "  </thead>\n",
       "  <tbody>\n",
       "    <tr>\n",
       "      <th>2</th>\n",
       "      <td>16026</td>\n",
       "      <td>40012596</td>\n",
       "      <td>18558010</td>\n",
       "      <td>2020-01-01 00:00:01</td>\n",
       "    </tr>\n",
       "    <tr>\n",
       "      <th>14</th>\n",
       "      <td>14807</td>\n",
       "      <td>21889387</td>\n",
       "      <td>16391976</td>\n",
       "      <td>2020-01-01 00:00:03</td>\n",
       "    </tr>\n",
       "    <tr>\n",
       "      <th>13</th>\n",
       "      <td>23625</td>\n",
       "      <td>16551011</td>\n",
       "      <td>9087976</td>\n",
       "      <td>2020-01-01 00:00:03</td>\n",
       "    </tr>\n",
       "    <tr>\n",
       "      <th>12</th>\n",
       "      <td>24008</td>\n",
       "      <td>39377924</td>\n",
       "      <td>19382688</td>\n",
       "      <td>2020-01-01 00:00:03</td>\n",
       "    </tr>\n",
       "    <tr>\n",
       "      <th>16</th>\n",
       "      <td>53114</td>\n",
       "      <td>17002235</td>\n",
       "      <td>19089164</td>\n",
       "      <td>2020-01-01 00:00:04</td>\n",
       "    </tr>\n",
       "    <tr>\n",
       "      <th>...</th>\n",
       "      <td>...</td>\n",
       "      <td>...</td>\n",
       "      <td>...</td>\n",
       "      <td>...</td>\n",
       "    </tr>\n",
       "    <tr>\n",
       "      <th>30357730</th>\n",
       "      <td>27180</td>\n",
       "      <td>30303658</td>\n",
       "      <td>7821795</td>\n",
       "      <td>2020-03-20 12:59:50</td>\n",
       "    </tr>\n",
       "    <tr>\n",
       "      <th>30357760</th>\n",
       "      <td>865</td>\n",
       "      <td>17367418</td>\n",
       "      <td>22700688</td>\n",
       "      <td>2020-03-20 12:59:55</td>\n",
       "    </tr>\n",
       "    <tr>\n",
       "      <th>30357779</th>\n",
       "      <td>59921</td>\n",
       "      <td>42135253</td>\n",
       "      <td>21202843</td>\n",
       "      <td>2020-03-20 12:59:58</td>\n",
       "    </tr>\n",
       "    <tr>\n",
       "      <th>30357776</th>\n",
       "      <td>48354</td>\n",
       "      <td>24730041</td>\n",
       "      <td>13118529</td>\n",
       "      <td>2020-03-20 12:59:58</td>\n",
       "    </tr>\n",
       "    <tr>\n",
       "      <th>30357782</th>\n",
       "      <td>56131</td>\n",
       "      <td>35553012</td>\n",
       "      <td>22154568</td>\n",
       "      <td>2020-03-20 12:59:59</td>\n",
       "    </tr>\n",
       "  </tbody>\n",
       "</table>\n",
       "<p>4636768 rows × 4 columns</p>\n",
       "</div>"
      ],
      "text/plain": [
       "          user_id  track_id  album_id            timestamp\n",
       "2           16026  40012596  18558010  2020-01-01 00:00:01\n",
       "14          14807  21889387  16391976  2020-01-01 00:00:03\n",
       "13          23625  16551011   9087976  2020-01-01 00:00:03\n",
       "12          24008  39377924  19382688  2020-01-01 00:00:03\n",
       "16          53114  17002235  19089164  2020-01-01 00:00:04\n",
       "...           ...       ...       ...                  ...\n",
       "30357730    27180  30303658   7821795  2020-03-20 12:59:50\n",
       "30357760      865  17367418  22700688  2020-03-20 12:59:55\n",
       "30357779    59921  42135253  21202843  2020-03-20 12:59:58\n",
       "30357776    48354  24730041  13118529  2020-03-20 12:59:58\n",
       "30357782    56131  35553012  22154568  2020-03-20 12:59:59\n",
       "\n",
       "[4636768 rows x 4 columns]"
      ]
     },
     "execution_count": 75,
     "metadata": {},
     "output_type": "execute_result"
    }
   ],
   "source": [
    "listening_events_subset = listening_events[listening_events['track_id'].isin(tracks_subset['track_id'])]\n",
    "listening_events_subset.to_csv('data/lfm/%s_listening_events.tsv' % name, sep='\\t', index=False)\n",
    "listening_events_subset"
   ]
  },
  {
   "cell_type": "code",
   "execution_count": 76,
   "id": "e2ffb667-e62a-43a8-bf45-5c5d5845ab9f",
   "metadata": {},
   "outputs": [
    {
     "data": {
      "text/html": [
       "<div>\n",
       "<style scoped>\n",
       "    .dataframe tbody tr th:only-of-type {\n",
       "        vertical-align: middle;\n",
       "    }\n",
       "\n",
       "    .dataframe tbody tr th {\n",
       "        vertical-align: top;\n",
       "    }\n",
       "\n",
       "    .dataframe thead th {\n",
       "        text-align: right;\n",
       "    }\n",
       "</style>\n",
       "<table border=\"1\" class=\"dataframe\">\n",
       "  <thead>\n",
       "    <tr style=\"text-align: right;\">\n",
       "      <th></th>\n",
       "      <th>user_id</th>\n",
       "      <th>country</th>\n",
       "      <th>age</th>\n",
       "      <th>gender</th>\n",
       "      <th>creation_time</th>\n",
       "    </tr>\n",
       "  </thead>\n",
       "  <tbody>\n",
       "    <tr>\n",
       "      <th>0</th>\n",
       "      <td>2</td>\n",
       "      <td>UK</td>\n",
       "      <td>35</td>\n",
       "      <td>m</td>\n",
       "      <td>2002-10-29 01:00:00</td>\n",
       "    </tr>\n",
       "    <tr>\n",
       "      <th>2</th>\n",
       "      <td>14</td>\n",
       "      <td>UK</td>\n",
       "      <td>48</td>\n",
       "      <td>m</td>\n",
       "      <td>2003-02-18 21:44:13</td>\n",
       "    </tr>\n",
       "    <tr>\n",
       "      <th>3</th>\n",
       "      <td>15</td>\n",
       "      <td>US</td>\n",
       "      <td>28</td>\n",
       "      <td>m</td>\n",
       "      <td>2003-02-24 03:30:33</td>\n",
       "    </tr>\n",
       "    <tr>\n",
       "      <th>7</th>\n",
       "      <td>36</td>\n",
       "      <td>UK</td>\n",
       "      <td>29</td>\n",
       "      <td>m</td>\n",
       "      <td>2003-03-27 12:17:12</td>\n",
       "    </tr>\n",
       "    <tr>\n",
       "      <th>8</th>\n",
       "      <td>42</td>\n",
       "      <td>RU</td>\n",
       "      <td>30</td>\n",
       "      <td>m</td>\n",
       "      <td>2003-04-10 01:07:48</td>\n",
       "    </tr>\n",
       "    <tr>\n",
       "      <th>...</th>\n",
       "      <td>...</td>\n",
       "      <td>...</td>\n",
       "      <td>...</td>\n",
       "      <td>...</td>\n",
       "      <td>...</td>\n",
       "    </tr>\n",
       "    <tr>\n",
       "      <th>15242</th>\n",
       "      <td>119397</td>\n",
       "      <td>SK</td>\n",
       "      <td>31</td>\n",
       "      <td>m</td>\n",
       "      <td>2012-05-25 17:41:55</td>\n",
       "    </tr>\n",
       "    <tr>\n",
       "      <th>15243</th>\n",
       "      <td>119516</td>\n",
       "      <td>RU</td>\n",
       "      <td>19</td>\n",
       "      <td>m</td>\n",
       "      <td>2012-05-26 10:23:12</td>\n",
       "    </tr>\n",
       "    <tr>\n",
       "      <th>15252</th>\n",
       "      <td>119957</td>\n",
       "      <td>PL</td>\n",
       "      <td>16</td>\n",
       "      <td>f</td>\n",
       "      <td>2012-05-28 19:59:37</td>\n",
       "    </tr>\n",
       "    <tr>\n",
       "      <th>15254</th>\n",
       "      <td>120095</td>\n",
       "      <td>RU</td>\n",
       "      <td>20</td>\n",
       "      <td>f</td>\n",
       "      <td>2012-05-29 21:19:14</td>\n",
       "    </tr>\n",
       "    <tr>\n",
       "      <th>15256</th>\n",
       "      <td>120319</td>\n",
       "      <td>BY</td>\n",
       "      <td>19</td>\n",
       "      <td>f</td>\n",
       "      <td>2012-07-19 22:07:27</td>\n",
       "    </tr>\n",
       "  </tbody>\n",
       "</table>\n",
       "<p>9724 rows × 5 columns</p>\n",
       "</div>"
      ],
      "text/plain": [
       "       user_id country  age gender        creation_time\n",
       "0            2      UK   35      m  2002-10-29 01:00:00\n",
       "2           14      UK   48      m  2003-02-18 21:44:13\n",
       "3           15      US   28      m  2003-02-24 03:30:33\n",
       "7           36      UK   29      m  2003-03-27 12:17:12\n",
       "8           42      RU   30      m  2003-04-10 01:07:48\n",
       "...        ...     ...  ...    ...                  ...\n",
       "15242   119397      SK   31      m  2012-05-25 17:41:55\n",
       "15243   119516      RU   19      m  2012-05-26 10:23:12\n",
       "15252   119957      PL   16      f  2012-05-28 19:59:37\n",
       "15254   120095      RU   20      f  2012-05-29 21:19:14\n",
       "15256   120319      BY   19      f  2012-07-19 22:07:27\n",
       "\n",
       "[9724 rows x 5 columns]"
      ]
     },
     "execution_count": 76,
     "metadata": {},
     "output_type": "execute_result"
    }
   ],
   "source": [
    "users_subset = users[users['user_id'].isin(listening_events_subset['user_id'].unique())]\n",
    "users_subset.to_csv('data/lfm/%s_users.tsv' % name, sep='\\t', index=False)\n",
    "users_subset"
   ]
  },
  {
   "cell_type": "code",
   "execution_count": 77,
   "id": "5fcf537c-77a1-4c85-b73b-0bb0d7faffa7",
   "metadata": {},
   "outputs": [
    {
     "data": {
      "text/html": [
       "<div>\n",
       "<style scoped>\n",
       "    .dataframe tbody tr th:only-of-type {\n",
       "        vertical-align: middle;\n",
       "    }\n",
       "\n",
       "    .dataframe tbody tr th {\n",
       "        vertical-align: top;\n",
       "    }\n",
       "\n",
       "    .dataframe thead th {\n",
       "        text-align: right;\n",
       "    }\n",
       "</style>\n",
       "<table border=\"1\" class=\"dataframe\">\n",
       "  <thead>\n",
       "    <tr style=\"text-align: right;\">\n",
       "      <th></th>\n",
       "      <th>album_id</th>\n",
       "      <th>artist</th>\n",
       "      <th>album</th>\n",
       "    </tr>\n",
       "  </thead>\n",
       "  <tbody>\n",
       "    <tr>\n",
       "      <th>2</th>\n",
       "      <td>167</td>\n",
       "      <td>!!!</td>\n",
       "      <td>NaN</td>\n",
       "    </tr>\n",
       "    <tr>\n",
       "      <th>197</th>\n",
       "      <td>4152</td>\n",
       "      <td>Toss A Coin To Your Witcher Female Cover by Ra...</td>\n",
       "      <td>NaN</td>\n",
       "    </tr>\n",
       "    <tr>\n",
       "      <th>202</th>\n",
       "      <td>4323</td>\n",
       "      <td>Weird Al Yankovic</td>\n",
       "      <td>NaN</td>\n",
       "    </tr>\n",
       "    <tr>\n",
       "      <th>403</th>\n",
       "      <td>7963</td>\n",
       "      <td>$ubjectz</td>\n",
       "      <td>NaN</td>\n",
       "    </tr>\n",
       "    <tr>\n",
       "      <th>405</th>\n",
       "      <td>7982</td>\n",
       "      <td>$uicideboy$</td>\n",
       "      <td>NaN</td>\n",
       "    </tr>\n",
       "    <tr>\n",
       "      <th>...</th>\n",
       "      <td>...</td>\n",
       "      <td>...</td>\n",
       "      <td>...</td>\n",
       "    </tr>\n",
       "    <tr>\n",
       "      <th>1676876</th>\n",
       "      <td>24227802</td>\n",
       "      <td>방탄소년단</td>\n",
       "      <td>화양연화 pt.2</td>\n",
       "    </tr>\n",
       "    <tr>\n",
       "      <th>1676912</th>\n",
       "      <td>24229701</td>\n",
       "      <td>DIR EN GREY</td>\n",
       "      <td>ＡＲＣＨＥ Disc 1</td>\n",
       "    </tr>\n",
       "    <tr>\n",
       "      <th>1676924</th>\n",
       "      <td>24230497</td>\n",
       "      <td>the GazettE</td>\n",
       "      <td>ＤＯＧＭＡ</td>\n",
       "    </tr>\n",
       "    <tr>\n",
       "      <th>1676954</th>\n",
       "      <td>24232012</td>\n",
       "      <td>DIR EN GREY</td>\n",
       "      <td>ＭＡＣＡＢＲＥ</td>\n",
       "    </tr>\n",
       "    <tr>\n",
       "      <th>1676986</th>\n",
       "      <td>24234395</td>\n",
       "      <td>DIR EN GREY</td>\n",
       "      <td>ＶＵＬＧＡＲ</td>\n",
       "    </tr>\n",
       "  </tbody>\n",
       "</table>\n",
       "<p>250371 rows × 3 columns</p>\n",
       "</div>"
      ],
      "text/plain": [
       "         album_id                                             artist  \\\n",
       "2             167                                                !!!   \n",
       "197          4152  Toss A Coin To Your Witcher Female Cover by Ra...   \n",
       "202          4323                                  Weird Al Yankovic   \n",
       "403          7963                                           $ubjectz   \n",
       "405          7982                                        $uicideboy$   \n",
       "...           ...                                                ...   \n",
       "1676876  24227802                                              방탄소년단   \n",
       "1676912  24229701                                        DIR EN GREY   \n",
       "1676924  24230497                                        the GazettE   \n",
       "1676954  24232012                                        DIR EN GREY   \n",
       "1676986  24234395                                        DIR EN GREY   \n",
       "\n",
       "                album  \n",
       "2                 NaN  \n",
       "197               NaN  \n",
       "202               NaN  \n",
       "403               NaN  \n",
       "405               NaN  \n",
       "...               ...  \n",
       "1676876     화양연화 pt.2  \n",
       "1676912  ＡＲＣＨＥ Disc 1  \n",
       "1676924         ＤＯＧＭＡ  \n",
       "1676954       ＭＡＣＡＢＲＥ  \n",
       "1676986        ＶＵＬＧＡＲ  \n",
       "\n",
       "[250371 rows x 3 columns]"
      ]
     },
     "execution_count": 77,
     "metadata": {},
     "output_type": "execute_result"
    }
   ],
   "source": [
    "albums_subset = albums[albums['album_id'].isin(listening_events_subset['album_id'].unique())]\n",
    "albums_subset.to_csv('data/lfm/%s_albums.tsv' % name, sep='\\t', index=False)\n",
    "albums_subset"
   ]
  },
  {
   "cell_type": "markdown",
   "id": "6cd4ea31-ecc2-477f-8c52-8279c4152fd7",
   "metadata": {},
   "source": [
    "# Create KG files"
   ]
  },
  {
   "cell_type": "code",
   "execution_count": 78,
   "id": "0375c041-0263-4ee6-bb64-a3c5ebd68cad",
   "metadata": {},
   "outputs": [],
   "source": [
    "#csv.field_size_limit(sys.maxsize)"
   ]
  },
  {
   "cell_type": "markdown",
   "id": "1cbafa10-e8d6-455c-98c8-d185e736259a",
   "metadata": {},
   "source": [
    "## Entities\n",
    "\n",
    "- user\n",
    "- artist\n",
    "- album\n",
    "- track\n",
    "- genre\n",
    "\n",
    "**Additional information:**\n",
    "- gender\n",
    "- country"
   ]
  },
  {
   "cell_type": "markdown",
   "id": "f1c251f4-1215-473d-8af1-e67630ddcb4d",
   "metadata": {},
   "source": [
    "#### Users"
   ]
  },
  {
   "cell_type": "code",
   "execution_count": 79,
   "id": "67cc3a20-73ba-4e07-bcac-bb98b7f01d15",
   "metadata": {},
   "outputs": [],
   "source": [
    "path = 'data/lfm'\n",
    "path_prefix = 'data/lfm/intermediate_kg'\n",
    "read_path_prefix = 'data/lfm/%s' % name\n",
    "write_path_prefix = 'data/lfm/intermediate_kg/%s' % name"
   ]
  },
  {
   "cell_type": "code",
   "execution_count": 80,
   "id": "62e48cc1-1a7a-4ef1-a6f9-92a0b2951a99",
   "metadata": {},
   "outputs": [
    {
     "name": "stderr",
     "output_type": "stream",
     "text": [
      "9725it [00:00, 528349.09it/s]\n"
     ]
    },
    {
     "name": "stdout",
     "output_type": "stream",
     "text": [
      "['user_id', 'country', 'age', 'gender', 'creation_time']\n",
      "done.\n"
     ]
    }
   ],
   "source": [
    "# user_id, country, age, gender, creation_time\n",
    "with open(\"%s_users.tsv\" % read_path_prefix, \"r\", encoding='utf-8') as data, open(\"%s_users.txt\" % write_path_prefix, \"w\") as f:\n",
    "    datareader = csv.reader(data, quoting=csv.QUOTE_NONE)\n",
    "    \n",
    "    for i, row in tqdm(enumerate(datareader)):\n",
    "        if i == 0:\n",
    "            header = row[0].split(sep=\"\\t\")\n",
    "        if i != 0:\n",
    "            entry = row[0].split(sep=\"\\t\")\n",
    "            f.writelines(\"u\" + entry[0] + \"\\t\" + entry[1] + \"\\t\" + entry[2] + \"\\t\" + entry[3] + \"\\n\")\n",
    "            \n",
    "time.sleep(0.5)            \n",
    "\n",
    "print(header)\n",
    "print(\"done.\")"
   ]
  },
  {
   "cell_type": "markdown",
   "id": "7a3f2123-983f-42cc-b82c-98af5bc2f8ca",
   "metadata": {},
   "source": [
    "#### Artists"
   ]
  },
  {
   "cell_type": "code",
   "execution_count": 81,
   "id": "b51d7242-8376-474a-ab36-98608fcc60ab",
   "metadata": {},
   "outputs": [],
   "source": [
    "# artist_id, artist_name\n",
    "#with open(\"data/artists.tsv\", \"r\", encoding='utf-8') as data, open(\"data/kg/artists.txt\", \"w\") as f:\n",
    "#    datareader = csv.reader(data, quoting=csv.QUOTE_NONE)\n",
    "#    \n",
    "#    for i, row in tqdm(enumerate(datareader)):\n",
    "#        if i == 0:\n",
    "#            header = row[0].split(sep=\"\\t\")\n",
    "#        if i != 0:\n",
    "#            entry = row[0].split(sep=\"\\t\")\n",
    "#            f.writelines(\"a\" + entry[0] + \"\\t\" + str(entry[1].encode(\"utf-8\")) + \"\\n\")\n",
    "#            \n",
    "#time.sleep(0.5)            \n",
    "#\n",
    "#print(header)\n",
    "#print(\"done.\")"
   ]
  },
  {
   "cell_type": "markdown",
   "id": "ef3e0948-660a-4d9b-9b2b-a02e5b40cf44",
   "metadata": {},
   "source": [
    "#### Albums"
   ]
  },
  {
   "cell_type": "code",
   "execution_count": 82,
   "id": "0329603c-c731-49de-ab41-580ce447cd0f",
   "metadata": {},
   "outputs": [],
   "source": [
    "# album_id, album_name, artist_name\n",
    "#with open(\"data/albums.tsv\", \"r\", encoding='utf-8') as data, open(\"data/kg/albums.txt\", \"w\") as f:\n",
    "#    datareader = csv.reader(data, quoting=csv.QUOTE_NONE)\n",
    "#    \n",
    "#    for i, row in tqdm(enumerate(datareader)):\n",
    "#        if i == 0:\n",
    "#            header = row[0].split(sep=\"\\t\")\n",
    "#        if i != 0:\n",
    "#            entry = row[0].split(sep=\"\\t\")\n",
    "#            f.writelines(\"b\" + entry[0] + \"\\t\" + str(entry[1].encode(\"utf-8\")) +  \"\\n\")\n",
    "#            \n",
    "#time.sleep(0.5)\n",
    "#\n",
    "#print(header)\n",
    "#print(\"done.\")"
   ]
  },
  {
   "cell_type": "markdown",
   "id": "e29a3aaf-7279-44d1-8955-7347f2f4bb08",
   "metadata": {},
   "source": [
    "#### Tracks"
   ]
  },
  {
   "cell_type": "code",
   "execution_count": 83,
   "id": "ef32eee1-6204-40b4-838b-7004064c68fa",
   "metadata": {},
   "outputs": [
    {
     "name": "stderr",
     "output_type": "stream",
     "text": [
      "278647it [00:00, 311645.27it/s]\n"
     ]
    },
    {
     "name": "stdout",
     "output_type": "stream",
     "text": [
      "['track_id', 'artist', 'track']\n",
      "done.\n",
      "783\n"
     ]
    }
   ],
   "source": [
    "# track_id, artist_name, track_name\n",
    "track_complete_dict = {}\n",
    "counter = 0\n",
    "with open(\"%s_tracks.tsv\" % read_path_prefix, \"r\", encoding='utf-8') as data, open(\"%s_tracks.txt\" % write_path_prefix, \"w\") as f:\n",
    "    datareader = csv.reader(data, quoting=csv.QUOTE_NONE)\n",
    "    \n",
    "    for i, row in tqdm(enumerate(datareader)):\n",
    "        if i == 0:\n",
    "            header = row[0].split(sep=\"\\t\")\n",
    "        if i != 0:\n",
    "            entry = row[0].split(sep=\"\\t\")\n",
    "            try:\n",
    "                f.writelines(\"t\" + entry[0] + \"\\t\" + str(entry[2].encode(\"utf-8\")) + \"\\n\")\n",
    "                track_id = \"t\" + entry[0]\n",
    "                if track_id not in track_complete_dict:\n",
    "                    track_complete_dict[track_id] = 0\n",
    "            except:\n",
    "                f.writelines(\"t\" + entry[0] + \"\\t\" + \"???\" + \"\\n\")\n",
    "                counter += 1\n",
    "            \n",
    "time.sleep(0.5)            \n",
    "\n",
    "print(header)\n",
    "print(\"done.\")\n",
    "print(counter)"
   ]
  },
  {
   "cell_type": "code",
   "execution_count": 84,
   "id": "b6178309-681d-4756-b781-31547fe1b5d6",
   "metadata": {},
   "outputs": [
    {
     "name": "stdout",
     "output_type": "stream",
     "text": [
      "277863\n"
     ]
    }
   ],
   "source": [
    "print(len(list(track_complete_dict.keys())))"
   ]
  },
  {
   "cell_type": "markdown",
   "id": "8e46b64f-f4b2-4eaf-a206-be940be6f0bc",
   "metadata": {},
   "source": [
    "#### Genres"
   ]
  },
  {
   "cell_type": "code",
   "execution_count": 85,
   "id": "a904251d-08bc-442e-ae7f-f04c1d986918",
   "metadata": {},
   "outputs": [],
   "source": [
    "#counter = 0\n",
    "#with open(\"data/micro_genre_tags.json\", \"r\", encoding='utf-8') as data, open(\"data/kg/genres.txt\", \"w\") as f:\n",
    "#    for line in tqdm(data):\n",
    "#        try:\n",
    "#            entry = json.loads(line)\n",
    "#            track_name = entry['_id']['track']\n",
    "#            artist_name = entry['_id']['artist']\n",
    "#            main_genre = list(entry['tags'].keys())[0]\n",
    "#            genres = \",\".join(list(entry['tags'].keys()))\n",
    "#\n",
    "#            f.writelines(track_name + \"\\t\" + artist_name + \"\\t\" + main_genre + \"\\t\" + genres + \"\\n\")\n",
    "#        except:\n",
    "#            counter += 1\n",
    "#            continue\n",
    "#            \n",
    "#time.sleep(0.5)            \n",
    "#\n",
    "#print(header)\n",
    "#print(\"done.\")\n",
    "#print(counter)"
   ]
  },
  {
   "cell_type": "markdown",
   "id": "6fdae85e-6810-4fab-be5b-94c6704b0194",
   "metadata": {},
   "source": [
    "#### Gender & Country"
   ]
  },
  {
   "cell_type": "code",
   "execution_count": 86,
   "id": "385526eb-076c-4676-9084-68910108285d",
   "metadata": {},
   "outputs": [
    {
     "name": "stderr",
     "output_type": "stream",
     "text": [
      "9724it [00:00, 1137256.00it/s]\n"
     ]
    },
    {
     "name": "stdout",
     "output_type": "stream",
     "text": [
      "done.\n",
      "9722\n",
      "9600\n"
     ]
    }
   ],
   "source": [
    "gdict = {}\n",
    "cdict = {}\n",
    "\n",
    "gcounter = 0\n",
    "ccounter = 0\n",
    "\n",
    "with open(\"%s_users.txt\" % write_path_prefix, \"r\") as data,\\\n",
    "open(\"%s/entities/%s_gender.txt\"  % (path_prefix, name), \"w\") as f,\\\n",
    "open(\"%s/entities/%s_country.txt\" % (path_prefix, name), \"w\") as f2:\n",
    "    datareader = csv.reader(data)\n",
    "    \n",
    "    for i, row in tqdm(enumerate(datareader)):\n",
    "        entry = row[0].split(sep=\"\\t\")\n",
    "        if entry[3] == \"\" or entry[3] in gdict:\n",
    "            gcounter += 1\n",
    "        else:\n",
    "            gdict[entry[3]] = 0\n",
    "            f.writelines(entry[3] + \"\\n\")\n",
    "            \n",
    "        if entry[1] == \"\" or entry[1] in cdict:\n",
    "            ccounter += 1\n",
    "        else:\n",
    "            cdict[entry[1]] = 0\n",
    "            f2.writelines(entry[1] + \"\\n\")\n",
    "            \n",
    "time.sleep(0.5)\n",
    "            \n",
    "print(\"done.\")\n",
    "print(gcounter)\n",
    "print(ccounter)"
   ]
  },
  {
   "cell_type": "markdown",
   "id": "a2a74df8-807c-434c-8324-e12b24c007a5",
   "metadata": {},
   "source": [
    "#### Country"
   ]
  },
  {
   "cell_type": "code",
   "execution_count": 87,
   "id": "16c73cc6-4992-4d4f-8239-393bb802f66d",
   "metadata": {},
   "outputs": [],
   "source": [
    "# DONE"
   ]
  },
  {
   "cell_type": "markdown",
   "id": "bc1c4dc3-9a07-4605-85d4-a18accb05479",
   "metadata": {},
   "source": [
    "## Relations\n",
    "\n",
    "- **listened_to:** _user_ listened_to _track_\n",
    "- **in_album:** _track_ in_album _album_\n",
    "- **created_by:** _track_ created_by _artist_\n",
    "- **has_genre**: _track_ has_genre _genre_\n",
    "\n",
    "**Additional information:**\n",
    "- **has_micro_genre**: _track_ has_micro_genre _genre_ (**or** instead of has_genre)\n",
    "- **has_gender**: _user_ has_gender _gender_\n",
    "- **lives_in**: _user_ lives_in _country_"
   ]
  },
  {
   "cell_type": "code",
   "execution_count": 88,
   "id": "84b480f9-ef00-48a9-bcb6-d6b0982bc04c",
   "metadata": {},
   "outputs": [],
   "source": [
    "# check genres.txt --> clean track and artist names, we filter it with that list?\n",
    "# create new dict mit track names, artist names and look up for all the relations\n",
    "\n",
    "# track_name, artist_name, main_genre, micro_genre\n",
    "\n",
    "#track_dict = {}\n",
    "\n",
    "#with open(\"data/kg/genres.txt\", \"r\") as data: #, open(\"data/kg/tracks.txt\", \"w\") as f:\n",
    "#    datareader = csv.reader(data)\n",
    "    \n",
    "#    for i, row in tqdm(enumerate(datareader)):\n",
    "#        try:\n",
    "#            helper = row[0].split(\"\\t\")\n",
    "#            track_name = helper[0]\n",
    "#            artist_name = helper[1]\n",
    "#            main_genre = helper[2]\n",
    "#            micro_genre = row[1:]\n",
    "#        except:\n",
    "#            row = \", \".join(row)\n",
    "#            helper = row.split(\"\\t\")\n",
    "            \n",
    "#            track_name = helper[0]\n",
    "#            artist_name = helper[1]\n",
    "#            main_genre = helper[2]\n",
    "#            micro_genre = helper[3].split(\",\")[1:]\n",
    "#            continue\n",
    "        \n",
    "#        key = track_name # + \" || \" + artist_name\n",
    "        \n",
    "#        if key not in track_dict:\n",
    "#            track_dict[key] = {}\n",
    "#            track_dict[key][\"artist\"] = artist_name\n",
    "#            track_dict[key][\"main_genre\"] = main_genre\n",
    "#            track_dict[key][\"micro_genre\"] = micro_genre\n",
    "        \n",
    "#print(\"saving...\")\n",
    "\n",
    "#joblib.dump(track_dict, \"data/kg/track_dict.pkl\")\n",
    "\n",
    "#print(\"done.\")"
   ]
  },
  {
   "cell_type": "markdown",
   "id": "8bc44dd3-59bc-4a61-87aa-477ef00a8080",
   "metadata": {},
   "source": [
    "#### listened_to"
   ]
  },
  {
   "cell_type": "code",
   "execution_count": 89,
   "id": "310edf12-7050-4035-8260-feec0377e041",
   "metadata": {},
   "outputs": [
    {
     "name": "stderr",
     "output_type": "stream",
     "text": [
      "4636769it [00:15, 305833.70it/s]\n"
     ]
    },
    {
     "name": "stdout",
     "output_type": "stream",
     "text": [
      "['user_id', 'track_id', 'album_id', 'timestamp']\n",
      "done.\n",
      "0\n"
     ]
    }
   ],
   "source": [
    "# user_id, track_id, album_id, timestamp\n",
    "counter = 0\n",
    "counts_dict = {}\n",
    "track_dict = {}\n",
    "with open(\"%s_listening_events.tsv\" % (read_path_prefix), \"r\") as data, open(\"%s/relations/%s_listened_to.txt\" % (path_prefix, name), \"w\") as f:\n",
    "    datareader = csv.reader(data)\n",
    "    \n",
    "    for i, row in tqdm(enumerate(datareader)):\n",
    "        if i == 0:\n",
    "            header = row[0].split(sep=\"\\t\")\n",
    "        if i != 0:\n",
    "            entry = row[0].split(sep=\"\\t\")\n",
    "            \n",
    "            track_id = \"t\" + entry[1]\n",
    "            if track_id not in track_dict:\n",
    "                track_dict[track_id] = 0\n",
    "            \n",
    "            key = \"u\" + entry[0] + \", \" + \"listened_to\" + \", \" + \"t\" + entry[1]\n",
    "            if key not in counts_dict:\n",
    "                counts_dict[key] = 0\n",
    "                f.writelines(\"u\" + entry[0] + \"\\t\" + \"listened_to\" + \"\\t\" + \"t\" + entry[1] + \"\\n\")\n",
    "            else:\n",
    "                counts_dict[key] += 1\n",
    "                \n",
    "            #try:\n",
    "            #    f.writelines(\"u\" + entry[0] + \"\\t\" + \"listened_to\" + \"\\t\" + \"t\" + entry[1] + \"\\n\")\n",
    "            #except:\n",
    "            #    counter += 1\n",
    "            #    continue\n",
    "            \n",
    "time.sleep(0.5)            \n",
    "\n",
    "print(header)\n",
    "print(\"done.\")\n",
    "print(counter)"
   ]
  },
  {
   "cell_type": "code",
   "execution_count": 90,
   "id": "ae613cbe-816e-43b9-b1f3-41c7ea403969",
   "metadata": {},
   "outputs": [
    {
     "name": "stdout",
     "output_type": "stream",
     "text": [
      "278646\n"
     ]
    }
   ],
   "source": [
    "print(len(list(track_dict.keys())))"
   ]
  },
  {
   "cell_type": "markdown",
   "id": "ec7f248f-4c41-4886-b2f7-50ac09e15059",
   "metadata": {},
   "source": [
    "#### created_by & has_genre & has_micro_genre & in_album"
   ]
  },
  {
   "cell_type": "code",
   "execution_count": 91,
   "id": "ea5cc9d3-0b54-4ca2-beab-bc2290d1da23",
   "metadata": {},
   "outputs": [
    {
     "name": "stderr",
     "output_type": "stream",
     "text": [
      "3602111it [00:27, 132209.71it/s]\n"
     ]
    },
    {
     "name": "stdout",
     "output_type": "stream",
     "text": [
      "done.\n",
      "3443471\n"
     ]
    }
   ],
   "source": [
    "counter = 0\n",
    "\n",
    "artist_dict = {}\n",
    "album_dict = {}\n",
    "type_dict = {}\n",
    "genre_dict = {}\n",
    "check_dict = {}\n",
    "\n",
    "with open(\"%s/micro_genre_tags_new.json\" % path, \"r\", encoding='utf-8') as data,\\\n",
    "open(\"%s/relations/%s_has_genre.txt\" % (path_prefix, name), \"w\", encoding='utf-8') as f1,\\\n",
    "open(\"%s/relations/%s_has_micro_genre.txt\" % (path_prefix, name), \"w\", encoding='utf-8') as f2,\\\n",
    "open(\"%s/relations/%s_in_album.txt\" % (path_prefix, name), \"w\", encoding='utf-8') as f3,\\\n",
    "open(\"%s/relations/%s_created_by.txt\" % (path_prefix, name), \"w\", encoding='utf-8') as f4,\\\n",
    "open(\"%s/entities/%s_artist.txt\" % (path_prefix, name), \"w\", encoding='utf-8') as e1,\\\n",
    "open(\"%s/entities/%s_album.txt\" % (path_prefix, name), \"w\", encoding='utf-8') as e2,\\\n",
    "open(\"%s/entities/%s_artist_type.txt\" % (path_prefix, name), \"w\", encoding='utf-8') as e3,\\\n",
    "open(\"%s/entities/%s_genre.txt\" % (path_prefix, name), \"w\", encoding='utf-8') as e4,\\\n",
    "open(\"%s/entities/%s_track.txt\" % (path_prefix, name), \"w\", encoding='utf-8') as t: #?????????\n",
    "    for line in tqdm(data):\n",
    "        entry = json.loads(line)\n",
    "        #print(entry)\n",
    "        track_id = str(entry['_id'])\n",
    "        track_name = str(entry['track']['track']) #?????????\n",
    "        main_genre = str(list(entry['tags'].keys())[0])\n",
    "        micro_genre = list(entry['tags'].keys())[1:]\n",
    "        \n",
    "        artist_id = str(entry['artist']['artist_id'])\n",
    "        artist_name = str(entry['artist']['artist'])\n",
    "        artist_gender = str(entry['artist']['gender'])\n",
    "        artist_type = str(entry['artist']['type'])\n",
    "        \n",
    "        album_id = str(entry['album']['album_id'])\n",
    "        album_name = str(entry['album']['album'])\n",
    "        \n",
    "        check = \"t\" + track_id\n",
    "        if check in track_dict:\n",
    "            if check not in check_dict: #?????????\n",
    "                check_dict[check] = 0\n",
    "                track_dict[check] = track_name\n",
    "                t.writelines(check + \"\\t\" + track_name + \"\\n\")\n",
    "                \n",
    "            if artist_id not in artist_dict:\n",
    "                artist_dict[artist_id] = 0\n",
    "                e1.writelines(\"a\" + artist_id + \"\\t\" + artist_name + \"\\t\" + artist_gender + \"\\t\" + artist_type + \"\\n\")\n",
    "\n",
    "            if album_id not in album_dict:\n",
    "                album_dict[album_id] = 0\n",
    "                e2.writelines(\"b\" + album_id + \"\\t\" + album_name + \"\\n\")\n",
    "\n",
    "            if artist_type not in type_dict:\n",
    "                type_dict[artist_type] = 0\n",
    "                e3.writelines(artist_type + \"\\n\")\n",
    "\n",
    "            if main_genre not in genre_dict:\n",
    "                genre_dict[main_genre] = 0\n",
    "                e4.writelines(main_genre + \"\\n\")\n",
    "\n",
    "            for micro in micro_genre:\n",
    "                m = str(micro)\n",
    "                if m not in genre_dict:\n",
    "                    genre_dict[m] = 0\n",
    "                    e4.writelines(m + \"\\n\")\n",
    "\n",
    "            created_by = \"t\" + track_id + \"\\t\" + \"created_by\" + \"\\t\" + \"a\" + artist_id + \"\\n\"\n",
    "            f4.writelines(created_by)\n",
    "            #print(created_by)\n",
    "            has_genre = \"t\" + track_id + \"\\t\" + \"has_genre\" + \"\\t\" + main_genre + \"\\n\"\n",
    "            f1.writelines(has_genre)\n",
    "            #print(has_genre)\n",
    "            for micro in micro_genre:\n",
    "                has_micro_genre = \"t\" + track_id + \"\\t\" + \"has_micro_genre\" + \"\\t\" + micro + \"\\n\"\n",
    "                f2.writelines(has_micro_genre)\n",
    "            #    print(has_micro_genre)\n",
    "            in_album = \"t\" + track_id + \"\\t\" + \"in_album\" + \"\\t\" + \"b\" + album_id + \"\\n\"\n",
    "            f3.writelines(in_album)\n",
    "            #print(in_album)\n",
    "        else:\n",
    "            counter += 1\n",
    "            \n",
    "time.sleep(0.5)            \n",
    "\n",
    "print(\"done.\")\n",
    "print(counter)"
   ]
  },
  {
   "cell_type": "code",
   "execution_count": 92,
   "id": "8e2f055d-377c-491d-b0eb-00c1e5ab3bb2",
   "metadata": {},
   "outputs": [
    {
     "name": "stdout",
     "output_type": "stream",
     "text": [
      "158640\n"
     ]
    }
   ],
   "source": [
    "print(len(list(check_dict.keys())))"
   ]
  },
  {
   "cell_type": "code",
   "execution_count": 93,
   "id": "1a21138e-827c-4f5c-95fe-378f6f59ca67",
   "metadata": {},
   "outputs": [
    {
     "name": "stderr",
     "output_type": "stream",
     "text": [
      "100%|███████████████████████████████| 278646/278646 [00:00<00:00, 712102.01it/s]\n"
     ]
    },
    {
     "name": "stdout",
     "output_type": "stream",
     "text": [
      "done.\n"
     ]
    }
   ],
   "source": [
    "with open(\"%s/entities/%s_track_new.txt\" % (path_prefix, name), \"w\", encoding='utf-8') as t:\n",
    "    for key, value in tqdm(track_dict.items()):\n",
    "        track_id = key\n",
    "        track_name = value\n",
    "        \n",
    "        if track_name == 0:\n",
    "            track_name = \"???\"\n",
    "            \n",
    "        t.writelines(track_id + \"\\t\" + track_name + \"\\n\")\n",
    "        \n",
    "time.sleep(0.5)\n",
    "        \n",
    "print(\"done.\")"
   ]
  },
  {
   "cell_type": "markdown",
   "id": "dac8d836-a3a8-447e-9225-559c5c1439e5",
   "metadata": {},
   "source": [
    "#### in_album"
   ]
  },
  {
   "cell_type": "code",
   "execution_count": 94,
   "id": "ca937e6b-7c6b-48c1-adc4-2fe351f879ad",
   "metadata": {},
   "outputs": [],
   "source": [
    "# DONE"
   ]
  },
  {
   "cell_type": "markdown",
   "id": "08ef4339-bc02-431d-9ebc-68a102b4b960",
   "metadata": {},
   "source": [
    "#### has_genre"
   ]
  },
  {
   "cell_type": "code",
   "execution_count": 95,
   "id": "3da02a36-b960-456a-b427-1497f7c2b007",
   "metadata": {},
   "outputs": [],
   "source": [
    "# DONE"
   ]
  },
  {
   "cell_type": "markdown",
   "id": "e14c260b-9f17-4407-8f50-3602ad96dc83",
   "metadata": {},
   "source": [
    "#### has_micro_genre"
   ]
  },
  {
   "cell_type": "code",
   "execution_count": 96,
   "id": "6ad3c0df-8389-42d3-8ae4-73932fb20e50",
   "metadata": {},
   "outputs": [],
   "source": [
    "# DONE"
   ]
  },
  {
   "cell_type": "markdown",
   "id": "8c40edf7-9584-4491-907e-fb907de2bc91",
   "metadata": {},
   "source": [
    "#### has_gender & lives_in"
   ]
  },
  {
   "cell_type": "code",
   "execution_count": 97,
   "id": "dbaecf22-c5e0-4e36-9086-e417df99c45d",
   "metadata": {},
   "outputs": [
    {
     "name": "stderr",
     "output_type": "stream",
     "text": [
      "9724it [00:00, 310632.39it/s]\n"
     ]
    },
    {
     "name": "stdout",
     "output_type": "stream",
     "text": [
      "done.\n",
      "0\n",
      "367\n"
     ]
    }
   ],
   "source": [
    "# user_id, country, age, gender, creation_time\n",
    "gcounter = 0\n",
    "ccounter = 0\n",
    "with open(\"%s_users.txt\" % write_path_prefix, \"r\") as data,\\\n",
    "open(\"%s/relations/%s_has_gender.txt\" % (path_prefix, name), \"w\") as f,\\\n",
    "open(\"%s/relations/%slives_in.txt\" % (path_prefix, name), \"w\") as f2:\n",
    "    datareader = csv.reader(data)\n",
    "    \n",
    "    for i, row in tqdm(enumerate(datareader)):\n",
    "        entry = row[0].split(sep=\"\\t\")\n",
    "        if entry[3] == \"\":\n",
    "            gcounter += 1\n",
    "        else:\n",
    "            f.writelines(entry[0] + \"\\t\" + \"has_gender\" + \"\\t\" + entry[3] + \"\\n\")\n",
    "            \n",
    "        if entry[1] == \"\":\n",
    "            ccounter += 1\n",
    "        else:\n",
    "            f2.writelines(entry[0] + \"\\t\" + \"lives_in\" + \"\\t\" + entry[1] + \"\\n\")\n",
    "            \n",
    "time.sleep(0.5)\n",
    "print(\"done.\")\n",
    "print(gcounter)\n",
    "print(ccounter)"
   ]
  },
  {
   "cell_type": "markdown",
   "id": "42374ee4-3250-4d72-9e27-febd5818897a",
   "metadata": {},
   "source": [
    "#### lives_in"
   ]
  },
  {
   "cell_type": "code",
   "execution_count": 98,
   "id": "7886bf99-6a50-4bde-8fd2-23c9a13c8af7",
   "metadata": {},
   "outputs": [],
   "source": [
    "# DONE"
   ]
  },
  {
   "cell_type": "markdown",
   "id": "dcdf922f-da6a-4117-ab32-413c716901c4",
   "metadata": {},
   "source": [
    "## Create KG File"
   ]
  },
  {
   "cell_type": "code",
   "execution_count": 99,
   "id": "73177749-fd99-4375-a4c7-6c7033b66adb",
   "metadata": {},
   "outputs": [
    {
     "name": "stderr",
     "output_type": "stream",
     "text": [
      "75percent_subset_has_micro_genre.txt: 773030it [00:01, 436119.30it/s]\n",
      "75percent_subset_has_gender.txt: 9724it [00:00, 680460.01it/s]\n",
      "75percent_subset_listened_to.txt: 4636768it [00:08, 537674.81it/s]\n",
      "75percent_subsetlives_in.txt: 9357it [00:00, 690150.57it/s]\n",
      "75percent_subset_created_by.txt: 158640it [00:00, 525280.52it/s]\n",
      "75percent_subset_in_album.txt: 158640it [00:00, 535535.29it/s]\n",
      "75percent_subset_has_genre.txt: 158640it [00:00, 517142.41it/s]\n"
     ]
    }
   ],
   "source": [
    "directory = '%s/relations' % path_prefix\n",
    " \n",
    "with open('%s_kg.txt' % write_path_prefix, \"w\") as kg:\n",
    "    for filename in os.listdir(directory):\n",
    "        f = os.path.join(directory, filename)\n",
    "        with open(f, \"r\") as rel:\n",
    "            datareader = csv.reader(rel)\n",
    "            for i, row in tqdm(enumerate(datareader), desc=filename):\n",
    "                kg.writelines(row[0] + \"\\n\")"
   ]
  },
  {
   "cell_type": "code",
   "execution_count": 100,
   "id": "ac3f3213-3491-42dc-ab39-5d462dc4ad39",
   "metadata": {},
   "outputs": [
    {
     "name": "stderr",
     "output_type": "stream",
     "text": [
      "75percent_subset_has_micro_genre.txt: 773030it [00:01, 445357.56it/s]\n",
      "75percent_subset_has_gender.txt: 9724it [00:00, 670757.54it/s]\n",
      "75percent_subset_listened_to.txt: 4636768it [00:08, 541859.92it/s]\n",
      "75percent_subsetlives_in.txt: 9357it [00:00, 681639.96it/s]\n",
      "75percent_subset_created_by.txt: 158640it [00:00, 530000.10it/s]\n",
      "75percent_subset_in_album.txt: 158640it [00:00, 544513.77it/s]\n",
      "75percent_subset_has_genre.txt: 158640it [00:00, 507301.60it/s]\n"
     ]
    }
   ],
   "source": [
    "directory = '%s/relations' % path_prefix\n",
    " \n",
    "with open('%s_kg_no_gender.txt' % write_path_prefix, \"w\") as kg:\n",
    "    for filename in os.listdir(directory):\n",
    "        if filename == 'has_gender.txt':\n",
    "            continue\n",
    "        f = os.path.join(directory, filename)\n",
    "        with open(f, \"r\") as rel:\n",
    "            datareader = csv.reader(rel)\n",
    "            for i, row in tqdm(enumerate(datareader), desc=filename):\n",
    "                kg.writelines(row[0] + \"\\n\")"
   ]
  },
  {
   "cell_type": "markdown",
   "id": "677f8938-be1e-4155-b6bd-59f01e1ed448",
   "metadata": {},
   "source": [
    "# Create the dataset files for RecBole"
   ]
  },
  {
   "cell_type": "markdown",
   "id": "53c2d31b-9ccc-4911-9e60-5f5ea6555e01",
   "metadata": {},
   "source": [
    "### Dataset structure\n",
    "Recbole knowledge aware datasets require three files: .inter, .g, .link files. \n",
    "\n",
    "| File | Description |\n",
    "|------|-------------|\n",
    "|.inter|User-Item interaction|\n",
    "|.kg| head, relation, tail|\n",
    "|.link|item_id to entity_id|"
   ]
  },
  {
   "cell_type": "markdown",
   "id": "03910878-779a-44ee-b8ab-a03c6b45fa35",
   "metadata": {},
   "source": [
    "## Create atomic files"
   ]
  },
  {
   "cell_type": "markdown",
   "id": "99db51bc-ada7-49c0-b063-ad4b9a7b2840",
   "metadata": {},
   "source": [
    " Add type info to kg generated by David"
   ]
  },
  {
   "cell_type": "code",
   "execution_count": 101,
   "id": "ef265d02-03c3-4981-89f5-12a4d01df57e",
   "metadata": {},
   "outputs": [],
   "source": [
    "dataset = name\n",
    "path = 'data/lfm'\n",
    "kg_path = '%s/intermediate_kg/%s' % (path, dataset)\n",
    "prefixed_path = '%s/%s' % (path,dataset)"
   ]
  },
  {
   "cell_type": "code",
   "execution_count": 102,
   "id": "af22a812-5725-46ed-a4fb-e8b16e98aec6",
   "metadata": {},
   "outputs": [],
   "source": [
    "kg = pd.read_csv('%s_kg.txt' % kg_path, sep='\\t', names=['head_id:token', 'relation_id:token', 'tail_id:token'])"
   ]
  },
  {
   "cell_type": "code",
   "execution_count": 103,
   "id": "355b71a7-8eb1-48d1-9332-047dad7cd819",
   "metadata": {},
   "outputs": [
    {
     "data": {
      "text/html": [
       "<div>\n",
       "<style scoped>\n",
       "    .dataframe tbody tr th:only-of-type {\n",
       "        vertical-align: middle;\n",
       "    }\n",
       "\n",
       "    .dataframe tbody tr th {\n",
       "        vertical-align: top;\n",
       "    }\n",
       "\n",
       "    .dataframe thead th {\n",
       "        text-align: right;\n",
       "    }\n",
       "</style>\n",
       "<table border=\"1\" class=\"dataframe\">\n",
       "  <thead>\n",
       "    <tr style=\"text-align: right;\">\n",
       "      <th></th>\n",
       "      <th>head_id:token</th>\n",
       "      <th>relation_id:token</th>\n",
       "      <th>tail_id:token</th>\n",
       "    </tr>\n",
       "  </thead>\n",
       "  <tbody>\n",
       "    <tr>\n",
       "      <th>0</th>\n",
       "      <td>t36346257</td>\n",
       "      <td>has_micro_genre</td>\n",
       "      <td>indie pop</td>\n",
       "    </tr>\n",
       "    <tr>\n",
       "      <th>1</th>\n",
       "      <td>t36346257</td>\n",
       "      <td>has_micro_genre</td>\n",
       "      <td>rock</td>\n",
       "    </tr>\n",
       "    <tr>\n",
       "      <th>2</th>\n",
       "      <td>t36346257</td>\n",
       "      <td>has_micro_genre</td>\n",
       "      <td>singer-songwriter</td>\n",
       "    </tr>\n",
       "    <tr>\n",
       "      <th>3</th>\n",
       "      <td>t36346257</td>\n",
       "      <td>has_micro_genre</td>\n",
       "      <td>indie rock</td>\n",
       "    </tr>\n",
       "    <tr>\n",
       "      <th>4</th>\n",
       "      <td>t36346257</td>\n",
       "      <td>has_micro_genre</td>\n",
       "      <td>art pop</td>\n",
       "    </tr>\n",
       "  </tbody>\n",
       "</table>\n",
       "</div>"
      ],
      "text/plain": [
       "  head_id:token relation_id:token      tail_id:token\n",
       "0     t36346257   has_micro_genre          indie pop\n",
       "1     t36346257   has_micro_genre               rock\n",
       "2     t36346257   has_micro_genre  singer-songwriter\n",
       "3     t36346257   has_micro_genre         indie rock\n",
       "4     t36346257   has_micro_genre            art pop"
      ]
     },
     "execution_count": 103,
     "metadata": {},
     "output_type": "execute_result"
    }
   ],
   "source": [
    "kg.head()"
   ]
  },
  {
   "cell_type": "code",
   "execution_count": 104,
   "id": "3d8349b6-ee68-461a-a936-1b2edd0d1f78",
   "metadata": {},
   "outputs": [
    {
     "data": {
      "text/plain": [
       "array(['has_micro_genre', 'has_gender', 'listened_to', 'lives_in',\n",
       "       'created_by', 'in_album', 'has_genre'], dtype=object)"
      ]
     },
     "execution_count": 104,
     "metadata": {},
     "output_type": "execute_result"
    }
   ],
   "source": [
    "kg['relation_id:token'].unique()"
   ]
  },
  {
   "cell_type": "code",
   "execution_count": 105,
   "id": "c02f7d6a-8926-462c-8a53-43beaa37c82b",
   "metadata": {},
   "outputs": [],
   "source": [
    "kg_no_listen_events = kg[kg['relation_id:token'] != 'listened_to']\n",
    "kg_no_listen_events.to_csv('data/rb_lfm/rb_lfm.kg', sep='\\t', index=False)"
   ]
  },
  {
   "cell_type": "code",
   "execution_count": 106,
   "id": "4a9c4731-e4ea-4665-943d-8ae705611d4f",
   "metadata": {},
   "outputs": [],
   "source": [
    "users = pd.read_csv('%s_users.tsv' % prefixed_path, sep='\\t', skiprows=[0], names=['user_id:token', 'country:token', 'age:token', 'gender:token', 'creation_time:token'])\n",
    "users.to_csv('data/rb_lfm/rb_lfm.user', sep='\\t', index=False)"
   ]
  },
  {
   "cell_type": "code",
   "execution_count": 107,
   "id": "8267e194-e516-4118-89ba-03f65311f066",
   "metadata": {},
   "outputs": [
    {
     "data": {
      "text/plain": [
       "9724"
      ]
     },
     "execution_count": 107,
     "metadata": {},
     "output_type": "execute_result"
    }
   ],
   "source": [
    "len(users)"
   ]
  },
  {
   "cell_type": "code",
   "execution_count": 108,
   "id": "0c12e542-5eda-4377-8586-32caa96966c4",
   "metadata": {
    "scrolled": true
   },
   "outputs": [],
   "source": [
    "items = pd.read_csv('%s_tracks.tsv' % prefixed_path, sep='\\t', skiprows=[0], names=['item_id:token', 'artist:token', 'track:token'])\n",
    "items.to_csv('data/rb_lfm/rb_lfm.item', sep='\\t', index=False)\n",
    "                    \n",
    "track_ids = pd.DataFrame(items['item_id:token'])\n",
    "track_ids['entity_id:token'] = 't' + track_ids['item_id:token'].astype(str)\n",
    "track_ids.to_csv('data/rb_lfm/rb_lfm.link', sep='\\t', index=False)"
   ]
  },
  {
   "cell_type": "code",
   "execution_count": 109,
   "id": "9c21c349-797f-48dc-83dc-84998067889a",
   "metadata": {},
   "outputs": [],
   "source": [
    "listening_events = pd.read_csv('%s_listening_events.tsv' % prefixed_path, sep='\\t', skiprows=[0], names=['user_id:token', 'item_id:token', 'album_id:token', 'timestamp:token'])\n",
    "listening_events.to_csv('data/rb_lfm/rb_lfm.inter', sep='\\t', index=False)"
   ]
  }
 ],
 "metadata": {
  "kernelspec": {
   "display_name": "Python 3 (ipykernel)",
   "language": "python",
   "name": "python3"
  },
  "language_info": {
   "codemirror_mode": {
    "name": "ipython",
    "version": 3
   },
   "file_extension": ".py",
   "mimetype": "text/x-python",
   "name": "python",
   "nbconvert_exporter": "python",
   "pygments_lexer": "ipython3",
   "version": "3.9.15"
  }
 },
 "nbformat": 4,
 "nbformat_minor": 5
}
