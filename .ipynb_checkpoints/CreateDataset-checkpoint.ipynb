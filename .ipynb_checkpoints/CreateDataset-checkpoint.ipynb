{
 "cells": [
  {
   "cell_type": "markdown",
   "id": "62f80974-db9d-47d2-ae39-4988b2980fcb",
   "metadata": {},
   "source": [
    "# Clean Dataset and create subset for KG creation"
   ]
  },
  {
   "cell_type": "code",
   "execution_count": 1,
   "id": "b583fba6-5998-4b50-b457-c76d909486eb",
   "metadata": {},
   "outputs": [],
   "source": [
    "ratio = .5\n",
    "name = '50percent_subset'"
   ]
  },
  {
   "cell_type": "code",
   "execution_count": 2,
   "id": "66fd99f9-04dc-4b9d-9739-341e61c09bbe",
   "metadata": {},
   "outputs": [],
   "source": [
    "import pandas as pd\n",
    "import numpy as np\n",
    "import csv\n",
    "import time\n",
    "import sys\n",
    "import json\n",
    "import joblib\n",
    "import os\n",
    "\n",
    "from tqdm import tqdm"
   ]
  },
  {
   "cell_type": "code",
   "execution_count": 3,
   "id": "2acdbcd8-38f5-4b42-9804-faf6bfbe15ba",
   "metadata": {},
   "outputs": [],
   "source": [
    "users = pd.read_csv('data/lfm/users.tsv', sep='\\t')\n",
    "tracks = pd.read_csv('data/lfm/tracks.tsv', sep='\\t')\n",
    "listening_events = pd.read_csv('data/lfm/listening_events.tsv', sep='\\t')\n",
    "albums = pd.read_csv('data/lfm/albums.tsv', sep='\\t')"
   ]
  },
  {
   "cell_type": "code",
   "execution_count": 4,
   "id": "93da2146-6082-432d-bd8a-49273f8ec34a",
   "metadata": {},
   "outputs": [
    {
     "data": {
      "text/html": [
       "<div>\n",
       "<style scoped>\n",
       "    .dataframe tbody tr th:only-of-type {\n",
       "        vertical-align: middle;\n",
       "    }\n",
       "\n",
       "    .dataframe tbody tr th {\n",
       "        vertical-align: top;\n",
       "    }\n",
       "\n",
       "    .dataframe thead th {\n",
       "        text-align: right;\n",
       "    }\n",
       "</style>\n",
       "<table border=\"1\" class=\"dataframe\">\n",
       "  <thead>\n",
       "    <tr style=\"text-align: right;\">\n",
       "      <th></th>\n",
       "      <th>track_id</th>\n",
       "      <th>artist</th>\n",
       "      <th>track</th>\n",
       "    </tr>\n",
       "  </thead>\n",
       "  <tbody>\n",
       "    <tr>\n",
       "      <th>0</th>\n",
       "      <td>138</td>\n",
       "      <td>Böhse Onkelz</td>\n",
       "      <td>!</td>\n",
       "    </tr>\n",
       "    <tr>\n",
       "      <th>1</th>\n",
       "      <td>155</td>\n",
       "      <td>Global Goon</td>\n",
       "      <td>!</td>\n",
       "    </tr>\n",
       "    <tr>\n",
       "      <th>2</th>\n",
       "      <td>159</td>\n",
       "      <td>Hellyeah</td>\n",
       "      <td>!</td>\n",
       "    </tr>\n",
       "    <tr>\n",
       "      <th>3</th>\n",
       "      <td>174</td>\n",
       "      <td>Kylie Minoise</td>\n",
       "      <td>!</td>\n",
       "    </tr>\n",
       "    <tr>\n",
       "      <th>4</th>\n",
       "      <td>193</td>\n",
       "      <td>Nogu Svelo!</td>\n",
       "      <td>!</td>\n",
       "    </tr>\n",
       "  </tbody>\n",
       "</table>\n",
       "</div>"
      ],
      "text/plain": [
       "   track_id         artist track\n",
       "0       138   Böhse Onkelz     !\n",
       "1       155    Global Goon     !\n",
       "2       159       Hellyeah     !\n",
       "3       174  Kylie Minoise     !\n",
       "4       193    Nogu Svelo!     !"
      ]
     },
     "execution_count": 4,
     "metadata": {},
     "output_type": "execute_result"
    }
   ],
   "source": [
    "tracks.head()"
   ]
  },
  {
   "cell_type": "markdown",
   "id": "627a2ebb-750e-4e76-b684-9441e82563b1",
   "metadata": {},
   "source": [
    "## Clean Dataset"
   ]
  },
  {
   "cell_type": "markdown",
   "id": "330cdf18-6c7a-4862-a212-bb606e351924",
   "metadata": {},
   "source": [
    "<b> Remove users which gender is not defined and whose age is not element of [10;90] </b>"
   ]
  },
  {
   "cell_type": "code",
   "execution_count": 5,
   "id": "e2b38e8a-9839-4638-bc74-5ee0e10a7686",
   "metadata": {},
   "outputs": [
    {
     "name": "stdout",
     "output_type": "stream",
     "text": [
      "Removed -5163 users\n"
     ]
    }
   ],
   "source": [
    "l = len(users)\n",
    "users = users[users.gender.isin(['m', 'f']) & (users.age >= 10) & (users.age <= 95)]\n",
    "print('Removed %s users' % (len(users) - l))"
   ]
  },
  {
   "cell_type": "markdown",
   "id": "6740a9c4-dc14-4328-9024-11b7c0cbf98e",
   "metadata": {},
   "source": [
    "<b> Remove now unassigned listening events </b>"
   ]
  },
  {
   "cell_type": "code",
   "execution_count": 6,
   "id": "29e1784f-14fb-43a3-8d45-e8719beeec2a",
   "metadata": {},
   "outputs": [
    {
     "name": "stdout",
     "output_type": "stream",
     "text": [
      "Removed -9725559 listening events\n"
     ]
    }
   ],
   "source": [
    "l = len(listening_events)\n",
    "listening_events = listening_events[listening_events.user_id.isin(users.user_id)]\n",
    "print('Removed %s listening events' % (len(listening_events) - l))"
   ]
  },
  {
   "cell_type": "markdown",
   "id": "17affe50-dce6-4a07-9994-b34d6ce7a961",
   "metadata": {},
   "source": [
    "<b> 10-core filtering </b>"
   ]
  },
  {
   "cell_type": "code",
   "execution_count": 7,
   "id": "06c65f4d-ad49-43da-bc04-6bed409b3ebf",
   "metadata": {},
   "outputs": [
    {
     "name": "stdout",
     "output_type": "stream",
     "text": [
      "Records after item pass:  16789691\n",
      "Records after user pass:  16789298\n",
      "Records after item pass:  16789169\n",
      "Records after user pass:  16789169\n",
      "Records after item pass:  16789169\n",
      "Records after user pass:  16789169\n",
      "Exiting...\n"
     ]
    }
   ],
   "source": [
    "n_core = 5\n",
    "while True:\n",
    "    start_number = len(listening_events)\n",
    "\n",
    "    # Item pass\n",
    "    item_counts = listening_events.track_id.value_counts()\n",
    "    item_above = set(item_counts[item_counts >= n_core].index)\n",
    "    listening_events = listening_events[listening_events.track_id.isin(item_above)]\n",
    "    print('Records after item pass: ', len(listening_events))\n",
    "\n",
    "    # User pass\n",
    "    user_counts = listening_events.user_id.value_counts()\n",
    "    user_above = set(user_counts[user_counts >= n_core].index)\n",
    "    listening_events = listening_events[listening_events.user_id.isin(user_above)]\n",
    "    print('Records after user pass: ', len(listening_events))\n",
    "\n",
    "    if len(listening_events) == start_number:\n",
    "        print('Exiting...')\n",
    "        break"
   ]
  },
  {
   "cell_type": "code",
   "execution_count": 8,
   "id": "6cd2f9bd-2b67-4d7a-aa16-4b1bbc005b07",
   "metadata": {},
   "outputs": [],
   "source": [
    "users = users[users.user_id.isin(set(listening_events.user_id))]\n",
    "tracks = tracks[tracks.track_id.isin(set(listening_events.track_id))]"
   ]
  },
  {
   "cell_type": "code",
   "execution_count": 9,
   "id": "db6c3072-b31c-4807-bc3c-5dbd153e3cd4",
   "metadata": {},
   "outputs": [
    {
     "data": {
      "text/html": [
       "<div>\n",
       "<style scoped>\n",
       "    .dataframe tbody tr th:only-of-type {\n",
       "        vertical-align: middle;\n",
       "    }\n",
       "\n",
       "    .dataframe tbody tr th {\n",
       "        vertical-align: top;\n",
       "    }\n",
       "\n",
       "    .dataframe thead th {\n",
       "        text-align: right;\n",
       "    }\n",
       "</style>\n",
       "<table border=\"1\" class=\"dataframe\">\n",
       "  <thead>\n",
       "    <tr style=\"text-align: right;\">\n",
       "      <th></th>\n",
       "      <th>user_id</th>\n",
       "      <th>country</th>\n",
       "      <th>age</th>\n",
       "      <th>gender</th>\n",
       "      <th>creation_time</th>\n",
       "    </tr>\n",
       "  </thead>\n",
       "  <tbody>\n",
       "    <tr>\n",
       "      <th>13900</th>\n",
       "      <td>76470</td>\n",
       "      <td>BR</td>\n",
       "      <td>28</td>\n",
       "      <td>f</td>\n",
       "      <td>2011-11-23 12:06:21</td>\n",
       "    </tr>\n",
       "  </tbody>\n",
       "</table>\n",
       "</div>"
      ],
      "text/plain": [
       "       user_id country  age gender        creation_time\n",
       "13900    76470      BR   28      f  2011-11-23 12:06:21"
      ]
     },
     "execution_count": 9,
     "metadata": {},
     "output_type": "execute_result"
    }
   ],
   "source": [
    "users.sample(1)"
   ]
  },
  {
   "cell_type": "markdown",
   "id": "8b19ddd2-b3cc-46e6-9b7b-d37ec55c8c4e",
   "metadata": {},
   "source": [
    "## Create a subset given a ratio"
   ]
  },
  {
   "cell_type": "code",
   "execution_count": 10,
   "id": "c8c51aea-fa86-45a1-b684-062ba3bd8b69",
   "metadata": {},
   "outputs": [
    {
     "data": {
      "text/plain": [
       "351013"
      ]
     },
     "execution_count": 10,
     "metadata": {},
     "output_type": "execute_result"
    }
   ],
   "source": [
    "n = ratio*len(tracks)\n",
    "n = int(np.ceil(n))\n",
    "n"
   ]
  },
  {
   "cell_type": "code",
   "execution_count": 11,
   "id": "2011fd0a-15a6-4e1f-9087-54d07ac8f2df",
   "metadata": {},
   "outputs": [
    {
     "data": {
      "text/html": [
       "<div>\n",
       "<style scoped>\n",
       "    .dataframe tbody tr th:only-of-type {\n",
       "        vertical-align: middle;\n",
       "    }\n",
       "\n",
       "    .dataframe tbody tr th {\n",
       "        vertical-align: top;\n",
       "    }\n",
       "\n",
       "    .dataframe thead th {\n",
       "        text-align: right;\n",
       "    }\n",
       "</style>\n",
       "<table border=\"1\" class=\"dataframe\">\n",
       "  <thead>\n",
       "    <tr style=\"text-align: right;\">\n",
       "      <th></th>\n",
       "      <th>track_id</th>\n",
       "      <th>artist</th>\n",
       "      <th>track</th>\n",
       "    </tr>\n",
       "  </thead>\n",
       "  <tbody>\n",
       "    <tr>\n",
       "      <th>1428788</th>\n",
       "      <td>18526587</td>\n",
       "      <td>Moloko</td>\n",
       "      <td>Ho Humm</td>\n",
       "    </tr>\n",
       "    <tr>\n",
       "      <th>1950992</th>\n",
       "      <td>24658968</td>\n",
       "      <td>NOVAMENCO</td>\n",
       "      <td>Lorca</td>\n",
       "    </tr>\n",
       "    <tr>\n",
       "      <th>3411585</th>\n",
       "      <td>41657773</td>\n",
       "      <td>Titãs</td>\n",
       "      <td>Toda Cor</td>\n",
       "    </tr>\n",
       "    <tr>\n",
       "      <th>3467748</th>\n",
       "      <td>42318836</td>\n",
       "      <td>Stam1na</td>\n",
       "      <td>Tsunami - Remastered</td>\n",
       "    </tr>\n",
       "    <tr>\n",
       "      <th>2324052</th>\n",
       "      <td>29036145</td>\n",
       "      <td>O Rappa</td>\n",
       "      <td>Não Vão Me Matar</td>\n",
       "    </tr>\n",
       "  </tbody>\n",
       "</table>\n",
       "</div>"
      ],
      "text/plain": [
       "         track_id     artist                 track\n",
       "1428788  18526587     Moloko               Ho Humm\n",
       "1950992  24658968  NOVAMENCO                 Lorca\n",
       "3411585  41657773      Titãs              Toda Cor\n",
       "3467748  42318836    Stam1na  Tsunami - Remastered\n",
       "2324052  29036145    O Rappa      Não Vão Me Matar"
      ]
     },
     "execution_count": 11,
     "metadata": {},
     "output_type": "execute_result"
    }
   ],
   "source": [
    "tracks_subset = tracks.sample(n)\n",
    "tracks_subset.to_csv('data/lfm/%s_tracks.tsv' % name, sep='\\t', index=False)\n",
    "tracks_subset.head()"
   ]
  },
  {
   "cell_type": "code",
   "execution_count": 12,
   "id": "5a825a03-2260-4b84-871e-8bee7c55649e",
   "metadata": {},
   "outputs": [
    {
     "data": {
      "text/html": [
       "<div>\n",
       "<style scoped>\n",
       "    .dataframe tbody tr th:only-of-type {\n",
       "        vertical-align: middle;\n",
       "    }\n",
       "\n",
       "    .dataframe tbody tr th {\n",
       "        vertical-align: top;\n",
       "    }\n",
       "\n",
       "    .dataframe thead th {\n",
       "        text-align: right;\n",
       "    }\n",
       "</style>\n",
       "<table border=\"1\" class=\"dataframe\">\n",
       "  <thead>\n",
       "    <tr style=\"text-align: right;\">\n",
       "      <th></th>\n",
       "      <th>user_id</th>\n",
       "      <th>track_id</th>\n",
       "      <th>album_id</th>\n",
       "      <th>timestamp</th>\n",
       "    </tr>\n",
       "  </thead>\n",
       "  <tbody>\n",
       "    <tr>\n",
       "      <th>3</th>\n",
       "      <td>42410</td>\n",
       "      <td>14250568</td>\n",
       "      <td>8916172</td>\n",
       "      <td>2020-01-01 00:00:01</td>\n",
       "    </tr>\n",
       "    <tr>\n",
       "      <th>19</th>\n",
       "      <td>35601</td>\n",
       "      <td>21168639</td>\n",
       "      <td>18691627</td>\n",
       "      <td>2020-01-01 00:00:05</td>\n",
       "    </tr>\n",
       "    <tr>\n",
       "      <th>20</th>\n",
       "      <td>60352</td>\n",
       "      <td>30828639</td>\n",
       "      <td>11273927</td>\n",
       "      <td>2020-01-01 00:00:06</td>\n",
       "    </tr>\n",
       "    <tr>\n",
       "      <th>30</th>\n",
       "      <td>18190</td>\n",
       "      <td>9665380</td>\n",
       "      <td>6880873</td>\n",
       "      <td>2020-01-01 00:00:08</td>\n",
       "    </tr>\n",
       "    <tr>\n",
       "      <th>34</th>\n",
       "      <td>15157</td>\n",
       "      <td>28672519</td>\n",
       "      <td>14898006</td>\n",
       "      <td>2020-01-01 00:00:09</td>\n",
       "    </tr>\n",
       "    <tr>\n",
       "      <th>...</th>\n",
       "      <td>...</td>\n",
       "      <td>...</td>\n",
       "      <td>...</td>\n",
       "      <td>...</td>\n",
       "    </tr>\n",
       "    <tr>\n",
       "      <th>30357771</th>\n",
       "      <td>56985</td>\n",
       "      <td>32555849</td>\n",
       "      <td>13969153</td>\n",
       "      <td>2020-03-20 12:59:57</td>\n",
       "    </tr>\n",
       "    <tr>\n",
       "      <th>30357776</th>\n",
       "      <td>48354</td>\n",
       "      <td>24730041</td>\n",
       "      <td>13118529</td>\n",
       "      <td>2020-03-20 12:59:58</td>\n",
       "    </tr>\n",
       "    <tr>\n",
       "      <th>30357777</th>\n",
       "      <td>15709</td>\n",
       "      <td>28558946</td>\n",
       "      <td>14874786</td>\n",
       "      <td>2020-03-20 12:59:58</td>\n",
       "    </tr>\n",
       "    <tr>\n",
       "      <th>30357779</th>\n",
       "      <td>59921</td>\n",
       "      <td>42135253</td>\n",
       "      <td>21202843</td>\n",
       "      <td>2020-03-20 12:59:58</td>\n",
       "    </tr>\n",
       "    <tr>\n",
       "      <th>30357785</th>\n",
       "      <td>44284</td>\n",
       "      <td>28349437</td>\n",
       "      <td>10655893</td>\n",
       "      <td>2020-03-20 12:59:59</td>\n",
       "    </tr>\n",
       "  </tbody>\n",
       "</table>\n",
       "<p>8381827 rows × 4 columns</p>\n",
       "</div>"
      ],
      "text/plain": [
       "          user_id  track_id  album_id            timestamp\n",
       "3           42410  14250568   8916172  2020-01-01 00:00:01\n",
       "19          35601  21168639  18691627  2020-01-01 00:00:05\n",
       "20          60352  30828639  11273927  2020-01-01 00:00:06\n",
       "30          18190   9665380   6880873  2020-01-01 00:00:08\n",
       "34          15157  28672519  14898006  2020-01-01 00:00:09\n",
       "...           ...       ...       ...                  ...\n",
       "30357771    56985  32555849  13969153  2020-03-20 12:59:57\n",
       "30357776    48354  24730041  13118529  2020-03-20 12:59:58\n",
       "30357777    15709  28558946  14874786  2020-03-20 12:59:58\n",
       "30357779    59921  42135253  21202843  2020-03-20 12:59:58\n",
       "30357785    44284  28349437  10655893  2020-03-20 12:59:59\n",
       "\n",
       "[8381827 rows x 4 columns]"
      ]
     },
     "execution_count": 12,
     "metadata": {},
     "output_type": "execute_result"
    }
   ],
   "source": [
    "listening_events_subset = listening_events[listening_events['track_id'].isin(tracks_subset['track_id'])]\n",
    "listening_events_subset.to_csv('data/lfm/%s_listening_events.tsv' % name, sep='\\t', index=False)\n",
    "listening_events_subset"
   ]
  },
  {
   "cell_type": "code",
   "execution_count": 13,
   "id": "e2ffb667-e62a-43a8-bf45-5c5d5845ab9f",
   "metadata": {},
   "outputs": [
    {
     "data": {
      "text/html": [
       "<div>\n",
       "<style scoped>\n",
       "    .dataframe tbody tr th:only-of-type {\n",
       "        vertical-align: middle;\n",
       "    }\n",
       "\n",
       "    .dataframe tbody tr th {\n",
       "        vertical-align: top;\n",
       "    }\n",
       "\n",
       "    .dataframe thead th {\n",
       "        text-align: right;\n",
       "    }\n",
       "</style>\n",
       "<table border=\"1\" class=\"dataframe\">\n",
       "  <thead>\n",
       "    <tr style=\"text-align: right;\">\n",
       "      <th></th>\n",
       "      <th>user_id</th>\n",
       "      <th>country</th>\n",
       "      <th>age</th>\n",
       "      <th>gender</th>\n",
       "      <th>creation_time</th>\n",
       "    </tr>\n",
       "  </thead>\n",
       "  <tbody>\n",
       "    <tr>\n",
       "      <th>0</th>\n",
       "      <td>2</td>\n",
       "      <td>UK</td>\n",
       "      <td>35</td>\n",
       "      <td>m</td>\n",
       "      <td>2002-10-29 01:00:00</td>\n",
       "    </tr>\n",
       "    <tr>\n",
       "      <th>2</th>\n",
       "      <td>14</td>\n",
       "      <td>UK</td>\n",
       "      <td>48</td>\n",
       "      <td>m</td>\n",
       "      <td>2003-02-18 21:44:13</td>\n",
       "    </tr>\n",
       "    <tr>\n",
       "      <th>3</th>\n",
       "      <td>15</td>\n",
       "      <td>US</td>\n",
       "      <td>28</td>\n",
       "      <td>m</td>\n",
       "      <td>2003-02-24 03:30:33</td>\n",
       "    </tr>\n",
       "    <tr>\n",
       "      <th>7</th>\n",
       "      <td>36</td>\n",
       "      <td>UK</td>\n",
       "      <td>29</td>\n",
       "      <td>m</td>\n",
       "      <td>2003-03-27 12:17:12</td>\n",
       "    </tr>\n",
       "    <tr>\n",
       "      <th>8</th>\n",
       "      <td>42</td>\n",
       "      <td>RU</td>\n",
       "      <td>30</td>\n",
       "      <td>m</td>\n",
       "      <td>2003-04-10 01:07:48</td>\n",
       "    </tr>\n",
       "    <tr>\n",
       "      <th>...</th>\n",
       "      <td>...</td>\n",
       "      <td>...</td>\n",
       "      <td>...</td>\n",
       "      <td>...</td>\n",
       "      <td>...</td>\n",
       "    </tr>\n",
       "    <tr>\n",
       "      <th>15242</th>\n",
       "      <td>119397</td>\n",
       "      <td>SK</td>\n",
       "      <td>31</td>\n",
       "      <td>m</td>\n",
       "      <td>2012-05-25 17:41:55</td>\n",
       "    </tr>\n",
       "    <tr>\n",
       "      <th>15243</th>\n",
       "      <td>119516</td>\n",
       "      <td>RU</td>\n",
       "      <td>19</td>\n",
       "      <td>m</td>\n",
       "      <td>2012-05-26 10:23:12</td>\n",
       "    </tr>\n",
       "    <tr>\n",
       "      <th>15252</th>\n",
       "      <td>119957</td>\n",
       "      <td>PL</td>\n",
       "      <td>16</td>\n",
       "      <td>f</td>\n",
       "      <td>2012-05-28 19:59:37</td>\n",
       "    </tr>\n",
       "    <tr>\n",
       "      <th>15254</th>\n",
       "      <td>120095</td>\n",
       "      <td>RU</td>\n",
       "      <td>20</td>\n",
       "      <td>f</td>\n",
       "      <td>2012-05-29 21:19:14</td>\n",
       "    </tr>\n",
       "    <tr>\n",
       "      <th>15256</th>\n",
       "      <td>120319</td>\n",
       "      <td>BY</td>\n",
       "      <td>19</td>\n",
       "      <td>f</td>\n",
       "      <td>2012-07-19 22:07:27</td>\n",
       "    </tr>\n",
       "  </tbody>\n",
       "</table>\n",
       "<p>9800 rows × 5 columns</p>\n",
       "</div>"
      ],
      "text/plain": [
       "       user_id country  age gender        creation_time\n",
       "0            2      UK   35      m  2002-10-29 01:00:00\n",
       "2           14      UK   48      m  2003-02-18 21:44:13\n",
       "3           15      US   28      m  2003-02-24 03:30:33\n",
       "7           36      UK   29      m  2003-03-27 12:17:12\n",
       "8           42      RU   30      m  2003-04-10 01:07:48\n",
       "...        ...     ...  ...    ...                  ...\n",
       "15242   119397      SK   31      m  2012-05-25 17:41:55\n",
       "15243   119516      RU   19      m  2012-05-26 10:23:12\n",
       "15252   119957      PL   16      f  2012-05-28 19:59:37\n",
       "15254   120095      RU   20      f  2012-05-29 21:19:14\n",
       "15256   120319      BY   19      f  2012-07-19 22:07:27\n",
       "\n",
       "[9800 rows x 5 columns]"
      ]
     },
     "execution_count": 13,
     "metadata": {},
     "output_type": "execute_result"
    }
   ],
   "source": [
    "users_subset = users[users['user_id'].isin(listening_events_subset['user_id'].unique())]\n",
    "users_subset.to_csv('data/lfm/%s_users.tsv' % name, sep='\\t', index=False)\n",
    "users_subset"
   ]
  },
  {
   "cell_type": "code",
   "execution_count": 14,
   "id": "5fcf537c-77a1-4c85-b73b-0bb0d7faffa7",
   "metadata": {},
   "outputs": [
    {
     "data": {
      "text/html": [
       "<div>\n",
       "<style scoped>\n",
       "    .dataframe tbody tr th:only-of-type {\n",
       "        vertical-align: middle;\n",
       "    }\n",
       "\n",
       "    .dataframe tbody tr th {\n",
       "        vertical-align: top;\n",
       "    }\n",
       "\n",
       "    .dataframe thead th {\n",
       "        text-align: right;\n",
       "    }\n",
       "</style>\n",
       "<table border=\"1\" class=\"dataframe\">\n",
       "  <thead>\n",
       "    <tr style=\"text-align: right;\">\n",
       "      <th></th>\n",
       "      <th>album_id</th>\n",
       "      <th>artist</th>\n",
       "      <th>album</th>\n",
       "    </tr>\n",
       "  </thead>\n",
       "  <tbody>\n",
       "    <tr>\n",
       "      <th>2</th>\n",
       "      <td>167</td>\n",
       "      <td>!!!</td>\n",
       "      <td>NaN</td>\n",
       "    </tr>\n",
       "    <tr>\n",
       "      <th>27</th>\n",
       "      <td>1044</td>\n",
       "      <td>Blue Gene Tyranny</td>\n",
       "      <td>NaN</td>\n",
       "    </tr>\n",
       "    <tr>\n",
       "      <th>35</th>\n",
       "      <td>1196</td>\n",
       "      <td>Changing of the Seasons</td>\n",
       "      <td>NaN</td>\n",
       "    </tr>\n",
       "    <tr>\n",
       "      <th>73</th>\n",
       "      <td>1933</td>\n",
       "      <td>Heart Attack</td>\n",
       "      <td>NaN</td>\n",
       "    </tr>\n",
       "    <tr>\n",
       "      <th>136</th>\n",
       "      <td>2931</td>\n",
       "      <td>No No Play Safe Song | +More Nursery Rhymes &amp; ...</td>\n",
       "      <td>NaN</td>\n",
       "    </tr>\n",
       "    <tr>\n",
       "      <th>...</th>\n",
       "      <td>...</td>\n",
       "      <td>...</td>\n",
       "      <td>...</td>\n",
       "    </tr>\n",
       "    <tr>\n",
       "      <th>1676954</th>\n",
       "      <td>24232012</td>\n",
       "      <td>DIR EN GREY</td>\n",
       "      <td>ＭＡＣＡＢＲＥ</td>\n",
       "    </tr>\n",
       "    <tr>\n",
       "      <th>1676977</th>\n",
       "      <td>24233751</td>\n",
       "      <td>DIR EN GREY</td>\n",
       "      <td>ＴＨＥ　ＵＮＲＡＶＥＬＩＮＧ</td>\n",
       "    </tr>\n",
       "    <tr>\n",
       "      <th>1676979</th>\n",
       "      <td>24234103</td>\n",
       "      <td>ONE OK ROCK</td>\n",
       "      <td>Ｔｈｅ　Ｂｅｇｉｎｎｉｎｇ</td>\n",
       "    </tr>\n",
       "    <tr>\n",
       "      <th>1676986</th>\n",
       "      <td>24234395</td>\n",
       "      <td>DIR EN GREY</td>\n",
       "      <td>ＶＵＬＧＡＲ</td>\n",
       "    </tr>\n",
       "    <tr>\n",
       "      <th>1676994</th>\n",
       "      <td>24234610</td>\n",
       "      <td>Song of Chu</td>\n",
       "      <td>Ｙａｎ　Ｈｕａｎｇ</td>\n",
       "    </tr>\n",
       "  </tbody>\n",
       "</table>\n",
       "<p>296620 rows × 3 columns</p>\n",
       "</div>"
      ],
      "text/plain": [
       "         album_id                                             artist  \\\n",
       "2             167                                                !!!   \n",
       "27           1044                                  Blue Gene Tyranny   \n",
       "35           1196                            Changing of the Seasons   \n",
       "73           1933                                       Heart Attack   \n",
       "136          2931  No No Play Safe Song | +More Nursery Rhymes & ...   \n",
       "...           ...                                                ...   \n",
       "1676954  24232012                                        DIR EN GREY   \n",
       "1676977  24233751                                        DIR EN GREY   \n",
       "1676979  24234103                                        ONE OK ROCK   \n",
       "1676986  24234395                                        DIR EN GREY   \n",
       "1676994  24234610                                        Song of Chu   \n",
       "\n",
       "                  album  \n",
       "2                   NaN  \n",
       "27                  NaN  \n",
       "35                  NaN  \n",
       "73                  NaN  \n",
       "136                 NaN  \n",
       "...                 ...  \n",
       "1676954         ＭＡＣＡＢＲＥ  \n",
       "1676977  ＴＨＥ　ＵＮＲＡＶＥＬＩＮＧ  \n",
       "1676979   Ｔｈｅ　Ｂｅｇｉｎｎｉｎｇ  \n",
       "1676986          ＶＵＬＧＡＲ  \n",
       "1676994       Ｙａｎ　Ｈｕａｎｇ  \n",
       "\n",
       "[296620 rows x 3 columns]"
      ]
     },
     "execution_count": 14,
     "metadata": {},
     "output_type": "execute_result"
    }
   ],
   "source": [
    "albums_subset = albums[albums['album_id'].isin(listening_events_subset['album_id'].unique())]\n",
    "albums_subset.to_csv('data/lfm/%s_albums.tsv' % name, sep='\\t', index=False)\n",
    "albums_subset"
   ]
  },
  {
   "cell_type": "markdown",
   "id": "6cd4ea31-ecc2-477f-8c52-8279c4152fd7",
   "metadata": {},
   "source": [
    "# Create KG files"
   ]
  },
  {
   "cell_type": "code",
   "execution_count": 15,
   "id": "0375c041-0263-4ee6-bb64-a3c5ebd68cad",
   "metadata": {},
   "outputs": [],
   "source": [
    "#csv.field_size_limit(sys.maxsize)"
   ]
  },
  {
   "cell_type": "markdown",
   "id": "1cbafa10-e8d6-455c-98c8-d185e736259a",
   "metadata": {},
   "source": [
    "## Entities\n",
    "\n",
    "- user\n",
    "- artist\n",
    "- album\n",
    "- track\n",
    "- genre\n",
    "\n",
    "**Additional information:**\n",
    "- gender\n",
    "- country"
   ]
  },
  {
   "cell_type": "markdown",
   "id": "f1c251f4-1215-473d-8af1-e67630ddcb4d",
   "metadata": {},
   "source": [
    "#### Users"
   ]
  },
  {
   "cell_type": "code",
   "execution_count": 16,
   "id": "67cc3a20-73ba-4e07-bcac-bb98b7f01d15",
   "metadata": {},
   "outputs": [],
   "source": [
    "path = 'data/lfm'\n",
    "path_prefix = 'data/lfm/intermediate_kg'\n",
    "read_path_prefix = 'data/lfm/%s' % name\n",
    "write_path_prefix = 'data/lfm/intermediate_kg/%s' % name"
   ]
  },
  {
   "cell_type": "code",
   "execution_count": 17,
   "id": "62e48cc1-1a7a-4ef1-a6f9-92a0b2951a99",
   "metadata": {},
   "outputs": [
    {
     "name": "stderr",
     "output_type": "stream",
     "text": [
      "9801it [00:00, 420976.69it/s]\n"
     ]
    },
    {
     "name": "stdout",
     "output_type": "stream",
     "text": [
      "['user_id', 'country', 'age', 'gender', 'creation_time']\n",
      "done.\n"
     ]
    }
   ],
   "source": [
    "# user_id, country, age, gender, creation_time\n",
    "with open(\"%s_users.tsv\" % read_path_prefix, \"r\", encoding='utf-8') as data, open(\"%s_users.txt\" % write_path_prefix, \"w\") as f:\n",
    "    datareader = csv.reader(data, quoting=csv.QUOTE_NONE)\n",
    "    \n",
    "    for i, row in tqdm(enumerate(datareader)):\n",
    "        if i == 0:\n",
    "            header = row[0].split(sep=\"\\t\")\n",
    "        if i != 0:\n",
    "            entry = row[0].split(sep=\"\\t\")\n",
    "            f.writelines(\"u\" + entry[0] + \"\\t\" + entry[1] + \"\\t\" + entry[2] + \"\\t\" + entry[3] + \"\\n\")\n",
    "            \n",
    "time.sleep(0.5)            \n",
    "\n",
    "print(header)\n",
    "print(\"done.\")"
   ]
  },
  {
   "cell_type": "markdown",
   "id": "7a3f2123-983f-42cc-b82c-98af5bc2f8ca",
   "metadata": {},
   "source": [
    "#### Artists"
   ]
  },
  {
   "cell_type": "code",
   "execution_count": 18,
   "id": "b51d7242-8376-474a-ab36-98608fcc60ab",
   "metadata": {},
   "outputs": [],
   "source": [
    "# artist_id, artist_name\n",
    "#with open(\"data/artists.tsv\", \"r\", encoding='utf-8') as data, open(\"data/kg/artists.txt\", \"w\") as f:\n",
    "#    datareader = csv.reader(data, quoting=csv.QUOTE_NONE)\n",
    "#    \n",
    "#    for i, row in tqdm(enumerate(datareader)):\n",
    "#        if i == 0:\n",
    "#            header = row[0].split(sep=\"\\t\")\n",
    "#        if i != 0:\n",
    "#            entry = row[0].split(sep=\"\\t\")\n",
    "#            f.writelines(\"a\" + entry[0] + \"\\t\" + str(entry[1].encode(\"utf-8\")) + \"\\n\")\n",
    "#            \n",
    "#time.sleep(0.5)            \n",
    "#\n",
    "#print(header)\n",
    "#print(\"done.\")"
   ]
  },
  {
   "cell_type": "markdown",
   "id": "ef3e0948-660a-4d9b-9b2b-a02e5b40cf44",
   "metadata": {},
   "source": [
    "#### Albums"
   ]
  },
  {
   "cell_type": "code",
   "execution_count": 19,
   "id": "0329603c-c731-49de-ab41-580ce447cd0f",
   "metadata": {},
   "outputs": [],
   "source": [
    "# album_id, album_name, artist_name\n",
    "#with open(\"data/albums.tsv\", \"r\", encoding='utf-8') as data, open(\"data/kg/albums.txt\", \"w\") as f:\n",
    "#    datareader = csv.reader(data, quoting=csv.QUOTE_NONE)\n",
    "#    \n",
    "#    for i, row in tqdm(enumerate(datareader)):\n",
    "#        if i == 0:\n",
    "#            header = row[0].split(sep=\"\\t\")\n",
    "#        if i != 0:\n",
    "#            entry = row[0].split(sep=\"\\t\")\n",
    "#            f.writelines(\"b\" + entry[0] + \"\\t\" + str(entry[1].encode(\"utf-8\")) +  \"\\n\")\n",
    "#            \n",
    "#time.sleep(0.5)\n",
    "#\n",
    "#print(header)\n",
    "#print(\"done.\")"
   ]
  },
  {
   "cell_type": "markdown",
   "id": "e29a3aaf-7279-44d1-8955-7347f2f4bb08",
   "metadata": {},
   "source": [
    "#### Tracks"
   ]
  },
  {
   "cell_type": "code",
   "execution_count": 20,
   "id": "ef32eee1-6204-40b4-838b-7004064c68fa",
   "metadata": {},
   "outputs": [
    {
     "name": "stderr",
     "output_type": "stream",
     "text": [
      "351015it [00:01, 306964.09it/s]\n"
     ]
    },
    {
     "name": "stdout",
     "output_type": "stream",
     "text": [
      "['track_id', 'artist', 'track']\n",
      "done.\n",
      "2080\n"
     ]
    }
   ],
   "source": [
    "# track_id, artist_name, track_name\n",
    "track_complete_dict = {}\n",
    "counter = 0\n",
    "with open(\"%s_tracks.tsv\" % read_path_prefix, \"r\", encoding='utf-8') as data, open(\"%s_tracks.txt\" % write_path_prefix, \"w\") as f:\n",
    "    datareader = csv.reader(data, quoting=csv.QUOTE_NONE)\n",
    "    \n",
    "    for i, row in tqdm(enumerate(datareader)):\n",
    "        if i == 0:\n",
    "            header = row[0].split(sep=\"\\t\")\n",
    "        if i != 0:\n",
    "            entry = row[0].split(sep=\"\\t\")\n",
    "            try:\n",
    "                f.writelines(\"t\" + entry[0] + \"\\t\" + str(entry[2].encode(\"utf-8\")) + \"\\n\")\n",
    "                track_id = \"t\" + entry[0]\n",
    "                if track_id not in track_complete_dict:\n",
    "                    track_complete_dict[track_id] = 0\n",
    "            except:\n",
    "                f.writelines(\"t\" + entry[0] + \"\\t\" + \"???\" + \"\\n\")\n",
    "                counter += 1\n",
    "            \n",
    "time.sleep(0.5)            \n",
    "\n",
    "print(header)\n",
    "print(\"done.\")\n",
    "print(counter)"
   ]
  },
  {
   "cell_type": "code",
   "execution_count": 21,
   "id": "b6178309-681d-4756-b781-31547fe1b5d6",
   "metadata": {},
   "outputs": [
    {
     "name": "stdout",
     "output_type": "stream",
     "text": [
      "348934\n"
     ]
    }
   ],
   "source": [
    "print(len(list(track_complete_dict.keys())))"
   ]
  },
  {
   "cell_type": "markdown",
   "id": "8e46b64f-f4b2-4eaf-a206-be940be6f0bc",
   "metadata": {},
   "source": [
    "#### Genres"
   ]
  },
  {
   "cell_type": "code",
   "execution_count": 22,
   "id": "a904251d-08bc-442e-ae7f-f04c1d986918",
   "metadata": {},
   "outputs": [],
   "source": [
    "#counter = 0\n",
    "#with open(\"data/micro_genre_tags.json\", \"r\", encoding='utf-8') as data, open(\"data/kg/genres.txt\", \"w\") as f:\n",
    "#    for line in tqdm(data):\n",
    "#        try:\n",
    "#            entry = json.loads(line)\n",
    "#            track_name = entry['_id']['track']\n",
    "#            artist_name = entry['_id']['artist']\n",
    "#            main_genre = list(entry['tags'].keys())[0]\n",
    "#            genres = \",\".join(list(entry['tags'].keys()))\n",
    "#\n",
    "#            f.writelines(track_name + \"\\t\" + artist_name + \"\\t\" + main_genre + \"\\t\" + genres + \"\\n\")\n",
    "#        except:\n",
    "#            counter += 1\n",
    "#            continue\n",
    "#            \n",
    "#time.sleep(0.5)            \n",
    "#\n",
    "#print(header)\n",
    "#print(\"done.\")\n",
    "#print(counter)"
   ]
  },
  {
   "cell_type": "markdown",
   "id": "6fdae85e-6810-4fab-be5b-94c6704b0194",
   "metadata": {},
   "source": [
    "#### Gender & Country"
   ]
  },
  {
   "cell_type": "code",
   "execution_count": 23,
   "id": "385526eb-076c-4676-9084-68910108285d",
   "metadata": {},
   "outputs": [
    {
     "name": "stderr",
     "output_type": "stream",
     "text": [
      "9800it [00:00, 1142290.44it/s]\n"
     ]
    },
    {
     "name": "stdout",
     "output_type": "stream",
     "text": [
      "done.\n",
      "9798\n",
      "9674\n"
     ]
    }
   ],
   "source": [
    "gdict = {}\n",
    "cdict = {}\n",
    "\n",
    "gcounter = 0\n",
    "ccounter = 0\n",
    "\n",
    "with open(\"%s_users.txt\" % write_path_prefix, \"r\") as data,\\\n",
    "open(\"%s/entities/%s_gender.txt\"  % (path_prefix, name), \"w\") as f,\\\n",
    "open(\"%s/entities/%s_country.txt\" % (path_prefix, name), \"w\") as f2:\n",
    "    datareader = csv.reader(data)\n",
    "    \n",
    "    for i, row in tqdm(enumerate(datareader)):\n",
    "        entry = row[0].split(sep=\"\\t\")\n",
    "        if entry[3] == \"\" or entry[3] in gdict:\n",
    "            gcounter += 1\n",
    "        else:\n",
    "            gdict[entry[3]] = 0\n",
    "            f.writelines(entry[3] + \"\\n\")\n",
    "            \n",
    "        if entry[1] == \"\" or entry[1] in cdict:\n",
    "            ccounter += 1\n",
    "        else:\n",
    "            cdict[entry[1]] = 0\n",
    "            f2.writelines(entry[1] + \"\\n\")\n",
    "            \n",
    "time.sleep(0.5)\n",
    "            \n",
    "print(\"done.\")\n",
    "print(gcounter)\n",
    "print(ccounter)"
   ]
  },
  {
   "cell_type": "markdown",
   "id": "a2a74df8-807c-434c-8324-e12b24c007a5",
   "metadata": {},
   "source": [
    "#### Country"
   ]
  },
  {
   "cell_type": "code",
   "execution_count": 24,
   "id": "16c73cc6-4992-4d4f-8239-393bb802f66d",
   "metadata": {},
   "outputs": [],
   "source": [
    "# DONE"
   ]
  },
  {
   "cell_type": "markdown",
   "id": "bc1c4dc3-9a07-4605-85d4-a18accb05479",
   "metadata": {},
   "source": [
    "## Relations\n",
    "\n",
    "- **listened_to:** _user_ listened_to _track_\n",
    "- **in_album:** _track_ in_album _album_\n",
    "- **created_by:** _track_ created_by _artist_\n",
    "- **has_genre**: _track_ has_genre _genre_\n",
    "\n",
    "**Additional information:**\n",
    "- **has_micro_genre**: _track_ has_micro_genre _genre_ (**or** instead of has_genre)\n",
    "- **has_gender**: _user_ has_gender _gender_\n",
    "- **lives_in**: _user_ lives_in _country_"
   ]
  },
  {
   "cell_type": "code",
   "execution_count": 25,
   "id": "84b480f9-ef00-48a9-bcb6-d6b0982bc04c",
   "metadata": {},
   "outputs": [],
   "source": [
    "# check genres.txt --> clean track and artist names, we filter it with that list?\n",
    "# create new dict mit track names, artist names and look up for all the relations\n",
    "\n",
    "# track_name, artist_name, main_genre, micro_genre\n",
    "\n",
    "#track_dict = {}\n",
    "\n",
    "#with open(\"data/kg/genres.txt\", \"r\") as data: #, open(\"data/kg/tracks.txt\", \"w\") as f:\n",
    "#    datareader = csv.reader(data)\n",
    "    \n",
    "#    for i, row in tqdm(enumerate(datareader)):\n",
    "#        try:\n",
    "#            helper = row[0].split(\"\\t\")\n",
    "#            track_name = helper[0]\n",
    "#            artist_name = helper[1]\n",
    "#            main_genre = helper[2]\n",
    "#            micro_genre = row[1:]\n",
    "#        except:\n",
    "#            row = \", \".join(row)\n",
    "#            helper = row.split(\"\\t\")\n",
    "            \n",
    "#            track_name = helper[0]\n",
    "#            artist_name = helper[1]\n",
    "#            main_genre = helper[2]\n",
    "#            micro_genre = helper[3].split(\",\")[1:]\n",
    "#            continue\n",
    "        \n",
    "#        key = track_name # + \" || \" + artist_name\n",
    "        \n",
    "#        if key not in track_dict:\n",
    "#            track_dict[key] = {}\n",
    "#            track_dict[key][\"artist\"] = artist_name\n",
    "#            track_dict[key][\"main_genre\"] = main_genre\n",
    "#            track_dict[key][\"micro_genre\"] = micro_genre\n",
    "        \n",
    "#print(\"saving...\")\n",
    "\n",
    "#joblib.dump(track_dict, \"data/kg/track_dict.pkl\")\n",
    "\n",
    "#print(\"done.\")"
   ]
  },
  {
   "cell_type": "markdown",
   "id": "8bc44dd3-59bc-4a61-87aa-477ef00a8080",
   "metadata": {},
   "source": [
    "#### listened_to"
   ]
  },
  {
   "cell_type": "code",
   "execution_count": 26,
   "id": "310edf12-7050-4035-8260-feec0377e041",
   "metadata": {},
   "outputs": [
    {
     "name": "stderr",
     "output_type": "stream",
     "text": [
      "8381828it [00:20, 399497.93it/s]\n"
     ]
    },
    {
     "name": "stdout",
     "output_type": "stream",
     "text": [
      "['user_id', 'track_id', 'album_id', 'timestamp']\n",
      "done.\n",
      "0\n"
     ]
    }
   ],
   "source": [
    "# user_id, track_id, album_id, timestamp\n",
    "counter = 0\n",
    "counts_dict = {}\n",
    "track_dict = {}\n",
    "with open(\"%s_listening_events.tsv\" % (read_path_prefix), \"r\") as data, open(\"%s/relations/%s_listened_to.txt\" % (path_prefix, name), \"w\") as f:\n",
    "    datareader = csv.reader(data)\n",
    "    \n",
    "    for i, row in tqdm(enumerate(datareader)):\n",
    "        if i == 0:\n",
    "            header = row[0].split(sep=\"\\t\")\n",
    "        if i != 0:\n",
    "            entry = row[0].split(sep=\"\\t\")\n",
    "            \n",
    "            track_id = \"t\" + entry[1]\n",
    "            if track_id not in track_dict:\n",
    "                track_dict[track_id] = 0\n",
    "            \n",
    "            key = \"u\" + entry[0] + \", \" + \"listened_to\" + \", \" + \"t\" + entry[1]\n",
    "            if key not in counts_dict:\n",
    "                counts_dict[key] = 0\n",
    "                f.writelines(\"u\" + entry[0] + \"\\t\" + \"listened_to\" + \"\\t\" + \"t\" + entry[1] + \"\\n\")\n",
    "            else:\n",
    "                counts_dict[key] += 1\n",
    "                \n",
    "            #try:\n",
    "            #    f.writelines(\"u\" + entry[0] + \"\\t\" + \"listened_to\" + \"\\t\" + \"t\" + entry[1] + \"\\n\")\n",
    "            #except:\n",
    "            #    counter += 1\n",
    "            #    continue\n",
    "            \n",
    "time.sleep(0.5)            \n",
    "\n",
    "print(header)\n",
    "print(\"done.\")\n",
    "print(counter)"
   ]
  },
  {
   "cell_type": "code",
   "execution_count": 27,
   "id": "ae613cbe-816e-43b9-b1f3-41c7ea403969",
   "metadata": {},
   "outputs": [
    {
     "name": "stdout",
     "output_type": "stream",
     "text": [
      "351013\n"
     ]
    }
   ],
   "source": [
    "print(len(list(track_dict.keys())))"
   ]
  },
  {
   "cell_type": "markdown",
   "id": "ec7f248f-4c41-4886-b2f7-50ac09e15059",
   "metadata": {},
   "source": [
    "#### created_by & has_genre & has_micro_genre & in_album"
   ]
  },
  {
   "cell_type": "code",
   "execution_count": 28,
   "id": "ea5cc9d3-0b54-4ca2-beab-bc2290d1da23",
   "metadata": {},
   "outputs": [
    {
     "name": "stderr",
     "output_type": "stream",
     "text": [
      "3602111it [00:27, 131969.17it/s]\n"
     ]
    },
    {
     "name": "stdout",
     "output_type": "stream",
     "text": [
      "done.\n",
      "3445276\n"
     ]
    }
   ],
   "source": [
    "counter = 0\n",
    "\n",
    "artist_dict = {}\n",
    "album_dict = {}\n",
    "type_dict = {}\n",
    "genre_dict = {}\n",
    "check_dict = {}\n",
    "\n",
    "with open(\"%s/micro_genre_tags_new.json\" % path, \"r\", encoding='utf-8') as data,\\\n",
    "open(\"%s/relations/%s_has_genre.txt\" % (path_prefix, name), \"w\", encoding='utf-8') as f1,\\\n",
    "open(\"%s/relations/%s_has_micro_genre.txt\" % (path_prefix, name), \"w\", encoding='utf-8') as f2,\\\n",
    "open(\"%s/relations/%s_in_album.txt\" % (path_prefix, name), \"w\", encoding='utf-8') as f3,\\\n",
    "open(\"%s/relations/%s_created_by.txt\" % (path_prefix, name), \"w\", encoding='utf-8') as f4,\\\n",
    "open(\"%s/entities/%s_artist.txt\" % (path_prefix, name), \"w\", encoding='utf-8') as e1,\\\n",
    "open(\"%s/entities/%s_album.txt\" % (path_prefix, name), \"w\", encoding='utf-8') as e2,\\\n",
    "open(\"%s/entities/%s_artist_type.txt\" % (path_prefix, name), \"w\", encoding='utf-8') as e3,\\\n",
    "open(\"%s/entities/%s_genre.txt\" % (path_prefix, name), \"w\", encoding='utf-8') as e4,\\\n",
    "open(\"%s/entities/%s_track.txt\" % (path_prefix, name), \"w\", encoding='utf-8') as t: #?????????\n",
    "    for line in tqdm(data):\n",
    "        entry = json.loads(line)\n",
    "        #print(entry)\n",
    "        track_id = str(entry['_id'])\n",
    "        track_name = str(entry['track']['track']) #?????????\n",
    "        main_genre = str(list(entry['tags'].keys())[0])\n",
    "        micro_genre = list(entry['tags'].keys())[1:]\n",
    "        \n",
    "        artist_id = str(entry['artist']['artist_id'])\n",
    "        artist_name = str(entry['artist']['artist'])\n",
    "        artist_gender = str(entry['artist']['gender'])\n",
    "        artist_type = str(entry['artist']['type'])\n",
    "        \n",
    "        album_id = str(entry['album']['album_id'])\n",
    "        album_name = str(entry['album']['album'])\n",
    "        \n",
    "        check = \"t\" + track_id\n",
    "        if check in track_dict:\n",
    "            if check not in check_dict: #?????????\n",
    "                check_dict[check] = 0\n",
    "                track_dict[check] = track_name\n",
    "                t.writelines(check + \"\\t\" + track_name + \"\\n\")\n",
    "                \n",
    "            if artist_id not in artist_dict:\n",
    "                artist_dict[artist_id] = 0\n",
    "                e1.writelines(\"a\" + artist_id + \"\\t\" + artist_name + \"\\t\" + artist_gender + \"\\t\" + artist_type + \"\\n\")\n",
    "\n",
    "            if album_id not in album_dict:\n",
    "                album_dict[album_id] = 0\n",
    "                e2.writelines(\"b\" + album_id + \"\\t\" + album_name + \"\\n\")\n",
    "\n",
    "            if artist_type not in type_dict:\n",
    "                type_dict[artist_type] = 0\n",
    "                e3.writelines(artist_type + \"\\n\")\n",
    "\n",
    "            if main_genre not in genre_dict:\n",
    "                genre_dict[main_genre] = 0\n",
    "                e4.writelines(main_genre + \"\\n\")\n",
    "\n",
    "            for micro in micro_genre:\n",
    "                m = str(micro)\n",
    "                if m not in genre_dict:\n",
    "                    genre_dict[m] = 0\n",
    "                    e4.writelines(m + \"\\n\")\n",
    "\n",
    "            created_by = \"t\" + track_id + \"\\t\" + \"created_by\" + \"\\t\" + \"a\" + artist_id + \"\\n\"\n",
    "            f4.writelines(created_by)\n",
    "            #print(created_by)\n",
    "            has_genre = \"t\" + track_id + \"\\t\" + \"has_genre\" + \"\\t\" + main_genre + \"\\n\"\n",
    "            f1.writelines(has_genre)\n",
    "            #print(has_genre)\n",
    "            for micro in micro_genre:\n",
    "                has_micro_genre = \"t\" + track_id + \"\\t\" + \"has_micro_genre\" + \"\\t\" + micro + \"\\n\"\n",
    "                f2.writelines(has_micro_genre)\n",
    "            #    print(has_micro_genre)\n",
    "            in_album = \"t\" + track_id + \"\\t\" + \"in_album\" + \"\\t\" + \"b\" + album_id + \"\\n\"\n",
    "            f3.writelines(in_album)\n",
    "            #print(in_album)\n",
    "        else:\n",
    "            counter += 1\n",
    "            \n",
    "time.sleep(0.5)            \n",
    "\n",
    "print(\"done.\")\n",
    "print(counter)"
   ]
  },
  {
   "cell_type": "code",
   "execution_count": 29,
   "id": "8e2f055d-377c-491d-b0eb-00c1e5ab3bb2",
   "metadata": {},
   "outputs": [
    {
     "name": "stdout",
     "output_type": "stream",
     "text": [
      "156835\n"
     ]
    }
   ],
   "source": [
    "print(len(list(check_dict.keys())))"
   ]
  },
  {
   "cell_type": "code",
   "execution_count": 30,
   "id": "1a21138e-827c-4f5c-95fe-378f6f59ca67",
   "metadata": {},
   "outputs": [
    {
     "name": "stderr",
     "output_type": "stream",
     "text": [
      "100%|███████████████████████████████| 351013/351013 [00:00<00:00, 730710.49it/s]\n"
     ]
    },
    {
     "name": "stdout",
     "output_type": "stream",
     "text": [
      "done.\n"
     ]
    }
   ],
   "source": [
    "with open(\"%s/entities/%s_track_new.txt\" % (path_prefix, name), \"w\", encoding='utf-8') as t:\n",
    "    for key, value in tqdm(track_dict.items()):\n",
    "        track_id = key\n",
    "        track_name = value\n",
    "        \n",
    "        if track_name == 0:\n",
    "            track_name = \"???\"\n",
    "            \n",
    "        t.writelines(track_id + \"\\t\" + track_name + \"\\n\")\n",
    "        \n",
    "time.sleep(0.5)\n",
    "        \n",
    "print(\"done.\")"
   ]
  },
  {
   "cell_type": "markdown",
   "id": "dac8d836-a3a8-447e-9225-559c5c1439e5",
   "metadata": {},
   "source": [
    "#### in_album"
   ]
  },
  {
   "cell_type": "code",
   "execution_count": 31,
   "id": "ca937e6b-7c6b-48c1-adc4-2fe351f879ad",
   "metadata": {},
   "outputs": [],
   "source": [
    "# DONE"
   ]
  },
  {
   "cell_type": "markdown",
   "id": "08ef4339-bc02-431d-9ebc-68a102b4b960",
   "metadata": {},
   "source": [
    "#### has_genre"
   ]
  },
  {
   "cell_type": "code",
   "execution_count": 32,
   "id": "3da02a36-b960-456a-b427-1497f7c2b007",
   "metadata": {},
   "outputs": [],
   "source": [
    "# DONE"
   ]
  },
  {
   "cell_type": "markdown",
   "id": "e14c260b-9f17-4407-8f50-3602ad96dc83",
   "metadata": {},
   "source": [
    "#### has_micro_genre"
   ]
  },
  {
   "cell_type": "code",
   "execution_count": 33,
   "id": "6ad3c0df-8389-42d3-8ae4-73932fb20e50",
   "metadata": {},
   "outputs": [],
   "source": [
    "# DONE"
   ]
  },
  {
   "cell_type": "markdown",
   "id": "8c40edf7-9584-4491-907e-fb907de2bc91",
   "metadata": {},
   "source": [
    "#### has_gender & lives_in"
   ]
  },
  {
   "cell_type": "code",
   "execution_count": 34,
   "id": "dbaecf22-c5e0-4e36-9086-e417df99c45d",
   "metadata": {},
   "outputs": [
    {
     "name": "stderr",
     "output_type": "stream",
     "text": [
      "9800it [00:00, 350281.89it/s]\n"
     ]
    },
    {
     "name": "stdout",
     "output_type": "stream",
     "text": [
      "done.\n",
      "0\n",
      "368\n"
     ]
    }
   ],
   "source": [
    "# user_id, country, age, gender, creation_time\n",
    "gcounter = 0\n",
    "ccounter = 0\n",
    "with open(\"%s_users.txt\" % write_path_prefix, \"r\") as data,\\\n",
    "open(\"%s/relations/%s_has_gender.txt\" % (path_prefix, name), \"w\") as f,\\\n",
    "open(\"%s/relations/%slives_in.txt\" % (path_prefix, name), \"w\") as f2:\n",
    "    datareader = csv.reader(data)\n",
    "    \n",
    "    for i, row in tqdm(enumerate(datareader)):\n",
    "        entry = row[0].split(sep=\"\\t\")\n",
    "        if entry[3] == \"\":\n",
    "            gcounter += 1\n",
    "        else:\n",
    "            f.writelines(entry[0] + \"\\t\" + \"has_gender\" + \"\\t\" + entry[3] + \"\\n\")\n",
    "            \n",
    "        if entry[1] == \"\":\n",
    "            ccounter += 1\n",
    "        else:\n",
    "            f2.writelines(entry[0] + \"\\t\" + \"lives_in\" + \"\\t\" + entry[1] + \"\\n\")\n",
    "            \n",
    "time.sleep(0.5)\n",
    "print(\"done.\")\n",
    "print(gcounter)\n",
    "print(ccounter)"
   ]
  },
  {
   "cell_type": "markdown",
   "id": "42374ee4-3250-4d72-9e27-febd5818897a",
   "metadata": {},
   "source": [
    "#### lives_in"
   ]
  },
  {
   "cell_type": "code",
   "execution_count": 35,
   "id": "7886bf99-6a50-4bde-8fd2-23c9a13c8af7",
   "metadata": {},
   "outputs": [],
   "source": [
    "# DONE"
   ]
  },
  {
   "cell_type": "markdown",
   "id": "dcdf922f-da6a-4117-ab32-413c716901c4",
   "metadata": {},
   "source": [
    "## Create KG File"
   ]
  },
  {
   "cell_type": "code",
   "execution_count": 36,
   "id": "73177749-fd99-4375-a4c7-6c7033b66adb",
   "metadata": {},
   "outputs": [
    {
     "name": "stderr",
     "output_type": "stream",
     "text": [
      "50percent_subset_has_micro_genre.txt: 640917it [00:01, 433719.76it/s]\n",
      "50percent_subset_listened_to.txt: 3507973it [00:06, 534939.52it/s]\n",
      "50percent_subset_has_genre.txt: 156835it [00:00, 510191.73it/s]\n",
      "50percent_subset_has_gender.txt: 9800it [00:00, 658879.20it/s]\n",
      "50percent_subset_in_album.txt: 156835it [00:00, 535267.41it/s]\n",
      "50percent_subsetlives_in.txt: 9432it [00:00, 514643.88it/s]\n",
      "50percent_subset_created_by.txt: 156835it [00:00, 502143.24it/s]\n"
     ]
    }
   ],
   "source": [
    "directory = '%s/relations' % path_prefix\n",
    " \n",
    "with open('%s_kg.txt' % write_path_prefix, \"w\") as kg:\n",
    "    for filename in os.listdir(directory):\n",
    "        f = os.path.join(directory, filename)\n",
    "        with open(f, \"r\") as rel:\n",
    "            datareader = csv.reader(rel)\n",
    "            for i, row in tqdm(enumerate(datareader), desc=filename):\n",
    "                kg.writelines(row[0] + \"\\n\")"
   ]
  },
  {
   "cell_type": "code",
   "execution_count": 37,
   "id": "ac3f3213-3491-42dc-ab39-5d462dc4ad39",
   "metadata": {},
   "outputs": [
    {
     "name": "stderr",
     "output_type": "stream",
     "text": [
      "50percent_subset_has_micro_genre.txt: 640917it [00:01, 436980.40it/s]\n",
      "50percent_subset_listened_to.txt: 3507973it [00:06, 540294.16it/s]\n",
      "50percent_subset_has_genre.txt: 156835it [00:00, 523993.99it/s]\n",
      "50percent_subset_has_gender.txt: 9800it [00:00, 674314.34it/s]\n",
      "50percent_subset_in_album.txt: 156835it [00:00, 537170.10it/s]\n",
      "50percent_subsetlives_in.txt: 9432it [00:00, 666127.99it/s]\n",
      "50percent_subset_created_by.txt: 156835it [00:00, 506380.95it/s]\n"
     ]
    }
   ],
   "source": [
    "directory = '%s/relations' % path_prefix\n",
    " \n",
    "with open('%s_kg_no_gender.txt' % write_path_prefix, \"w\") as kg:\n",
    "    for filename in os.listdir(directory):\n",
    "        if filename == 'has_gender.txt':\n",
    "            continue\n",
    "        f = os.path.join(directory, filename)\n",
    "        with open(f, \"r\") as rel:\n",
    "            datareader = csv.reader(rel)\n",
    "            for i, row in tqdm(enumerate(datareader), desc=filename):\n",
    "                kg.writelines(row[0] + \"\\n\")"
   ]
  },
  {
   "cell_type": "markdown",
   "id": "677f8938-be1e-4155-b6bd-59f01e1ed448",
   "metadata": {},
   "source": [
    "# Create the dataset files for RecBole"
   ]
  },
  {
   "cell_type": "markdown",
   "id": "53c2d31b-9ccc-4911-9e60-5f5ea6555e01",
   "metadata": {},
   "source": [
    "### Dataset structure\n",
    "Recbole knowledge aware datasets require three files: .inter, .g, .link files. \n",
    "\n",
    "| File | Description |\n",
    "|------|-------------|\n",
    "|.inter|User-Item interaction|\n",
    "|.kg| head, relation, tail|\n",
    "|.link|item_id to entity_id|"
   ]
  },
  {
   "cell_type": "markdown",
   "id": "03910878-779a-44ee-b8ab-a03c6b45fa35",
   "metadata": {},
   "source": [
    "## Create atomic files"
   ]
  },
  {
   "cell_type": "markdown",
   "id": "99db51bc-ada7-49c0-b063-ad4b9a7b2840",
   "metadata": {},
   "source": [
    " Add type info to kg generated by David"
   ]
  },
  {
   "cell_type": "code",
   "execution_count": 38,
   "id": "ef265d02-03c3-4981-89f5-12a4d01df57e",
   "metadata": {},
   "outputs": [],
   "source": [
    "dataset = name\n",
    "path = 'data/lfm'\n",
    "kg_path = '%s/intermediate_kg/%s' % (path, dataset)\n",
    "prefixed_path = '%s/%s' % (path,dataset)"
   ]
  },
  {
   "cell_type": "code",
   "execution_count": 39,
   "id": "af22a812-5725-46ed-a4fb-e8b16e98aec6",
   "metadata": {},
   "outputs": [],
   "source": [
    "kg = pd.read_csv('%s_kg.txt' % kg_path, sep='\\t', names=['head_id:token', 'relation_id:token', 'tail_id:token'])"
   ]
  },
  {
   "cell_type": "code",
   "execution_count": 40,
   "id": "355b71a7-8eb1-48d1-9332-047dad7cd819",
   "metadata": {},
   "outputs": [
    {
     "data": {
      "text/html": [
       "<div>\n",
       "<style scoped>\n",
       "    .dataframe tbody tr th:only-of-type {\n",
       "        vertical-align: middle;\n",
       "    }\n",
       "\n",
       "    .dataframe tbody tr th {\n",
       "        vertical-align: top;\n",
       "    }\n",
       "\n",
       "    .dataframe thead th {\n",
       "        text-align: right;\n",
       "    }\n",
       "</style>\n",
       "<table border=\"1\" class=\"dataframe\">\n",
       "  <thead>\n",
       "    <tr style=\"text-align: right;\">\n",
       "      <th></th>\n",
       "      <th>head_id:token</th>\n",
       "      <th>relation_id:token</th>\n",
       "      <th>tail_id:token</th>\n",
       "    </tr>\n",
       "  </thead>\n",
       "  <tbody>\n",
       "    <tr>\n",
       "      <th>0</th>\n",
       "      <td>t31469731</td>\n",
       "      <td>has_micro_genre</td>\n",
       "      <td>indie rock</td>\n",
       "    </tr>\n",
       "    <tr>\n",
       "      <th>1</th>\n",
       "      <td>t31469731</td>\n",
       "      <td>has_micro_genre</td>\n",
       "      <td>indie pop</td>\n",
       "    </tr>\n",
       "    <tr>\n",
       "      <th>2</th>\n",
       "      <td>t31469731</td>\n",
       "      <td>has_micro_genre</td>\n",
       "      <td>rock</td>\n",
       "    </tr>\n",
       "    <tr>\n",
       "      <th>3</th>\n",
       "      <td>t31469731</td>\n",
       "      <td>has_micro_genre</td>\n",
       "      <td>alternative rock</td>\n",
       "    </tr>\n",
       "    <tr>\n",
       "      <th>4</th>\n",
       "      <td>t31469731</td>\n",
       "      <td>has_micro_genre</td>\n",
       "      <td>synthpop</td>\n",
       "    </tr>\n",
       "  </tbody>\n",
       "</table>\n",
       "</div>"
      ],
      "text/plain": [
       "  head_id:token relation_id:token     tail_id:token\n",
       "0     t31469731   has_micro_genre        indie rock\n",
       "1     t31469731   has_micro_genre         indie pop\n",
       "2     t31469731   has_micro_genre              rock\n",
       "3     t31469731   has_micro_genre  alternative rock\n",
       "4     t31469731   has_micro_genre          synthpop"
      ]
     },
     "execution_count": 40,
     "metadata": {},
     "output_type": "execute_result"
    }
   ],
   "source": [
    "kg.head()"
   ]
  },
  {
   "cell_type": "code",
   "execution_count": 41,
   "id": "3d8349b6-ee68-461a-a936-1b2edd0d1f78",
   "metadata": {},
   "outputs": [
    {
     "data": {
      "text/plain": [
       "array(['has_micro_genre', 'listened_to', 'has_genre', 'has_gender',\n",
       "       'in_album', 'lives_in', 'created_by'], dtype=object)"
      ]
     },
     "execution_count": 41,
     "metadata": {},
     "output_type": "execute_result"
    }
   ],
   "source": [
    "kg['relation_id:token'].unique()"
   ]
  },
  {
   "cell_type": "code",
   "execution_count": 42,
   "id": "c02f7d6a-8926-462c-8a53-43beaa37c82b",
   "metadata": {},
   "outputs": [],
   "source": [
    "kg_no_listen_events = kg[kg['relation_id:token'] != 'listened_to']\n",
    "kg_no_listen_events.to_csv('data/rb_lfm/rb_lfm.kg', sep='\\t', index=False)"
   ]
  },
  {
   "cell_type": "code",
   "execution_count": 43,
   "id": "4a9c4731-e4ea-4665-943d-8ae705611d4f",
   "metadata": {},
   "outputs": [],
   "source": [
    "users = pd.read_csv('%s_users.tsv' % prefixed_path, sep='\\t', skiprows=[0], names=['user_id:token', 'country:token', 'age:token', 'gender:token', 'creation_time:token'])\n",
    "users.to_csv('data/rb_lfm/rb_lfm.user', sep='\\t', index=False)"
   ]
  },
  {
   "cell_type": "code",
   "execution_count": 44,
   "id": "8267e194-e516-4118-89ba-03f65311f066",
   "metadata": {},
   "outputs": [
    {
     "data": {
      "text/plain": [
       "9800"
      ]
     },
     "execution_count": 44,
     "metadata": {},
     "output_type": "execute_result"
    }
   ],
   "source": [
    "len(users)"
   ]
  },
  {
   "cell_type": "code",
   "execution_count": 45,
   "id": "0c12e542-5eda-4377-8586-32caa96966c4",
   "metadata": {
    "scrolled": true
   },
   "outputs": [],
   "source": [
    "items = pd.read_csv('%s_tracks.tsv' % prefixed_path, sep='\\t', skiprows=[0], names=['item_id:token', 'artist:token', 'track:token'])\n",
    "items.to_csv('data/rb_lfm/rb_lfm.item', sep='\\t', index=False)\n",
    "                    \n",
    "track_ids = pd.DataFrame(items['item_id:token'])\n",
    "track_ids['entity_id:token'] = 't' + track_ids['item_id:token'].astype(str)\n",
    "track_ids.to_csv('data/rb_lfm/rb_lfm.link', sep='\\t', index=False)"
   ]
  },
  {
   "cell_type": "code",
   "execution_count": 46,
   "id": "9c21c349-797f-48dc-83dc-84998067889a",
   "metadata": {},
   "outputs": [],
   "source": [
    "listening_events = pd.read_csv('%s_listening_events.tsv' % prefixed_path, sep='\\t', skiprows=[0], names=['user_id:token', 'item_id:token', 'album_id:token', 'timestamp:token'])\n",
    "listening_events.to_csv('data/rb_lfm/rb_lfm.inter', sep='\\t', index=False)"
   ]
  }
 ],
 "metadata": {
  "kernelspec": {
   "display_name": "Python 3 (ipykernel)",
   "language": "python",
   "name": "python3"
  },
  "language_info": {
   "codemirror_mode": {
    "name": "ipython",
    "version": 3
   },
   "file_extension": ".py",
   "mimetype": "text/x-python",
   "name": "python",
   "nbconvert_exporter": "python",
   "pygments_lexer": "ipython3",
   "version": "3.9.15"
  }
 },
 "nbformat": 4,
 "nbformat_minor": 5
}
