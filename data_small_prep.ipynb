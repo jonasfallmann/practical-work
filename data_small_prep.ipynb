{
 "cells": [
  {
   "cell_type": "code",
   "execution_count": 61,
   "id": "b106d267",
   "metadata": {},
   "outputs": [],
   "source": [
    "import numpy as np\n",
    "import pandas as pd\n",
    "import csv\n",
    "import time\n",
    "import sys\n",
    "import json\n",
    "import joblib\n",
    "import os\n",
    "\n",
    "from tqdm import tqdm"
   ]
  },
  {
   "cell_type": "code",
   "execution_count": 62,
   "id": "1f328d94",
   "metadata": {},
   "outputs": [],
   "source": [
    "#csv.field_size_limit(sys.maxsize)"
   ]
  },
  {
   "cell_type": "markdown",
   "id": "bf778495",
   "metadata": {},
   "source": [
    "## Entities\n",
    "\n",
    "- user\n",
    "- artist\n",
    "- album\n",
    "- track\n",
    "- genre\n",
    "\n",
    "**Additional information:**\n",
    "- gender\n",
    "- country"
   ]
  },
  {
   "cell_type": "markdown",
   "id": "d666408d",
   "metadata": {},
   "source": [
    "#### Users"
   ]
  },
  {
   "cell_type": "code",
   "execution_count": 63,
   "id": "484fce80",
   "metadata": {},
   "outputs": [],
   "source": [
    "name = '05percent_subset'"
   ]
  },
  {
   "cell_type": "code",
   "execution_count": 64,
   "id": "71808ec2",
   "metadata": {},
   "outputs": [],
   "source": [
    "path = 'data/lfm'\n",
    "path_prefix = 'data/lfm/intermediate_kg'\n",
    "read_path_prefix = 'data/lfm/%s' % name\n",
    "write_path_prefix = 'data/lfm/intermediate_kg/%s' % name"
   ]
  },
  {
   "cell_type": "code",
   "execution_count": 65,
   "id": "172261e2",
   "metadata": {},
   "outputs": [
    {
     "name": "stderr",
     "output_type": "stream",
     "text": [
      "14548it [00:00, 492392.33it/s]\n"
     ]
    },
    {
     "name": "stdout",
     "output_type": "stream",
     "text": [
      "['user_id', 'country', 'age', 'gender', 'creation_time']\n",
      "done.\n"
     ]
    }
   ],
   "source": [
    "# user_id, country, age, gender, creation_time\n",
    "with open(\"%s_users.tsv\" % read_path_prefix, \"r\", encoding='utf-8') as data, open(\"%s_users.txt\" % write_path_prefix, \"w\") as f:\n",
    "    datareader = csv.reader(data, quoting=csv.QUOTE_NONE)\n",
    "    \n",
    "    for i, row in tqdm(enumerate(datareader)):\n",
    "        if i == 0:\n",
    "            header = row[0].split(sep=\"\\t\")\n",
    "        if i != 0:\n",
    "            entry = row[0].split(sep=\"\\t\")\n",
    "            f.writelines(\"u\" + entry[0] + \"\\t\" + entry[1] + \"\\t\" + entry[2] + \"\\t\" + entry[3] + \"\\n\")\n",
    "            \n",
    "time.sleep(0.5)            \n",
    "\n",
    "print(header)\n",
    "print(\"done.\")"
   ]
  },
  {
   "cell_type": "markdown",
   "id": "51fc95f8",
   "metadata": {},
   "source": [
    "#### Artists"
   ]
  },
  {
   "cell_type": "code",
   "execution_count": 66,
   "id": "b520ee6f",
   "metadata": {},
   "outputs": [],
   "source": [
    "# artist_id, artist_name\n",
    "#with open(\"data/artists.tsv\", \"r\", encoding='utf-8') as data, open(\"data/kg/artists.txt\", \"w\") as f:\n",
    "#    datareader = csv.reader(data, quoting=csv.QUOTE_NONE)\n",
    "#    \n",
    "#    for i, row in tqdm(enumerate(datareader)):\n",
    "#        if i == 0:\n",
    "#            header = row[0].split(sep=\"\\t\")\n",
    "#        if i != 0:\n",
    "#            entry = row[0].split(sep=\"\\t\")\n",
    "#            f.writelines(\"a\" + entry[0] + \"\\t\" + str(entry[1].encode(\"utf-8\")) + \"\\n\")\n",
    "#            \n",
    "#time.sleep(0.5)            \n",
    "#\n",
    "#print(header)\n",
    "#print(\"done.\")"
   ]
  },
  {
   "cell_type": "markdown",
   "id": "b6073a06",
   "metadata": {},
   "source": [
    "#### Albums"
   ]
  },
  {
   "cell_type": "code",
   "execution_count": 67,
   "id": "a3dc3b1b",
   "metadata": {},
   "outputs": [],
   "source": [
    "# album_id, album_name, artist_name\n",
    "#with open(\"data/albums.tsv\", \"r\", encoding='utf-8') as data, open(\"data/kg/albums.txt\", \"w\") as f:\n",
    "#    datareader = csv.reader(data, quoting=csv.QUOTE_NONE)\n",
    "#    \n",
    "#    for i, row in tqdm(enumerate(datareader)):\n",
    "#        if i == 0:\n",
    "#            header = row[0].split(sep=\"\\t\")\n",
    "#        if i != 0:\n",
    "#            entry = row[0].split(sep=\"\\t\")\n",
    "#            f.writelines(\"b\" + entry[0] + \"\\t\" + str(entry[1].encode(\"utf-8\")) +  \"\\n\")\n",
    "#            \n",
    "#time.sleep(0.5)\n",
    "#\n",
    "#print(header)\n",
    "#print(\"done.\")"
   ]
  },
  {
   "cell_type": "markdown",
   "id": "3a3c7f06",
   "metadata": {},
   "source": [
    "#### Tracks"
   ]
  },
  {
   "cell_type": "code",
   "execution_count": 68,
   "id": "064536b0",
   "metadata": {},
   "outputs": [
    {
     "name": "stderr",
     "output_type": "stream",
     "text": [
      "204030it [00:00, 270698.27it/s]\n"
     ]
    },
    {
     "name": "stdout",
     "output_type": "stream",
     "text": [
      "['track_id', 'artist', 'track']\n",
      "done.\n",
      "2826\n"
     ]
    }
   ],
   "source": [
    "# track_id, artist_name, track_name\n",
    "track_complete_dict = {}\n",
    "counter = 0\n",
    "with open(\"%s_tracks.tsv\" % read_path_prefix, \"r\", encoding='utf-8') as data, open(\"%s_tracks.txt\" % write_path_prefix, \"w\") as f:\n",
    "    datareader = csv.reader(data, quoting=csv.QUOTE_NONE)\n",
    "    \n",
    "    for i, row in tqdm(enumerate(datareader)):\n",
    "        if i == 0:\n",
    "            header = row[0].split(sep=\"\\t\")\n",
    "        if i != 0:\n",
    "            entry = row[0].split(sep=\"\\t\")\n",
    "            try:\n",
    "                f.writelines(\"t\" + entry[0] + \"\\t\" + str(entry[2].encode(\"utf-8\")) + \"\\n\")\n",
    "                track_id = \"t\" + entry[0]\n",
    "                if track_id not in track_complete_dict:\n",
    "                    track_complete_dict[track_id] = 0\n",
    "            except:\n",
    "                f.writelines(\"t\" + entry[0] + \"\\t\" + \"???\" + \"\\n\")\n",
    "                counter += 1\n",
    "            \n",
    "time.sleep(0.5)            \n",
    "\n",
    "print(header)\n",
    "print(\"done.\")\n",
    "print(counter)"
   ]
  },
  {
   "cell_type": "code",
   "execution_count": 69,
   "id": "e837b10e",
   "metadata": {},
   "outputs": [
    {
     "name": "stdout",
     "output_type": "stream",
     "text": [
      "201203\n"
     ]
    }
   ],
   "source": [
    "print(len(list(track_complete_dict.keys())))"
   ]
  },
  {
   "cell_type": "markdown",
   "id": "450aef85",
   "metadata": {},
   "source": [
    "#### Genres"
   ]
  },
  {
   "cell_type": "code",
   "execution_count": 70,
   "id": "577ff52c",
   "metadata": {},
   "outputs": [],
   "source": [
    "#counter = 0\n",
    "#with open(\"data/micro_genre_tags.json\", \"r\", encoding='utf-8') as data, open(\"data/kg/genres.txt\", \"w\") as f:\n",
    "#    for line in tqdm(data):\n",
    "#        try:\n",
    "#            entry = json.loads(line)\n",
    "#            track_name = entry['_id']['track']\n",
    "#            artist_name = entry['_id']['artist']\n",
    "#            main_genre = list(entry['tags'].keys())[0]\n",
    "#            genres = \",\".join(list(entry['tags'].keys()))\n",
    "#\n",
    "#            f.writelines(track_name + \"\\t\" + artist_name + \"\\t\" + main_genre + \"\\t\" + genres + \"\\n\")\n",
    "#        except:\n",
    "#            counter += 1\n",
    "#            continue\n",
    "#            \n",
    "#time.sleep(0.5)            \n",
    "#\n",
    "#print(header)\n",
    "#print(\"done.\")\n",
    "#print(counter)"
   ]
  },
  {
   "cell_type": "markdown",
   "id": "8b4aafb6",
   "metadata": {},
   "source": [
    "#### Gender & Country"
   ]
  },
  {
   "cell_type": "code",
   "execution_count": 71,
   "id": "561ce758",
   "metadata": {},
   "outputs": [
    {
     "name": "stderr",
     "output_type": "stream",
     "text": [
      "14547it [00:00, 1061085.53it/s]\n"
     ]
    },
    {
     "name": "stdout",
     "output_type": "stream",
     "text": [
      "done.\n",
      "14544\n",
      "14399\n"
     ]
    }
   ],
   "source": [
    "gdict = {}\n",
    "cdict = {}\n",
    "\n",
    "gcounter = 0\n",
    "ccounter = 0\n",
    "\n",
    "with open(\"%s_users.txt\" % write_path_prefix, \"r\") as data,\\\n",
    "open(\"%s/entities/%s_gender.txt\"  % (path_prefix, name), \"w\") as f,\\\n",
    "open(\"%s/entities/%s_country.txt\" % (path_prefix, name), \"w\") as f2:\n",
    "    datareader = csv.reader(data)\n",
    "    \n",
    "    for i, row in tqdm(enumerate(datareader)):\n",
    "        entry = row[0].split(sep=\"\\t\")\n",
    "        if entry[3] == \"\" or entry[3] in gdict:\n",
    "            gcounter += 1\n",
    "        else:\n",
    "            gdict[entry[3]] = 0\n",
    "            f.writelines(entry[3] + \"\\n\")\n",
    "            \n",
    "        if entry[1] == \"\" or entry[1] in cdict:\n",
    "            ccounter += 1\n",
    "        else:\n",
    "            cdict[entry[1]] = 0\n",
    "            f2.writelines(entry[1] + \"\\n\")\n",
    "            \n",
    "time.sleep(0.5)\n",
    "            \n",
    "print(\"done.\")\n",
    "print(gcounter)\n",
    "print(ccounter)"
   ]
  },
  {
   "cell_type": "markdown",
   "id": "b24ca723",
   "metadata": {},
   "source": [
    "#### Country"
   ]
  },
  {
   "cell_type": "code",
   "execution_count": 72,
   "id": "03788db9",
   "metadata": {},
   "outputs": [],
   "source": [
    "# DONE"
   ]
  },
  {
   "cell_type": "markdown",
   "id": "30ff0f92",
   "metadata": {},
   "source": [
    "## Relations\n",
    "\n",
    "- **listened_to:** _user_ listened_to _track_\n",
    "- **in_album:** _track_ in_album _album_\n",
    "- **created_by:** _track_ created_by _artist_\n",
    "- **has_genre**: _track_ has_genre _genre_\n",
    "\n",
    "**Additional information:**\n",
    "- **has_micro_genre**: _track_ has_micro_genre _genre_ (**or** instead of has_genre)\n",
    "- **has_gender**: _user_ has_gender _gender_\n",
    "- **lives_in**: _user_ lives_in _country_"
   ]
  },
  {
   "cell_type": "code",
   "execution_count": 73,
   "id": "cabbb76f",
   "metadata": {},
   "outputs": [],
   "source": [
    "# check genres.txt --> clean track and artist names, we filter it with that list?\n",
    "# create new dict mit track names, artist names and look up for all the relations\n",
    "\n",
    "# track_name, artist_name, main_genre, micro_genre\n",
    "\n",
    "#track_dict = {}\n",
    "\n",
    "#with open(\"data/kg/genres.txt\", \"r\") as data: #, open(\"data/kg/tracks.txt\", \"w\") as f:\n",
    "#    datareader = csv.reader(data)\n",
    "    \n",
    "#    for i, row in tqdm(enumerate(datareader)):\n",
    "#        try:\n",
    "#            helper = row[0].split(\"\\t\")\n",
    "#            track_name = helper[0]\n",
    "#            artist_name = helper[1]\n",
    "#            main_genre = helper[2]\n",
    "#            micro_genre = row[1:]\n",
    "#        except:\n",
    "#            row = \", \".join(row)\n",
    "#            helper = row.split(\"\\t\")\n",
    "            \n",
    "#            track_name = helper[0]\n",
    "#            artist_name = helper[1]\n",
    "#            main_genre = helper[2]\n",
    "#            micro_genre = helper[3].split(\",\")[1:]\n",
    "#            continue\n",
    "        \n",
    "#        key = track_name # + \" || \" + artist_name\n",
    "        \n",
    "#        if key not in track_dict:\n",
    "#            track_dict[key] = {}\n",
    "#            track_dict[key][\"artist\"] = artist_name\n",
    "#            track_dict[key][\"main_genre\"] = main_genre\n",
    "#            track_dict[key][\"micro_genre\"] = micro_genre\n",
    "        \n",
    "#print(\"saving...\")\n",
    "\n",
    "#joblib.dump(track_dict, \"data/kg/track_dict.pkl\")\n",
    "\n",
    "#print(\"done.\")"
   ]
  },
  {
   "cell_type": "markdown",
   "id": "ae66d7d8",
   "metadata": {},
   "source": [
    "#### listened_to"
   ]
  },
  {
   "cell_type": "code",
   "execution_count": 74,
   "id": "f2117b9e",
   "metadata": {},
   "outputs": [
    {
     "name": "stderr",
     "output_type": "stream",
     "text": [
      "1532757it [00:03, 395503.45it/s]\n"
     ]
    },
    {
     "name": "stdout",
     "output_type": "stream",
     "text": [
      "['user_id', 'track_id', 'album_id', 'timestamp']\n",
      "done.\n",
      "0\n"
     ]
    }
   ],
   "source": [
    "# user_id, track_id, album_id, timestamp\n",
    "counter = 0\n",
    "counts_dict = {}\n",
    "track_dict = {}\n",
    "with open(\"%s_listening_events.tsv\" % (read_path_prefix), \"r\") as data, open(\"%s/relations/%s_listened_to.txt\" % (path_prefix, name), \"w\") as f:\n",
    "    datareader = csv.reader(data)\n",
    "    \n",
    "    for i, row in tqdm(enumerate(datareader)):\n",
    "        if i == 0:\n",
    "            header = row[0].split(sep=\"\\t\")\n",
    "        if i != 0:\n",
    "            entry = row[0].split(sep=\"\\t\")\n",
    "            \n",
    "            track_id = \"t\" + entry[1]\n",
    "            if track_id not in track_dict:\n",
    "                track_dict[track_id] = 0\n",
    "            \n",
    "            key = \"u\" + entry[0] + \", \" + \"listened_to\" + \", \" + \"t\" + entry[1]\n",
    "            if key not in counts_dict:\n",
    "                counts_dict[key] = 0\n",
    "                f.writelines(\"u\" + entry[0] + \"\\t\" + \"listened_to\" + \"\\t\" + \"t\" + entry[1] + \"\\n\")\n",
    "            else:\n",
    "                counts_dict[key] += 1\n",
    "                \n",
    "            #try:\n",
    "            #    f.writelines(\"u\" + entry[0] + \"\\t\" + \"listened_to\" + \"\\t\" + \"t\" + entry[1] + \"\\n\")\n",
    "            #except:\n",
    "            #    counter += 1\n",
    "            #    continue\n",
    "            \n",
    "time.sleep(0.5)            \n",
    "\n",
    "print(header)\n",
    "print(\"done.\")\n",
    "print(counter)"
   ]
  },
  {
   "cell_type": "code",
   "execution_count": 75,
   "id": "b7a799c2",
   "metadata": {},
   "outputs": [
    {
     "name": "stdout",
     "output_type": "stream",
     "text": [
      "203972\n"
     ]
    }
   ],
   "source": [
    "print(len(list(track_dict.keys())))"
   ]
  },
  {
   "cell_type": "markdown",
   "id": "cdf88147",
   "metadata": {},
   "source": [
    "#### created_by & has_genre & has_micro_genre & in_album"
   ]
  },
  {
   "cell_type": "code",
   "execution_count": 76,
   "id": "30f34bb9",
   "metadata": {},
   "outputs": [
    {
     "name": "stderr",
     "output_type": "stream",
     "text": [
      "3602111it [00:25, 141130.51it/s]\n"
     ]
    },
    {
     "name": "stdout",
     "output_type": "stream",
     "text": [
      "done.\n",
      "3552093\n"
     ]
    }
   ],
   "source": [
    "counter = 0\n",
    "\n",
    "artist_dict = {}\n",
    "album_dict = {}\n",
    "type_dict = {}\n",
    "genre_dict = {}\n",
    "check_dict = {}\n",
    "\n",
    "with open(\"%s/micro_genre_tags_new.json\" % path, \"r\", encoding='utf-8') as data,\\\n",
    "open(\"%s/relations/%s_has_genre.txt\" % (path_prefix, name), \"w\", encoding='utf-8') as f1,\\\n",
    "open(\"%s/relations/%s_has_micro_genre.txt\" % (path_prefix, name), \"w\", encoding='utf-8') as f2,\\\n",
    "open(\"%s/relations/%s_in_album.txt\" % (path_prefix, name), \"w\", encoding='utf-8') as f3,\\\n",
    "open(\"%s/relations/%s_created_by.txt\" % (path_prefix, name), \"w\", encoding='utf-8') as f4,\\\n",
    "open(\"%s/entities/%s_artist.txt\" % (path_prefix, name), \"w\", encoding='utf-8') as e1,\\\n",
    "open(\"%s/entities/%s_album.txt\" % (path_prefix, name), \"w\", encoding='utf-8') as e2,\\\n",
    "open(\"%s/entities/%s_artist_type.txt\" % (path_prefix, name), \"w\", encoding='utf-8') as e3,\\\n",
    "open(\"%s/entities/%s_genre.txt\" % (path_prefix, name), \"w\", encoding='utf-8') as e4,\\\n",
    "open(\"%s/entities/%s_track.txt\" % (path_prefix, name), \"w\", encoding='utf-8') as t: #?????????\n",
    "    for line in tqdm(data):\n",
    "        entry = json.loads(line)\n",
    "        #print(entry)\n",
    "        track_id = str(entry['_id'])\n",
    "        track_name = str(entry['track']['track']) #?????????\n",
    "        main_genre = str(list(entry['tags'].keys())[0])\n",
    "        micro_genre = list(entry['tags'].keys())[1:]\n",
    "        \n",
    "        artist_id = str(entry['artist']['artist_id'])\n",
    "        artist_name = str(entry['artist']['artist'])\n",
    "        artist_gender = str(entry['artist']['gender'])\n",
    "        artist_type = str(entry['artist']['type'])\n",
    "        \n",
    "        album_id = str(entry['album']['album_id'])\n",
    "        album_name = str(entry['album']['album'])\n",
    "        \n",
    "        check = \"t\" + track_id\n",
    "        if check in track_dict:\n",
    "            if check not in check_dict: #?????????\n",
    "                check_dict[check] = 0\n",
    "                track_dict[check] = track_name\n",
    "                t.writelines(check + \"\\t\" + track_name + \"\\n\")\n",
    "                \n",
    "            if artist_id not in artist_dict:\n",
    "                artist_dict[artist_id] = 0\n",
    "                e1.writelines(\"a\" + artist_id + \"\\t\" + artist_name + \"\\t\" + artist_gender + \"\\t\" + artist_type + \"\\n\")\n",
    "\n",
    "            if album_id not in album_dict:\n",
    "                album_dict[album_id] = 0\n",
    "                e2.writelines(\"b\" + album_id + \"\\t\" + album_name + \"\\n\")\n",
    "\n",
    "            if artist_type not in type_dict:\n",
    "                type_dict[artist_type] = 0\n",
    "                e3.writelines(artist_type + \"\\n\")\n",
    "\n",
    "            if main_genre not in genre_dict:\n",
    "                genre_dict[main_genre] = 0\n",
    "                e4.writelines(main_genre + \"\\n\")\n",
    "\n",
    "            for micro in micro_genre:\n",
    "                m = str(micro)\n",
    "                if m not in genre_dict:\n",
    "                    genre_dict[m] = 0\n",
    "                    e4.writelines(m + \"\\n\")\n",
    "\n",
    "            created_by = \"t\" + track_id + \"\\t\" + \"created_by\" + \"\\t\" + \"a\" + artist_id + \"\\n\"\n",
    "            f4.writelines(created_by)\n",
    "            #print(created_by)\n",
    "            has_genre = \"t\" + track_id + \"\\t\" + \"has_genre\" + \"\\t\" + main_genre + \"\\n\"\n",
    "            f1.writelines(has_genre)\n",
    "            #print(has_genre)\n",
    "            for micro in micro_genre:\n",
    "                has_micro_genre = \"t\" + track_id + \"\\t\" + \"has_micro_genre\" + \"\\t\" + micro + \"\\n\"\n",
    "                f2.writelines(has_micro_genre)\n",
    "            #    print(has_micro_genre)\n",
    "            in_album = \"t\" + track_id + \"\\t\" + \"in_album\" + \"\\t\" + \"b\" + album_id + \"\\n\"\n",
    "            f3.writelines(in_album)\n",
    "            #print(in_album)\n",
    "        else:\n",
    "            counter += 1\n",
    "            \n",
    "time.sleep(0.5)            \n",
    "\n",
    "print(\"done.\")\n",
    "print(counter)"
   ]
  },
  {
   "cell_type": "code",
   "execution_count": 77,
   "id": "7d5ae357",
   "metadata": {},
   "outputs": [
    {
     "name": "stdout",
     "output_type": "stream",
     "text": [
      "50018\n"
     ]
    }
   ],
   "source": [
    "print(len(list(check_dict.keys())))"
   ]
  },
  {
   "cell_type": "code",
   "execution_count": 78,
   "id": "55dca77c",
   "metadata": {},
   "outputs": [
    {
     "name": "stderr",
     "output_type": "stream",
     "text": [
      "100%|███████████████████████████████| 203972/203972 [00:00<00:00, 778326.18it/s]\n"
     ]
    },
    {
     "name": "stdout",
     "output_type": "stream",
     "text": [
      "done.\n"
     ]
    }
   ],
   "source": [
    "with open(\"%s/entities/%s_track_new.txt\" % (path_prefix, name), \"w\", encoding='utf-8') as t:\n",
    "    for key, value in tqdm(track_dict.items()):\n",
    "        track_id = key\n",
    "        track_name = value\n",
    "        \n",
    "        if track_name == 0:\n",
    "            track_name = \"???\"\n",
    "            \n",
    "        t.writelines(track_id + \"\\t\" + track_name + \"\\n\")\n",
    "        \n",
    "time.sleep(0.5)\n",
    "        \n",
    "print(\"done.\")"
   ]
  },
  {
   "cell_type": "markdown",
   "id": "1d0797f2",
   "metadata": {},
   "source": [
    "#### in_album"
   ]
  },
  {
   "cell_type": "code",
   "execution_count": 79,
   "id": "5bbc58a2",
   "metadata": {},
   "outputs": [],
   "source": [
    "# DONE"
   ]
  },
  {
   "cell_type": "markdown",
   "id": "55de12ca",
   "metadata": {},
   "source": [
    "#### has_genre"
   ]
  },
  {
   "cell_type": "code",
   "execution_count": 80,
   "id": "61c552ad",
   "metadata": {},
   "outputs": [],
   "source": [
    "# DONE"
   ]
  },
  {
   "cell_type": "markdown",
   "id": "d0d66a2e",
   "metadata": {},
   "source": [
    "#### has_micro_genre"
   ]
  },
  {
   "cell_type": "code",
   "execution_count": 81,
   "id": "37d39acc",
   "metadata": {},
   "outputs": [],
   "source": [
    "# DONE"
   ]
  },
  {
   "cell_type": "markdown",
   "id": "f4bcc2b3",
   "metadata": {},
   "source": [
    "#### has_gender & lives_in"
   ]
  },
  {
   "cell_type": "code",
   "execution_count": 82,
   "id": "82ac31b4",
   "metadata": {},
   "outputs": [
    {
     "name": "stderr",
     "output_type": "stream",
     "text": [
      "14547it [00:00, 311384.46it/s]\n"
     ]
    },
    {
     "name": "stdout",
     "output_type": "stream",
     "text": [
      "done.\n",
      "42\n",
      "2587\n"
     ]
    }
   ],
   "source": [
    "# user_id, country, age, gender, creation_time\n",
    "gcounter = 0\n",
    "ccounter = 0\n",
    "with open(\"%s_users.txt\" % write_path_prefix, \"r\") as data,\\\n",
    "open(\"%s/relations/%s_has_gender.txt\" % (path_prefix, name), \"w\") as f,\\\n",
    "open(\"%s/relations/%slives_in.txt\" % (path_prefix, name), \"w\") as f2:\n",
    "    datareader = csv.reader(data)\n",
    "    \n",
    "    for i, row in tqdm(enumerate(datareader)):\n",
    "        entry = row[0].split(sep=\"\\t\")\n",
    "        if entry[3] == \"\":\n",
    "            gcounter += 1\n",
    "        else:\n",
    "            f.writelines(entry[0] + \"\\t\" + \"has_gender\" + \"\\t\" + entry[3] + \"\\n\")\n",
    "            \n",
    "        if entry[1] == \"\":\n",
    "            ccounter += 1\n",
    "        else:\n",
    "            f2.writelines(entry[0] + \"\\t\" + \"lives_in\" + \"\\t\" + entry[1] + \"\\n\")\n",
    "            \n",
    "time.sleep(0.5)\n",
    "print(\"done.\")\n",
    "print(gcounter)\n",
    "print(ccounter)"
   ]
  },
  {
   "cell_type": "markdown",
   "id": "7835701a",
   "metadata": {},
   "source": [
    "#### lives_in"
   ]
  },
  {
   "cell_type": "code",
   "execution_count": 83,
   "id": "49f0a14e",
   "metadata": {},
   "outputs": [],
   "source": [
    "# DONE"
   ]
  },
  {
   "cell_type": "markdown",
   "id": "a2a22fd1",
   "metadata": {},
   "source": [
    "# Create KG File"
   ]
  },
  {
   "cell_type": "code",
   "execution_count": 84,
   "id": "2737b548",
   "metadata": {},
   "outputs": [
    {
     "name": "stderr",
     "output_type": "stream",
     "text": [
      "05percent_subset_in_album.txt: 50018it [00:00, 449467.38it/s]\n",
      "05percent_subset_created_by.txt: 50018it [00:00, 501306.36it/s]\n",
      "05percent_subsetlives_in.txt: 11960it [00:00, 684662.82it/s]\n",
      "05percent_subset_listened_to.txt: 736294it [00:01, 506295.47it/s]\n",
      "05percent_subset_has_micro_genre.txt: 123745it [00:00, 416990.03it/s]\n",
      "05percent_subset_has_genre.txt: 50018it [00:00, 483045.90it/s]\n",
      "05percent_subset_has_gender.txt: 14505it [00:00, 633014.38it/s]\n"
     ]
    }
   ],
   "source": [
    "directory = '%s/relations' % path_prefix\n",
    " \n",
    "with open('%s_kg.txt' % write_path_prefix, \"w\") as kg:\n",
    "    for filename in os.listdir(directory):\n",
    "        f = os.path.join(directory, filename)\n",
    "        with open(f, \"r\") as rel:\n",
    "            datareader = csv.reader(rel)\n",
    "            for i, row in tqdm(enumerate(datareader), desc=filename):\n",
    "                kg.writelines(row[0] + \"\\n\")"
   ]
  },
  {
   "cell_type": "code",
   "execution_count": 85,
   "id": "cae843b0",
   "metadata": {},
   "outputs": [
    {
     "name": "stderr",
     "output_type": "stream",
     "text": [
      "05percent_subset_in_album.txt: 50018it [00:00, 510403.64it/s]\n",
      "05percent_subset_created_by.txt: 50018it [00:00, 489494.98it/s]\n",
      "05percent_subsetlives_in.txt: 11960it [00:00, 641358.77it/s]\n",
      "05percent_subset_listened_to.txt: 736294it [00:01, 519092.80it/s]\n",
      "05percent_subset_has_micro_genre.txt: 123745it [00:00, 435122.52it/s]\n",
      "05percent_subset_has_genre.txt: 50018it [00:00, 468360.17it/s]\n",
      "05percent_subset_has_gender.txt: 14505it [00:00, 616628.11it/s]\n"
     ]
    }
   ],
   "source": [
    "directory = '%s/relations' % path_prefix\n",
    " \n",
    "with open('%s_kg_no_gender.txt' % write_path_prefix, \"w\") as kg:\n",
    "    for filename in os.listdir(directory):\n",
    "        if filename == 'has_gender.txt':\n",
    "            continue\n",
    "        f = os.path.join(directory, filename)\n",
    "        with open(f, \"r\") as rel:\n",
    "            datareader = csv.reader(rel)\n",
    "            for i, row in tqdm(enumerate(datareader), desc=filename):\n",
    "                kg.writelines(row[0] + \"\\n\")"
   ]
  },
  {
   "cell_type": "code",
   "execution_count": null,
   "id": "4de1e158",
   "metadata": {},
   "outputs": [],
   "source": []
  }
 ],
 "metadata": {
  "kernelspec": {
   "display_name": "Python 3 (ipykernel)",
   "language": "python",
   "name": "python3"
  },
  "language_info": {
   "codemirror_mode": {
    "name": "ipython",
    "version": 3
   },
   "file_extension": ".py",
   "mimetype": "text/x-python",
   "name": "python",
   "nbconvert_exporter": "python",
   "pygments_lexer": "ipython3",
   "version": "3.9.15"
  }
 },
 "nbformat": 4,
 "nbformat_minor": 5
}
